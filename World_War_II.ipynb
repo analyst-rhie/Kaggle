{
  "nbformat": 4,
  "nbformat_minor": 0,
  "metadata": {
    "colab": {
      "name": "World_War_II.ipynb",
      "provenance": [],
      "collapsed_sections": [
        "xBIXEjKU8H_D"
      ],
      "mount_file_id": "1camY8Fnr6HxSm4jybVp9fWU78u1iyX3T",
      "authorship_tag": "ABX9TyOiQIm+GOptpGFpYjwxJe8o",
      "include_colab_link": true
    },
    "kernelspec": {
      "name": "python3",
      "display_name": "Python 3"
    },
    "language_info": {
      "name": "python"
    }
  },
  "cells": [
    {
      "cell_type": "markdown",
      "metadata": {
        "id": "view-in-github",
        "colab_type": "text"
      },
      "source": [
        "<a href=\"https://colab.research.google.com/github/analyst-rhie/Kaggle/blob/main/World_War_II.ipynb\" target=\"_parent\"><img src=\"https://colab.research.google.com/assets/colab-badge.svg\" alt=\"Open In Colab\"/></a>"
      ]
    },
    {
      "cell_type": "markdown",
      "metadata": {
        "id": "aC0HWzDF3zok"
      },
      "source": [
        "## World War 2\n",
        "제2차 세계 대전의 공중 폭격 작전과 기상 조건의 다양한 데이터를 활용해보겠다.\n",
        "\n",
        "순서는 다음과 같다.\n",
        "\n",
        "1. 데이터 설명과 정리\n",
        "2. 좀 더 이해하기 쉽도록 시각화\n",
        "\n",
        "위 2가지 EDA과정의 프로세스를 먼저 진행 후 **폭격이 끝나는 시점을 예측**을 적으로 ARIMA 방법을 사용할 것이다."
      ]
    },
    {
      "cell_type": "markdown",
      "metadata": {
        "id": "xfjNJaMk4DUb"
      },
      "source": [
        "* 시각화 라이브러리 중 캐글 코드나 구글 코랩을 사용하지 않고 자신의 컴(오프라인)에서 사용하려면 from plotly.offline import init_notebook_mode 를 import plotly.plotly as py 대신 사용하는데, Anaconda에서 별도로 설치해야 한다.  또한 이미 Plotly가 설치 됬다면 자주 업데이트 하는 것이 좋다.\n",
        "```html\n",
        "$ pip install plotly \n",
        "$ pip install plotly --upgrade\n",
        "```\n",
        "\n",
        "* iplot이 kaggle Notebook에서는 보이나 Colab에서는 코드 내 실행되지 않는다.   \n",
        "이에 대한 대안으로 별도로 html로 저장하여 실행시켜야 한다.\n",
        "```html\n",
        "!pip install chart_studio # plotly 패키지 안에 내장되어 있음\n",
        "!pip install cufflinks # pandas에서 바로 plotly로 개체를 넘겨 그래프를 그린다.\n",
        "```\n",
        "```python\n",
        "import chart_studio\n",
        "# 그래프 코드 입력\n",
        "fig.write_html('파일명')\n",
        "```"
      ]
    },
    {
      "cell_type": "code",
      "metadata": {
        "colab": {
          "base_uri": "https://localhost:8080/",
          "height": 1000
        },
        "id": "8HCHG5LZr_4P",
        "outputId": "24c2f635-f523-45fa-8fa2-6b920747478f"
      },
      "source": [
        "!pip install plotly --upgrade\n",
        "!pip install chart_studio\n",
        "!pip install cufflinks\n",
        "# This Python 3 environment comes with many helpful analytics libraries installed\n",
        "# It is defined by the kaggle/python docker image: https://github.com/kaggle/docker-python\n",
        "# For example, here's several helpful packages to load in \n",
        "import chart_studio\n",
        "import numpy as np # linear algebra\n",
        "import pandas as pd # data processing, CSV file I/O (e.g. pd.read_csv)\n",
        "import seaborn as sns # visualization library\n",
        "import matplotlib.pyplot as plt # visualization library\n",
        "#import plotly.plotly as py # visualization library\n",
        "from plotly.offline import init_notebook_mode, iplot # plotly offline mode\n",
        "init_notebook_mode(connected=True) \n",
        "import plotly.graph_objs as go # plotly graphical object\n",
        "\n",
        "# Input data files are available in the \"../input/\" directory.\n",
        "# For example, running this (by clicking run or pressing Shift+Enter) will list the files in the input directory\n",
        "import os\n",
        "print(os.listdir(\"/content/drive/MyDrive/Colab Notebooks/WorldWar2\"))\n",
        "# import warnings library\n",
        "import warnings        \n",
        "# ignore filters\n",
        "warnings.filterwarnings(\"ignore\") # if there is a warning after some codes, this will avoid us to see them.\n",
        "plt.style.use('ggplot') # style of plots. ggplot is one of the most used style, I also like it.\n",
        "# Any results you write to the current directory are saved as output."
      ],
      "execution_count": 191,
      "outputs": [
        {
          "output_type": "stream",
          "name": "stdout",
          "text": [
            "Requirement already satisfied: plotly in /usr/local/lib/python3.7/dist-packages (5.3.1)\n",
            "Requirement already satisfied: six in /usr/local/lib/python3.7/dist-packages (from plotly) (1.15.0)\n",
            "Requirement already satisfied: tenacity>=6.2.0 in /usr/local/lib/python3.7/dist-packages (from plotly) (8.0.1)\n",
            "Requirement already satisfied: chart_studio in /usr/local/lib/python3.7/dist-packages (1.1.0)\n",
            "Requirement already satisfied: requests in /usr/local/lib/python3.7/dist-packages (from chart_studio) (2.23.0)\n",
            "Requirement already satisfied: six in /usr/local/lib/python3.7/dist-packages (from chart_studio) (1.15.0)\n",
            "Requirement already satisfied: retrying>=1.3.3 in /usr/local/lib/python3.7/dist-packages (from chart_studio) (1.3.3)\n",
            "Requirement already satisfied: plotly in /usr/local/lib/python3.7/dist-packages (from chart_studio) (5.3.1)\n",
            "Requirement already satisfied: tenacity>=6.2.0 in /usr/local/lib/python3.7/dist-packages (from plotly->chart_studio) (8.0.1)\n",
            "Requirement already satisfied: urllib3!=1.25.0,!=1.25.1,<1.26,>=1.21.1 in /usr/local/lib/python3.7/dist-packages (from requests->chart_studio) (1.24.3)\n",
            "Requirement already satisfied: certifi>=2017.4.17 in /usr/local/lib/python3.7/dist-packages (from requests->chart_studio) (2021.5.30)\n",
            "Requirement already satisfied: chardet<4,>=3.0.2 in /usr/local/lib/python3.7/dist-packages (from requests->chart_studio) (3.0.4)\n",
            "Requirement already satisfied: idna<3,>=2.5 in /usr/local/lib/python3.7/dist-packages (from requests->chart_studio) (2.10)\n",
            "Requirement already satisfied: cufflinks in /usr/local/lib/python3.7/dist-packages (0.17.3)\n",
            "Requirement already satisfied: plotly>=4.1.1 in /usr/local/lib/python3.7/dist-packages (from cufflinks) (5.3.1)\n",
            "Requirement already satisfied: numpy>=1.9.2 in /usr/local/lib/python3.7/dist-packages (from cufflinks) (1.19.5)\n",
            "Requirement already satisfied: ipython>=5.3.0 in /usr/local/lib/python3.7/dist-packages (from cufflinks) (5.5.0)\n",
            "Requirement already satisfied: setuptools>=34.4.1 in /usr/local/lib/python3.7/dist-packages (from cufflinks) (57.4.0)\n",
            "Requirement already satisfied: six>=1.9.0 in /usr/local/lib/python3.7/dist-packages (from cufflinks) (1.15.0)\n",
            "Requirement already satisfied: colorlover>=0.2.1 in /usr/local/lib/python3.7/dist-packages (from cufflinks) (0.3.0)\n",
            "Requirement already satisfied: ipywidgets>=7.0.0 in /usr/local/lib/python3.7/dist-packages (from cufflinks) (7.6.3)\n",
            "Requirement already satisfied: pandas>=0.19.2 in /usr/local/lib/python3.7/dist-packages (from cufflinks) (1.1.5)\n",
            "Requirement already satisfied: pygments in /usr/local/lib/python3.7/dist-packages (from ipython>=5.3.0->cufflinks) (2.6.1)\n",
            "Requirement already satisfied: simplegeneric>0.8 in /usr/local/lib/python3.7/dist-packages (from ipython>=5.3.0->cufflinks) (0.8.1)\n",
            "Requirement already satisfied: pickleshare in /usr/local/lib/python3.7/dist-packages (from ipython>=5.3.0->cufflinks) (0.7.5)\n",
            "Requirement already satisfied: decorator in /usr/local/lib/python3.7/dist-packages (from ipython>=5.3.0->cufflinks) (4.4.2)\n",
            "Requirement already satisfied: pexpect in /usr/local/lib/python3.7/dist-packages (from ipython>=5.3.0->cufflinks) (4.8.0)\n",
            "Requirement already satisfied: prompt-toolkit<2.0.0,>=1.0.4 in /usr/local/lib/python3.7/dist-packages (from ipython>=5.3.0->cufflinks) (1.0.18)\n",
            "Requirement already satisfied: traitlets>=4.2 in /usr/local/lib/python3.7/dist-packages (from ipython>=5.3.0->cufflinks) (5.0.5)\n",
            "Requirement already satisfied: nbformat>=4.2.0 in /usr/local/lib/python3.7/dist-packages (from ipywidgets>=7.0.0->cufflinks) (5.1.3)\n",
            "Requirement already satisfied: ipykernel>=4.5.1 in /usr/local/lib/python3.7/dist-packages (from ipywidgets>=7.0.0->cufflinks) (4.10.1)\n",
            "Requirement already satisfied: widgetsnbextension~=3.5.0 in /usr/local/lib/python3.7/dist-packages (from ipywidgets>=7.0.0->cufflinks) (3.5.1)\n",
            "Requirement already satisfied: jupyterlab-widgets>=1.0.0 in /usr/local/lib/python3.7/dist-packages (from ipywidgets>=7.0.0->cufflinks) (1.0.0)\n",
            "Requirement already satisfied: tornado>=4.0 in /usr/local/lib/python3.7/dist-packages (from ipykernel>=4.5.1->ipywidgets>=7.0.0->cufflinks) (5.1.1)\n",
            "Requirement already satisfied: jupyter-client in /usr/local/lib/python3.7/dist-packages (from ipykernel>=4.5.1->ipywidgets>=7.0.0->cufflinks) (5.3.5)\n",
            "Requirement already satisfied: jupyter-core in /usr/local/lib/python3.7/dist-packages (from nbformat>=4.2.0->ipywidgets>=7.0.0->cufflinks) (4.7.1)\n",
            "Requirement already satisfied: jsonschema!=2.5.0,>=2.4 in /usr/local/lib/python3.7/dist-packages (from nbformat>=4.2.0->ipywidgets>=7.0.0->cufflinks) (2.6.0)\n",
            "Requirement already satisfied: ipython-genutils in /usr/local/lib/python3.7/dist-packages (from nbformat>=4.2.0->ipywidgets>=7.0.0->cufflinks) (0.2.0)\n",
            "Requirement already satisfied: python-dateutil>=2.7.3 in /usr/local/lib/python3.7/dist-packages (from pandas>=0.19.2->cufflinks) (2.8.2)\n",
            "Requirement already satisfied: pytz>=2017.2 in /usr/local/lib/python3.7/dist-packages (from pandas>=0.19.2->cufflinks) (2018.9)\n",
            "Requirement already satisfied: tenacity>=6.2.0 in /usr/local/lib/python3.7/dist-packages (from plotly>=4.1.1->cufflinks) (8.0.1)\n",
            "Requirement already satisfied: wcwidth in /usr/local/lib/python3.7/dist-packages (from prompt-toolkit<2.0.0,>=1.0.4->ipython>=5.3.0->cufflinks) (0.2.5)\n",
            "Requirement already satisfied: notebook>=4.4.1 in /usr/local/lib/python3.7/dist-packages (from widgetsnbextension~=3.5.0->ipywidgets>=7.0.0->cufflinks) (5.3.1)\n",
            "Requirement already satisfied: jinja2 in /usr/local/lib/python3.7/dist-packages (from notebook>=4.4.1->widgetsnbextension~=3.5.0->ipywidgets>=7.0.0->cufflinks) (2.11.3)\n",
            "Requirement already satisfied: terminado>=0.8.1 in /usr/local/lib/python3.7/dist-packages (from notebook>=4.4.1->widgetsnbextension~=3.5.0->ipywidgets>=7.0.0->cufflinks) (0.11.0)\n",
            "Requirement already satisfied: nbconvert in /usr/local/lib/python3.7/dist-packages (from notebook>=4.4.1->widgetsnbextension~=3.5.0->ipywidgets>=7.0.0->cufflinks) (5.6.1)\n",
            "Requirement already satisfied: Send2Trash in /usr/local/lib/python3.7/dist-packages (from notebook>=4.4.1->widgetsnbextension~=3.5.0->ipywidgets>=7.0.0->cufflinks) (1.8.0)\n",
            "Requirement already satisfied: pyzmq>=13 in /usr/local/lib/python3.7/dist-packages (from jupyter-client->ipykernel>=4.5.1->ipywidgets>=7.0.0->cufflinks) (22.2.1)\n",
            "Requirement already satisfied: ptyprocess in /usr/local/lib/python3.7/dist-packages (from terminado>=0.8.1->notebook>=4.4.1->widgetsnbextension~=3.5.0->ipywidgets>=7.0.0->cufflinks) (0.7.0)\n",
            "Requirement already satisfied: MarkupSafe>=0.23 in /usr/local/lib/python3.7/dist-packages (from jinja2->notebook>=4.4.1->widgetsnbextension~=3.5.0->ipywidgets>=7.0.0->cufflinks) (2.0.1)\n",
            "Requirement already satisfied: bleach in /usr/local/lib/python3.7/dist-packages (from nbconvert->notebook>=4.4.1->widgetsnbextension~=3.5.0->ipywidgets>=7.0.0->cufflinks) (4.0.0)\n",
            "Requirement already satisfied: entrypoints>=0.2.2 in /usr/local/lib/python3.7/dist-packages (from nbconvert->notebook>=4.4.1->widgetsnbextension~=3.5.0->ipywidgets>=7.0.0->cufflinks) (0.3)\n",
            "Requirement already satisfied: pandocfilters>=1.4.1 in /usr/local/lib/python3.7/dist-packages (from nbconvert->notebook>=4.4.1->widgetsnbextension~=3.5.0->ipywidgets>=7.0.0->cufflinks) (1.4.3)\n",
            "Requirement already satisfied: testpath in /usr/local/lib/python3.7/dist-packages (from nbconvert->notebook>=4.4.1->widgetsnbextension~=3.5.0->ipywidgets>=7.0.0->cufflinks) (0.5.0)\n",
            "Requirement already satisfied: defusedxml in /usr/local/lib/python3.7/dist-packages (from nbconvert->notebook>=4.4.1->widgetsnbextension~=3.5.0->ipywidgets>=7.0.0->cufflinks) (0.7.1)\n",
            "Requirement already satisfied: mistune<2,>=0.8.1 in /usr/local/lib/python3.7/dist-packages (from nbconvert->notebook>=4.4.1->widgetsnbextension~=3.5.0->ipywidgets>=7.0.0->cufflinks) (0.8.4)\n",
            "Requirement already satisfied: packaging in /usr/local/lib/python3.7/dist-packages (from bleach->nbconvert->notebook>=4.4.1->widgetsnbextension~=3.5.0->ipywidgets>=7.0.0->cufflinks) (21.0)\n",
            "Requirement already satisfied: webencodings in /usr/local/lib/python3.7/dist-packages (from bleach->nbconvert->notebook>=4.4.1->widgetsnbextension~=3.5.0->ipywidgets>=7.0.0->cufflinks) (0.5.1)\n",
            "Requirement already satisfied: pyparsing>=2.0.2 in /usr/local/lib/python3.7/dist-packages (from packaging->bleach->nbconvert->notebook>=4.4.1->widgetsnbextension~=3.5.0->ipywidgets>=7.0.0->cufflinks) (2.4.7)\n"
          ]
        },
        {
          "output_type": "display_data",
          "data": {
            "text/html": [
              "        <script type=\"text/javascript\">\n",
              "        window.PlotlyConfig = {MathJaxConfig: 'local'};\n",
              "        if (window.MathJax) {MathJax.Hub.Config({SVG: {font: \"STIX-Web\"}});}\n",
              "        if (typeof require !== 'undefined') {\n",
              "        require.undef(\"plotly\");\n",
              "        requirejs.config({\n",
              "            paths: {\n",
              "                'plotly': ['https://cdn.plot.ly/plotly-2.4.2.min']\n",
              "            }\n",
              "        });\n",
              "        require(['plotly'], function(Plotly) {\n",
              "            window._Plotly = Plotly;\n",
              "        });\n",
              "        }\n",
              "        </script>\n",
              "        "
            ]
          },
          "metadata": {}
        },
        {
          "output_type": "stream",
          "name": "stdout",
          "text": [
            "['operations.csv', 'Summary of Weather.csv', 'Weather Station Locations.csv']\n"
          ]
        }
      ]
    },
    {
      "cell_type": "markdown",
      "metadata": {
        "id": "0f8F7rrv4-SW"
      },
      "source": [
        "상황을 가정해보자 (상황을 가정하는 것은 질문을 유도하는데 도움을 준다.).\n",
        "\n",
        "- 곧, 이 데이터는 폭격작전에 포함될 것이다.\n",
        "\n",
        "### **제2차 세계 대전 항공 폭격 작전 데이터**\n",
        "\n",
        "- 데이터 해석 : 1945년 A36 항공기와 함께 폰테 올리보 비행장 폭탄을 독일(베를린)에 사용한 미국\n",
        "- 변수\n",
        "\n",
        "    Mission Date : 미션 날짜\n",
        "\n",
        "    Theater of Operations :  현재 군사 작전이 진행 중인 지역; \"군대가 출동 대기 중이었다\"; 예: \"그는 베트남 극장에서 3년 동안 복무했습니다.\"\n",
        "\n",
        "    Country: 미국처럼 임무나 작전을 수행하는 국가\n",
        "\n",
        "    Air Force : 5AF와 같은 공군 통합의 이름 또는 ID\n",
        "\n",
        "    Aircraft Series : B24와 같은 항공기 모델 또는 유형\n",
        "\n",
        "    Callsign : 폭탄 공격 전, 메시지, 코드, 발표 또는 라디오로 방송됨\n",
        "\n",
        "    Takeoff Base : 폰테 올리보 비행장과 같은 이륙 공항 이름\n",
        "\n",
        "    Takeoff Location : 시칠리아같은 이륙지역\n",
        "\n",
        "    Takeoff Latitude: 이륙 영역의 위도\n",
        "\n",
        "    Takeoff Longitude: 이륙 영역의 경도\n",
        "\n",
        "    Target Country: 독일과 같은 대상 국가\n",
        "\n",
        "    Target City: 베를린과 같은 목표 도시\n",
        "\n",
        "    Target Type: 도시 영역과 같은 대상 유형\n",
        "\n",
        "    Target Industry: 마을 또는 도시와 같은 대상 산업\n",
        "\n",
        "    Target Priority: 1과 같은 대상 우선 순위(가장 많음)\n",
        "\n",
        "    Target Latitude: 대상의 위도\n",
        "\n",
        "    Target Longitude: 대상 경도\n",
        "\n",
        "\n",
        "\n",
        "      \n",
        "### **제2차 세계 대전 날씨 데이터**\n",
        "\n",
        "- WW2동안의 날씨 조건 데이터다. \n",
        "ex. 조지타운 기상대에 따르면 1942년 7월 1일의 평균 기온은 23.88도\n",
        "- 이 데이터 집합에는 2개의 부분 집합이 있다. \n",
        "첫 번째 데이터는 국가, 위도, 경도와 같은 기상 관측소 위치\n",
        "두 번째 데이터는 기상 관측치의 측정된 최소, 최대, 평균 기온\n",
        "- 기상 관측소 장소 변수\n",
        "\n",
        "    WBAN: 기상관측소 번호\n",
        "\n",
        "    NAME: 기상관측소 이름\n",
        "\n",
        "    STATE/COUNTRY ID: 국가의 약어\n",
        "\n",
        "    Latitude: 기상관측소 위도\n",
        "\n",
        "    Longitude: 기상관측소 경도\n",
        "\n",
        "- 날씨 변수\n",
        "\n",
        "    STA: 기상관측소 번호(WBAN)\n",
        "\n",
        "    Date: 온도측정일\n",
        "\n",
        "    MeanTemp: 평균기온\n",
        "\n"
      ]
    },
    {
      "cell_type": "markdown",
      "metadata": {
        "id": "b4kHRtmU74nG"
      },
      "source": [
        "### 데이터 클리닝\n",
        "\n",
        "- 공중폭격데이터는 많은 NaN 값을 포함하고 있다. NaN을 이용하는 대신에 일부는 NaN은 drop 하겠다. 이는 불확실성을 제거할 뿐 아니라 쉽게 시각화를 할 수 있기 위함이다. **Drop 프로세스는 다음과 같다.**\n",
        "\n",
        "    NaN이 포함된 나라들인 경우\n",
        "\n",
        "    taget longitude 변수가 NaN인 경우\n",
        "\n",
        "    takeoff longitude 변수가 NaN인 경우\n",
        "\n",
        "    특성을 사용하지 않은 경우\n",
        "\n",
        "- 기후 조건 데이터는 클리닝이 필요하지 않다. 데이터 탐색과 시각화를 통해 특정 장소를 선택해 깊게 살펴볼 것이다. 단 이 데이터도 사용할 변수만을 남겨 두겠다."
      ]
    },
    {
      "cell_type": "code",
      "metadata": {
        "id": "JRTxLpkVw5RW"
      },
      "source": [
        "# bombing data\n",
        "aerial = pd.read_csv(\"../content/drive/MyDrive/Colab Notebooks/WorldWar2/operations.csv\")\n",
        "aerial_temp = pd.read_csv(\"../content/drive/MyDrive/Colab Notebooks/WorldWar2/operations.csv\")\n",
        "# first weather data that includes locations like country, latitude and longitude.\n",
        "weather_station_location = pd.read_csv(\"../content/drive/MyDrive/Colab Notebooks/WorldWar2/Weather Station Locations.csv\")\n",
        "weather_station_location_temp = pd.read_csv(\"../content/drive/MyDrive/Colab Notebooks/WorldWar2/Weather Station Locations.csv\")\n",
        "\n",
        "# Second weather data that includes measured min, max and mean temperatures\n",
        "weather = pd.read_csv(\"../content/drive/MyDrive/Colab Notebooks/WorldWar2/Summary of Weather.csv\")\n",
        "weather_temp = pd.read_csv(\"../content/drive/MyDrive/Colab Notebooks/WorldWar2/Summary of Weather.csv\")"
      ],
      "execution_count": 192,
      "outputs": []
    },
    {
      "cell_type": "code",
      "metadata": {
        "id": "21aJ6JXExNub"
      },
      "source": [
        "# drop countries that are NaN\n",
        "aerial = aerial[pd.isna(aerial.Country)==False]\n",
        "# drop if target longitude is NaN\n",
        "aerial = aerial[pd.isna(aerial['Target Longitude'])==False]\n",
        "# Drop if takeoff longitude is NaN\n",
        "aerial = aerial[pd.isna(aerial['Takeoff Longitude'])==False]\n",
        "# drop unused features\n",
        "drop_list = ['Mission ID','Unit ID','Target ID','Altitude (Hundreds of Feet)','Airborne Aircraft',\n",
        "             'Attacking Aircraft', 'Bombing Aircraft', 'Aircraft Returned',\n",
        "             'Aircraft Failed', 'Aircraft Damaged', 'Aircraft Lost',\n",
        "             'High Explosives', 'High Explosives Type','Mission Type',\n",
        "             'High Explosives Weight (Pounds)', 'High Explosives Weight (Tons)',\n",
        "             'Incendiary Devices', 'Incendiary Devices Type',\n",
        "             'Incendiary Devices Weight (Pounds)',\n",
        "             'Incendiary Devices Weight (Tons)', 'Fragmentation Devices',\n",
        "             'Fragmentation Devices Type', 'Fragmentation Devices Weight (Pounds)',\n",
        "             'Fragmentation Devices Weight (Tons)', 'Total Weight (Pounds)',\n",
        "             'Total Weight (Tons)', 'Time Over Target', 'Bomb Damage Assessment','Source ID']\n",
        "aerial.drop(drop_list, axis=1,inplace = True)\n",
        "aerial = aerial[ aerial.iloc[:,8]!=\"4248\"] # drop this takeoff latitude \n",
        "aerial = aerial[ aerial.iloc[:,9]!=1355]   # drop this takeoff longitude"
      ],
      "execution_count": 193,
      "outputs": []
    },
    {
      "cell_type": "markdown",
      "metadata": {
        "id": "xBIXEjKU8H_D"
      },
      "source": [
        "### aerial[pd.isna(aerial.Country)==False] -> loc 함수 사용 "
      ]
    },
    {
      "cell_type": "code",
      "metadata": {
        "colab": {
          "base_uri": "https://localhost:8080/",
          "height": 773
        },
        "id": "TVF5xCr_xQA0",
        "outputId": "900a3648-cc72-4c69-ea71-cb1231bb4734"
      },
      "source": [
        "aerial_temp.loc[pd.isna(aerial_temp['Target Longitude'])== False]"
      ],
      "execution_count": null,
      "outputs": [
        {
          "output_type": "execute_result",
          "data": {
            "text/html": [
              "<div>\n",
              "<style scoped>\n",
              "    .dataframe tbody tr th:only-of-type {\n",
              "        vertical-align: middle;\n",
              "    }\n",
              "\n",
              "    .dataframe tbody tr th {\n",
              "        vertical-align: top;\n",
              "    }\n",
              "\n",
              "    .dataframe thead th {\n",
              "        text-align: right;\n",
              "    }\n",
              "</style>\n",
              "<table border=\"1\" class=\"dataframe\">\n",
              "  <thead>\n",
              "    <tr style=\"text-align: right;\">\n",
              "      <th></th>\n",
              "      <th>Mission ID</th>\n",
              "      <th>Mission Date</th>\n",
              "      <th>Theater of Operations</th>\n",
              "      <th>Country</th>\n",
              "      <th>Air Force</th>\n",
              "      <th>Unit ID</th>\n",
              "      <th>Aircraft Series</th>\n",
              "      <th>Callsign</th>\n",
              "      <th>Mission Type</th>\n",
              "      <th>Takeoff Base</th>\n",
              "      <th>Takeoff Location</th>\n",
              "      <th>Takeoff Latitude</th>\n",
              "      <th>Takeoff Longitude</th>\n",
              "      <th>Target ID</th>\n",
              "      <th>Target Country</th>\n",
              "      <th>Target City</th>\n",
              "      <th>Target Type</th>\n",
              "      <th>Target Industry</th>\n",
              "      <th>Target Priority</th>\n",
              "      <th>Target Latitude</th>\n",
              "      <th>Target Longitude</th>\n",
              "      <th>Altitude (Hundreds of Feet)</th>\n",
              "      <th>Airborne Aircraft</th>\n",
              "      <th>Attacking Aircraft</th>\n",
              "      <th>Bombing Aircraft</th>\n",
              "      <th>Aircraft Returned</th>\n",
              "      <th>Aircraft Failed</th>\n",
              "      <th>Aircraft Damaged</th>\n",
              "      <th>Aircraft Lost</th>\n",
              "      <th>High Explosives</th>\n",
              "      <th>High Explosives Type</th>\n",
              "      <th>High Explosives Weight (Pounds)</th>\n",
              "      <th>High Explosives Weight (Tons)</th>\n",
              "      <th>Incendiary Devices</th>\n",
              "      <th>Incendiary Devices Type</th>\n",
              "      <th>Incendiary Devices Weight (Pounds)</th>\n",
              "      <th>Incendiary Devices Weight (Tons)</th>\n",
              "      <th>Fragmentation Devices</th>\n",
              "      <th>Fragmentation Devices Type</th>\n",
              "      <th>Fragmentation Devices Weight (Pounds)</th>\n",
              "      <th>Fragmentation Devices Weight (Tons)</th>\n",
              "      <th>Total Weight (Pounds)</th>\n",
              "      <th>Total Weight (Tons)</th>\n",
              "      <th>Time Over Target</th>\n",
              "      <th>Bomb Damage Assessment</th>\n",
              "      <th>Source ID</th>\n",
              "    </tr>\n",
              "  </thead>\n",
              "  <tbody>\n",
              "    <tr>\n",
              "      <th>0</th>\n",
              "      <td>1</td>\n",
              "      <td>8/15/1943</td>\n",
              "      <td>MTO</td>\n",
              "      <td>USA</td>\n",
              "      <td>12 AF</td>\n",
              "      <td>27 FBG/86 FBG</td>\n",
              "      <td>A36</td>\n",
              "      <td>NaN</td>\n",
              "      <td>NaN</td>\n",
              "      <td>PONTE OLIVO AIRFIELD</td>\n",
              "      <td>SICILY</td>\n",
              "      <td>37.131022</td>\n",
              "      <td>14.321464</td>\n",
              "      <td>40675</td>\n",
              "      <td>ITALY</td>\n",
              "      <td>SPADAFORA</td>\n",
              "      <td>NaN</td>\n",
              "      <td>NaN</td>\n",
              "      <td>NaN</td>\n",
              "      <td>38.220000</td>\n",
              "      <td>15.370000</td>\n",
              "      <td>NaN</td>\n",
              "      <td>20.0</td>\n",
              "      <td>NaN</td>\n",
              "      <td>20.0</td>\n",
              "      <td>NaN</td>\n",
              "      <td>NaN</td>\n",
              "      <td>NaN</td>\n",
              "      <td>NaN</td>\n",
              "      <td>40.000000</td>\n",
              "      <td>500 LB GP (GP-M43/M64)</td>\n",
              "      <td>NaN</td>\n",
              "      <td>10.0</td>\n",
              "      <td>NaN</td>\n",
              "      <td>NaN</td>\n",
              "      <td>NaN</td>\n",
              "      <td>NaN</td>\n",
              "      <td>NaN</td>\n",
              "      <td>NaN</td>\n",
              "      <td>NaN</td>\n",
              "      <td>NaN</td>\n",
              "      <td>NaN</td>\n",
              "      <td>10.0</td>\n",
              "      <td>NaN</td>\n",
              "      <td>NaN</td>\n",
              "      <td>NaN</td>\n",
              "    </tr>\n",
              "    <tr>\n",
              "      <th>1</th>\n",
              "      <td>2</td>\n",
              "      <td>8/15/1943</td>\n",
              "      <td>PTO</td>\n",
              "      <td>USA</td>\n",
              "      <td>5 AF</td>\n",
              "      <td>400 BS</td>\n",
              "      <td>B24</td>\n",
              "      <td>NaN</td>\n",
              "      <td>1</td>\n",
              "      <td>NaN</td>\n",
              "      <td>NaN</td>\n",
              "      <td>NaN</td>\n",
              "      <td>NaN</td>\n",
              "      <td>NaN</td>\n",
              "      <td>NEW GUINEA</td>\n",
              "      <td>KOMIATUM</td>\n",
              "      <td>RIDGE</td>\n",
              "      <td>NaN</td>\n",
              "      <td>1</td>\n",
              "      <td>-7.166667</td>\n",
              "      <td>147.000000</td>\n",
              "      <td>44.0</td>\n",
              "      <td>NaN</td>\n",
              "      <td>6.0</td>\n",
              "      <td>NaN</td>\n",
              "      <td>NaN</td>\n",
              "      <td>NaN</td>\n",
              "      <td>NaN</td>\n",
              "      <td>NaN</td>\n",
              "      <td>40.000000</td>\n",
              "      <td>1000 LB GP (GP-M44/M65)</td>\n",
              "      <td>NaN</td>\n",
              "      <td>20.0</td>\n",
              "      <td>NaN</td>\n",
              "      <td>NaN</td>\n",
              "      <td>NaN</td>\n",
              "      <td>NaN</td>\n",
              "      <td>NaN</td>\n",
              "      <td>NaN</td>\n",
              "      <td>NaN</td>\n",
              "      <td>NaN</td>\n",
              "      <td>NaN</td>\n",
              "      <td>20.0</td>\n",
              "      <td>NaN</td>\n",
              "      <td>NaN</td>\n",
              "      <td>9366.0</td>\n",
              "    </tr>\n",
              "    <tr>\n",
              "      <th>2</th>\n",
              "      <td>3</td>\n",
              "      <td>8/15/1943</td>\n",
              "      <td>MTO</td>\n",
              "      <td>USA</td>\n",
              "      <td>12 AF</td>\n",
              "      <td>27 FBG/86 FBG</td>\n",
              "      <td>A36</td>\n",
              "      <td>NaN</td>\n",
              "      <td>NaN</td>\n",
              "      <td>PONTE OLIVO AIRFIELD</td>\n",
              "      <td>SICILY</td>\n",
              "      <td>37.131022</td>\n",
              "      <td>14.321464</td>\n",
              "      <td>9630</td>\n",
              "      <td>ITALY</td>\n",
              "      <td>COSENZA</td>\n",
              "      <td>NaN</td>\n",
              "      <td>NaN</td>\n",
              "      <td>NaN</td>\n",
              "      <td>39.270000</td>\n",
              "      <td>16.250000</td>\n",
              "      <td>NaN</td>\n",
              "      <td>18.0</td>\n",
              "      <td>NaN</td>\n",
              "      <td>36.0</td>\n",
              "      <td>NaN</td>\n",
              "      <td>NaN</td>\n",
              "      <td>NaN</td>\n",
              "      <td>NaN</td>\n",
              "      <td>36.000000</td>\n",
              "      <td>500 LB GP (GP-M43/M64)</td>\n",
              "      <td>NaN</td>\n",
              "      <td>9.0</td>\n",
              "      <td>NaN</td>\n",
              "      <td>NaN</td>\n",
              "      <td>NaN</td>\n",
              "      <td>NaN</td>\n",
              "      <td>NaN</td>\n",
              "      <td>NaN</td>\n",
              "      <td>NaN</td>\n",
              "      <td>NaN</td>\n",
              "      <td>NaN</td>\n",
              "      <td>9.0</td>\n",
              "      <td>NaN</td>\n",
              "      <td>NaN</td>\n",
              "      <td>NaN</td>\n",
              "    </tr>\n",
              "    <tr>\n",
              "      <th>3</th>\n",
              "      <td>4</td>\n",
              "      <td>8/15/1943</td>\n",
              "      <td>MTO</td>\n",
              "      <td>USA</td>\n",
              "      <td>12 AF</td>\n",
              "      <td>27 FBG/86 FBG</td>\n",
              "      <td>A36</td>\n",
              "      <td>NaN</td>\n",
              "      <td>NaN</td>\n",
              "      <td>PONTE OLIVO AIRFIELD</td>\n",
              "      <td>SICILY</td>\n",
              "      <td>37.131022</td>\n",
              "      <td>14.321464</td>\n",
              "      <td>16140</td>\n",
              "      <td>ITALY</td>\n",
              "      <td>GIOJA TAURO</td>\n",
              "      <td>NaN</td>\n",
              "      <td>NaN</td>\n",
              "      <td>NaN</td>\n",
              "      <td>38.430000</td>\n",
              "      <td>15.900000</td>\n",
              "      <td>NaN</td>\n",
              "      <td>15.0</td>\n",
              "      <td>NaN</td>\n",
              "      <td>15.0</td>\n",
              "      <td>NaN</td>\n",
              "      <td>1.0</td>\n",
              "      <td>NaN</td>\n",
              "      <td>NaN</td>\n",
              "      <td>30.000000</td>\n",
              "      <td>500 LB GP (GP-M43/M64)</td>\n",
              "      <td>NaN</td>\n",
              "      <td>7.5</td>\n",
              "      <td>NaN</td>\n",
              "      <td>NaN</td>\n",
              "      <td>NaN</td>\n",
              "      <td>NaN</td>\n",
              "      <td>NaN</td>\n",
              "      <td>NaN</td>\n",
              "      <td>NaN</td>\n",
              "      <td>NaN</td>\n",
              "      <td>NaN</td>\n",
              "      <td>7.5</td>\n",
              "      <td>NaN</td>\n",
              "      <td>NaN</td>\n",
              "      <td>NaN</td>\n",
              "    </tr>\n",
              "    <tr>\n",
              "      <th>4</th>\n",
              "      <td>5</td>\n",
              "      <td>8/15/1943</td>\n",
              "      <td>PTO</td>\n",
              "      <td>USA</td>\n",
              "      <td>5 AF</td>\n",
              "      <td>321 BS</td>\n",
              "      <td>B24</td>\n",
              "      <td>NaN</td>\n",
              "      <td>1</td>\n",
              "      <td>NaN</td>\n",
              "      <td>NaN</td>\n",
              "      <td>NaN</td>\n",
              "      <td>NaN</td>\n",
              "      <td>NaN</td>\n",
              "      <td>SUMATRA</td>\n",
              "      <td>KILA</td>\n",
              "      <td>VILLAGE</td>\n",
              "      <td>NaN</td>\n",
              "      <td>1</td>\n",
              "      <td>-1.116667</td>\n",
              "      <td>103.883333</td>\n",
              "      <td>60.0</td>\n",
              "      <td>NaN</td>\n",
              "      <td>6.0</td>\n",
              "      <td>NaN</td>\n",
              "      <td>NaN</td>\n",
              "      <td>NaN</td>\n",
              "      <td>NaN</td>\n",
              "      <td>NaN</td>\n",
              "      <td>16.000000</td>\n",
              "      <td>1000 LB GP (GP-M44/M65)</td>\n",
              "      <td>NaN</td>\n",
              "      <td>8.0</td>\n",
              "      <td>NaN</td>\n",
              "      <td>NaN</td>\n",
              "      <td>NaN</td>\n",
              "      <td>NaN</td>\n",
              "      <td>NaN</td>\n",
              "      <td>NaN</td>\n",
              "      <td>NaN</td>\n",
              "      <td>NaN</td>\n",
              "      <td>NaN</td>\n",
              "      <td>8.0</td>\n",
              "      <td>NaN</td>\n",
              "      <td>NaN</td>\n",
              "      <td>22585.0</td>\n",
              "    </tr>\n",
              "    <tr>\n",
              "      <th>...</th>\n",
              "      <td>...</td>\n",
              "      <td>...</td>\n",
              "      <td>...</td>\n",
              "      <td>...</td>\n",
              "      <td>...</td>\n",
              "      <td>...</td>\n",
              "      <td>...</td>\n",
              "      <td>...</td>\n",
              "      <td>...</td>\n",
              "      <td>...</td>\n",
              "      <td>...</td>\n",
              "      <td>...</td>\n",
              "      <td>...</td>\n",
              "      <td>...</td>\n",
              "      <td>...</td>\n",
              "      <td>...</td>\n",
              "      <td>...</td>\n",
              "      <td>...</td>\n",
              "      <td>...</td>\n",
              "      <td>...</td>\n",
              "      <td>...</td>\n",
              "      <td>...</td>\n",
              "      <td>...</td>\n",
              "      <td>...</td>\n",
              "      <td>...</td>\n",
              "      <td>...</td>\n",
              "      <td>...</td>\n",
              "      <td>...</td>\n",
              "      <td>...</td>\n",
              "      <td>...</td>\n",
              "      <td>...</td>\n",
              "      <td>...</td>\n",
              "      <td>...</td>\n",
              "      <td>...</td>\n",
              "      <td>...</td>\n",
              "      <td>...</td>\n",
              "      <td>...</td>\n",
              "      <td>...</td>\n",
              "      <td>...</td>\n",
              "      <td>...</td>\n",
              "      <td>...</td>\n",
              "      <td>...</td>\n",
              "      <td>...</td>\n",
              "      <td>...</td>\n",
              "      <td>...</td>\n",
              "      <td>...</td>\n",
              "    </tr>\n",
              "    <tr>\n",
              "      <th>178276</th>\n",
              "      <td>178738</td>\n",
              "      <td>2/16/1945</td>\n",
              "      <td>CBI</td>\n",
              "      <td>USA</td>\n",
              "      <td>10 AF</td>\n",
              "      <td>89 FS</td>\n",
              "      <td>P47</td>\n",
              "      <td>NaN</td>\n",
              "      <td>10</td>\n",
              "      <td>NaN</td>\n",
              "      <td>NaN</td>\n",
              "      <td>NaN</td>\n",
              "      <td>NaN</td>\n",
              "      <td>NaN</td>\n",
              "      <td>BURMA</td>\n",
              "      <td>NAMTOI</td>\n",
              "      <td>SUPPLY AREA</td>\n",
              "      <td>NaN</td>\n",
              "      <td>1</td>\n",
              "      <td>22.833333</td>\n",
              "      <td>96.916667</td>\n",
              "      <td>15.0</td>\n",
              "      <td>NaN</td>\n",
              "      <td>6.0</td>\n",
              "      <td>NaN</td>\n",
              "      <td>NaN</td>\n",
              "      <td>NaN</td>\n",
              "      <td>NaN</td>\n",
              "      <td>NaN</td>\n",
              "      <td>8.000000</td>\n",
              "      <td>250 LB GP (GP-M57)</td>\n",
              "      <td>NaN</td>\n",
              "      <td>1.0</td>\n",
              "      <td>NaN</td>\n",
              "      <td>NaN</td>\n",
              "      <td>NaN</td>\n",
              "      <td>NaN</td>\n",
              "      <td>NaN</td>\n",
              "      <td>NaN</td>\n",
              "      <td>NaN</td>\n",
              "      <td>NaN</td>\n",
              "      <td>NaN</td>\n",
              "      <td>1.0</td>\n",
              "      <td>NaN</td>\n",
              "      <td>NaN</td>\n",
              "      <td>35815.0</td>\n",
              "    </tr>\n",
              "    <tr>\n",
              "      <th>178277</th>\n",
              "      <td>178739</td>\n",
              "      <td>2/16/1945</td>\n",
              "      <td>CBI</td>\n",
              "      <td>USA</td>\n",
              "      <td>10 AF</td>\n",
              "      <td>90 FS</td>\n",
              "      <td>P47</td>\n",
              "      <td>NaN</td>\n",
              "      <td>10</td>\n",
              "      <td>NaN</td>\n",
              "      <td>NaN</td>\n",
              "      <td>NaN</td>\n",
              "      <td>NaN</td>\n",
              "      <td>NaN</td>\n",
              "      <td>BURMA</td>\n",
              "      <td>MYITSON</td>\n",
              "      <td>UNIDENTIFIED TARGET</td>\n",
              "      <td>NaN</td>\n",
              "      <td>1</td>\n",
              "      <td>21.433333</td>\n",
              "      <td>96.466667</td>\n",
              "      <td>5.0</td>\n",
              "      <td>NaN</td>\n",
              "      <td>4.0</td>\n",
              "      <td>NaN</td>\n",
              "      <td>NaN</td>\n",
              "      <td>NaN</td>\n",
              "      <td>NaN</td>\n",
              "      <td>NaN</td>\n",
              "      <td>8.000000</td>\n",
              "      <td>250 LB GP (GP-M57)</td>\n",
              "      <td>NaN</td>\n",
              "      <td>1.0</td>\n",
              "      <td>NaN</td>\n",
              "      <td>NaN</td>\n",
              "      <td>NaN</td>\n",
              "      <td>NaN</td>\n",
              "      <td>NaN</td>\n",
              "      <td>NaN</td>\n",
              "      <td>NaN</td>\n",
              "      <td>NaN</td>\n",
              "      <td>NaN</td>\n",
              "      <td>1.0</td>\n",
              "      <td>NaN</td>\n",
              "      <td>NaN</td>\n",
              "      <td>35020.0</td>\n",
              "    </tr>\n",
              "    <tr>\n",
              "      <th>178278</th>\n",
              "      <td>178740</td>\n",
              "      <td>2/16/1945</td>\n",
              "      <td>CBI</td>\n",
              "      <td>USA</td>\n",
              "      <td>10 AF</td>\n",
              "      <td>90 FS</td>\n",
              "      <td>P47</td>\n",
              "      <td>NaN</td>\n",
              "      <td>10</td>\n",
              "      <td>NaN</td>\n",
              "      <td>NaN</td>\n",
              "      <td>NaN</td>\n",
              "      <td>NaN</td>\n",
              "      <td>NaN</td>\n",
              "      <td>BURMA</td>\n",
              "      <td>MYITSON</td>\n",
              "      <td>UNIDENTIFIED TARGET</td>\n",
              "      <td>NaN</td>\n",
              "      <td>1</td>\n",
              "      <td>21.433333</td>\n",
              "      <td>96.466667</td>\n",
              "      <td>5.0</td>\n",
              "      <td>NaN</td>\n",
              "      <td>4.0</td>\n",
              "      <td>NaN</td>\n",
              "      <td>NaN</td>\n",
              "      <td>NaN</td>\n",
              "      <td>NaN</td>\n",
              "      <td>NaN</td>\n",
              "      <td>8.000000</td>\n",
              "      <td>250 LB GP (GP-M57)</td>\n",
              "      <td>NaN</td>\n",
              "      <td>1.0</td>\n",
              "      <td>NaN</td>\n",
              "      <td>NaN</td>\n",
              "      <td>NaN</td>\n",
              "      <td>NaN</td>\n",
              "      <td>NaN</td>\n",
              "      <td>NaN</td>\n",
              "      <td>NaN</td>\n",
              "      <td>NaN</td>\n",
              "      <td>NaN</td>\n",
              "      <td>1.0</td>\n",
              "      <td>NaN</td>\n",
              "      <td>NaN</td>\n",
              "      <td>35022.0</td>\n",
              "    </tr>\n",
              "    <tr>\n",
              "      <th>178279</th>\n",
              "      <td>178741</td>\n",
              "      <td>2/16/1945</td>\n",
              "      <td>PTO</td>\n",
              "      <td>NEW ZEALAND</td>\n",
              "      <td>RNZAF</td>\n",
              "      <td>NO. 22 SQUADRON RNZAF</td>\n",
              "      <td>F4U</td>\n",
              "      <td>NaN</td>\n",
              "      <td>NaN</td>\n",
              "      <td>NaN</td>\n",
              "      <td>NaN</td>\n",
              "      <td>NaN</td>\n",
              "      <td>NaN</td>\n",
              "      <td>NaN</td>\n",
              "      <td>NEW IRELAND</td>\n",
              "      <td>KAVIENG SWEEP</td>\n",
              "      <td>VARIOUS TARGETS</td>\n",
              "      <td>NaN</td>\n",
              "      <td>NaN</td>\n",
              "      <td>-2.583333</td>\n",
              "      <td>150.833333</td>\n",
              "      <td>NaN</td>\n",
              "      <td>NaN</td>\n",
              "      <td>8.0</td>\n",
              "      <td>NaN</td>\n",
              "      <td>NaN</td>\n",
              "      <td>NaN</td>\n",
              "      <td>NaN</td>\n",
              "      <td>NaN</td>\n",
              "      <td>8.000000</td>\n",
              "      <td>1000 LB GP (GP-M44/M65)</td>\n",
              "      <td>8000</td>\n",
              "      <td>4.0</td>\n",
              "      <td>NaN</td>\n",
              "      <td>NaN</td>\n",
              "      <td>NaN</td>\n",
              "      <td>NaN</td>\n",
              "      <td>NaN</td>\n",
              "      <td>NaN</td>\n",
              "      <td>NaN</td>\n",
              "      <td>NaN</td>\n",
              "      <td>8000.0</td>\n",
              "      <td>4.0</td>\n",
              "      <td>NaN</td>\n",
              "      <td>NaN</td>\n",
              "      <td>NaN</td>\n",
              "    </tr>\n",
              "    <tr>\n",
              "      <th>178280</th>\n",
              "      <td>178742</td>\n",
              "      <td>2/16/1945</td>\n",
              "      <td>CBI</td>\n",
              "      <td>USA</td>\n",
              "      <td>10 AF</td>\n",
              "      <td>59 FS</td>\n",
              "      <td>P47</td>\n",
              "      <td>NaN</td>\n",
              "      <td>10</td>\n",
              "      <td>NaN</td>\n",
              "      <td>NaN</td>\n",
              "      <td>NaN</td>\n",
              "      <td>NaN</td>\n",
              "      <td>NaN</td>\n",
              "      <td>BURMA</td>\n",
              "      <td>MONGLI</td>\n",
              "      <td>STORES</td>\n",
              "      <td>NaN</td>\n",
              "      <td>1</td>\n",
              "      <td>24.883333</td>\n",
              "      <td>97.583333</td>\n",
              "      <td>25.0</td>\n",
              "      <td>NaN</td>\n",
              "      <td>8.0</td>\n",
              "      <td>NaN</td>\n",
              "      <td>NaN</td>\n",
              "      <td>NaN</td>\n",
              "      <td>NaN</td>\n",
              "      <td>NaN</td>\n",
              "      <td>6.153846</td>\n",
              "      <td>325 LB DC (DB-MK 17/47)</td>\n",
              "      <td>NaN</td>\n",
              "      <td>1.0</td>\n",
              "      <td>NaN</td>\n",
              "      <td>NaN</td>\n",
              "      <td>NaN</td>\n",
              "      <td>NaN</td>\n",
              "      <td>NaN</td>\n",
              "      <td>NaN</td>\n",
              "      <td>NaN</td>\n",
              "      <td>NaN</td>\n",
              "      <td>NaN</td>\n",
              "      <td>1.0</td>\n",
              "      <td>NaN</td>\n",
              "      <td>NaN</td>\n",
              "      <td>33784.0</td>\n",
              "    </tr>\n",
              "  </tbody>\n",
              "</table>\n",
              "<p>169543 rows × 46 columns</p>\n",
              "</div>"
            ],
            "text/plain": [
              "        Mission ID Mission Date  ... Bomb Damage Assessment Source ID\n",
              "0                1    8/15/1943  ...                    NaN       NaN\n",
              "1                2    8/15/1943  ...                    NaN    9366.0\n",
              "2                3    8/15/1943  ...                    NaN       NaN\n",
              "3                4    8/15/1943  ...                    NaN       NaN\n",
              "4                5    8/15/1943  ...                    NaN   22585.0\n",
              "...            ...          ...  ...                    ...       ...\n",
              "178276      178738    2/16/1945  ...                    NaN   35815.0\n",
              "178277      178739    2/16/1945  ...                    NaN   35020.0\n",
              "178278      178740    2/16/1945  ...                    NaN   35022.0\n",
              "178279      178741    2/16/1945  ...                    NaN       NaN\n",
              "178280      178742    2/16/1945  ...                    NaN   33784.0\n",
              "\n",
              "[169543 rows x 46 columns]"
            ]
          },
          "metadata": {},
          "execution_count": 13
        }
      ]
    },
    {
      "cell_type": "markdown",
      "metadata": {
        "id": "LjiOax5F-kYo"
      },
      "source": [
        "### 데이터 타입 확인"
      ]
    },
    {
      "cell_type": "code",
      "metadata": {
        "colab": {
          "base_uri": "https://localhost:8080/"
        },
        "id": "6THsilui0kQO",
        "outputId": "9038cd90-dae8-4c29-aa33-fcd96fcd4346"
      },
      "source": [
        "aerial.info()"
      ],
      "execution_count": 194,
      "outputs": [
        {
          "output_type": "stream",
          "name": "stdout",
          "text": [
            "<class 'pandas.core.frame.DataFrame'>\n",
            "Int64Index: 2555 entries, 0 to 178080\n",
            "Data columns (total 17 columns):\n",
            " #   Column                 Non-Null Count  Dtype  \n",
            "---  ------                 --------------  -----  \n",
            " 0   Mission Date           2555 non-null   object \n",
            " 1   Theater of Operations  2555 non-null   object \n",
            " 2   Country                2555 non-null   object \n",
            " 3   Air Force              2505 non-null   object \n",
            " 4   Aircraft Series        2528 non-null   object \n",
            " 5   Callsign               10 non-null     object \n",
            " 6   Takeoff Base           2555 non-null   object \n",
            " 7   Takeoff Location       2555 non-null   object \n",
            " 8   Takeoff Latitude       2555 non-null   object \n",
            " 9   Takeoff Longitude      2555 non-null   float64\n",
            " 10  Target Country         2499 non-null   object \n",
            " 11  Target City            2552 non-null   object \n",
            " 12  Target Type            602 non-null    object \n",
            " 13  Target Industry        81 non-null     object \n",
            " 14  Target Priority        230 non-null    object \n",
            " 15  Target Latitude        2555 non-null   float64\n",
            " 16  Target Longitude       2555 non-null   float64\n",
            "dtypes: float64(3), object(14)\n",
            "memory usage: 359.3+ KB\n"
          ]
        }
      ]
    },
    {
      "cell_type": "markdown",
      "metadata": {
        "id": "8QFXQkZC-3ix"
      },
      "source": [
        "### 날씨 데이터 사용할 변수 선택"
      ]
    },
    {
      "cell_type": "code",
      "metadata": {
        "colab": {
          "base_uri": "https://localhost:8080/"
        },
        "id": "ivVx8Sdk-3IX",
        "outputId": "c4922804-1ce7-48ce-ccec-30ae3ecf5415"
      },
      "source": [
        "# what we will use only\n",
        "weather_station_location = weather_station_location.loc[:,[\"WBAN\",\"NAME\",\"STATE/COUNTRY ID\",\"Latitude\",\"Longitude\"] ]\n",
        "weather_station_location.info()"
      ],
      "execution_count": 195,
      "outputs": [
        {
          "output_type": "stream",
          "name": "stdout",
          "text": [
            "<class 'pandas.core.frame.DataFrame'>\n",
            "RangeIndex: 161 entries, 0 to 160\n",
            "Data columns (total 5 columns):\n",
            " #   Column            Non-Null Count  Dtype  \n",
            "---  ------            --------------  -----  \n",
            " 0   WBAN              161 non-null    int64  \n",
            " 1   NAME              161 non-null    object \n",
            " 2   STATE/COUNTRY ID  161 non-null    object \n",
            " 3   Latitude          161 non-null    float64\n",
            " 4   Longitude         161 non-null    float64\n",
            "dtypes: float64(2), int64(1), object(2)\n",
            "memory usage: 6.4+ KB\n"
          ]
        }
      ]
    },
    {
      "cell_type": "code",
      "metadata": {
        "colab": {
          "base_uri": "https://localhost:8080/"
        },
        "id": "lLA4_lX__EGf",
        "outputId": "22d95738-2be6-4339-e115-617ee9cb0c9b"
      },
      "source": [
        "# what we will use only\n",
        "weather = weather.loc[:,[\"STA\",\"Date\",\"MeanTemp\"] ]\n",
        "weather.info()"
      ],
      "execution_count": 196,
      "outputs": [
        {
          "output_type": "stream",
          "name": "stdout",
          "text": [
            "<class 'pandas.core.frame.DataFrame'>\n",
            "RangeIndex: 119040 entries, 0 to 119039\n",
            "Data columns (total 3 columns):\n",
            " #   Column    Non-Null Count   Dtype  \n",
            "---  ------    --------------   -----  \n",
            " 0   STA       119040 non-null  int64  \n",
            " 1   Date      119040 non-null  object \n",
            " 2   MeanTemp  119040 non-null  float64\n",
            "dtypes: float64(1), int64(1), object(1)\n",
            "memory usage: 2.7+ MB\n"
          ]
        }
      ]
    },
    {
      "cell_type": "markdown",
      "metadata": {
        "id": "uCjlyzNY_JUn"
      },
      "source": [
        "## 데이터 시각화\n",
        "* 데이터를 이해하기 위해 기본적인 시각화를 해보자\n",
        "  * 얼마나 많은 나라들이 공격했을까?\n",
        "  * 최고로 많이 타겟이 된 나라는?\n",
        "  * 상위 10개의 전투기 시리즈\n",
        "  * 이륙 장소(공격한 나라)\n",
        "  * 타겟이 된 장소\n",
        "  * 폭격 경로\n",
        "  * 작전지역\n",
        "  * 기상관측소 위치"
      ]
    },
    {
      "cell_type": "code",
      "metadata": {
        "colab": {
          "base_uri": "https://localhost:8080/",
          "height": 414
        },
        "id": "P53xyNFr_Gdn",
        "outputId": "df8aac4b-e28d-4e19-b562-95a67ad07d53"
      },
      "source": [
        "# country\n",
        "print(aerial['Country'].value_counts())\n",
        "plt.figure(figsize=(22,10))\n",
        "sns.countplot(aerial['Country'])"
      ],
      "execution_count": 197,
      "outputs": [
        {
          "output_type": "stream",
          "name": "stdout",
          "text": [
            "USA              1895\n",
            "GREAT BRITAIN     544\n",
            "NEW ZEALAND       102\n",
            "SOUTH AFRICA       14\n",
            "Name: Country, dtype: int64\n"
          ]
        },
        {
          "output_type": "execute_result",
          "data": {
            "text/plain": [
              "<matplotlib.axes._subplots.AxesSubplot at 0x7efbd8e19d10>"
            ]
          },
          "metadata": {},
          "execution_count": 197
        },
        {
          "output_type": "display_data",
          "data": {
            "image/png": "[encoded data removed]",
            "text/plain": [
              "<Figure size 1584x720 with 1 Axes>"
            ]
          },
          "metadata": {}
        }
      ]
    },
    {
      "cell_type": "code",
      "metadata": {
        "colab": {
          "base_uri": "https://localhost:8080/",
          "height": 574
        },
        "id": "Mh-R_yQpA6Rf",
        "outputId": "ce287d32-f5dd-48aa-f4e6-d0bb65cae3d8"
      },
      "source": [
        "# 최고로 타겟이 된 나라\n",
        "print(aerial['Target Country'].value_counts()[:10])\n",
        "plt.figure(figsize=(22,10))\n",
        "sns.countplot(aerial['Target Country'])\n",
        "plt.xticks(rotation=90)\n",
        "plt.show()"
      ],
      "execution_count": 198,
      "outputs": [
        {
          "output_type": "stream",
          "name": "stdout",
          "text": [
            "ITALY      1104\n",
            "BURMA       335\n",
            "LIBYA       272\n",
            "TUNISIA     113\n",
            "GREECE       87\n",
            "EGYPT        80\n",
            "JAPAN        71\n",
            "CHINA        52\n",
            "SICILY       46\n",
            "GERMANY      41\n",
            "Name: Target Country, dtype: int64\n"
          ]
        },
        {
          "output_type": "display_data",
          "data": {
            "image/png": "[encoded data removed]",
            "text/plain": [
              "<Figure size 1584x720 with 1 Axes>"
            ]
          },
          "metadata": {}
        }
      ]
    },
    {
      "cell_type": "code",
      "metadata": {
        "id": "VMQ5gbIOBgqr",
        "colab": {
          "base_uri": "https://localhost:8080/"
        },
        "outputId": "e92fafa2-2d62-4ec6-f094-2f9234d6b225"
      },
      "source": [
        "import chart_studio\n",
        "#Aircraft Series\n",
        "data = aerial['Aircraft Series'].value_counts()\n",
        "print(data[:10])\n",
        "data=[go.Bar(\n",
        "    x=data[:10].index,\n",
        "    y=data[:10].values,\n",
        "    hoverinfo='text',\n",
        "    marker = dict(color='rgba(177,14,22,0.5)',line=dict(color='rgb(0,0,0)',width=1.5))\n",
        ")]\n",
        "\n",
        "layout = dict(title='Aircraft Series',)\n",
        "fig=go.Figure(data=data, layout=layout)\n",
        "fig.write_html('Aircraft Series')"
      ],
      "execution_count": 199,
      "outputs": [
        {
          "output_type": "stream",
          "name": "stdout",
          "text": [
            "A36             990\n",
            "B25             416\n",
            "B24             337\n",
            "BLEN            180\n",
            "LIB             145\n",
            "WELL            129\n",
            "B17             119\n",
            "PV-1 VENTURA     70\n",
            "WHIT             32\n",
            "HALI             18\n",
            "Name: Aircraft Series, dtype: int64\n"
          ]
        }
      ]
    },
    {
      "cell_type": "code",
      "metadata": {
        "id": "jrgZUlFJxKi5"
      },
      "source": [
        "# Attack\n",
        "aerial[\"color\"]=\"\"\n",
        "\n",
        "for i,j in zip([\"USA\",\"GREAT BRITAIN\",\"NEW ZEALAND\",\"SOUTH AFRICA\"], [\"rgb(0,116,217)\",\"rgb(255,65,54)\",\"rgb(133,20,75)\",\"rgb(255,133,27)\"]):\n",
        "   aerial.color[aerial.Country == i] = j\n",
        "\n",
        "data = [dict(\n",
        "    type = 'scattergeo',\n",
        "    lon = aerial['Takeoff Longitude'],\n",
        "    lat = aerial['Takeoff Latitude'],\n",
        "    hoverinfo = 'text',\n",
        "    text = \"Country: \" + aerial.Country + \" Takeoff Location: \"+ aerial[\"Takeoff Location\"]+\" Takeoff Base: \"+aerial[\"Takeoff Base\"],\n",
        "    mode = 'markers',\n",
        "    marker = dict(\n",
        "        sizemode = 'area',\n",
        "        sizeref = 1, \n",
        "        size = 10 ,\n",
        "        line = dict(width=1, color ='white'),\n",
        "        color = aerial[\"color\"],\n",
        "        opacity = 0.7\n",
        "    ),\n",
        ")]\n",
        "\n",
        "layout = dict(\n",
        "    title=\"Countries Take Off Bases\",\n",
        "    hovermode='closest',\n",
        "    geo = dict(showframe =False , showland=True, showcoastlines=True, showcountries= True, \n",
        "               countrywidth=1, projection=dict(type=\"mercator\"),\n",
        "               subunitwidth=1,\n",
        "               showlakes=True,\n",
        "               lakecolor='rgb(255,255,255)',\n",
        "               countrycolor='rgb(5,5,5)')\n",
        "               \n",
        ")\n",
        "\n",
        "fig = go.Figure(data=data, layout=layout)\n",
        "\n",
        "fig.write_html(\"Attack country map\")"
      ],
      "execution_count": 200,
      "outputs": []
    },
    {
      "cell_type": "markdown",
      "metadata": {
        "id": "DtoNv-pl3Wiu"
      },
      "source": [
        "* 폭격 경로를 어떤 나라와 도시에 폭탄이 어떤 나라로 부터 이륙하였는지 시각화 해보겠다."
      ]
    },
    {
      "cell_type": "code",
      "metadata": {
        "id": "Znc1hYuk2ijx"
      },
      "source": [
        "# Bombing Paths\n",
        "\n",
        "# trace1\n",
        "airports = [dict(\n",
        "            type = 'scattergeo',\n",
        "            lon = aerial[\"Takeoff Longitude\"],\n",
        "            lat = aerial[\"Takeoff Latitude\"],\n",
        "            hoverinfo = 'text',\n",
        "            text = \"Country: \" + aerial.Country + \" Takeoff Location: \"+aerial[\"Takeoff Location\"]+\" Takeoff Base: \" + aerial['Takeoff Base'],\n",
        "            mode = 'markers',\n",
        "            marker = dict(\n",
        "                size=5,\n",
        "                color=aerial[\"color\"],\n",
        "                line = dict(\n",
        "                    width=1,\n",
        "                    color = \"white\"\n",
        "                           )\n",
        "                          )\n",
        "                  )\n",
        "            ]\n",
        "\n",
        "# trace2\n",
        "targets = [dict(\n",
        "    type = \"scattergeo\",\n",
        "    lon = aerial[\"Target Longitude\"],\n",
        "    lat = aerial[\"Target Latitude\"],\n",
        "    hoverinfo = 'text',\n",
        "    text = \"Target Country: \"+aerial[\"Target Country\"]+\" Target City: \"+aerial[\"Target City\"],\n",
        "    mode = 'markers',\n",
        "    marker = dict(\n",
        "        size=1,\n",
        "        color = \"red\",\n",
        "        line = dict(width = 0.5, color = \"red\") \n",
        "    )\n",
        "    )]\n",
        "\n",
        "\n",
        "# trace 3\n",
        "flight_paths = []\n",
        "for i in range(len(aerial['Target Longitude'])):\n",
        "  flight_paths.append(\n",
        "      dict(\n",
        "          type = 'scattergeo',\n",
        "           lon = [aerial.iloc[i,9], aerial.iloc[i,16]],\n",
        "           lat = [aerial.iloc[i,8], aerial.iloc[i,15]],\n",
        "           mode = 'lines',\n",
        "           line = dict(\n",
        "               width=0.7,\n",
        "               color='black',\n",
        "           ),\n",
        "           opacity=0.6,\n",
        "      )\n",
        "  )\n",
        "\n",
        "layout = dict(\n",
        "    title = 'Bombing Paths from Attacker Country to Target ',\n",
        "    hovermode = 'closest',\n",
        "    geo = dict(showframe = False, showland=True, showcoastlines=True, showcountries=True,\n",
        "               countrywidth = 1, projection = dict(type='mercator'),\n",
        "               landcolor = 'rgb(217,217,217)',\n",
        "               subunitwidth=1,\n",
        "               showlakes = True,\n",
        "               lakecolor='rgb(255,255,255)',\n",
        "               countrycolor='rgb(5,5,5)')\n",
        ")\n",
        "\n",
        "fig = go.Figure( data = flight_paths + airports + targets, layout=layout)\n",
        "\n",
        "fig.write_html(\"Boming paths\")\n"
      ],
      "execution_count": 201,
      "outputs": []
    },
    {
      "cell_type": "markdown",
      "metadata": {
        "id": "gXUAt6Hd1ALz"
      },
      "source": [
        "* 폭격의 대부분은 Mediterranean 작전지역에서 수행되었다. 이때 작전명은 아래와 같다.\n",
        "  * ETO: European Theater of Operations\n",
        "  * PTO: Pasific Theater of Operations\n",
        "  * MTO: Mediterranean Theater of Operations\n",
        "  * CBI: China-Burma-India Theater of Operations\n",
        "  * EAST AFRICA: East Africa Theater of Operations "
      ]
    },
    {
      "cell_type": "code",
      "metadata": {
        "colab": {
          "base_uri": "https://localhost:8080/"
        },
        "id": "NEyMlDe41MVl",
        "outputId": "451f0bf7-8966-4d70-c54c-d6b56dc62e63"
      },
      "source": [
        "aerial['Theater of Operations'].value_counts()"
      ],
      "execution_count": 202,
      "outputs": [
        {
          "output_type": "execute_result",
          "data": {
            "text/plain": [
              "MTO            1802\n",
              "CBI             425\n",
              "PTO             247\n",
              "ETO              44\n",
              "EAST AFRICA      37\n",
              "Name: Theater of Operations, dtype: int64"
            ]
          },
          "metadata": {},
          "execution_count": 202
        }
      ]
    },
    {
      "cell_type": "markdown",
      "metadata": {
        "id": "VynElqko64sQ"
      },
      "source": [
        "* 기상관측 장소는 아래와 같다."
      ]
    },
    {
      "cell_type": "code",
      "metadata": {
        "id": "H590lcRa63tR"
      },
      "source": [
        "data = [dict(\n",
        "    type='scattergeo',\n",
        "    lon = weather_station_location.Longitude,\n",
        "    lat = weather_station_location.Latitude,\n",
        "    hoverinfo = 'text',\n",
        "    text = \"Name: \" + weather_station_location.NAME + \" Country: \" + weather_station_location[\"STATE/COUNTRY ID\"],\n",
        "    mode = 'markers',\n",
        "    marker=dict(\n",
        "        sizemode = 'area',\n",
        "        sizeref = 1,\n",
        "        size= 8 ,\n",
        "        line = dict(width=1,color = \"white\"),\n",
        "        color = \"blue\",\n",
        "        opacity = 0.7),\n",
        ")]\n",
        "layout = dict(\n",
        "    title = 'Weather Station Locations ',\n",
        "    hovermode='closest',\n",
        "    geo = dict(showframe=False, showland=True, showcoastlines=True, showcountries=True,\n",
        "               countrywidth=1, projection=dict(type='mercator'),\n",
        "              landcolor = 'rgb(217, 217, 217)',\n",
        "              subunitwidth=1,\n",
        "              showlakes = True,\n",
        "              lakecolor = 'rgb(255, 255, 255)',\n",
        "              countrycolor=\"rgb(5, 5, 5)\")\n",
        ")\n",
        "fig = go.Figure(data=data, layout=layout)\n",
        "fig.write_html(\"Weather station location\")"
      ],
      "execution_count": 203,
      "outputs": []
    },
    {
      "cell_type": "markdown",
      "metadata": {
        "id": "enHmKUf468BO"
      },
      "source": [
        "* USA와 BURMA 전쟁에 포커스를 맞춰 시각화해보자.\n",
        "  * 미국이 1942년부터 1945년까지 BURMA를 폭격한 전쟁이다.(가장 인접한 기상관측소 번호는 32907 이다.)\n",
        "  * 이 전쟁에서 가장 가까운 기상대는 BINDUKURI이며 1943년부터 1945년까지의 기온 기록을 가지고 있다.\n",
        "  * 그러나 시각화 전에 날짜 기능을 ***날짜 시간 개체***로 만들어야 한다."
      ]
    },
    {
      "cell_type": "code",
      "metadata": {
        "colab": {
          "base_uri": "https://localhost:8080/"
        },
        "id": "ELYNbTMr8n8f",
        "outputId": "e16c285e-84e4-4328-e8c0-d5865441eeab"
      },
      "source": [
        "#weather_station_id = weather_station_location[weather_station_location.NAME =='BIKDUKURI'].WBAN"
      ],
      "execution_count": null,
      "outputs": [
        {
          "output_type": "execute_result",
          "data": {
            "text/plain": [
              "<bound method Series.drop of Series([], Name: WBAN, dtype: int64)>"
            ]
          },
          "metadata": {},
          "execution_count": 55
        }
      ]
    },
    {
      "cell_type": "code",
      "metadata": {
        "id": "8gaqVMiRAhV6"
      },
      "source": [
        "weather_bin = weather[weather.STA == 32907]\n",
        "weather_bin\n",
        "weather_bin['Date'] = pd.to_datetime(weather_bin['Date'])"
      ],
      "execution_count": 204,
      "outputs": []
    },
    {
      "cell_type": "code",
      "metadata": {
        "colab": {
          "base_uri": "https://localhost:8080/",
          "height": 377
        },
        "id": "X3sqU8L48iyP",
        "outputId": "692935b8-40f3-440a-abe6-3a576ce2a3a5"
      },
      "source": [
        "weather_bin = weather[weather.STA == 32907]\n",
        "weather_bin['Date'] = pd.to_datetime(weather_bin['Date'])\n",
        "plt.figure(figsize=(22,10))\n",
        "plt.plot(weather_bin.Date, weather_bin.MeanTemp)\n",
        "plt.title(\"Mean Temperature of Bindukuri Area\")\n",
        "plt.xlabel(\"Date\")\n",
        "plt.ylabel(\"Mean Temperature\")"
      ],
      "execution_count": null,
      "outputs": [
        {
          "output_type": "execute_result",
          "data": {
            "text/plain": [
              "Text(0, 0.5, 'Mean Temperature')"
            ]
          },
          "metadata": {},
          "execution_count": 57
        },
        {
          "output_type": "display_data",
          "data": {
            "image/png": "[encoded data removed]",
            "text/plain": [
              "<Figure size 1584x720 with 1 Axes>"
            ]
          },
          "metadata": {}
        }
      ]
    },
    {
      "cell_type": "markdown",
      "metadata": {
        "id": "ePDHoQjGB3gl"
      },
      "source": [
        "*  ossilates의 기운은 12도 ~ 32도사이이다.\n",
        "* 당연히 여름달의 온도보다 겨울달이 더 춥다."
      ]
    },
    {
      "cell_type": "code",
      "metadata": {
        "id": "wE2suZomCFlU"
      },
      "source": [
        "# 아래와 같이 각 행별로 계산하는 것보다 pandas 함수를 이용하자.\n",
        "aerial = pd.read_csv(\"/content/drive/MyDrive/Colab Notebooks/WorldWar2/operations.csv\")\n",
        "aerial[\"year\"] = [i.split(\"/\")[2] for i in aerial[\"Mission Date\"]]\n",
        "aerial[\"month\"] = [i.split(\"/\")[0] for i in aerial[\"Mission Date\"]]\n",
        "\n",
        "# 아래와 같은 iterrow 방법은 loc, iloc 방법보다 3배 느리다.\n",
        "aerial = aerial[aerial[\"year\"]>=\"1943\"]\n",
        "aerial = aerial[aerial[\"month\"]>\"8\"]\n",
        "\n",
        "aerial[\"Mission Date\"] = pd.to_datetime(aerial[\"Mission Date\"])\n",
        "\n",
        "attack = \"USA\"\n",
        "target = \"BURMA\"\n",
        "city = \"KATHA\"\n",
        "\n",
        "aerial_war = aerial[aerial.Country == \"USA\"]\n",
        "aerial_war = aerial_war[aerial_war[\"Target Country\"] == \"BURMA\"]\n",
        "aerial_war = aerial_war[aerial_war[\"Target City\"] == \"KATHA\"]\n"
      ],
      "execution_count": 205,
      "outputs": []
    },
    {
      "cell_type": "markdown",
      "metadata": {
        "id": "CR8X1X6nGAgJ"
      },
      "source": [
        "* 위 코드보다 효율대비 우수한 pandas를 활용해보자."
      ]
    },
    {
      "cell_type": "code",
      "metadata": {
        "id": "ljKcfDtwB2Tm"
      },
      "source": [
        "aerial_temp = pd.read_csv(\"/content/drive/MyDrive/Colab Notebooks/WorldWar2/operations.csv\")\n",
        "# for 구문을 pandas 문법활용\n",
        "aerial_temp[\"year\"] = aerial_temp[\"Mission Date\"].str.split('/', n=2, expand=True).iloc[:,2]\n",
        "aerial_temp[\"month\"] = aerial_temp[\"Mission Date\"].str.split('/', n=2, expand=True).iloc[:,0]\n",
        "\n",
        "# loc pandas 문법활용\n",
        "aerial_temp = aerial_temp.loc[aerial_temp[\"year\"]>=\"1943\"]\n",
        "#aerial_temp = aerial_temp.loc[aerial_temp[\"month\"]>\"8\"]\n",
        "\n",
        "aerial_temp[\"Mission Date\"] = pd.to_datetime(aerial_temp[\"Mission Date\"])\n",
        "\n",
        "aerial_war_temp = aerial_temp.loc[aerial_temp.Country == \"USA\"]\n",
        "aerial_war_temp = aerial_war_temp.loc[aerial_war_temp[\"Target Country\"] == \"BURMA\"]\n",
        "aerial_war_temp = aerial_war_temp.loc[aerial_war_temp[\"Target City\"] == \"KATHA\"]\n",
        "\n"
      ],
      "execution_count": null,
      "outputs": []
    },
    {
      "cell_type": "code",
      "metadata": {
        "colab": {
          "base_uri": "https://localhost:8080/"
        },
        "id": "YArQfOAmRXhQ",
        "outputId": "9d6e2b37-deb3-4ee2-dd08-12e2c0cc3e79"
      },
      "source": [
        "print( aerial.year.value_counts() ,'\\n', aerial_temp.year.value_counts())\n",
        "#print(aerial_war.count()==aerial_war_temp.count())\n",
        "\n",
        "\"Mission Date"
      ],
      "execution_count": null,
      "outputs": [
        {
          "output_type": "stream",
          "name": "stdout",
          "text": [
            "1944    80550\n",
            "1945    51408\n",
            "1943    23214\n",
            "Name: year, dtype: int64 \n",
            " 1944    80550\n",
            "1945    51408\n",
            "1943    23214\n",
            "Name: year, dtype: int64\n"
          ]
        }
      ]
    },
    {
      "cell_type": "code",
      "metadata": {
        "id": "zMPVQ5U2rJEw"
      },
      "source": [
        "# weather_bin 은 가장 가까운 기상관측소 번호로 필터된 날짜 와 기온데이터가 포함되어있음.\n",
        "# 목적 : aerial_war와 Weather Date가 같은 날을 Mission Date에서 필터함과 동시에 \n",
        "# Weather Date의 평균기온을 aerial_war 안에 넣는 것이 목표\n",
        "# 여기서 작성자의 질문은 각 원소의 형태가 array로 되어 있는데, for문을 안쓰고 \n",
        "# 일반 원소로 바꿀 수 있는지 여부였다.\n",
        "\n",
        "liste = []\n",
        "aa = []\n",
        "## 기존 방법 ##\n",
        "# aerial와 Weather Date가 같은 날의 평균 기온을 liste에 저장한다.\n",
        "for i  in aerial_war[\"Mission Date\"]:\n",
        "  dummy = weather_bin[weather_bin.Date == i]\n",
        "  liste.append(dummy['MeanTemp'].values)\n",
        "\n",
        "# 평균 기온을  aerial_war 데이터내에 dene 변수에 삽입함.\n",
        "aerial_war[\"dene\"] = liste\n",
        "\n",
        "# 이후 각 원소 별로 array된 값들을 list로 풀기위해 for문 작성\n",
        "for i in aerial_war.dene.values:\n",
        "  aa.append(i[0])\n",
        "#-------------------------------------------------------------------------#\n",
        "## 수정한 방법 ##\n",
        "for i  in aerial_war[\"Mission Date\"]:\n",
        "  dummy = weather_bin[weather_bin.Date == i]\n",
        "  liste.append(dummy['MeanTemp'].values)\n",
        "\n",
        "# for 문을 사용하지 않고 array값을 list로 풀기\n",
        "aa = aerial_war[\"dene\"].astype('float64').to_list()\n"
      ],
      "execution_count": 248,
      "outputs": []
    },
    {
      "cell_type": "code",
      "metadata": {
        "id": "LhrtWIBzrI89"
      },
      "source": [
        "#Ctrate a trace\n",
        "trace = go.Scatter(\n",
        "    x=weather_bin.Date,\n",
        "    mode= \"lines\",\n",
        "    y=weather_bin.MeanTemp,\n",
        "    marker = dict(color = 'rgba(16,112,2,0.8)'),\n",
        "    name = \"Mean Temperature\"\n",
        ")\n",
        "trace1 = go.Scatter(\n",
        "    x= aerial_war[\"Mission Date\"],\n",
        "    mode = \"markers\",\n",
        "    y= aa,\n",
        "    marker =dict(color = 'rgba(16,0,200,1)'),\n",
        "    name = \"Mean Temperature\"\n",
        ")\n",
        "layout = dict(title = 'Mean Temperature --- Bombing Dates and Mean Temperature at this Date')\n",
        "data = [trace, trace1]\n",
        "\n",
        "fig = go.Figure(data=data, layout=layout)\n",
        "fig.write_html(\"Create a trace\")"
      ],
      "execution_count": 268,
      "outputs": []
    },
    {
      "cell_type": "markdown",
      "metadata": {
        "id": "pm1TfvyLBNZV"
      },
      "source": [
        "* 녹색선은 Bindukuri에서 측정된 평균온도 이다.\n",
        "* 파란색 점(마커)는 폭발날짜와 폭발 날짜 온도를 나타낸다.\n",
        "* 그림에서 알 수 있듯이, 미국은 고온에서 폭탄을 터뜨린다.\n",
        "* 본 EDA의 과정을 통한 질문은 ***미래의 날씨를 예측하고 이 예측을 통해 폭격의 실행 여부를 알 수 있는지 여부***이다.\n",
        "* 이 질문에 답하기 위해 시계열을 시작해 보겠다."
      ]
    },
    {
      "cell_type": "code",
      "metadata": {
        "id": "c6EYVorfCXyb"
      },
      "source": [
        ""
      ],
      "execution_count": null,
      "outputs": []
    }
  ]
}