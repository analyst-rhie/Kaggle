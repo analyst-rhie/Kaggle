{
  "nbformat": 4,
  "nbformat_minor": 0,
  "metadata": {
    "colab": {
      "name": "머신러닝_튜토리얼_연습장-에코잉.ipynb",
      "provenance": [],
      "collapsed_sections": [],
      "mount_file_id": "1B4297QQin1CXTBLWtZMlsFqSkzsUlCpt",
      "authorship_tag": "ABX9TyO3sgQzGQ0U0aWJCP+/tm05",
      "include_colab_link": true
    },
    "kernelspec": {
      "display_name": "Python 3",
      "name": "python3"
    },
    "language_info": {
      "name": "python"
    }
  },
  "cells": [
    {
      "cell_type": "markdown",
      "metadata": {
        "id": "view-in-github",
        "colab_type": "text"
      },
      "source": [
        "<a href=\"https://colab.research.google.com/github/analyst-rhie/Kaggle/blob/main/%EB%A8%B8%EC%8B%A0%EB%9F%AC%EB%8B%9D_%ED%8A%9C%ED%86%A0%EB%A6%AC%EC%96%BC_%EC%97%B0%EC%8A%B5%EC%9E%A5_%EC%97%90%EC%BD%94%EC%9E%89.ipynb\" target=\"_parent\"><img src=\"https://colab.research.google.com/assets/colab-badge.svg\" alt=\"Open In Colab\"/></a>"
      ]
    },
    {
      "cell_type": "markdown",
      "metadata": {
        "id": "lL4Z3usax8Ib"
      },
      "source": [
        "### 타이타닉 연습 Part 2\n",
        "\n",
        "* 본 코드는 이유한님의 타이타닉 튜토리얼 코드를 이해 및 암기하기 위한 목적으로 작성되었습니다.\n",
        "* 출처 : https://kaggle-kr.tistory.com/18?category=868316"
      ]
    },
    {
      "cell_type": "code",
      "metadata": {
        "colab": {
          "base_uri": "https://localhost:8080/",
          "height": 17
        },
        "id": "jsL33GGIx_FE",
        "outputId": "b41b667d-81a3-4337-9de4-d9e5a5b516ea"
      },
      "source": [
        "import numpy as np\n",
        "import pandas as pd\n",
        "from pandas import Series\n",
        "import matplotlib.pyplot as plt\n",
        "import seaborn as sns\n",
        "\n",
        "plt.style.use('seaborn')\n",
        "sns.set(font_scale = 2.5)\n",
        "\n",
        "import plotly.offline as py\n",
        "py.init_notebook_mode(connected=True)\n",
        "import plotly.graph_objs as go\n",
        "import plotly.tools as tls\n",
        "\n",
        "import warnings\n",
        "warnings.filterwarnings('ignore')\n",
        "\n",
        "%matplotlib inline"
      ],
      "execution_count": 319,
      "outputs": [
        {
          "output_type": "display_data",
          "data": {
            "text/html": [
              "        <script type=\"text/javascript\">\n",
              "        window.PlotlyConfig = {MathJaxConfig: 'local'};\n",
              "        if (window.MathJax) {MathJax.Hub.Config({SVG: {font: \"STIX-Web\"}});}\n",
              "        if (typeof require !== 'undefined') {\n",
              "        require.undef(\"plotly\");\n",
              "        requirejs.config({\n",
              "            paths: {\n",
              "                'plotly': ['https://cdn.plot.ly/plotly-latest.min']\n",
              "            }\n",
              "        });\n",
              "        require(['plotly'], function(Plotly) {\n",
              "            window._Plotly = Plotly;\n",
              "        });\n",
              "        }\n",
              "        </script>\n",
              "        "
            ]
          },
          "metadata": {}
        }
      ]
    },
    {
      "cell_type": "markdown",
      "metadata": {
        "id": "1d7Ii5XQybrY"
      },
      "source": [
        "1. df_train, df_test이름으로 타이타닉 train, test 데이터셋을 저장하라\n",
        "* /content/drive/MyDrive/Colab Notebooks/타이타닉/\n",
        "2. SibSp, Parch 그리고 자기자신을 더한 Familysize 변수를 추가하라\n",
        "3. Fare의 결측값을 평균으로 대체하라 (train, test 모두)\n",
        "4. Fare값을 log를 취해 Fare변수로 저장하라(train, test 모두)"
      ]
    },
    {
      "cell_type": "code",
      "metadata": {
        "id": "mT0CCa8fzK5A"
      },
      "source": [
        "#1차 시도"
      ],
      "execution_count": 320,
      "outputs": []
    },
    {
      "cell_type": "markdown",
      "metadata": {
        "id": "OY3xFKVAR05F"
      },
      "source": [
        "데이터를 불러오고 train, test셋 두개를 하나로 합쳐라.\n",
        "* 데이터 결합 참고 블로그\n",
        "  * https://yganalyst.github.io/data_handling/Pd_12/"
      ]
    },
    {
      "cell_type": "code",
      "metadata": {
        "id": "q4s3_fx5yZD1"
      },
      "source": [
        "df_train = pd.read_csv('/content/drive/MyDrive/Colab Notebooks/타이타닉/train.csv')\n",
        "df_test = pd.read_csv('/content/drive/MyDrive/Colab Notebooks/타이타닉/test.csv')\n",
        "\n",
        "df = pd.concat([df_train, df_test], ignore_index=True)"
      ],
      "execution_count": 321,
      "outputs": []
    },
    {
      "cell_type": "markdown",
      "metadata": {
        "id": "CrmNdKA_1esM"
      },
      "source": [
        "train, test 모두 Initial이라는 변수를 생성하여 Name변수에서 .전의 모든 문자를 가져와라. 정규식 : '([A-Za-z]+)\\.'"
      ]
    },
    {
      "cell_type": "code",
      "metadata": {
        "id": "2OtJUaQQ0tK_"
      },
      "source": [
        "df['Initial'] = df['Name'].str.extract('([A-Za-z]+)\\.')"
      ],
      "execution_count": 322,
      "outputs": []
    },
    {
      "cell_type": "code",
      "metadata": {
        "colab": {
          "base_uri": "https://localhost:8080/"
        },
        "id": "xf88V6p1LiiB",
        "outputId": "4bba2c53-d768-44d5-94aa-49c73e56ac96"
      },
      "source": [
        "df['Initial'].unique()"
      ],
      "execution_count": 323,
      "outputs": [
        {
          "output_type": "execute_result",
          "data": {
            "text/plain": [
              "array(['Mr', 'Mrs', 'Miss', 'Master', 'Don', 'Rev', 'Dr', 'Mme', 'Ms',\n",
              "       'Major', 'Lady', 'Sir', 'Mlle', 'Col', 'Capt', 'Countess',\n",
              "       'Jonkheer', 'Dona'], dtype=object)"
            ]
          },
          "metadata": {},
          "execution_count": 323
        }
      ]
    },
    {
      "cell_type": "markdown",
      "metadata": {
        "id": "vh5xBTI_2BtF"
      },
      "source": [
        "trian의 Initial변수와 성별의 교차표를 만들어라. 이때 행은 성별, 열은 inital이 들어가게 해라"
      ]
    },
    {
      "cell_type": "code",
      "metadata": {
        "colab": {
          "base_uri": "https://localhost:8080/",
          "height": 119
        },
        "id": "kolIHLvXzygM",
        "outputId": "c877a6d7-27e8-4323-c4f9-ec432bfdcfd8"
      },
      "source": [
        "pd.crosstab(df['Initial'],df['Sex']).T.style.background_gradient('summer_r')"
      ],
      "execution_count": 324,
      "outputs": [
        {
          "output_type": "execute_result",
          "data": {
            "text/html": [
              "<style  type=\"text/css\" >\n",
              "#T_7483fe00_2bf4_11ec_9ded_0242ac1c0002row0_col0,#T_7483fe00_2bf4_11ec_9ded_0242ac1c0002row0_col1,#T_7483fe00_2bf4_11ec_9ded_0242ac1c0002row0_col3,#T_7483fe00_2bf4_11ec_9ded_0242ac1c0002row0_col5,#T_7483fe00_2bf4_11ec_9ded_0242ac1c0002row0_col6,#T_7483fe00_2bf4_11ec_9ded_0242ac1c0002row0_col8,#T_7483fe00_2bf4_11ec_9ded_0242ac1c0002row0_col9,#T_7483fe00_2bf4_11ec_9ded_0242ac1c0002row0_col13,#T_7483fe00_2bf4_11ec_9ded_0242ac1c0002row0_col16,#T_7483fe00_2bf4_11ec_9ded_0242ac1c0002row0_col17,#T_7483fe00_2bf4_11ec_9ded_0242ac1c0002row1_col2,#T_7483fe00_2bf4_11ec_9ded_0242ac1c0002row1_col4,#T_7483fe00_2bf4_11ec_9ded_0242ac1c0002row1_col7,#T_7483fe00_2bf4_11ec_9ded_0242ac1c0002row1_col10,#T_7483fe00_2bf4_11ec_9ded_0242ac1c0002row1_col11,#T_7483fe00_2bf4_11ec_9ded_0242ac1c0002row1_col12,#T_7483fe00_2bf4_11ec_9ded_0242ac1c0002row1_col14,#T_7483fe00_2bf4_11ec_9ded_0242ac1c0002row1_col15{\n",
              "            background-color:  #ffff66;\n",
              "            color:  #000000;\n",
              "        }#T_7483fe00_2bf4_11ec_9ded_0242ac1c0002row0_col2,#T_7483fe00_2bf4_11ec_9ded_0242ac1c0002row0_col4,#T_7483fe00_2bf4_11ec_9ded_0242ac1c0002row0_col7,#T_7483fe00_2bf4_11ec_9ded_0242ac1c0002row0_col10,#T_7483fe00_2bf4_11ec_9ded_0242ac1c0002row0_col11,#T_7483fe00_2bf4_11ec_9ded_0242ac1c0002row0_col12,#T_7483fe00_2bf4_11ec_9ded_0242ac1c0002row0_col14,#T_7483fe00_2bf4_11ec_9ded_0242ac1c0002row0_col15,#T_7483fe00_2bf4_11ec_9ded_0242ac1c0002row1_col0,#T_7483fe00_2bf4_11ec_9ded_0242ac1c0002row1_col1,#T_7483fe00_2bf4_11ec_9ded_0242ac1c0002row1_col3,#T_7483fe00_2bf4_11ec_9ded_0242ac1c0002row1_col5,#T_7483fe00_2bf4_11ec_9ded_0242ac1c0002row1_col6,#T_7483fe00_2bf4_11ec_9ded_0242ac1c0002row1_col8,#T_7483fe00_2bf4_11ec_9ded_0242ac1c0002row1_col9,#T_7483fe00_2bf4_11ec_9ded_0242ac1c0002row1_col13,#T_7483fe00_2bf4_11ec_9ded_0242ac1c0002row1_col16,#T_7483fe00_2bf4_11ec_9ded_0242ac1c0002row1_col17{\n",
              "            background-color:  #008066;\n",
              "            color:  #f1f1f1;\n",
              "        }</style><table id=\"T_7483fe00_2bf4_11ec_9ded_0242ac1c0002\" ><thead>    <tr>        <th class=\"index_name level0\" >Initial</th>        <th class=\"col_heading level0 col0\" >Capt</th>        <th class=\"col_heading level0 col1\" >Col</th>        <th class=\"col_heading level0 col2\" >Countess</th>        <th class=\"col_heading level0 col3\" >Don</th>        <th class=\"col_heading level0 col4\" >Dona</th>        <th class=\"col_heading level0 col5\" >Dr</th>        <th class=\"col_heading level0 col6\" >Jonkheer</th>        <th class=\"col_heading level0 col7\" >Lady</th>        <th class=\"col_heading level0 col8\" >Major</th>        <th class=\"col_heading level0 col9\" >Master</th>        <th class=\"col_heading level0 col10\" >Miss</th>        <th class=\"col_heading level0 col11\" >Mlle</th>        <th class=\"col_heading level0 col12\" >Mme</th>        <th class=\"col_heading level0 col13\" >Mr</th>        <th class=\"col_heading level0 col14\" >Mrs</th>        <th class=\"col_heading level0 col15\" >Ms</th>        <th class=\"col_heading level0 col16\" >Rev</th>        <th class=\"col_heading level0 col17\" >Sir</th>    </tr>    <tr>        <th class=\"index_name level0\" >Sex</th>        <th class=\"blank\" ></th>        <th class=\"blank\" ></th>        <th class=\"blank\" ></th>        <th class=\"blank\" ></th>        <th class=\"blank\" ></th>        <th class=\"blank\" ></th>        <th class=\"blank\" ></th>        <th class=\"blank\" ></th>        <th class=\"blank\" ></th>        <th class=\"blank\" ></th>        <th class=\"blank\" ></th>        <th class=\"blank\" ></th>        <th class=\"blank\" ></th>        <th class=\"blank\" ></th>        <th class=\"blank\" ></th>        <th class=\"blank\" ></th>        <th class=\"blank\" ></th>        <th class=\"blank\" ></th>    </tr></thead><tbody>\n",
              "                <tr>\n",
              "                        <th id=\"T_7483fe00_2bf4_11ec_9ded_0242ac1c0002level0_row0\" class=\"row_heading level0 row0\" >female</th>\n",
              "                        <td id=\"T_7483fe00_2bf4_11ec_9ded_0242ac1c0002row0_col0\" class=\"data row0 col0\" >0</td>\n",
              "                        <td id=\"T_7483fe00_2bf4_11ec_9ded_0242ac1c0002row0_col1\" class=\"data row0 col1\" >0</td>\n",
              "                        <td id=\"T_7483fe00_2bf4_11ec_9ded_0242ac1c0002row0_col2\" class=\"data row0 col2\" >1</td>\n",
              "                        <td id=\"T_7483fe00_2bf4_11ec_9ded_0242ac1c0002row0_col3\" class=\"data row0 col3\" >0</td>\n",
              "                        <td id=\"T_7483fe00_2bf4_11ec_9ded_0242ac1c0002row0_col4\" class=\"data row0 col4\" >1</td>\n",
              "                        <td id=\"T_7483fe00_2bf4_11ec_9ded_0242ac1c0002row0_col5\" class=\"data row0 col5\" >1</td>\n",
              "                        <td id=\"T_7483fe00_2bf4_11ec_9ded_0242ac1c0002row0_col6\" class=\"data row0 col6\" >0</td>\n",
              "                        <td id=\"T_7483fe00_2bf4_11ec_9ded_0242ac1c0002row0_col7\" class=\"data row0 col7\" >1</td>\n",
              "                        <td id=\"T_7483fe00_2bf4_11ec_9ded_0242ac1c0002row0_col8\" class=\"data row0 col8\" >0</td>\n",
              "                        <td id=\"T_7483fe00_2bf4_11ec_9ded_0242ac1c0002row0_col9\" class=\"data row0 col9\" >0</td>\n",
              "                        <td id=\"T_7483fe00_2bf4_11ec_9ded_0242ac1c0002row0_col10\" class=\"data row0 col10\" >260</td>\n",
              "                        <td id=\"T_7483fe00_2bf4_11ec_9ded_0242ac1c0002row0_col11\" class=\"data row0 col11\" >2</td>\n",
              "                        <td id=\"T_7483fe00_2bf4_11ec_9ded_0242ac1c0002row0_col12\" class=\"data row0 col12\" >1</td>\n",
              "                        <td id=\"T_7483fe00_2bf4_11ec_9ded_0242ac1c0002row0_col13\" class=\"data row0 col13\" >0</td>\n",
              "                        <td id=\"T_7483fe00_2bf4_11ec_9ded_0242ac1c0002row0_col14\" class=\"data row0 col14\" >197</td>\n",
              "                        <td id=\"T_7483fe00_2bf4_11ec_9ded_0242ac1c0002row0_col15\" class=\"data row0 col15\" >2</td>\n",
              "                        <td id=\"T_7483fe00_2bf4_11ec_9ded_0242ac1c0002row0_col16\" class=\"data row0 col16\" >0</td>\n",
              "                        <td id=\"T_7483fe00_2bf4_11ec_9ded_0242ac1c0002row0_col17\" class=\"data row0 col17\" >0</td>\n",
              "            </tr>\n",
              "            <tr>\n",
              "                        <th id=\"T_7483fe00_2bf4_11ec_9ded_0242ac1c0002level0_row1\" class=\"row_heading level0 row1\" >male</th>\n",
              "                        <td id=\"T_7483fe00_2bf4_11ec_9ded_0242ac1c0002row1_col0\" class=\"data row1 col0\" >1</td>\n",
              "                        <td id=\"T_7483fe00_2bf4_11ec_9ded_0242ac1c0002row1_col1\" class=\"data row1 col1\" >4</td>\n",
              "                        <td id=\"T_7483fe00_2bf4_11ec_9ded_0242ac1c0002row1_col2\" class=\"data row1 col2\" >0</td>\n",
              "                        <td id=\"T_7483fe00_2bf4_11ec_9ded_0242ac1c0002row1_col3\" class=\"data row1 col3\" >1</td>\n",
              "                        <td id=\"T_7483fe00_2bf4_11ec_9ded_0242ac1c0002row1_col4\" class=\"data row1 col4\" >0</td>\n",
              "                        <td id=\"T_7483fe00_2bf4_11ec_9ded_0242ac1c0002row1_col5\" class=\"data row1 col5\" >7</td>\n",
              "                        <td id=\"T_7483fe00_2bf4_11ec_9ded_0242ac1c0002row1_col6\" class=\"data row1 col6\" >1</td>\n",
              "                        <td id=\"T_7483fe00_2bf4_11ec_9ded_0242ac1c0002row1_col7\" class=\"data row1 col7\" >0</td>\n",
              "                        <td id=\"T_7483fe00_2bf4_11ec_9ded_0242ac1c0002row1_col8\" class=\"data row1 col8\" >2</td>\n",
              "                        <td id=\"T_7483fe00_2bf4_11ec_9ded_0242ac1c0002row1_col9\" class=\"data row1 col9\" >61</td>\n",
              "                        <td id=\"T_7483fe00_2bf4_11ec_9ded_0242ac1c0002row1_col10\" class=\"data row1 col10\" >0</td>\n",
              "                        <td id=\"T_7483fe00_2bf4_11ec_9ded_0242ac1c0002row1_col11\" class=\"data row1 col11\" >0</td>\n",
              "                        <td id=\"T_7483fe00_2bf4_11ec_9ded_0242ac1c0002row1_col12\" class=\"data row1 col12\" >0</td>\n",
              "                        <td id=\"T_7483fe00_2bf4_11ec_9ded_0242ac1c0002row1_col13\" class=\"data row1 col13\" >757</td>\n",
              "                        <td id=\"T_7483fe00_2bf4_11ec_9ded_0242ac1c0002row1_col14\" class=\"data row1 col14\" >0</td>\n",
              "                        <td id=\"T_7483fe00_2bf4_11ec_9ded_0242ac1c0002row1_col15\" class=\"data row1 col15\" >0</td>\n",
              "                        <td id=\"T_7483fe00_2bf4_11ec_9ded_0242ac1c0002row1_col16\" class=\"data row1 col16\" >8</td>\n",
              "                        <td id=\"T_7483fe00_2bf4_11ec_9ded_0242ac1c0002row1_col17\" class=\"data row1 col17\" >1</td>\n",
              "            </tr>\n",
              "    </tbody></table>"
            ],
            "text/plain": [
              "<pandas.io.formats.style.Styler at 0x7f5a9b856450>"
            ]
          },
          "metadata": {},
          "execution_count": 324
        }
      ]
    },
    {
      "cell_type": "markdown",
      "metadata": {
        "id": "uu-QLR7g3aCd"
      },
      "source": [
        "Initial의 값인 1을 2로 대응되게 바꾸는 코드를 작성해라. (train, test 모두)\n",
        "* 1. ['Mlle','Mme','Ms','Dr','Major','Lady','Countess','Jonkheer','Col','Rev','Capt','Sir','Don', 'Dona']\n",
        "* 2. ['Miss','Miss','Miss','Mr','Mr','Mrs','Mrs','Other','Other','Other','Mr','Mr','Mr', 'Mr']"
      ]
    },
    {
      "cell_type": "code",
      "metadata": {
        "id": "kCGX1s1W3ZJ5"
      },
      "source": [
        "df['Initial'].replace(['Mlle','Mme','Ms','Dr','Major','Lady','Countess','Jonkheer','Col','Rev','Capt','Sir','Don', 'Dona'],\\\n",
        "                      ['Miss','Miss','Miss','Mr','Mr','Mrs','Mrs','Other','Other','Other','Mr','Mr','Mr', 'Mr'],\\\n",
        "                      inplace= True)"
      ],
      "execution_count": 325,
      "outputs": []
    },
    {
      "cell_type": "code",
      "metadata": {
        "colab": {
          "base_uri": "https://localhost:8080/"
        },
        "id": "sSkT8kJ2MQHo",
        "outputId": "d9b5dec8-d255-4b0e-d2b8-96477435de1b"
      },
      "source": [
        "df['Initial'].unique()"
      ],
      "execution_count": 326,
      "outputs": [
        {
          "output_type": "execute_result",
          "data": {
            "text/plain": [
              "array(['Mr', 'Mrs', 'Miss', 'Master', 'Other'], dtype=object)"
            ]
          },
          "metadata": {},
          "execution_count": 326
        }
      ]
    },
    {
      "cell_type": "markdown",
      "metadata": {
        "id": "meirSP072Wer"
      },
      "source": [
        "train의 Initial별 모든 열의 평균값을 구해라"
      ]
    },
    {
      "cell_type": "code",
      "metadata": {
        "colab": {
          "base_uri": "https://localhost:8080/",
          "height": 233
        },
        "id": "F3BC4QUY2V2K",
        "outputId": "ea3d8cc9-d7a1-43d8-acf6-0b8650073100"
      },
      "source": [
        "df.groupby('Initial').mean()"
      ],
      "execution_count": 327,
      "outputs": [
        {
          "output_type": "execute_result",
          "data": {
            "text/html": [
              "<div>\n",
              "<style scoped>\n",
              "    .dataframe tbody tr th:only-of-type {\n",
              "        vertical-align: middle;\n",
              "    }\n",
              "\n",
              "    .dataframe tbody tr th {\n",
              "        vertical-align: top;\n",
              "    }\n",
              "\n",
              "    .dataframe thead th {\n",
              "        text-align: right;\n",
              "    }\n",
              "</style>\n",
              "<table border=\"1\" class=\"dataframe\">\n",
              "  <thead>\n",
              "    <tr style=\"text-align: right;\">\n",
              "      <th></th>\n",
              "      <th>PassengerId</th>\n",
              "      <th>Survived</th>\n",
              "      <th>Pclass</th>\n",
              "      <th>Age</th>\n",
              "      <th>SibSp</th>\n",
              "      <th>Parch</th>\n",
              "      <th>Fare</th>\n",
              "    </tr>\n",
              "    <tr>\n",
              "      <th>Initial</th>\n",
              "      <th></th>\n",
              "      <th></th>\n",
              "      <th></th>\n",
              "      <th></th>\n",
              "      <th></th>\n",
              "      <th></th>\n",
              "      <th></th>\n",
              "    </tr>\n",
              "  </thead>\n",
              "  <tbody>\n",
              "    <tr>\n",
              "      <th>Master</th>\n",
              "      <td>658.852459</td>\n",
              "      <td>0.575000</td>\n",
              "      <td>2.655738</td>\n",
              "      <td>5.482642</td>\n",
              "      <td>2.049180</td>\n",
              "      <td>1.377049</td>\n",
              "      <td>36.008195</td>\n",
              "    </tr>\n",
              "    <tr>\n",
              "      <th>Miss</th>\n",
              "      <td>616.992453</td>\n",
              "      <td>0.704301</td>\n",
              "      <td>2.332075</td>\n",
              "      <td>21.834533</td>\n",
              "      <td>0.652830</td>\n",
              "      <td>0.494340</td>\n",
              "      <td>42.667628</td>\n",
              "    </tr>\n",
              "    <tr>\n",
              "      <th>Mr</th>\n",
              "      <td>658.831388</td>\n",
              "      <td>0.162571</td>\n",
              "      <td>2.359274</td>\n",
              "      <td>32.556397</td>\n",
              "      <td>0.286641</td>\n",
              "      <td>0.159533</td>\n",
              "      <td>25.316303</td>\n",
              "    </tr>\n",
              "    <tr>\n",
              "      <th>Mrs</th>\n",
              "      <td>685.673367</td>\n",
              "      <td>0.795276</td>\n",
              "      <td>1.929648</td>\n",
              "      <td>37.034884</td>\n",
              "      <td>0.658291</td>\n",
              "      <td>0.824121</td>\n",
              "      <td>50.686244</td>\n",
              "    </tr>\n",
              "    <tr>\n",
              "      <th>Other</th>\n",
              "      <td>714.923077</td>\n",
              "      <td>0.111111</td>\n",
              "      <td>1.615385</td>\n",
              "      <td>44.923077</td>\n",
              "      <td>0.230769</td>\n",
              "      <td>0.153846</td>\n",
              "      <td>35.919231</td>\n",
              "    </tr>\n",
              "  </tbody>\n",
              "</table>\n",
              "</div>"
            ],
            "text/plain": [
              "         PassengerId  Survived    Pclass  ...     SibSp     Parch       Fare\n",
              "Initial                                   ...                               \n",
              "Master    658.852459  0.575000  2.655738  ...  2.049180  1.377049  36.008195\n",
              "Miss      616.992453  0.704301  2.332075  ...  0.652830  0.494340  42.667628\n",
              "Mr        658.831388  0.162571  2.359274  ...  0.286641  0.159533  25.316303\n",
              "Mrs       685.673367  0.795276  1.929648  ...  0.658291  0.824121  50.686244\n",
              "Other     714.923077  0.111111  1.615385  ...  0.230769  0.153846  35.919231\n",
              "\n",
              "[5 rows x 7 columns]"
            ]
          },
          "metadata": {},
          "execution_count": 327
        }
      ]
    },
    {
      "cell_type": "markdown",
      "metadata": {
        "id": "5gyMtMjN27Ul"
      },
      "source": [
        "train의 Initial별 Survived의 평균 막대그래프를 그려라"
      ]
    },
    {
      "cell_type": "code",
      "metadata": {
        "colab": {
          "base_uri": "https://localhost:8080/",
          "height": 405
        },
        "id": "5-6MOHwC1a64",
        "outputId": "b7663af9-0a50-4005-b1e4-7884d810dd7b"
      },
      "source": [
        "df.groupby('Initial')['Survived'].mean().plot.bar()"
      ],
      "execution_count": 328,
      "outputs": [
        {
          "output_type": "execute_result",
          "data": {
            "text/plain": [
              "<matplotlib.axes._subplots.AxesSubplot at 0x7f5a9b564f50>"
            ]
          },
          "metadata": {},
          "execution_count": 328
        },
        {
          "output_type": "display_data",
          "data": {
            "image/png": "[encoded data removed]",
            "text/plain": [
              "<Figure size 432x288 with 1 Axes>"
            ]
          },
          "metadata": {
            "needs_background": "light"
          }
        }
      ]
    },
    {
      "cell_type": "markdown",
      "metadata": {
        "id": "XrHHXrTl4TjG"
      },
      "source": [
        "train의 Initial을 이용해 각 Initial의 Age평균값을 Age Null값에 대체해라\n",
        "\n",
        "test도 위의 과정으로 Age Null값을 대체하라"
      ]
    },
    {
      "cell_type": "code",
      "metadata": {
        "id": "6QdJ2M2VOFIt"
      },
      "source": [
        "age_gp = df.groupby('Initial')['Age'].mean()\n",
        "\n",
        "for i,j in zip(age_gp, range(len(age_gp))):\n",
        "  df.loc[(df.Age.isnull()) & (df.Initial==age_gp.index[j]),'Age']=i"
      ],
      "execution_count": 346,
      "outputs": []
    },
    {
      "cell_type": "code",
      "metadata": {
        "colab": {
          "base_uri": "https://localhost:8080/",
          "height": 415
        },
        "id": "ucxT-U_Se_1-",
        "outputId": "8c4af602-74e7-43d6-9328-a34a1b7caa0c"
      },
      "source": [
        "# 값이 잘 바뀌였는지 확인\n",
        "#df.loc[(np.isnan(df.Age))&((df['Age']==df['Age2'])==False), ['Initial','Age','Age2']]"
      ],
      "execution_count": 345,
      "outputs": [
        {
          "output_type": "execute_result",
          "data": {
            "text/html": [
              "<div>\n",
              "<style scoped>\n",
              "    .dataframe tbody tr th:only-of-type {\n",
              "        vertical-align: middle;\n",
              "    }\n",
              "\n",
              "    .dataframe tbody tr th {\n",
              "        vertical-align: top;\n",
              "    }\n",
              "\n",
              "    .dataframe thead th {\n",
              "        text-align: right;\n",
              "    }\n",
              "</style>\n",
              "<table border=\"1\" class=\"dataframe\">\n",
              "  <thead>\n",
              "    <tr style=\"text-align: right;\">\n",
              "      <th></th>\n",
              "      <th>Initial</th>\n",
              "      <th>Age</th>\n",
              "      <th>Age2</th>\n",
              "    </tr>\n",
              "  </thead>\n",
              "  <tbody>\n",
              "    <tr>\n",
              "      <th>5</th>\n",
              "      <td>Mr</td>\n",
              "      <td>NaN</td>\n",
              "      <td>32.556397</td>\n",
              "    </tr>\n",
              "    <tr>\n",
              "      <th>17</th>\n",
              "      <td>Mr</td>\n",
              "      <td>NaN</td>\n",
              "      <td>32.556397</td>\n",
              "    </tr>\n",
              "    <tr>\n",
              "      <th>19</th>\n",
              "      <td>Mrs</td>\n",
              "      <td>NaN</td>\n",
              "      <td>37.034884</td>\n",
              "    </tr>\n",
              "    <tr>\n",
              "      <th>26</th>\n",
              "      <td>Mr</td>\n",
              "      <td>NaN</td>\n",
              "      <td>32.556397</td>\n",
              "    </tr>\n",
              "    <tr>\n",
              "      <th>28</th>\n",
              "      <td>Miss</td>\n",
              "      <td>NaN</td>\n",
              "      <td>21.834533</td>\n",
              "    </tr>\n",
              "    <tr>\n",
              "      <th>...</th>\n",
              "      <td>...</td>\n",
              "      <td>...</td>\n",
              "      <td>...</td>\n",
              "    </tr>\n",
              "    <tr>\n",
              "      <th>1299</th>\n",
              "      <td>Miss</td>\n",
              "      <td>NaN</td>\n",
              "      <td>21.834533</td>\n",
              "    </tr>\n",
              "    <tr>\n",
              "      <th>1301</th>\n",
              "      <td>Miss</td>\n",
              "      <td>NaN</td>\n",
              "      <td>21.834533</td>\n",
              "    </tr>\n",
              "    <tr>\n",
              "      <th>1304</th>\n",
              "      <td>Mr</td>\n",
              "      <td>NaN</td>\n",
              "      <td>32.556397</td>\n",
              "    </tr>\n",
              "    <tr>\n",
              "      <th>1307</th>\n",
              "      <td>Mr</td>\n",
              "      <td>NaN</td>\n",
              "      <td>32.556397</td>\n",
              "    </tr>\n",
              "    <tr>\n",
              "      <th>1308</th>\n",
              "      <td>Master</td>\n",
              "      <td>NaN</td>\n",
              "      <td>5.482642</td>\n",
              "    </tr>\n",
              "  </tbody>\n",
              "</table>\n",
              "<p>263 rows × 3 columns</p>\n",
              "</div>"
            ],
            "text/plain": [
              "     Initial  Age       Age2\n",
              "5         Mr  NaN  32.556397\n",
              "17        Mr  NaN  32.556397\n",
              "19       Mrs  NaN  37.034884\n",
              "26        Mr  NaN  32.556397\n",
              "28      Miss  NaN  21.834533\n",
              "...      ...  ...        ...\n",
              "1299    Miss  NaN  21.834533\n",
              "1301    Miss  NaN  21.834533\n",
              "1304      Mr  NaN  32.556397\n",
              "1307      Mr  NaN  32.556397\n",
              "1308  Master  NaN   5.482642\n",
              "\n",
              "[263 rows x 3 columns]"
            ]
          },
          "metadata": {},
          "execution_count": 345
        }
      ]
    },
    {
      "cell_type": "markdown",
      "metadata": {
        "id": "2MsL-zZw_5KT"
      },
      "source": [
        "Train의 Embarked 변수의 최빈값을 구하고 이 최빈값으로 NUll을 대체하라"
      ]
    },
    {
      "cell_type": "code",
      "metadata": {
        "id": "2_Hi1qDq3SIh"
      },
      "source": [
        "df.Embarked.mode()\n",
        "\n",
        "df.loc[df.Embarked.isnull(), 'Embarked'] = df.Embarked.mode()[0]"
      ],
      "execution_count": 352,
      "outputs": []
    },
    {
      "cell_type": "code",
      "metadata": {
        "id": "4veRb3WKhMcL"
      },
      "source": [
        "df.drop(['Embarked1','Age2'], axis=1, inplace= True)"
      ],
      "execution_count": 355,
      "outputs": []
    },
    {
      "cell_type": "markdown",
      "metadata": {
        "id": "AD7T1TBCAm1D"
      },
      "source": [
        "fillna 함수를 이용해서 위의 Embarked를 대체해라"
      ]
    },
    {
      "cell_type": "code",
      "metadata": {
        "id": "Rfgj-YqCAmbn",
        "colab": {
          "base_uri": "https://localhost:8080/"
        },
        "outputId": "c183ae09-86ff-4c61-eb35-f9af6d7da4cc"
      },
      "source": [
        "df['Embarked'].fillna(df.Embarked.mode()[0])"
      ],
      "execution_count": 356,
      "outputs": [
        {
          "output_type": "execute_result",
          "data": {
            "text/plain": [
              "0       S\n",
              "1       C\n",
              "2       S\n",
              "3       S\n",
              "4       S\n",
              "       ..\n",
              "1304    S\n",
              "1305    C\n",
              "1306    S\n",
              "1307    S\n",
              "1308    C\n",
              "Name: Embarked, Length: 1309, dtype: object"
            ]
          },
          "metadata": {},
          "execution_count": 356
        }
      ]
    },
    {
      "cell_type": "markdown",
      "metadata": {
        "id": "yRBGs258BGk9"
      },
      "source": [
        "train, test셋에 Age_cat이라는 변수에 Age를 10살 간격으로 나누어 카테고리 변수를 생성해라\n",
        "\n",
        "* hint : for문, range, array 속성을 이용해라"
      ]
    },
    {
      "cell_type": "code",
      "metadata": {
        "id": "yAEyTcR267qh"
      },
      "source": [
        "# Age_cate 0~9 = 0,10~19 =1, 20~29, 30~39, ... \n",
        "ag = [x for x in range(0,80,10)]\n",
        "\n",
        "for i in ag :\n",
        "  ag_level = i/10 \n",
        "  df.loc[(df.Age >= i) & (df.Age < (i+10)), 'Age_cat'] = ag_level\n",
        "  df.loc[(df.Age >= 80), 'Age_cat'] = 7"
      ],
      "execution_count": 364,
      "outputs": []
    },
    {
      "cell_type": "code",
      "metadata": {
        "colab": {
          "base_uri": "https://localhost:8080/",
          "height": 79
        },
        "id": "fk82SqKwj7bf",
        "outputId": "9f0a5852-8699-4e3c-e139-244b8a221731"
      },
      "source": [
        "df.loc[df.Age==80,['Age','Age_cat']]"
      ],
      "execution_count": 365,
      "outputs": [
        {
          "output_type": "execute_result",
          "data": {
            "text/html": [
              "<div>\n",
              "<style scoped>\n",
              "    .dataframe tbody tr th:only-of-type {\n",
              "        vertical-align: middle;\n",
              "    }\n",
              "\n",
              "    .dataframe tbody tr th {\n",
              "        vertical-align: top;\n",
              "    }\n",
              "\n",
              "    .dataframe thead th {\n",
              "        text-align: right;\n",
              "    }\n",
              "</style>\n",
              "<table border=\"1\" class=\"dataframe\">\n",
              "  <thead>\n",
              "    <tr style=\"text-align: right;\">\n",
              "      <th></th>\n",
              "      <th>Age</th>\n",
              "      <th>Age_cat</th>\n",
              "    </tr>\n",
              "  </thead>\n",
              "  <tbody>\n",
              "    <tr>\n",
              "      <th>630</th>\n",
              "      <td>80.0</td>\n",
              "      <td>7.0</td>\n",
              "    </tr>\n",
              "  </tbody>\n",
              "</table>\n",
              "</div>"
            ],
            "text/plain": [
              "      Age  Age_cat\n",
              "630  80.0      7.0"
            ]
          },
          "metadata": {},
          "execution_count": 365
        }
      ]
    },
    {
      "cell_type": "markdown",
      "metadata": {
        "id": "DLxjYwC_F4k-"
      },
      "source": [
        "위의과정과 결과가 같지만, apply를 이용해서 age를 10세 단위로 분류한 Age_cate2 변수를 만들어라\n",
        "* apply와 map은 같으나, apply는 pandas(Series, dataframe)에서 동작하여 일반 전통적인 python(리스트 등)에서는 동작이 안됨. 이때 map을 사용함.\n",
        "  * https://www.inflearn.com/questions/152704"
      ]
    },
    {
      "cell_type": "code",
      "metadata": {
        "id": "Bwr5w_qMFYtB"
      },
      "source": [
        "def Age_category(x):\n",
        "  if x<10 :\n",
        "    return 0\n",
        "  elif x<20 :\n",
        "    return 1\n",
        "  elif x<30 :\n",
        "    return 2\n",
        "  elif x<40 :\n",
        "    return 3\n",
        "  elif x<50 :\n",
        "    return 4\n",
        "  elif x<60 :\n",
        "    return 5\n",
        "  elif x<70 :\n",
        "    return 6\n",
        "  else :\n",
        "    return 7\n",
        "df['Age_cat_2'] = df['Age'].apply(Age_category)"
      ],
      "execution_count": 367,
      "outputs": []
    },
    {
      "cell_type": "markdown",
      "metadata": {
        "id": "b9hB8kRwG2Jy"
      },
      "source": [
        "age를 10간격으로 바꾸는 방법을 두가지를 위에서 했었다. 이의 결과가 같은지 체크 해라.\n",
        "* hint : all()메소드를 사용해라"
      ]
    },
    {
      "cell_type": "code",
      "metadata": {
        "colab": {
          "base_uri": "https://localhost:8080/"
        },
        "id": "oRNWuiVTGb_y",
        "outputId": "bb725ed0-bc79-4b18-bf79-9868e6c58aa5"
      },
      "source": [
        "(df.Age_cat==df.Age_cat_2).all()"
      ],
      "execution_count": 369,
      "outputs": [
        {
          "output_type": "execute_result",
          "data": {
            "text/plain": [
              "True"
            ]
          },
          "metadata": {},
          "execution_count": 369
        }
      ]
    },
    {
      "cell_type": "markdown",
      "metadata": {
        "id": "B-v0ERxUNDRj"
      },
      "source": [
        "Initial의 각 값을 수치에 대응시켜라\n",
        "Master는 0 , Miss 1... 등등\n",
        "* 예시와 동일하게 하기 위해 map을 이용해 노가다 해라\n",
        "* map 관련 포스트 \n",
        "  * https://coding-grandpa.tistory.com/entry/Lambda-Map\n",
        "  * map에 딕셔너리를 넣을 경우 딕셔너리에 없는 값은 NaN으로 반환되니 주의해야 한다."
      ]
    },
    {
      "cell_type": "code",
      "metadata": {
        "id": "K6Bh2Gw5JbXo"
      },
      "source": [
        ""
      ],
      "execution_count": null,
      "outputs": []
    },
    {
      "cell_type": "markdown",
      "metadata": {
        "id": "nJNML45vONJ1"
      },
      "source": [
        "Embarked의 유니크한 값을 출력하고 이를 각각 1,2,3에 대응되게 바꾸어라"
      ]
    },
    {
      "cell_type": "code",
      "metadata": {
        "id": "k0LwpgnYQwDK"
      },
      "source": [
        ""
      ],
      "execution_count": null,
      "outputs": []
    },
    {
      "cell_type": "code",
      "metadata": {
        "colab": {
          "base_uri": "https://localhost:8080/"
        },
        "id": "m8nx_MouIbMQ",
        "outputId": "a739b2ac-d000-4254-ff4f-4c78bc4d469d"
      },
      "source": [
        ""
      ],
      "execution_count": null,
      "outputs": [
        {
          "data": {
            "text/plain": [
              "0      0\n",
              "1      1\n",
              "2      0\n",
              "3      0\n",
              "4      0\n",
              "      ..\n",
              "886    0\n",
              "887    0\n",
              "888    0\n",
              "889    1\n",
              "890    2\n",
              "Name: Embarked, Length: 891, dtype: int64"
            ]
          },
          "execution_count": 203,
          "metadata": {},
          "output_type": "execute_result"
        }
      ]
    },
    {
      "cell_type": "markdown",
      "metadata": {
        "id": "og9O8ZzTRXa0"
      },
      "source": [
        "성별(Sex)\n",
        "도 위의 과정을 거쳐 여자면 0, 남자면 1인 코드를 작성해라"
      ]
    },
    {
      "cell_type": "code",
      "metadata": {
        "id": "KkhWd5bSNmRS"
      },
      "source": [
        "#아래 방법으로 작성도 가능하나 0과 1뿐인데 변수가 2개가 생긴다. 때문에 위의 과정을 거쳐서 만들도록 하자.\n",
        "#df_train = pd.get_dummies(df_train, columns=['Sex'], prefix = 'Sex')\n",
        "#df_train.drop(['Sex_female','Sex_male'],axis=1, inplace=True)\n"
      ],
      "execution_count": null,
      "outputs": []
    },
    {
      "cell_type": "markdown",
      "metadata": {
        "id": "bHk4oPArSCiY"
      },
      "source": [
        "피어슨 상관계수를 히트맵을 통해 그려라.\n",
        "이때 0과 1로 코딩된 명목형 변수를 포함할 수 있다.\n",
        "* 이유한님은 Initial을 상관계수 행렬에 포함시켰으나 이는 적절하지 않아보임.\n",
        "* colormap = plt.cm.RdBu\n",
        "* 반드시 히트맵위에 상관계수 값이 보이도록 할 것\n",
        "* ['Survived','Pclass','Sex','Fare' ,'Embarked','Age_cat'] 변수를 활용해라 "
      ]
    },
    {
      "cell_type": "code",
      "metadata": {
        "colab": {
          "base_uri": "https://localhost:8080/",
          "height": 569
        },
        "id": "l8NefpI_Nm0C",
        "outputId": "2fcd9feb-7189-4c06-9778-594a3a7c4d5f"
      },
      "source": [
        ""
      ],
      "execution_count": null,
      "outputs": [
        {
          "data": {
            "image/png": "[encoded data removed]",
            "text/plain": [
              "<Figure size 1008x864 with 2 Axes>"
            ]
          },
          "metadata": {},
          "output_type": "display_data"
        }
      ]
    },
    {
      "cell_type": "markdown",
      "metadata": {
        "id": "L3spcFC6VHcS"
      },
      "source": [
        "Initial, Embarked을 One-hot 인코딩하여라"
      ]
    },
    {
      "cell_type": "code",
      "metadata": {
        "id": "f8uMHcP4R5Tf"
      },
      "source": [
        ""
      ],
      "execution_count": null,
      "outputs": []
    },
    {
      "cell_type": "code",
      "metadata": {
        "colab": {
          "base_uri": "https://localhost:8080/",
          "height": 490
        },
        "id": "V_9Pxn_MBDyj",
        "outputId": "9de039e8-d98b-4ed3-cda1-e0b10bce231d"
      },
      "source": [
        ""
      ],
      "execution_count": null,
      "outputs": [
        {
          "data": {
            "text/html": [
              "<div>\n",
              "<style scoped>\n",
              "    .dataframe tbody tr th:only-of-type {\n",
              "        vertical-align: middle;\n",
              "    }\n",
              "\n",
              "    .dataframe tbody tr th {\n",
              "        vertical-align: top;\n",
              "    }\n",
              "\n",
              "    .dataframe thead th {\n",
              "        text-align: right;\n",
              "    }\n",
              "</style>\n",
              "<table border=\"1\" class=\"dataframe\">\n",
              "  <thead>\n",
              "    <tr style=\"text-align: right;\">\n",
              "      <th></th>\n",
              "      <th>PassengerId</th>\n",
              "      <th>Survived</th>\n",
              "      <th>Pclass</th>\n",
              "      <th>Name</th>\n",
              "      <th>Sex</th>\n",
              "      <th>Age</th>\n",
              "      <th>SibSp</th>\n",
              "      <th>Parch</th>\n",
              "      <th>Ticket</th>\n",
              "      <th>Fare</th>\n",
              "      <th>Cabin</th>\n",
              "      <th>Familysize</th>\n",
              "      <th>Age_cate</th>\n",
              "      <th>Age_cate2</th>\n",
              "      <th>Initial_0</th>\n",
              "      <th>Initial_1</th>\n",
              "      <th>Initial_2</th>\n",
              "      <th>Initial_3</th>\n",
              "      <th>Initial_4</th>\n",
              "      <th>Embarked_0</th>\n",
              "      <th>Embarked_1</th>\n",
              "      <th>Embarked_2</th>\n",
              "    </tr>\n",
              "  </thead>\n",
              "  <tbody>\n",
              "    <tr>\n",
              "      <th>0</th>\n",
              "      <td>1</td>\n",
              "      <td>0</td>\n",
              "      <td>3</td>\n",
              "      <td>Braund, Mr. Owen Harris</td>\n",
              "      <td>0</td>\n",
              "      <td>22.0</td>\n",
              "      <td>1</td>\n",
              "      <td>0</td>\n",
              "      <td>A/5 21171</td>\n",
              "      <td>1.981001</td>\n",
              "      <td>NaN</td>\n",
              "      <td>2</td>\n",
              "      <td>2.0</td>\n",
              "      <td>2</td>\n",
              "      <td>1</td>\n",
              "      <td>0</td>\n",
              "      <td>0</td>\n",
              "      <td>0</td>\n",
              "      <td>0</td>\n",
              "      <td>1</td>\n",
              "      <td>0</td>\n",
              "      <td>0</td>\n",
              "    </tr>\n",
              "    <tr>\n",
              "      <th>1</th>\n",
              "      <td>2</td>\n",
              "      <td>1</td>\n",
              "      <td>1</td>\n",
              "      <td>Cumings, Mrs. John Bradley (Florence Briggs Th...</td>\n",
              "      <td>1</td>\n",
              "      <td>38.0</td>\n",
              "      <td>1</td>\n",
              "      <td>0</td>\n",
              "      <td>PC 17599</td>\n",
              "      <td>4.266662</td>\n",
              "      <td>C85</td>\n",
              "      <td>2</td>\n",
              "      <td>3.0</td>\n",
              "      <td>3</td>\n",
              "      <td>0</td>\n",
              "      <td>1</td>\n",
              "      <td>0</td>\n",
              "      <td>0</td>\n",
              "      <td>0</td>\n",
              "      <td>0</td>\n",
              "      <td>1</td>\n",
              "      <td>0</td>\n",
              "    </tr>\n",
              "    <tr>\n",
              "      <th>2</th>\n",
              "      <td>3</td>\n",
              "      <td>1</td>\n",
              "      <td>3</td>\n",
              "      <td>Heikkinen, Miss. Laina</td>\n",
              "      <td>1</td>\n",
              "      <td>26.0</td>\n",
              "      <td>0</td>\n",
              "      <td>0</td>\n",
              "      <td>STON/O2. 3101282</td>\n",
              "      <td>2.070022</td>\n",
              "      <td>NaN</td>\n",
              "      <td>1</td>\n",
              "      <td>2.0</td>\n",
              "      <td>2</td>\n",
              "      <td>0</td>\n",
              "      <td>0</td>\n",
              "      <td>1</td>\n",
              "      <td>0</td>\n",
              "      <td>0</td>\n",
              "      <td>1</td>\n",
              "      <td>0</td>\n",
              "      <td>0</td>\n",
              "    </tr>\n",
              "    <tr>\n",
              "      <th>3</th>\n",
              "      <td>4</td>\n",
              "      <td>1</td>\n",
              "      <td>1</td>\n",
              "      <td>Futrelle, Mrs. Jacques Heath (Lily May Peel)</td>\n",
              "      <td>1</td>\n",
              "      <td>35.0</td>\n",
              "      <td>1</td>\n",
              "      <td>0</td>\n",
              "      <td>113803</td>\n",
              "      <td>3.972177</td>\n",
              "      <td>C123</td>\n",
              "      <td>2</td>\n",
              "      <td>3.0</td>\n",
              "      <td>3</td>\n",
              "      <td>0</td>\n",
              "      <td>1</td>\n",
              "      <td>0</td>\n",
              "      <td>0</td>\n",
              "      <td>0</td>\n",
              "      <td>1</td>\n",
              "      <td>0</td>\n",
              "      <td>0</td>\n",
              "    </tr>\n",
              "    <tr>\n",
              "      <th>4</th>\n",
              "      <td>5</td>\n",
              "      <td>0</td>\n",
              "      <td>3</td>\n",
              "      <td>Allen, Mr. William Henry</td>\n",
              "      <td>0</td>\n",
              "      <td>35.0</td>\n",
              "      <td>0</td>\n",
              "      <td>0</td>\n",
              "      <td>373450</td>\n",
              "      <td>2.085672</td>\n",
              "      <td>NaN</td>\n",
              "      <td>1</td>\n",
              "      <td>3.0</td>\n",
              "      <td>3</td>\n",
              "      <td>1</td>\n",
              "      <td>0</td>\n",
              "      <td>0</td>\n",
              "      <td>0</td>\n",
              "      <td>0</td>\n",
              "      <td>1</td>\n",
              "      <td>0</td>\n",
              "      <td>0</td>\n",
              "    </tr>\n",
              "  </tbody>\n",
              "</table>\n",
              "</div>"
            ],
            "text/plain": [
              "   PassengerId  Survived  Pclass  ... Embarked_0  Embarked_1  Embarked_2\n",
              "0            1         0       3  ...          1           0           0\n",
              "1            2         1       1  ...          0           1           0\n",
              "2            3         1       3  ...          1           0           0\n",
              "3            4         1       1  ...          1           0           0\n",
              "4            5         0       3  ...          1           0           0\n",
              "\n",
              "[5 rows x 22 columns]"
            ]
          },
          "execution_count": 207,
          "metadata": {},
          "output_type": "execute_result"
        }
      ]
    },
    {
      "cell_type": "markdown",
      "metadata": {
        "id": "wljSOhWUWcaY"
      },
      "source": [
        "* category가 100가 넘는 경우에는 학습시 버겁게 되 다른 방법을 사용한다.\n",
        "> Frequency, Target Encoding"
      ]
    },
    {
      "cell_type": "markdown",
      "metadata": {
        "id": "VfLPuvZ4Y9PD"
      },
      "source": [
        "'PassengerId', 'Name', 'SibSp', 'Parch','Age','Ticket', 'Cabin' 변수를 제거하라"
      ]
    },
    {
      "cell_type": "code",
      "metadata": {
        "id": "gtPHkEO9V1C6"
      },
      "source": [
        ""
      ],
      "execution_count": null,
      "outputs": []
    },
    {
      "cell_type": "markdown",
      "metadata": {
        "id": "0YYLmbeWZyiN"
      },
      "source": [
        "### 머신러닝 빌드 하기\n",
        "* sklearn의 ensemble 의 RandomForestClassifier\n",
        "* sklearn의 metris\n",
        "* sklearn의 model selection을 불러와라"
      ]
    },
    {
      "cell_type": "code",
      "metadata": {
        "id": "KpnwKHuFZjtA"
      },
      "source": [
        "from sklearn.ensemble import RandomForestClassifier\n",
        "from sklearn import metrics\n",
        "from sklearn.model_selection import train_test_split"
      ],
      "execution_count": null,
      "outputs": []
    },
    {
      "cell_type": "markdown",
      "metadata": {
        "id": "x5n0ehWf-JA0"
      },
      "source": [
        "학습에 쓰일 데이터와 target label인 Survived를 분리하고 각 저장된 개체는 array문으로 바꿔라"
      ]
    },
    {
      "cell_type": "code",
      "metadata": {
        "id": "AlWMnhR_-GfI"
      },
      "source": [
        ""
      ],
      "execution_count": null,
      "outputs": []
    },
    {
      "cell_type": "markdown",
      "metadata": {
        "id": "W3zCoxUP_7lP"
      },
      "source": [
        "train_test_split 함수를 이용해 train셋을 분리해라\n",
        "* random_state = 2018으로 고정해라"
      ]
    },
    {
      "cell_type": "code",
      "metadata": {
        "id": "zoWektQY_vBO"
      },
      "source": [
        ""
      ],
      "execution_count": null,
      "outputs": []
    },
    {
      "cell_type": "markdown",
      "metadata": {
        "id": "rTj0dJ02A3kl"
      },
      "source": [
        "아무 튜닝없이 랜덤포레스트를 적용시켜라\n",
        "* hint. model 설정 / 모델 적합 / 모델 예측 "
      ]
    },
    {
      "cell_type": "code",
      "metadata": {
        "id": "1iJ-zCP1_0PP"
      },
      "source": [
        ""
      ],
      "execution_count": null,
      "outputs": []
    },
    {
      "cell_type": "code",
      "metadata": {
        "colab": {
          "base_uri": "https://localhost:8080/"
        },
        "id": "-MW15HPDLHWj",
        "outputId": "595eb0b9-2787-4377-9b66-aa4178cdcbdd"
      },
      "source": [
        ""
      ],
      "execution_count": null,
      "outputs": [
        {
          "data": {
            "text/plain": [
              "0.8544776119402985"
            ]
          },
          "execution_count": 257,
          "metadata": {},
          "output_type": "execute_result"
        }
      ]
    },
    {
      "cell_type": "markdown",
      "metadata": {
        "id": "gzxGdHqvBT9b"
      },
      "source": [
        "가장 영향을 많이 주는 변수를 순서대로 그래프를 그려라.\n",
        "* feature importances와 pandas series로 sorting하여 그래프 그릴 수 있음.\n",
        "* from pandas import Series\n"
      ]
    },
    {
      "cell_type": "code",
      "metadata": {
        "id": "BIG9vVazBTXd"
      },
      "source": [
        "from pandas import Series\n"
      ],
      "execution_count": null,
      "outputs": []
    },
    {
      "cell_type": "code",
      "metadata": {
        "colab": {
          "base_uri": "https://localhost:8080/",
          "height": 513
        },
        "id": "fW8jKb78AgB1",
        "outputId": "a2e88ca1-30c0-4ab1-eaef-5873dee0e31e"
      },
      "source": [
        ""
      ],
      "execution_count": null,
      "outputs": [
        {
          "data": {
            "text/plain": [
              "<matplotlib.axes._subplots.AxesSubplot at 0x7f5aa0a9ee90>"
            ]
          },
          "execution_count": 259,
          "metadata": {},
          "output_type": "execute_result"
        },
        {
          "data": {
            "image/png": "[encoded data removed]",
            "text/plain": [
              "<Figure size 576x576 with 1 Axes>"
            ]
          },
          "metadata": {},
          "output_type": "display_data"
        }
      ]
    },
    {
      "cell_type": "markdown",
      "metadata": {
        "id": "ZdF6KnfwJQ90"
      },
      "source": [
        "* 시도 횟수\n",
        "* 반복일(Echoing)\n",
        "  * 21.10.12\n",
        "  * 21.10.13\n",
        "* 안보고치기(Shadowing)"
      ]
    },
    {
      "cell_type": "code",
      "metadata": {
        "id": "LpHGLEYMJYNl"
      },
      "source": [
        ""
      ],
      "execution_count": null,
      "outputs": []
    }
  ]
}