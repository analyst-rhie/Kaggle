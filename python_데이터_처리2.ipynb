{
  "nbformat": 4,
  "nbformat_minor": 0,
  "metadata": {
    "colab": {
      "name": "python_데이터 처리2.ipynb",
      "provenance": [],
      "mount_file_id": "1-iNeQ9KunW_MoEorZxG8rkZB5SUdcLJ2",
      "authorship_tag": "ABX9TyPJB82dIAjju+oO+0i5wJnG",
      "include_colab_link": true
    },
    "kernelspec": {
      "name": "python3",
      "display_name": "Python 3"
    },
    "language_info": {
      "name": "python"
    }
  },
  "cells": [
    {
      "cell_type": "markdown",
      "metadata": {
        "id": "view-in-github",
        "colab_type": "text"
      },
      "source": [
        "<a href=\"https://colab.research.google.com/github/analyst-rhie/Kaggle/blob/main/python_%EB%8D%B0%EC%9D%B4%ED%84%B0_%EC%B2%98%EB%A6%AC2.ipynb\" target=\"_parent\"><img src=\"https://colab.research.google.com/assets/colab-badge.svg\" alt=\"Open In Colab\"/></a>"
      ]
    },
    {
      "cell_type": "code",
      "metadata": {
        "id": "yeUupYSpXEtN"
      },
      "source": [
        "import numpy as np\n",
        "import pandas as pd\n",
        "from pandas import Series\n",
        "import matplotlib.pyplot as plt\n",
        "import seaborn as sns\n",
        "\n",
        "plt.style.use('seaborn')\n",
        "sns.set(font_scale=2.5)\n",
        "\n",
        "import plotly.offline as py\n",
        "import plotly.graph_objs as go\n",
        "import plotly.tools as tls\n",
        "import warnings\n",
        "warnings.filterwarnings('ignore')\n",
        "\n",
        "%matplotlib inline"
      ],
      "execution_count": 164,
      "outputs": []
    },
    {
      "cell_type": "code",
      "metadata": {
        "id": "yUQMncpnXpMj"
      },
      "source": [
        "df_train = pd.read_csv('/content/drive/MyDrive/Colab Notebooks/타이타닉/train.csv')\n",
        "df_test = pd.read_csv('/content/drive/MyDrive/Colab Notebooks/타이타닉/test.csv')"
      ],
      "execution_count": 165,
      "outputs": []
    },
    {
      "cell_type": "markdown",
      "metadata": {
        "id": "bWycPpFXYco1"
      },
      "source": [
        "* Familysize 변수를 train, test 데이터셋에 만들고 Sibsp + Parch + 1(나 자신)의 값을 넣어라.\n",
        "* Fare 변수의 결측값을 Fare의 평균값으로 대체하고 전체 Fare변수에 log를 취해라"
      ]
    },
    {
      "cell_type": "code",
      "metadata": {
        "id": "VzTcvpmLYZCk"
      },
      "source": [
        "df_train['Familysize'] = df_train['SibSp'] + df_train['Parch'] +1\n",
        "df_test['Familysize'] = df_test['SibSp'] + df_test['Parch'] +1\n",
        "\n",
        "df_train.loc[df_train.Fare.isnull(),'Fare'] = df_train['Fare'].mean()\n",
        "df_test.loc[df_test.Fare.isnull(),'Fare'] = df_test['Fare'].mean()\n",
        "\n",
        "df_train['Fare'] = df_train['Fare'].map(lambda i : np.log(i) if i>0 else 0)\n",
        "df_test['Fare'] = df_test['Fare'].map(lambda i : np.log(i) if i>0 else 0)\n"
      ],
      "execution_count": 166,
      "outputs": []
    },
    {
      "cell_type": "markdown",
      "metadata": {
        "id": "4dsQAEmXcALA"
      },
      "source": [
        "* inital을 name으로부터 Miss,Mrr,Mrs를 추출해 보아라"
      ]
    },
    {
      "cell_type": "code",
      "metadata": {
        "colab": {
          "base_uri": "https://localhost:8080/"
        },
        "id": "LLwX2Di_UVVp",
        "outputId": "c173b610-903f-4427-9066-9de3618168bd"
      },
      "source": [
        "print(df_train['Name'].isnull().value_counts(),\\\n",
        "      '\\n', np.shape(df_train['Name'])[0]) # 결측없음"
      ],
      "execution_count": 167,
      "outputs": [
        {
          "output_type": "stream",
          "name": "stdout",
          "text": [
            "False    891\n",
            "Name: Name, dtype: int64 \n",
            " 891\n"
          ]
        }
      ]
    },
    {
      "cell_type": "code",
      "metadata": {
        "id": "KzcQDSf5UVRH"
      },
      "source": [
        "df_train['Initial']=df_train['Name'].str.extract('([A-Za-z]+)\\.')"
      ],
      "execution_count": 168,
      "outputs": []
    },
    {
      "cell_type": "code",
      "metadata": {
        "colab": {
          "base_uri": "https://localhost:8080/"
        },
        "id": "hT0l8DWUWhpf",
        "outputId": "afe7affc-2833-46dc-e29a-e5ccdace242c"
      },
      "source": [
        "df_train['Initial'].head()\n",
        "\n",
        "# Braund, Mr. Owen Harris"
      ],
      "execution_count": 169,
      "outputs": [
        {
          "output_type": "execute_result",
          "data": {
            "text/plain": [
              "0      Mr\n",
              "1     Mrs\n",
              "2    Miss\n",
              "3     Mrs\n",
              "4      Mr\n",
              "Name: Initial, dtype: object"
            ]
          },
          "metadata": {},
          "execution_count": 169
        }
      ]
    },
    {
      "cell_type": "code",
      "metadata": {
        "colab": {
          "base_uri": "https://localhost:8080/"
        },
        "id": "XCPgpMAXb_8g",
        "outputId": "dcde6e8d-6f99-4ba5-8c20-05734656e8c8"
      },
      "source": [
        "# inital에 결측이 있는지 확인\n",
        "check_null1 = df_train.loc[df_train.Name.isnull() == True].value_counts().count()\n",
        "check_null2 = df_test.loc[df_test.Name.isnull() == True].value_counts().count()\n",
        "print(check_null1,check_null2)\n",
        "\n",
        "# 영어가 최소 하나이상오며(+), 점(.)앞의 까지의 값을 가져온다.\n",
        "df_train['Initial'] = df_train.Name.str.extract('([A-Za-z]+)\\.')\n",
        "df_test['Initial'] = df_test.Name.str.extract('([A-Za-z]+)\\.')"
      ],
      "execution_count": 170,
      "outputs": [
        {
          "output_type": "stream",
          "name": "stdout",
          "text": [
            "0 0\n"
          ]
        }
      ]
    },
    {
      "cell_type": "markdown",
      "metadata": {
        "id": "ZiXbnKCZbvqQ"
      },
      "source": [
        "* crosstab을 이용하여 inital에 따른 성별을 교차표로 표현해라\n",
        "  * 교차표로 표현시 전치하여라"
      ]
    },
    {
      "cell_type": "code",
      "metadata": {
        "colab": {
          "base_uri": "https://localhost:8080/",
          "height": 104
        },
        "id": "cEUrXjZlcXxU",
        "outputId": "730f9c4d-b1de-424b-c999-98b989c6fdac"
      },
      "source": [
        "pd.crosstab(df_train['Initial'],df_train['Sex']).T.style.background_gradient('summer_r')"
      ],
      "execution_count": 171,
      "outputs": [
        {
          "output_type": "execute_result",
          "data": {
            "text/html": [
              "<style  type=\"text/css\" >\n",
              "#T_6db07684_2768_11ec_a9d4_0242ac1c0002row0_col0,#T_6db07684_2768_11ec_a9d4_0242ac1c0002row0_col1,#T_6db07684_2768_11ec_a9d4_0242ac1c0002row0_col3,#T_6db07684_2768_11ec_a9d4_0242ac1c0002row0_col4,#T_6db07684_2768_11ec_a9d4_0242ac1c0002row0_col5,#T_6db07684_2768_11ec_a9d4_0242ac1c0002row0_col7,#T_6db07684_2768_11ec_a9d4_0242ac1c0002row0_col8,#T_6db07684_2768_11ec_a9d4_0242ac1c0002row0_col12,#T_6db07684_2768_11ec_a9d4_0242ac1c0002row0_col15,#T_6db07684_2768_11ec_a9d4_0242ac1c0002row0_col16,#T_6db07684_2768_11ec_a9d4_0242ac1c0002row1_col2,#T_6db07684_2768_11ec_a9d4_0242ac1c0002row1_col6,#T_6db07684_2768_11ec_a9d4_0242ac1c0002row1_col9,#T_6db07684_2768_11ec_a9d4_0242ac1c0002row1_col10,#T_6db07684_2768_11ec_a9d4_0242ac1c0002row1_col11,#T_6db07684_2768_11ec_a9d4_0242ac1c0002row1_col13,#T_6db07684_2768_11ec_a9d4_0242ac1c0002row1_col14{\n",
              "            background-color:  #ffff66;\n",
              "            color:  #000000;\n",
              "        }#T_6db07684_2768_11ec_a9d4_0242ac1c0002row0_col2,#T_6db07684_2768_11ec_a9d4_0242ac1c0002row0_col6,#T_6db07684_2768_11ec_a9d4_0242ac1c0002row0_col9,#T_6db07684_2768_11ec_a9d4_0242ac1c0002row0_col10,#T_6db07684_2768_11ec_a9d4_0242ac1c0002row0_col11,#T_6db07684_2768_11ec_a9d4_0242ac1c0002row0_col13,#T_6db07684_2768_11ec_a9d4_0242ac1c0002row0_col14,#T_6db07684_2768_11ec_a9d4_0242ac1c0002row1_col0,#T_6db07684_2768_11ec_a9d4_0242ac1c0002row1_col1,#T_6db07684_2768_11ec_a9d4_0242ac1c0002row1_col3,#T_6db07684_2768_11ec_a9d4_0242ac1c0002row1_col4,#T_6db07684_2768_11ec_a9d4_0242ac1c0002row1_col5,#T_6db07684_2768_11ec_a9d4_0242ac1c0002row1_col7,#T_6db07684_2768_11ec_a9d4_0242ac1c0002row1_col8,#T_6db07684_2768_11ec_a9d4_0242ac1c0002row1_col12,#T_6db07684_2768_11ec_a9d4_0242ac1c0002row1_col15,#T_6db07684_2768_11ec_a9d4_0242ac1c0002row1_col16{\n",
              "            background-color:  #008066;\n",
              "            color:  #f1f1f1;\n",
              "        }</style><table id=\"T_6db07684_2768_11ec_a9d4_0242ac1c0002\" ><thead>    <tr>        <th class=\"index_name level0\" >Initial</th>        <th class=\"col_heading level0 col0\" >Capt</th>        <th class=\"col_heading level0 col1\" >Col</th>        <th class=\"col_heading level0 col2\" >Countess</th>        <th class=\"col_heading level0 col3\" >Don</th>        <th class=\"col_heading level0 col4\" >Dr</th>        <th class=\"col_heading level0 col5\" >Jonkheer</th>        <th class=\"col_heading level0 col6\" >Lady</th>        <th class=\"col_heading level0 col7\" >Major</th>        <th class=\"col_heading level0 col8\" >Master</th>        <th class=\"col_heading level0 col9\" >Miss</th>        <th class=\"col_heading level0 col10\" >Mlle</th>        <th class=\"col_heading level0 col11\" >Mme</th>        <th class=\"col_heading level0 col12\" >Mr</th>        <th class=\"col_heading level0 col13\" >Mrs</th>        <th class=\"col_heading level0 col14\" >Ms</th>        <th class=\"col_heading level0 col15\" >Rev</th>        <th class=\"col_heading level0 col16\" >Sir</th>    </tr>    <tr>        <th class=\"index_name level0\" >Sex</th>        <th class=\"blank\" ></th>        <th class=\"blank\" ></th>        <th class=\"blank\" ></th>        <th class=\"blank\" ></th>        <th class=\"blank\" ></th>        <th class=\"blank\" ></th>        <th class=\"blank\" ></th>        <th class=\"blank\" ></th>        <th class=\"blank\" ></th>        <th class=\"blank\" ></th>        <th class=\"blank\" ></th>        <th class=\"blank\" ></th>        <th class=\"blank\" ></th>        <th class=\"blank\" ></th>        <th class=\"blank\" ></th>        <th class=\"blank\" ></th>        <th class=\"blank\" ></th>    </tr></thead><tbody>\n",
              "                <tr>\n",
              "                        <th id=\"T_6db07684_2768_11ec_a9d4_0242ac1c0002level0_row0\" class=\"row_heading level0 row0\" >female</th>\n",
              "                        <td id=\"T_6db07684_2768_11ec_a9d4_0242ac1c0002row0_col0\" class=\"data row0 col0\" >0</td>\n",
              "                        <td id=\"T_6db07684_2768_11ec_a9d4_0242ac1c0002row0_col1\" class=\"data row0 col1\" >0</td>\n",
              "                        <td id=\"T_6db07684_2768_11ec_a9d4_0242ac1c0002row0_col2\" class=\"data row0 col2\" >1</td>\n",
              "                        <td id=\"T_6db07684_2768_11ec_a9d4_0242ac1c0002row0_col3\" class=\"data row0 col3\" >0</td>\n",
              "                        <td id=\"T_6db07684_2768_11ec_a9d4_0242ac1c0002row0_col4\" class=\"data row0 col4\" >1</td>\n",
              "                        <td id=\"T_6db07684_2768_11ec_a9d4_0242ac1c0002row0_col5\" class=\"data row0 col5\" >0</td>\n",
              "                        <td id=\"T_6db07684_2768_11ec_a9d4_0242ac1c0002row0_col6\" class=\"data row0 col6\" >1</td>\n",
              "                        <td id=\"T_6db07684_2768_11ec_a9d4_0242ac1c0002row0_col7\" class=\"data row0 col7\" >0</td>\n",
              "                        <td id=\"T_6db07684_2768_11ec_a9d4_0242ac1c0002row0_col8\" class=\"data row0 col8\" >0</td>\n",
              "                        <td id=\"T_6db07684_2768_11ec_a9d4_0242ac1c0002row0_col9\" class=\"data row0 col9\" >182</td>\n",
              "                        <td id=\"T_6db07684_2768_11ec_a9d4_0242ac1c0002row0_col10\" class=\"data row0 col10\" >2</td>\n",
              "                        <td id=\"T_6db07684_2768_11ec_a9d4_0242ac1c0002row0_col11\" class=\"data row0 col11\" >1</td>\n",
              "                        <td id=\"T_6db07684_2768_11ec_a9d4_0242ac1c0002row0_col12\" class=\"data row0 col12\" >0</td>\n",
              "                        <td id=\"T_6db07684_2768_11ec_a9d4_0242ac1c0002row0_col13\" class=\"data row0 col13\" >125</td>\n",
              "                        <td id=\"T_6db07684_2768_11ec_a9d4_0242ac1c0002row0_col14\" class=\"data row0 col14\" >1</td>\n",
              "                        <td id=\"T_6db07684_2768_11ec_a9d4_0242ac1c0002row0_col15\" class=\"data row0 col15\" >0</td>\n",
              "                        <td id=\"T_6db07684_2768_11ec_a9d4_0242ac1c0002row0_col16\" class=\"data row0 col16\" >0</td>\n",
              "            </tr>\n",
              "            <tr>\n",
              "                        <th id=\"T_6db07684_2768_11ec_a9d4_0242ac1c0002level0_row1\" class=\"row_heading level0 row1\" >male</th>\n",
              "                        <td id=\"T_6db07684_2768_11ec_a9d4_0242ac1c0002row1_col0\" class=\"data row1 col0\" >1</td>\n",
              "                        <td id=\"T_6db07684_2768_11ec_a9d4_0242ac1c0002row1_col1\" class=\"data row1 col1\" >2</td>\n",
              "                        <td id=\"T_6db07684_2768_11ec_a9d4_0242ac1c0002row1_col2\" class=\"data row1 col2\" >0</td>\n",
              "                        <td id=\"T_6db07684_2768_11ec_a9d4_0242ac1c0002row1_col3\" class=\"data row1 col3\" >1</td>\n",
              "                        <td id=\"T_6db07684_2768_11ec_a9d4_0242ac1c0002row1_col4\" class=\"data row1 col4\" >6</td>\n",
              "                        <td id=\"T_6db07684_2768_11ec_a9d4_0242ac1c0002row1_col5\" class=\"data row1 col5\" >1</td>\n",
              "                        <td id=\"T_6db07684_2768_11ec_a9d4_0242ac1c0002row1_col6\" class=\"data row1 col6\" >0</td>\n",
              "                        <td id=\"T_6db07684_2768_11ec_a9d4_0242ac1c0002row1_col7\" class=\"data row1 col7\" >2</td>\n",
              "                        <td id=\"T_6db07684_2768_11ec_a9d4_0242ac1c0002row1_col8\" class=\"data row1 col8\" >40</td>\n",
              "                        <td id=\"T_6db07684_2768_11ec_a9d4_0242ac1c0002row1_col9\" class=\"data row1 col9\" >0</td>\n",
              "                        <td id=\"T_6db07684_2768_11ec_a9d4_0242ac1c0002row1_col10\" class=\"data row1 col10\" >0</td>\n",
              "                        <td id=\"T_6db07684_2768_11ec_a9d4_0242ac1c0002row1_col11\" class=\"data row1 col11\" >0</td>\n",
              "                        <td id=\"T_6db07684_2768_11ec_a9d4_0242ac1c0002row1_col12\" class=\"data row1 col12\" >517</td>\n",
              "                        <td id=\"T_6db07684_2768_11ec_a9d4_0242ac1c0002row1_col13\" class=\"data row1 col13\" >0</td>\n",
              "                        <td id=\"T_6db07684_2768_11ec_a9d4_0242ac1c0002row1_col14\" class=\"data row1 col14\" >0</td>\n",
              "                        <td id=\"T_6db07684_2768_11ec_a9d4_0242ac1c0002row1_col15\" class=\"data row1 col15\" >6</td>\n",
              "                        <td id=\"T_6db07684_2768_11ec_a9d4_0242ac1c0002row1_col16\" class=\"data row1 col16\" >1</td>\n",
              "            </tr>\n",
              "    </tbody></table>"
            ],
            "text/plain": [
              "<pandas.io.formats.style.Styler at 0x7ffaa1410f90>"
            ]
          },
          "metadata": {},
          "execution_count": 171
        }
      ]
    },
    {
      "cell_type": "code",
      "metadata": {
        "colab": {
          "base_uri": "https://localhost:8080/",
          "height": 104
        },
        "id": "st31tXLQb2ax",
        "outputId": "ae08f68d-2589-42e9-fd5f-8a68660a0f8e"
      },
      "source": [
        "pd.crosstab(df_train['Initial'],df_train['Sex']).T.style.background_gradient(cmap='summer_r')"
      ],
      "execution_count": 172,
      "outputs": [
        {
          "output_type": "execute_result",
          "data": {
            "text/html": [
              "<style  type=\"text/css\" >\n",
              "#T_6dbc98c4_2768_11ec_a9d4_0242ac1c0002row0_col0,#T_6dbc98c4_2768_11ec_a9d4_0242ac1c0002row0_col1,#T_6dbc98c4_2768_11ec_a9d4_0242ac1c0002row0_col3,#T_6dbc98c4_2768_11ec_a9d4_0242ac1c0002row0_col4,#T_6dbc98c4_2768_11ec_a9d4_0242ac1c0002row0_col5,#T_6dbc98c4_2768_11ec_a9d4_0242ac1c0002row0_col7,#T_6dbc98c4_2768_11ec_a9d4_0242ac1c0002row0_col8,#T_6dbc98c4_2768_11ec_a9d4_0242ac1c0002row0_col12,#T_6dbc98c4_2768_11ec_a9d4_0242ac1c0002row0_col15,#T_6dbc98c4_2768_11ec_a9d4_0242ac1c0002row0_col16,#T_6dbc98c4_2768_11ec_a9d4_0242ac1c0002row1_col2,#T_6dbc98c4_2768_11ec_a9d4_0242ac1c0002row1_col6,#T_6dbc98c4_2768_11ec_a9d4_0242ac1c0002row1_col9,#T_6dbc98c4_2768_11ec_a9d4_0242ac1c0002row1_col10,#T_6dbc98c4_2768_11ec_a9d4_0242ac1c0002row1_col11,#T_6dbc98c4_2768_11ec_a9d4_0242ac1c0002row1_col13,#T_6dbc98c4_2768_11ec_a9d4_0242ac1c0002row1_col14{\n",
              "            background-color:  #ffff66;\n",
              "            color:  #000000;\n",
              "        }#T_6dbc98c4_2768_11ec_a9d4_0242ac1c0002row0_col2,#T_6dbc98c4_2768_11ec_a9d4_0242ac1c0002row0_col6,#T_6dbc98c4_2768_11ec_a9d4_0242ac1c0002row0_col9,#T_6dbc98c4_2768_11ec_a9d4_0242ac1c0002row0_col10,#T_6dbc98c4_2768_11ec_a9d4_0242ac1c0002row0_col11,#T_6dbc98c4_2768_11ec_a9d4_0242ac1c0002row0_col13,#T_6dbc98c4_2768_11ec_a9d4_0242ac1c0002row0_col14,#T_6dbc98c4_2768_11ec_a9d4_0242ac1c0002row1_col0,#T_6dbc98c4_2768_11ec_a9d4_0242ac1c0002row1_col1,#T_6dbc98c4_2768_11ec_a9d4_0242ac1c0002row1_col3,#T_6dbc98c4_2768_11ec_a9d4_0242ac1c0002row1_col4,#T_6dbc98c4_2768_11ec_a9d4_0242ac1c0002row1_col5,#T_6dbc98c4_2768_11ec_a9d4_0242ac1c0002row1_col7,#T_6dbc98c4_2768_11ec_a9d4_0242ac1c0002row1_col8,#T_6dbc98c4_2768_11ec_a9d4_0242ac1c0002row1_col12,#T_6dbc98c4_2768_11ec_a9d4_0242ac1c0002row1_col15,#T_6dbc98c4_2768_11ec_a9d4_0242ac1c0002row1_col16{\n",
              "            background-color:  #008066;\n",
              "            color:  #f1f1f1;\n",
              "        }</style><table id=\"T_6dbc98c4_2768_11ec_a9d4_0242ac1c0002\" ><thead>    <tr>        <th class=\"index_name level0\" >Initial</th>        <th class=\"col_heading level0 col0\" >Capt</th>        <th class=\"col_heading level0 col1\" >Col</th>        <th class=\"col_heading level0 col2\" >Countess</th>        <th class=\"col_heading level0 col3\" >Don</th>        <th class=\"col_heading level0 col4\" >Dr</th>        <th class=\"col_heading level0 col5\" >Jonkheer</th>        <th class=\"col_heading level0 col6\" >Lady</th>        <th class=\"col_heading level0 col7\" >Major</th>        <th class=\"col_heading level0 col8\" >Master</th>        <th class=\"col_heading level0 col9\" >Miss</th>        <th class=\"col_heading level0 col10\" >Mlle</th>        <th class=\"col_heading level0 col11\" >Mme</th>        <th class=\"col_heading level0 col12\" >Mr</th>        <th class=\"col_heading level0 col13\" >Mrs</th>        <th class=\"col_heading level0 col14\" >Ms</th>        <th class=\"col_heading level0 col15\" >Rev</th>        <th class=\"col_heading level0 col16\" >Sir</th>    </tr>    <tr>        <th class=\"index_name level0\" >Sex</th>        <th class=\"blank\" ></th>        <th class=\"blank\" ></th>        <th class=\"blank\" ></th>        <th class=\"blank\" ></th>        <th class=\"blank\" ></th>        <th class=\"blank\" ></th>        <th class=\"blank\" ></th>        <th class=\"blank\" ></th>        <th class=\"blank\" ></th>        <th class=\"blank\" ></th>        <th class=\"blank\" ></th>        <th class=\"blank\" ></th>        <th class=\"blank\" ></th>        <th class=\"blank\" ></th>        <th class=\"blank\" ></th>        <th class=\"blank\" ></th>        <th class=\"blank\" ></th>    </tr></thead><tbody>\n",
              "                <tr>\n",
              "                        <th id=\"T_6dbc98c4_2768_11ec_a9d4_0242ac1c0002level0_row0\" class=\"row_heading level0 row0\" >female</th>\n",
              "                        <td id=\"T_6dbc98c4_2768_11ec_a9d4_0242ac1c0002row0_col0\" class=\"data row0 col0\" >0</td>\n",
              "                        <td id=\"T_6dbc98c4_2768_11ec_a9d4_0242ac1c0002row0_col1\" class=\"data row0 col1\" >0</td>\n",
              "                        <td id=\"T_6dbc98c4_2768_11ec_a9d4_0242ac1c0002row0_col2\" class=\"data row0 col2\" >1</td>\n",
              "                        <td id=\"T_6dbc98c4_2768_11ec_a9d4_0242ac1c0002row0_col3\" class=\"data row0 col3\" >0</td>\n",
              "                        <td id=\"T_6dbc98c4_2768_11ec_a9d4_0242ac1c0002row0_col4\" class=\"data row0 col4\" >1</td>\n",
              "                        <td id=\"T_6dbc98c4_2768_11ec_a9d4_0242ac1c0002row0_col5\" class=\"data row0 col5\" >0</td>\n",
              "                        <td id=\"T_6dbc98c4_2768_11ec_a9d4_0242ac1c0002row0_col6\" class=\"data row0 col6\" >1</td>\n",
              "                        <td id=\"T_6dbc98c4_2768_11ec_a9d4_0242ac1c0002row0_col7\" class=\"data row0 col7\" >0</td>\n",
              "                        <td id=\"T_6dbc98c4_2768_11ec_a9d4_0242ac1c0002row0_col8\" class=\"data row0 col8\" >0</td>\n",
              "                        <td id=\"T_6dbc98c4_2768_11ec_a9d4_0242ac1c0002row0_col9\" class=\"data row0 col9\" >182</td>\n",
              "                        <td id=\"T_6dbc98c4_2768_11ec_a9d4_0242ac1c0002row0_col10\" class=\"data row0 col10\" >2</td>\n",
              "                        <td id=\"T_6dbc98c4_2768_11ec_a9d4_0242ac1c0002row0_col11\" class=\"data row0 col11\" >1</td>\n",
              "                        <td id=\"T_6dbc98c4_2768_11ec_a9d4_0242ac1c0002row0_col12\" class=\"data row0 col12\" >0</td>\n",
              "                        <td id=\"T_6dbc98c4_2768_11ec_a9d4_0242ac1c0002row0_col13\" class=\"data row0 col13\" >125</td>\n",
              "                        <td id=\"T_6dbc98c4_2768_11ec_a9d4_0242ac1c0002row0_col14\" class=\"data row0 col14\" >1</td>\n",
              "                        <td id=\"T_6dbc98c4_2768_11ec_a9d4_0242ac1c0002row0_col15\" class=\"data row0 col15\" >0</td>\n",
              "                        <td id=\"T_6dbc98c4_2768_11ec_a9d4_0242ac1c0002row0_col16\" class=\"data row0 col16\" >0</td>\n",
              "            </tr>\n",
              "            <tr>\n",
              "                        <th id=\"T_6dbc98c4_2768_11ec_a9d4_0242ac1c0002level0_row1\" class=\"row_heading level0 row1\" >male</th>\n",
              "                        <td id=\"T_6dbc98c4_2768_11ec_a9d4_0242ac1c0002row1_col0\" class=\"data row1 col0\" >1</td>\n",
              "                        <td id=\"T_6dbc98c4_2768_11ec_a9d4_0242ac1c0002row1_col1\" class=\"data row1 col1\" >2</td>\n",
              "                        <td id=\"T_6dbc98c4_2768_11ec_a9d4_0242ac1c0002row1_col2\" class=\"data row1 col2\" >0</td>\n",
              "                        <td id=\"T_6dbc98c4_2768_11ec_a9d4_0242ac1c0002row1_col3\" class=\"data row1 col3\" >1</td>\n",
              "                        <td id=\"T_6dbc98c4_2768_11ec_a9d4_0242ac1c0002row1_col4\" class=\"data row1 col4\" >6</td>\n",
              "                        <td id=\"T_6dbc98c4_2768_11ec_a9d4_0242ac1c0002row1_col5\" class=\"data row1 col5\" >1</td>\n",
              "                        <td id=\"T_6dbc98c4_2768_11ec_a9d4_0242ac1c0002row1_col6\" class=\"data row1 col6\" >0</td>\n",
              "                        <td id=\"T_6dbc98c4_2768_11ec_a9d4_0242ac1c0002row1_col7\" class=\"data row1 col7\" >2</td>\n",
              "                        <td id=\"T_6dbc98c4_2768_11ec_a9d4_0242ac1c0002row1_col8\" class=\"data row1 col8\" >40</td>\n",
              "                        <td id=\"T_6dbc98c4_2768_11ec_a9d4_0242ac1c0002row1_col9\" class=\"data row1 col9\" >0</td>\n",
              "                        <td id=\"T_6dbc98c4_2768_11ec_a9d4_0242ac1c0002row1_col10\" class=\"data row1 col10\" >0</td>\n",
              "                        <td id=\"T_6dbc98c4_2768_11ec_a9d4_0242ac1c0002row1_col11\" class=\"data row1 col11\" >0</td>\n",
              "                        <td id=\"T_6dbc98c4_2768_11ec_a9d4_0242ac1c0002row1_col12\" class=\"data row1 col12\" >517</td>\n",
              "                        <td id=\"T_6dbc98c4_2768_11ec_a9d4_0242ac1c0002row1_col13\" class=\"data row1 col13\" >0</td>\n",
              "                        <td id=\"T_6dbc98c4_2768_11ec_a9d4_0242ac1c0002row1_col14\" class=\"data row1 col14\" >0</td>\n",
              "                        <td id=\"T_6dbc98c4_2768_11ec_a9d4_0242ac1c0002row1_col15\" class=\"data row1 col15\" >6</td>\n",
              "                        <td id=\"T_6dbc98c4_2768_11ec_a9d4_0242ac1c0002row1_col16\" class=\"data row1 col16\" >1</td>\n",
              "            </tr>\n",
              "    </tbody></table>"
            ],
            "text/plain": [
              "<pandas.io.formats.style.Styler at 0x7ffaa1300850>"
            ]
          },
          "metadata": {},
          "execution_count": 172
        }
      ]
    },
    {
      "cell_type": "markdown",
      "metadata": {
        "id": "7DVi4ozLczPw"
      },
      "source": [
        "* replace메서드를 이용해 Initail값의 특정 데이터 값을 치환해라\n",
        "  * 기존 : ['Mlle','Mme','Ms','Dr','Major','Lady','Countess','Jonkheer','Col','Rev','Capt','Sir','Don', 'Dona'],\n",
        "  * 바꾼 후 : ['Miss','Miss','Miss','Mr','Mr','Mrs','Mrs','Other','Other','Other','Mr','Mr','Mr', 'Mr'],inplace=True)"
      ]
    },
    {
      "cell_type": "code",
      "metadata": {
        "id": "BJdMhhaxbnrq"
      },
      "source": [
        "df_train['Initial'].replace(['Mlle','Mme','Ms','Dr','Major',\\\n",
        "                            'Lady','Countess','Jonkheer','Col',\\\n",
        "                            'Rev','Capt','Sir','Don', 'Dona'],\n",
        "                           ['Miss','Miss','Miss','Mr','Mr',\\\n",
        "                            'Mrs','Mrs','Other','Other','Other',\n",
        "                            'Mr','Mr','Mr', 'Mr'],inplace=True)\n",
        "df_test['Initial'].replace(['Mlle','Mme','Ms','Dr','Major',\\\n",
        "                            'Lady','Countess','Jonkheer','Col',\\\n",
        "                            'Rev','Capt','Sir','Don', 'Dona'],\n",
        "                           ['Miss','Miss','Miss','Mr','Mr',\\\n",
        "                            'Mrs','Mrs','Other','Other','Other',\n",
        "                            'Mr','Mr','Mr', 'Mr'],inplace=True)"
      ],
      "execution_count": 173,
      "outputs": []
    },
    {
      "cell_type": "markdown",
      "metadata": {
        "id": "KB4fiMkNeS6g"
      },
      "source": [
        "* Initial 그룹별 평균값을 구하고 이를 plt을 이용하여 Survived =1에 대한 바 그래프를 그려라"
      ]
    },
    {
      "cell_type": "code",
      "metadata": {
        "colab": {
          "base_uri": "https://localhost:8080/",
          "height": 399
        },
        "id": "pqIzdPzkeSde",
        "outputId": "ae3622fc-daa3-4aea-aeac-ebe41e474f3d"
      },
      "source": [
        "# groupby로 지정 변수에 대해 정렬한 후 . 뒤의 mean()이나 sum()으로\n",
        "# 집계를 낸다. 이때 집계를 냈을 때 기준이 되는 변수를 지정할 수 있다.\n",
        "plt.style.use('seaborn')\n",
        "df_train.groupby('Initial')['Survived'].mean().plot.bar()"
      ],
      "execution_count": 174,
      "outputs": [
        {
          "output_type": "execute_result",
          "data": {
            "text/plain": [
              "<matplotlib.axes._subplots.AxesSubplot at 0x7ffaa11e3110>"
            ]
          },
          "metadata": {},
          "execution_count": 174
        },
        {
          "output_type": "display_data",
          "data": {
            "image/png": "[encoded data removed]",
            "text/plain": [
              "<Figure size 576x396 with 1 Axes>"
            ]
          },
          "metadata": {}
        }
      ]
    },
    {
      "cell_type": "markdown",
      "metadata": {
        "id": "Xlx08-u7kNS8"
      },
      "source": [
        "* 각 initial의 Age 평균값을 이용해 Null value를 채워라 "
      ]
    },
    {
      "cell_type": "code",
      "metadata": {
        "colab": {
          "base_uri": "https://localhost:8080/"
        },
        "id": "-J-Xto6jfd9I",
        "outputId": "0083cbbb-3bcc-4531-d25c-b80f51533795"
      },
      "source": [
        "first_name = ['Mr','Mrs','Master','Miss','Other']"
      ],
      "execution_count": 175,
      "outputs": [
        {
          "output_type": "execute_result",
          "data": {
            "text/plain": [
              "0"
            ]
          },
          "metadata": {},
          "execution_count": 175
        }
      ]
    },
    {
      "cell_type": "code",
      "metadata": {
        "colab": {
          "base_uri": "https://localhost:8080/",
          "height": 49
        },
        "id": "Do_h6PtqpDiD",
        "outputId": "855b08b4-ffec-4e34-92d3-72c0729d8ff3"
      },
      "source": [
        "## null대체전 null샘플 확인 ##\n",
        "df_train.loc[(df_train.Initial=='Mr')& (df_train.Age.isnull())]\n",
        "# passengerId = 879\n",
        "df_train.loc[(df_train.Initial=='Miss')& (df_train.Age.isnull())]\n",
        "# passengerId = 29\n"
      ],
      "execution_count": 181,
      "outputs": [
        {
          "output_type": "execute_result",
          "data": {
            "text/html": [
              "<div>\n",
              "<style scoped>\n",
              "    .dataframe tbody tr th:only-of-type {\n",
              "        vertical-align: middle;\n",
              "    }\n",
              "\n",
              "    .dataframe tbody tr th {\n",
              "        vertical-align: top;\n",
              "    }\n",
              "\n",
              "    .dataframe thead th {\n",
              "        text-align: right;\n",
              "    }\n",
              "</style>\n",
              "<table border=\"1\" class=\"dataframe\">\n",
              "  <thead>\n",
              "    <tr style=\"text-align: right;\">\n",
              "      <th></th>\n",
              "      <th>PassengerId</th>\n",
              "      <th>Survived</th>\n",
              "      <th>Pclass</th>\n",
              "      <th>Name</th>\n",
              "      <th>Sex</th>\n",
              "      <th>Age</th>\n",
              "      <th>SibSp</th>\n",
              "      <th>Parch</th>\n",
              "      <th>Ticket</th>\n",
              "      <th>Fare</th>\n",
              "      <th>Cabin</th>\n",
              "      <th>Embarked</th>\n",
              "      <th>Familysize</th>\n",
              "      <th>Initial</th>\n",
              "    </tr>\n",
              "  </thead>\n",
              "  <tbody>\n",
              "  </tbody>\n",
              "</table>\n",
              "</div>"
            ],
            "text/plain": [
              "Empty DataFrame\n",
              "Columns: [PassengerId, Survived, Pclass, Name, Sex, Age, SibSp, Parch, Ticket, Fare, Cabin, Embarked, Familysize, Initial]\n",
              "Index: []"
            ]
          },
          "metadata": {},
          "execution_count": 181
        }
      ]
    },
    {
      "cell_type": "code",
      "metadata": {
        "id": "DVXIxGsNkv1a"
      },
      "source": [
        "for i in first_name :\n",
        "  df_train.loc[(df_train.Initial==i)& (df_train.Age.isnull()), 'Age'] = \\\n",
        "  round(df_train.groupby('Initial')['Age'].mean()[i])"
      ],
      "execution_count": 178,
      "outputs": []
    }
  ]
}