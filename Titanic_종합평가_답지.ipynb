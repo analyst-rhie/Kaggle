{
  "nbformat": 4,
  "nbformat_minor": 0,
  "metadata": {
    "colab": {
      "name": "Titanic_종합평가_답지.ipynb",
      "provenance": [],
      "mount_file_id": "1C9_l53w9OU7xhQwBI_s1Ex4_lmeyeh0u",
      "authorship_tag": "ABX9TyO4uAJ7c81RRDlQPPGFqtT7",
      "include_colab_link": true
    },
    "kernelspec": {
      "name": "python3",
      "display_name": "Python 3"
    },
    "language_info": {
      "name": "python"
    }
  },
  "cells": [
    {
      "cell_type": "markdown",
      "metadata": {
        "id": "view-in-github",
        "colab_type": "text"
      },
      "source": [
        "<a href=\"https://colab.research.google.com/github/analyst-rhie/Kaggle/blob/main/Titanic_%EC%A2%85%ED%95%A9%ED%8F%89%EA%B0%80_%EB%8B%B5%EC%A7%80.ipynb\" target=\"_parent\"><img src=\"https://colab.research.google.com/assets/colab-badge.svg\" alt=\"Open In Colab\"/></a>"
      ]
    },
    {
      "cell_type": "markdown",
      "metadata": {
        "id": "YS_80_wzLwlb"
      },
      "source": [
        "# Titanic 졸업 시험 [EDA - Modeling]\n",
        "### 본 코드는 kaggle - titanic 코드 학습용으로 제작 되었으며 문제 - 답형식으로 구성되어 있습니다."
      ]
    },
    {
      "cell_type": "code",
      "metadata": {
        "id": "S0Pu72B3NES7"
      },
      "source": [
        "import pandas as pd\n",
        "import numpy as np\n",
        "import matplotlib.pyplot as plt\n",
        "import seaborn as sns\n",
        "%matplotlib inline\n",
        "\n",
        "from collections import Counter\n",
        "\n",
        "from sklearn.ensemble import RandomForestClassifier, AdaBoostClassifier,\\\n",
        "GradientBoostingClassifier, ExtraTreesClassifier, VotingClassifier\n",
        "from sklearn.discriminant_analysis import LinearDiscriminantAnalysis\n",
        "from sklearn.linear_model import LogisticRegression\n",
        "from sklearn.neighbors import KNeighborsClassifier\n",
        "from sklearn.tree import DecisionTreeClassifier\n",
        "from sklearn.neural_network import MLPClassifier\n",
        "from sklearn.svm import SVC\n",
        "from sklearn.model_selection import GridSearchCV, cross_val_score, StratifiedKFold,\\\n",
        "learning_curve\n",
        "\n",
        "sns.set(style='white', context='notebook', palette='deep')"
      ],
      "execution_count": null,
      "outputs": []
    },
    {
      "cell_type": "code",
      "metadata": {
        "colab": {
          "base_uri": "https://localhost:8080/"
        },
        "id": "wTcggqKp_sJL",
        "outputId": "8b67ece6-d41c-4170-8e8a-e6e529ae4a9c"
      },
      "source": [
        "!pip install pymysql\n",
        "!pip install sqlalchemy"
      ],
      "execution_count": null,
      "outputs": [
        {
          "output_type": "stream",
          "name": "stdout",
          "text": [
            "Collecting pymysql\n",
            "  Downloading PyMySQL-1.0.2-py3-none-any.whl (43 kB)\n",
            "\u001b[?25l\r\u001b[K     |███████▌                        | 10 kB 22.4 MB/s eta 0:00:01\r\u001b[K     |███████████████                 | 20 kB 27.5 MB/s eta 0:00:01\r\u001b[K     |██████████████████████▍         | 30 kB 29.7 MB/s eta 0:00:01\r\u001b[K     |██████████████████████████████  | 40 kB 31.9 MB/s eta 0:00:01\r\u001b[K     |████████████████████████████████| 43 kB 2.2 MB/s \n",
            "\u001b[?25hInstalling collected packages: pymysql\n",
            "Successfully installed pymysql-1.0.2\n",
            "Requirement already satisfied: sqlalchemy in /usr/local/lib/python3.7/dist-packages (1.4.27)\n",
            "Requirement already satisfied: importlib-metadata in /usr/local/lib/python3.7/dist-packages (from sqlalchemy) (4.8.2)\n",
            "Requirement already satisfied: greenlet!=0.4.17 in /usr/local/lib/python3.7/dist-packages (from sqlalchemy) (1.1.2)\n",
            "Requirement already satisfied: typing-extensions>=3.6.4 in /usr/local/lib/python3.7/dist-packages (from importlib-metadata->sqlalchemy) (3.10.0.2)\n",
            "Requirement already satisfied: zipp>=0.5 in /usr/local/lib/python3.7/dist-packages (from importlib-metadata->sqlalchemy) (3.6.0)\n"
          ]
        }
      ]
    },
    {
      "cell_type": "code",
      "metadata": {
        "colab": {
          "base_uri": "https://localhost:8080/"
        },
        "id": "22O8hy9f_TXC",
        "outputId": "bedb90fd-3665-499c-f77b-b27c78584826"
      },
      "source": [
        "#train = pd.read_csv('/content/drive/MyDrive/Colab Notebooks/농산물/public_data/train.csv')\n",
        "#train = pd.read_csv('E:/DACON/235801_2021 농산물 가격예측 AI 경진대회/public_data/train.csv')\n",
        "#train.head(1000)\n",
        "### MySQL DB에서 데이터 가져오기 ###\n",
        "import pymysql\n",
        "pymysql.install_as_MySQLdb()\n",
        "import MySQLdb\n",
        "from sqlalchemy import create_engine\n",
        "\n",
        "db=None\n",
        "\n",
        "try:\n",
        "  db=pymysql.connect(host='192.168.0.4',\n",
        "                     user='kanon39',\n",
        "                     passwd='skszl1004!',\n",
        "                     db='mysql',\n",
        "                     charset = 'utf8')\n",
        "  print('DB 연결 성공')\n",
        "except Exception as e:\n",
        "  print(e)\n",
        "finally:\n",
        "  if db is not None :\n",
        "    db.close()\n",
        "    print(\"DB 연결 닫기 성공\")"
      ],
      "execution_count": null,
      "outputs": [
        {
          "output_type": "stream",
          "name": "stdout",
          "text": [
            "(2003, \"Can't connect to MySQL server on '192.168.0.4' (timed out)\")\n"
          ]
        }
      ]
    },
    {
      "cell_type": "markdown",
      "metadata": {
        "id": "ZufCG22hM58E"
      },
      "source": [
        "### pd.read_csv를 사용하여 데이터를 로드해라"
      ]
    },
    {
      "cell_type": "code",
      "metadata": {
        "id": "hXYGNGtXLrzQ"
      },
      "source": [
        "train = pd.read_csv('/content/drive/MyDrive/Colab Notebooks/타이타닉/train.csv')\n",
        "test = pd.read_csv('/content/drive/MyDrive/Colab Notebooks/타이타닉/test.csv')"
      ],
      "execution_count": null,
      "outputs": []
    },
    {
      "cell_type": "markdown",
      "metadata": {
        "id": "zUS9i9PWNPap"
      },
      "source": [
        "### Tukey의 이상치 탐지법을 적용하는 함수를 작성해라. 그리고 첫번째 이상치인 745번째 값을 저장한 index 리스트에서 삭제해라\n",
        "* output : 이상치가 1개 이상 포함하는 행들의 index의 리스트의 이름을 outliers_to_drop 으로 저장해라"
      ]
    },
    {
      "cell_type": "markdown",
      "metadata": {
        "id": "nLWtBl64NeM9"
      },
      "source": [
        " * 본 이상치 탐지법은 Tukey 방법에 따라 사용자가 지정한 n개 이상의 특이치를 포함하는 관측치를 골라내는 함수를 작성할 것이다.\n",
        "  * detect_outliers 이름의 함수를 정의하라. 이때 들어가는 인수는 DataFrame이름, Outiler 갯수, 변수이름이다.\n",
        "  * 각 변수로 부터 Q1, Q3 ,IQR = Q3 - Q1을 출력하는 변수를 위 Q1,Q3,IQR과 동일 한 이름으로 생성하라\n",
        "  * outlier_step 이름에 IQR에 1.5를 곱해 outlier에 색출될 최소범위를 선택해라\n",
        "  * Q1에서 outlier_step을 뺀 범위 또는 Q3에서 outlier를 더한 범위에 포함되는 index를 가져와 outlier_list_col에 저장하라\n",
        "  * outlier_indices 리스트에 outlier_list_col을 extend해라\n",
        "  * 모든 변수들이 위 extend 결과를 마치면, 이때 Counter 함수를 활용해 각 원소들이 몇번 반복됬는지 계산하여 outlier_indices에 덮어써라\n",
        "  * outlier_indices 리스트의 값들을 outlier_indices 리스트에서 2개 이상의 이상치를 포함하고 있을때의 관측치를 선택하라. multiple_outliers에 저장하고 return해라\n",
        "\n",
        "\n",
        "``` \n",
        "1. extend 함수는 리스트 끝에 반복되는 값이 리스트 일 경우 뒤에 붙여주는 역할을 함 \n",
        " -> 이떄 extend에 사용되는 리스트를 처음 지정하는 = [] 위치는 for문에 속해있으면 안된다. 조심할것!\n",
        "2. 코드 예시에서는 np.percentile()을 사용했으나 Fare의 경우 결측(nan)이 존재하여 Q1, Q3결과가 nan으로 출력됨.\n",
        " -> np.nanpercentile() 으로 nan을 무시하고 출력하도록 함.\n",
        " 3. Counter() 함수는 한 리스트 내에 동일한 값이 몇개 있는지 딕셔너리 형태로 출력해준다.\n",
        " 4. Counter()함수로 만든 딕셔너리를 .items()로 가져오면 순서쌍으로 묶어준다. 따라서 for 문 내 두 개의 iterator를 사용하더라도 zip()을 안쓰고도 가져올 수 있게된다.\n",
        "```"
      ]
    },
    {
      "cell_type": "code",
      "metadata": {
        "id": "nnkNVt0QNO4h"
      },
      "source": [
        "def detect_outliers(df, n, features):\n",
        "  ## outliers가 한개 이상 포함된다고 표현할 때 n=1을 입력해주면 된다.\n",
        "  outlier_indices = []\n",
        "  for col in features :\n",
        "    print(\"=========================\")\n",
        "    print(\"col name : \", col)\n",
        "    Q1 = np.nanpercentile(df[col], 25)\n",
        "    print(\"Q1 : \",Q1)\n",
        "    Q3 = np.nanpercentile(df[col],75)\n",
        "    print(\"Q3 : \",Q3)\n",
        "    IQR = Q3 - Q1\n",
        "    print(\"IQR : \",IQR)\n",
        "    outlier_step = 1.5*IQR\n",
        "    print(\"outlier_step : \",outlier_step)\n",
        "    outlier_list_col = df[(df[col]<Q1 - outlier_step)|(df[col]>Q3+outlier_step)].index\n",
        "    print(\"outlier_list_col : \",outlier_list_col)\n",
        "    outlier_indices.extend(outlier_list_col)\n",
        "    print(\"outlier_indices extend 전 :\",outlier_indices)\n",
        "  \n",
        "  outlier_indices = Counter(outlier_indices)\n",
        "  print(\"outlier_indices extend 후 :\",outlier_indices)\n",
        "  print(\"outlier_indices.items() : \",outlier_indices.items())\n",
        "  multiple_outliers = list(k for k, v in outlier_indices.items() if v>n)\n",
        "  print(\"multiple_outliers : \",multiple_outliers)\n",
        "  return multiple_outliers\n",
        "\n",
        "outliers_to_drop = detect_outliers(train,1,['Age','SibSp','Fare'])\n",
        "print(\"출력 된 값은 ? : \",outliers_to_drop)\n",
        "\n",
        "\n",
        "del outliers_to_drop[0]"
      ],
      "execution_count": null,
      "outputs": []
    },
    {
      "cell_type": "markdown",
      "metadata": {
        "id": "l8h5w_DAOPJr"
      },
      "source": [
        "### outliers_to_drop에 해당하는 index를 train에서 삭제하고 index를 다시 정렬해"
      ]
    },
    {
      "cell_type": "code",
      "metadata": {
        "colab": {
          "base_uri": "https://localhost:8080/"
        },
        "id": "uWhUiSBtOdal",
        "outputId": "e82bd8cf-c7b6-473d-ebb7-3462f29c7b39"
      },
      "source": [
        "train.drop(outliers_to_drop, axis=0).reset_index(drop=True)"
      ],
      "execution_count": null,
      "outputs": [
        {
          "output_type": "execute_result",
          "data": {
            "text/html": [
              "<div>\n",
              "<style scoped>\n",
              "    .dataframe tbody tr th:only-of-type {\n",
              "        vertical-align: middle;\n",
              "    }\n",
              "\n",
              "    .dataframe tbody tr th {\n",
              "        vertical-align: top;\n",
              "    }\n",
              "\n",
              "    .dataframe thead th {\n",
              "        text-align: right;\n",
              "    }\n",
              "</style>\n",
              "<table border=\"1\" class=\"dataframe\">\n",
              "  <thead>\n",
              "    <tr style=\"text-align: right;\">\n",
              "      <th></th>\n",
              "      <th>PassengerId</th>\n",
              "      <th>Survived</th>\n",
              "      <th>Pclass</th>\n",
              "      <th>Name</th>\n",
              "      <th>Sex</th>\n",
              "      <th>Age</th>\n",
              "      <th>SibSp</th>\n",
              "      <th>Parch</th>\n",
              "      <th>Ticket</th>\n",
              "      <th>Fare</th>\n",
              "      <th>Cabin</th>\n",
              "      <th>Embarked</th>\n",
              "    </tr>\n",
              "  </thead>\n",
              "  <tbody>\n",
              "    <tr>\n",
              "      <th>0</th>\n",
              "      <td>1</td>\n",
              "      <td>0</td>\n",
              "      <td>3</td>\n",
              "      <td>Braund, Mr. Owen Harris</td>\n",
              "      <td>male</td>\n",
              "      <td>22.0</td>\n",
              "      <td>1</td>\n",
              "      <td>0</td>\n",
              "      <td>A/5 21171</td>\n",
              "      <td>7.2500</td>\n",
              "      <td>NaN</td>\n",
              "      <td>S</td>\n",
              "    </tr>\n",
              "    <tr>\n",
              "      <th>1</th>\n",
              "      <td>2</td>\n",
              "      <td>1</td>\n",
              "      <td>1</td>\n",
              "      <td>Cumings, Mrs. John Bradley (Florence Briggs Th...</td>\n",
              "      <td>female</td>\n",
              "      <td>38.0</td>\n",
              "      <td>1</td>\n",
              "      <td>0</td>\n",
              "      <td>PC 17599</td>\n",
              "      <td>71.2833</td>\n",
              "      <td>C85</td>\n",
              "      <td>C</td>\n",
              "    </tr>\n",
              "    <tr>\n",
              "      <th>2</th>\n",
              "      <td>3</td>\n",
              "      <td>1</td>\n",
              "      <td>3</td>\n",
              "      <td>Heikkinen, Miss. Laina</td>\n",
              "      <td>female</td>\n",
              "      <td>26.0</td>\n",
              "      <td>0</td>\n",
              "      <td>0</td>\n",
              "      <td>STON/O2. 3101282</td>\n",
              "      <td>7.9250</td>\n",
              "      <td>NaN</td>\n",
              "      <td>S</td>\n",
              "    </tr>\n",
              "    <tr>\n",
              "      <th>3</th>\n",
              "      <td>4</td>\n",
              "      <td>1</td>\n",
              "      <td>1</td>\n",
              "      <td>Futrelle, Mrs. Jacques Heath (Lily May Peel)</td>\n",
              "      <td>female</td>\n",
              "      <td>35.0</td>\n",
              "      <td>1</td>\n",
              "      <td>0</td>\n",
              "      <td>113803</td>\n",
              "      <td>53.1000</td>\n",
              "      <td>C123</td>\n",
              "      <td>S</td>\n",
              "    </tr>\n",
              "    <tr>\n",
              "      <th>4</th>\n",
              "      <td>5</td>\n",
              "      <td>0</td>\n",
              "      <td>3</td>\n",
              "      <td>Allen, Mr. William Henry</td>\n",
              "      <td>male</td>\n",
              "      <td>35.0</td>\n",
              "      <td>0</td>\n",
              "      <td>0</td>\n",
              "      <td>373450</td>\n",
              "      <td>8.0500</td>\n",
              "      <td>NaN</td>\n",
              "      <td>S</td>\n",
              "    </tr>\n",
              "    <tr>\n",
              "      <th>...</th>\n",
              "      <td>...</td>\n",
              "      <td>...</td>\n",
              "      <td>...</td>\n",
              "      <td>...</td>\n",
              "      <td>...</td>\n",
              "      <td>...</td>\n",
              "      <td>...</td>\n",
              "      <td>...</td>\n",
              "      <td>...</td>\n",
              "      <td>...</td>\n",
              "      <td>...</td>\n",
              "      <td>...</td>\n",
              "    </tr>\n",
              "    <tr>\n",
              "      <th>876</th>\n",
              "      <td>887</td>\n",
              "      <td>0</td>\n",
              "      <td>2</td>\n",
              "      <td>Montvila, Rev. Juozas</td>\n",
              "      <td>male</td>\n",
              "      <td>27.0</td>\n",
              "      <td>0</td>\n",
              "      <td>0</td>\n",
              "      <td>211536</td>\n",
              "      <td>13.0000</td>\n",
              "      <td>NaN</td>\n",
              "      <td>S</td>\n",
              "    </tr>\n",
              "    <tr>\n",
              "      <th>877</th>\n",
              "      <td>888</td>\n",
              "      <td>1</td>\n",
              "      <td>1</td>\n",
              "      <td>Graham, Miss. Margaret Edith</td>\n",
              "      <td>female</td>\n",
              "      <td>19.0</td>\n",
              "      <td>0</td>\n",
              "      <td>0</td>\n",
              "      <td>112053</td>\n",
              "      <td>30.0000</td>\n",
              "      <td>B42</td>\n",
              "      <td>S</td>\n",
              "    </tr>\n",
              "    <tr>\n",
              "      <th>878</th>\n",
              "      <td>889</td>\n",
              "      <td>0</td>\n",
              "      <td>3</td>\n",
              "      <td>Johnston, Miss. Catherine Helen \"Carrie\"</td>\n",
              "      <td>female</td>\n",
              "      <td>NaN</td>\n",
              "      <td>1</td>\n",
              "      <td>2</td>\n",
              "      <td>W./C. 6607</td>\n",
              "      <td>23.4500</td>\n",
              "      <td>NaN</td>\n",
              "      <td>S</td>\n",
              "    </tr>\n",
              "    <tr>\n",
              "      <th>879</th>\n",
              "      <td>890</td>\n",
              "      <td>1</td>\n",
              "      <td>1</td>\n",
              "      <td>Behr, Mr. Karl Howell</td>\n",
              "      <td>male</td>\n",
              "      <td>26.0</td>\n",
              "      <td>0</td>\n",
              "      <td>0</td>\n",
              "      <td>111369</td>\n",
              "      <td>30.0000</td>\n",
              "      <td>C148</td>\n",
              "      <td>C</td>\n",
              "    </tr>\n",
              "    <tr>\n",
              "      <th>880</th>\n",
              "      <td>891</td>\n",
              "      <td>0</td>\n",
              "      <td>3</td>\n",
              "      <td>Dooley, Mr. Patrick</td>\n",
              "      <td>male</td>\n",
              "      <td>32.0</td>\n",
              "      <td>0</td>\n",
              "      <td>0</td>\n",
              "      <td>370376</td>\n",
              "      <td>7.7500</td>\n",
              "      <td>NaN</td>\n",
              "      <td>Q</td>\n",
              "    </tr>\n",
              "  </tbody>\n",
              "</table>\n",
              "<p>881 rows × 12 columns</p>\n",
              "</div>"
            ],
            "text/plain": [
              "     PassengerId  Survived  Pclass  ...     Fare Cabin  Embarked\n",
              "0              1         0       3  ...   7.2500   NaN         S\n",
              "1              2         1       1  ...  71.2833   C85         C\n",
              "2              3         1       3  ...   7.9250   NaN         S\n",
              "3              4         1       1  ...  53.1000  C123         S\n",
              "4              5         0       3  ...   8.0500   NaN         S\n",
              "..           ...       ...     ...  ...      ...   ...       ...\n",
              "876          887         0       2  ...  13.0000   NaN         S\n",
              "877          888         1       1  ...  30.0000   B42         S\n",
              "878          889         0       3  ...  23.4500   NaN         S\n",
              "879          890         1       1  ...  30.0000  C148         C\n",
              "880          891         0       3  ...   7.7500   NaN         Q\n",
              "\n",
              "[881 rows x 12 columns]"
            ]
          },
          "metadata": {},
          "execution_count": 148
        }
      ]
    },
    {
      "cell_type": "markdown",
      "metadata": {
        "id": "yQhhqobXOlo0"
      },
      "source": [
        "### train의 행의 갯수를 train_len에 저장하고 train, test셋을 dataset 이름으로 결합해라"
      ]
    },
    {
      "cell_type": "code",
      "metadata": {
        "id": "rb4KEXOOOsvL"
      },
      "source": [
        "train_len=len(train)\n",
        "\n",
        "dataset = pd.concat([train,test], axis=0).reset_index(drop=True)"
      ],
      "execution_count": null,
      "outputs": []
    },
    {
      "cell_type": "markdown",
      "metadata": {
        "id": "jHpGctPzOxIg"
      },
      "source": [
        "### train의 변수 타입을 확인하고, NaN과 비어있는 값을 NAN으로 바꾸어라. 그리고 NUll이 얼마나 있는지 확인해라"
      ]
    },
    {
      "cell_type": "code",
      "metadata": {
        "colab": {
          "base_uri": "https://localhost:8080/"
        },
        "id": "ruXMIsw4O5lv",
        "outputId": "31f12301-a645-4a68-9099-7bdb75d49634"
      },
      "source": [
        "dataset = dataset.fillna(np.nan)\n",
        "dataset.isnull().sum()"
      ],
      "execution_count": null,
      "outputs": [
        {
          "output_type": "execute_result",
          "data": {
            "text/plain": [
              "PassengerId       0\n",
              "Survived        418\n",
              "Pclass            0\n",
              "Name              0\n",
              "Sex               0\n",
              "Age             263\n",
              "SibSp             0\n",
              "Parch             0\n",
              "Ticket            0\n",
              "Fare              1\n",
              "Cabin          1014\n",
              "Embarked          2\n",
              "dtype: int64"
            ]
          },
          "metadata": {},
          "execution_count": 150
        }
      ]
    },
    {
      "cell_type": "markdown",
      "metadata": {
        "id": "zYGAQ0inO8UE"
      },
      "source": [
        "### train의 요약통계량을 내라"
      ]
    },
    {
      "cell_type": "code",
      "metadata": {
        "colab": {
          "base_uri": "https://localhost:8080/"
        },
        "id": "fTgQV3mPPBy_",
        "outputId": "a2387b59-cda4-4a1e-d220-76a937b32f00"
      },
      "source": [
        "train.describe()"
      ],
      "execution_count": null,
      "outputs": [
        {
          "output_type": "execute_result",
          "data": {
            "text/html": [
              "<div>\n",
              "<style scoped>\n",
              "    .dataframe tbody tr th:only-of-type {\n",
              "        vertical-align: middle;\n",
              "    }\n",
              "\n",
              "    .dataframe tbody tr th {\n",
              "        vertical-align: top;\n",
              "    }\n",
              "\n",
              "    .dataframe thead th {\n",
              "        text-align: right;\n",
              "    }\n",
              "</style>\n",
              "<table border=\"1\" class=\"dataframe\">\n",
              "  <thead>\n",
              "    <tr style=\"text-align: right;\">\n",
              "      <th></th>\n",
              "      <th>PassengerId</th>\n",
              "      <th>Survived</th>\n",
              "      <th>Pclass</th>\n",
              "      <th>Age</th>\n",
              "      <th>SibSp</th>\n",
              "      <th>Parch</th>\n",
              "      <th>Fare</th>\n",
              "    </tr>\n",
              "  </thead>\n",
              "  <tbody>\n",
              "    <tr>\n",
              "      <th>count</th>\n",
              "      <td>891.000000</td>\n",
              "      <td>891.000000</td>\n",
              "      <td>891.000000</td>\n",
              "      <td>714.000000</td>\n",
              "      <td>891.000000</td>\n",
              "      <td>891.000000</td>\n",
              "      <td>891.000000</td>\n",
              "    </tr>\n",
              "    <tr>\n",
              "      <th>mean</th>\n",
              "      <td>446.000000</td>\n",
              "      <td>0.383838</td>\n",
              "      <td>2.308642</td>\n",
              "      <td>29.699118</td>\n",
              "      <td>0.523008</td>\n",
              "      <td>0.381594</td>\n",
              "      <td>32.204208</td>\n",
              "    </tr>\n",
              "    <tr>\n",
              "      <th>std</th>\n",
              "      <td>257.353842</td>\n",
              "      <td>0.486592</td>\n",
              "      <td>0.836071</td>\n",
              "      <td>14.526497</td>\n",
              "      <td>1.102743</td>\n",
              "      <td>0.806057</td>\n",
              "      <td>49.693429</td>\n",
              "    </tr>\n",
              "    <tr>\n",
              "      <th>min</th>\n",
              "      <td>1.000000</td>\n",
              "      <td>0.000000</td>\n",
              "      <td>1.000000</td>\n",
              "      <td>0.420000</td>\n",
              "      <td>0.000000</td>\n",
              "      <td>0.000000</td>\n",
              "      <td>0.000000</td>\n",
              "    </tr>\n",
              "    <tr>\n",
              "      <th>25%</th>\n",
              "      <td>223.500000</td>\n",
              "      <td>0.000000</td>\n",
              "      <td>2.000000</td>\n",
              "      <td>20.125000</td>\n",
              "      <td>0.000000</td>\n",
              "      <td>0.000000</td>\n",
              "      <td>7.910400</td>\n",
              "    </tr>\n",
              "    <tr>\n",
              "      <th>50%</th>\n",
              "      <td>446.000000</td>\n",
              "      <td>0.000000</td>\n",
              "      <td>3.000000</td>\n",
              "      <td>28.000000</td>\n",
              "      <td>0.000000</td>\n",
              "      <td>0.000000</td>\n",
              "      <td>14.454200</td>\n",
              "    </tr>\n",
              "    <tr>\n",
              "      <th>75%</th>\n",
              "      <td>668.500000</td>\n",
              "      <td>1.000000</td>\n",
              "      <td>3.000000</td>\n",
              "      <td>38.000000</td>\n",
              "      <td>1.000000</td>\n",
              "      <td>0.000000</td>\n",
              "      <td>31.000000</td>\n",
              "    </tr>\n",
              "    <tr>\n",
              "      <th>max</th>\n",
              "      <td>891.000000</td>\n",
              "      <td>1.000000</td>\n",
              "      <td>3.000000</td>\n",
              "      <td>80.000000</td>\n",
              "      <td>8.000000</td>\n",
              "      <td>6.000000</td>\n",
              "      <td>512.329200</td>\n",
              "    </tr>\n",
              "  </tbody>\n",
              "</table>\n",
              "</div>"
            ],
            "text/plain": [
              "       PassengerId    Survived      Pclass  ...       SibSp       Parch        Fare\n",
              "count   891.000000  891.000000  891.000000  ...  891.000000  891.000000  891.000000\n",
              "mean    446.000000    0.383838    2.308642  ...    0.523008    0.381594   32.204208\n",
              "std     257.353842    0.486592    0.836071  ...    1.102743    0.806057   49.693429\n",
              "min       1.000000    0.000000    1.000000  ...    0.000000    0.000000    0.000000\n",
              "25%     223.500000    0.000000    2.000000  ...    0.000000    0.000000    7.910400\n",
              "50%     446.000000    0.000000    3.000000  ...    0.000000    0.000000   14.454200\n",
              "75%     668.500000    1.000000    3.000000  ...    1.000000    0.000000   31.000000\n",
              "max     891.000000    1.000000    3.000000  ...    8.000000    6.000000  512.329200\n",
              "\n",
              "[8 rows x 7 columns]"
            ]
          },
          "metadata": {},
          "execution_count": 151
        }
      ]
    },
    {
      "cell_type": "markdown",
      "metadata": {
        "id": "xHyiAn4DPFm2"
      },
      "source": [
        "### dataset 데이터를 활용하여 \"Survived\",\"SibSp\",\"Parch\",\"Age\",\"Fare\"의 corrlation을 계산하고 시각화해라\n",
        "  * sns.heatmap으로 표현하라\n",
        "  * 단, 각 corr에는 값이 표기되어야 한다.\n",
        "  * coolwarm으로 시각 색을 바꾸어라"
      ]
    },
    {
      "cell_type": "code",
      "metadata": {
        "colab": {
          "base_uri": "https://localhost:8080/"
        },
        "id": "9oKk3-yAPf_0",
        "outputId": "55592541-ffdd-4f06-ff02-086d32edc881"
      },
      "source": [
        "g = sns.heatmap(train[['Survived','SibSp','Parch','Age','Fare']].corr(), annot=True, fmt = '.2f',cmap = 'coolwarm')"
      ],
      "execution_count": null,
      "outputs": [
        {
          "output_type": "display_data",
          "data": {
            "image/png": "[encoded data removed]",
            "text/plain": [
              "<Figure size 432x288 with 2 Axes>"
            ]
          },
          "metadata": {}
        }
      ]
    },
    {
      "cell_type": "markdown",
      "metadata": {
        "id": "4nhNWLH4PxsT"
      },
      "source": [
        "### train의 생존 = 1, 사망 = 0인 Survived와 SibSp의 생존 비율을 보기 위해 막대그래프를 그려라. \n",
        "  * ylabels는 Survival probability로 표현하라\n",
        "  * sns.factorplot을 활용해라"
      ]
    },
    {
      "cell_type": "code",
      "metadata": {
        "colab": {
          "base_uri": "https://localhost:8080/"
        },
        "id": "Ftcb-n1BPofu",
        "outputId": "5bbd05ed-5afc-4fda-eed6-0c573d3221db"
      },
      "source": [
        "g = sns.factorplot(x = 'SibSp', y='Survived', data=train, kind = 'bar', size=6, palette='muted')\n",
        "g = g.set_ylabels(\"Survival probability\")"
      ],
      "execution_count": null,
      "outputs": [
        {
          "output_type": "stream",
          "name": "stderr",
          "text": [
            "/usr/local/lib/python3.7/dist-packages/seaborn/categorical.py:3717: UserWarning: The `factorplot` function has been renamed to `catplot`. The original name will be removed in a future release. Please update your code. Note that the default `kind` in `factorplot` (`'point'`) has changed `'strip'` in `catplot`.\n",
            "  warnings.warn(msg)\n",
            "/usr/local/lib/python3.7/dist-packages/seaborn/categorical.py:3723: UserWarning: The `size` parameter has been renamed to `height`; please update your code.\n",
            "  warnings.warn(msg, UserWarning)\n"
          ]
        },
        {
          "output_type": "display_data",
          "data": {
            "image/png": "[encoded data removed]",
            "text/plain": [
              "<Figure size 432x432 with 1 Axes>"
            ]
          },
          "metadata": {}
        }
      ]
    },
    {
      "cell_type": "code",
      "metadata": {
        "id": "59UmrZ_dQFXk"
      },
      "source": [
        ""
      ],
      "execution_count": null,
      "outputs": []
    },
    {
      "cell_type": "markdown",
      "metadata": {
        "id": "uts9MQfvQT5v"
      },
      "source": [
        "### Survived 변수를 활용하여 train의 생존, 사망 각각에 나이가 null이 아닌 Age의 분포 플롯을 그려라\n",
        "  * 두개의 그래프를 겹쳐야 한다.\n",
        "  * 생존은 Red로, 사망은 Blue로 색을 표현하라\n",
        "  * xlabel은 Age로, ylabel은 Frequency로 표현해라\n",
        "  * 각 그래프별 범례(legend)를 각각 Not Survived, Survived로 표현하라"
      ]
    },
    {
      "cell_type": "code",
      "metadata": {
        "colab": {
          "base_uri": "https://localhost:8080/"
        },
        "id": "Yn8GbhRuQ_Aw",
        "outputId": "a98105d1-6c6f-46db-b4d7-8528b25d549f"
      },
      "source": [
        "g = sns.distplot(train['Age'][(train['Survived']==0)&(train[\"Age\"].notnull())],\\\n",
        "                color='Red')\n",
        "g = sns.distplot(train['Age'][(train['Survived']==1)&(train['Age'].notnull())],\\\n",
        "                ax=g, color=\"Blue\")\n",
        "g.set_xlabel(\"Age\")\n",
        "g.set_ylabel(\"Frequency\")\n",
        "g = g.legend([\"Not Survived\",\"Survived\"])"
      ],
      "execution_count": null,
      "outputs": [
        {
          "output_type": "stream",
          "name": "stderr",
          "text": [
            "/usr/local/lib/python3.7/dist-packages/seaborn/distributions.py:2619: FutureWarning: `distplot` is a deprecated function and will be removed in a future version. Please adapt your code to use either `displot` (a figure-level function with similar flexibility) or `histplot` (an axes-level function for histograms).\n",
            "  warnings.warn(msg, FutureWarning)\n",
            "/usr/local/lib/python3.7/dist-packages/seaborn/distributions.py:2619: FutureWarning: `distplot` is a deprecated function and will be removed in a future version. Please adapt your code to use either `displot` (a figure-level function with similar flexibility) or `histplot` (an axes-level function for histograms).\n",
            "  warnings.warn(msg, FutureWarning)\n"
          ]
        },
        {
          "output_type": "display_data",
          "data": {
            "image/png": "[encoded data removed]",
            "text/plain": [
              "<Figure size 432x288 with 1 Axes>"
            ]
          },
          "metadata": {}
        }
      ]
    },
    {
      "cell_type": "markdown",
      "metadata": {
        "id": "AxvwwkdmRHRS"
      },
      "source": [
        "### dataset의 Fare 변수의 결측을 Fare 중앙값으로 대체해라"
      ]
    },
    {
      "cell_type": "code",
      "metadata": {
        "id": "Nwl8y_KBRAYE"
      },
      "source": [
        "dataset['Fare'] = dataset['Fare'].fillna(dataset[\"Fare\"].median())"
      ],
      "execution_count": null,
      "outputs": []
    },
    {
      "cell_type": "markdown",
      "metadata": {
        "id": "ymK0iXXmRBt6"
      },
      "source": [
        "### train의 skewness를 계산하고 Fare 분포를 그려라\n",
        "  * 이때 label은 skewness값이 표기되어야 하며 이는 소수점 두번째 자리까지 표현되야 한다.\n",
        "  * label을 범례로 표현하라"
      ]
    },
    {
      "cell_type": "code",
      "metadata": {
        "colab": {
          "base_uri": "https://localhost:8080/",
          "height": 338
        },
        "id": "GVryUAMGRrR8",
        "outputId": "17d178d5-f492-435c-a81c-87beed39786a"
      },
      "source": [
        "g = sns.distplot(train['Fare'], color=\"m\", label=\"skewness : %.2f\"%(dataset['Fare'].skew()))\n",
        "g = g.legend(loc='best')"
      ],
      "execution_count": null,
      "outputs": [
        {
          "output_type": "stream",
          "name": "stderr",
          "text": [
            "/usr/local/lib/python3.7/dist-packages/seaborn/distributions.py:2619: FutureWarning: `distplot` is a deprecated function and will be removed in a future version. Please adapt your code to use either `displot` (a figure-level function with similar flexibility) or `histplot` (an axes-level function for histograms).\n",
            "  warnings.warn(msg, FutureWarning)\n"
          ]
        },
        {
          "output_type": "display_data",
          "data": {
            "image/png": "[encoded data removed]",
            "text/plain": [
              "<Figure size 432x288 with 1 Axes>"
            ]
          },
          "metadata": {}
        }
      ]
    },
    {
      "cell_type": "markdown",
      "metadata": {
        "id": "x7XX3558Rugz"
      },
      "source": [
        "### Fare 변수를 dataset의 Fare변수로 대체하는데, 각 값을 log취하라\n",
        "  * map()과 lambda를 이용해라"
      ]
    },
    {
      "cell_type": "code",
      "metadata": {
        "id": "Bge6AI4JRs7P"
      },
      "source": [
        "dataset[\"Fare\"] = dataset['Fare'].map(lambda i: np.log(i) if i > 0 else 0)"
      ],
      "execution_count": null,
      "outputs": []
    },
    {
      "cell_type": "markdown",
      "metadata": {
        "id": "hzwSvJz9R8n1"
      },
      "source": [
        "### train 데이터의 성별(Sex)을 생존율(Survived)에 대한 막대그래프를 그려라\n",
        "  * sns의 barplot을 활용해라\n",
        "  * 이때 ylabel은 Survival Probability로 표현하라"
      ]
    },
    {
      "cell_type": "code",
      "metadata": {
        "colab": {
          "base_uri": "https://localhost:8080/"
        },
        "id": "aMA1tjv5R8SJ",
        "outputId": "1ba27aa6-9967-458f-9c6e-4fb127296d03"
      },
      "source": [
        "g = sns.barplot(x=\"Sex\", y=\"Survived\", data=train)\n",
        "g = g.set_ylabel(\"Survival Probabilty\")"
      ],
      "execution_count": null,
      "outputs": [
        {
          "output_type": "display_data",
          "data": {
            "image/png": "[encoded data removed]",
            "text/plain": [
              "<Figure size 432x288 with 1 Axes>"
            ]
          },
          "metadata": {}
        }
      ]
    },
    {
      "cell_type": "markdown",
      "metadata": {
        "id": "izQ1z0M9SWKf"
      },
      "source": [
        "### train 데이터의 성별별 Survived의 평균을 계산하라"
      ]
    },
    {
      "cell_type": "code",
      "metadata": {
        "colab": {
          "base_uri": "https://localhost:8080/"
        },
        "id": "YXQWHi_1Sg_L",
        "outputId": "90d9b9a9-31b9-4668-c4e7-dc38c1e19a8b"
      },
      "source": [
        "train.groupby('Sex')['Survived'].mean()"
      ],
      "execution_count": null,
      "outputs": [
        {
          "output_type": "execute_result",
          "data": {
            "text/plain": [
              "Sex\n",
              "female    0.742038\n",
              "male      0.188908\n",
              "Name: Survived, dtype: float64"
            ]
          },
          "metadata": {},
          "execution_count": 159
        }
      ]
    },
    {
      "cell_type": "markdown",
      "metadata": {
        "id": "uzxF1FS-Sp4a"
      },
      "source": [
        "### train의 성별에 따른 Pclass와 Survival그래프를 그려라.  \n",
        "(성별이 group이 된다.)\n",
        "  * sns의 factorplot을 활용하여 그려라\n",
        "  * ylabel은 Survival Probability로 표현하라\n"
      ]
    },
    {
      "cell_type": "code",
      "metadata": {
        "id": "7G9q3XIUSksf",
        "colab": {
          "base_uri": "https://localhost:8080/"
        },
        "outputId": "53f3183f-7ecc-443c-cae3-f5eb40c709c6"
      },
      "source": [
        "g = sns.factorplot(x='Pclass', y=\"Survived\",hue='Sex', data=train,\\\n",
        "                   size=6, kind='bar',palette='muted')\n",
        "g.despine(left=True)\n",
        "g = g.set_ylabels(\"survival probability\")"
      ],
      "execution_count": null,
      "outputs": [
        {
          "output_type": "stream",
          "name": "stderr",
          "text": [
            "/usr/local/lib/python3.7/dist-packages/seaborn/categorical.py:3717: UserWarning: The `factorplot` function has been renamed to `catplot`. The original name will be removed in a future release. Please update your code. Note that the default `kind` in `factorplot` (`'point'`) has changed `'strip'` in `catplot`.\n",
            "  warnings.warn(msg)\n",
            "/usr/local/lib/python3.7/dist-packages/seaborn/categorical.py:3723: UserWarning: The `size` parameter has been renamed to `height`; please update your code.\n",
            "  warnings.warn(msg, UserWarning)\n"
          ]
        },
        {
          "output_type": "display_data",
          "data": {
            "image/png": "[encoded data removed]",
            "text/plain": [
              "<Figure size 509.975x432 with 1 Axes>"
            ]
          },
          "metadata": {}
        }
      ]
    },
    {
      "cell_type": "markdown",
      "metadata": {
        "id": "YcNMrCYpTQ6z"
      },
      "source": [
        "### dataset 데이터의 Embarked의 null값을 계산하고 최빈값으로 대체해라 "
      ]
    },
    {
      "cell_type": "code",
      "metadata": {
        "id": "J7GvYLV0ToRx"
      },
      "source": [
        "dataset[\"Embarked\"] = dataset.loc[dataset.Embarked.isnull(), \"Embarked\"] = dataset['Embarked'].mode()[0]"
      ],
      "execution_count": null,
      "outputs": []
    },
    {
      "cell_type": "markdown",
      "metadata": {
        "id": "kDLjtiOqTtlS"
      },
      "source": [
        "### dataset 데이터의 Pclass별 Embarked의 count 그래프를 그려라\n",
        "  * sns와 factorplot를 활용해라\n",
        "  * 하나의 그래프에 Embarked가 몰려 있는게 아닌, Embarked 별로(즉 3개의) 그래프가 그려져야 한다.\n",
        "  * y축이 빈도가아닌 count임에 유의해라\n",
        "  * ylabel은 Count로 표기해라"
      ]
    },
    {
      "cell_type": "code",
      "metadata": {
        "colab": {
          "base_uri": "https://localhost:8080/"
        },
        "id": "btgugV0-TsAK",
        "outputId": "e25a3838-3c76-4ae2-d95d-745bf60fc59e"
      },
      "source": [
        "g = sns.factorplot('Pclass', col='Embarked', data=train,\\\n",
        "                   size=6, kind=\"count\",palette=\"muted\")\n",
        "g.despine(left=True)\n",
        "g = g.set_ylabels(\"Count\")"
      ],
      "execution_count": null,
      "outputs": [
        {
          "output_type": "stream",
          "name": "stderr",
          "text": [
            "/usr/local/lib/python3.7/dist-packages/seaborn/categorical.py:3717: UserWarning: The `factorplot` function has been renamed to `catplot`. The original name will be removed in a future release. Please update your code. Note that the default `kind` in `factorplot` (`'point'`) has changed `'strip'` in `catplot`.\n",
            "  warnings.warn(msg)\n",
            "/usr/local/lib/python3.7/dist-packages/seaborn/categorical.py:3723: UserWarning: The `size` parameter has been renamed to `height`; please update your code.\n",
            "  warnings.warn(msg, UserWarning)\n",
            "/usr/local/lib/python3.7/dist-packages/seaborn/_decorators.py:43: FutureWarning: Pass the following variable as a keyword arg: x. From version 0.12, the only valid positional argument will be `data`, and passing other arguments without an explicit keyword will result in an error or misinterpretation.\n",
            "  FutureWarning\n"
          ]
        },
        {
          "output_type": "display_data",
          "data": {
            "image/png": "[encoded data removed]",
            "text/plain": [
              "<Figure size 1296x432 with 3 Axes>"
            ]
          },
          "metadata": {}
        }
      ]
    },
    {
      "cell_type": "markdown",
      "metadata": {
        "id": "CWFTkflEVXp0"
      },
      "source": [
        "### dataset을 이용하여 y축이 age이며 x축이 Sex, Parch, SibSp인 상자그림을 그려라.\n",
        "  * y축이 age, x축이 Sex인 경우 두개의 상자그림을 그려라. 이때 하나는 Pclass로 grouping하여라."
      ]
    },
    {
      "cell_type": "code",
      "metadata": {
        "colab": {
          "base_uri": "https://localhost:8080/"
        },
        "id": "nhPfggnGWNbd",
        "outputId": "39325cb6-2189-4dcb-b509-e4738e4c5bfb"
      },
      "source": [
        "g = sns.factorplot(y='Age', x='Sex', data=dataset, kind='box')\n",
        "g = sns.factorplot(y='Age', x='Sex', hue='Pclass', data=dataset, kind='box')\n",
        "g = sns.factorplot(y='Age', x='Parch', data=dataset, kind='box')\n",
        "g = sns.factorplot(y='Age', x='SibSp', data=dataset, kind='box')"
      ],
      "execution_count": null,
      "outputs": [
        {
          "output_type": "stream",
          "name": "stderr",
          "text": [
            "/usr/local/lib/python3.7/dist-packages/seaborn/categorical.py:3717: UserWarning: The `factorplot` function has been renamed to `catplot`. The original name will be removed in a future release. Please update your code. Note that the default `kind` in `factorplot` (`'point'`) has changed `'strip'` in `catplot`.\n",
            "  warnings.warn(msg)\n",
            "/usr/local/lib/python3.7/dist-packages/seaborn/categorical.py:3717: UserWarning: The `factorplot` function has been renamed to `catplot`. The original name will be removed in a future release. Please update your code. Note that the default `kind` in `factorplot` (`'point'`) has changed `'strip'` in `catplot`.\n",
            "  warnings.warn(msg)\n",
            "/usr/local/lib/python3.7/dist-packages/seaborn/categorical.py:3717: UserWarning: The `factorplot` function has been renamed to `catplot`. The original name will be removed in a future release. Please update your code. Note that the default `kind` in `factorplot` (`'point'`) has changed `'strip'` in `catplot`.\n",
            "  warnings.warn(msg)\n",
            "/usr/local/lib/python3.7/dist-packages/seaborn/categorical.py:3717: UserWarning: The `factorplot` function has been renamed to `catplot`. The original name will be removed in a future release. Please update your code. Note that the default `kind` in `factorplot` (`'point'`) has changed `'strip'` in `catplot`.\n",
            "  warnings.warn(msg)\n"
          ]
        },
        {
          "output_type": "display_data",
          "data": {
            "image/png": "[encoded data removed]",
            "text/plain": [
              "<Figure size 360x360 with 1 Axes>"
            ]
          },
          "metadata": {}
        },
        {
          "output_type": "display_data",
          "data": {
            "image/png": "[encoded data removed]",
            "text/plain": [
              "<Figure size 406.6x360 with 1 Axes>"
            ]
          },
          "metadata": {}
        },
        {
          "output_type": "display_data",
          "data": {
            "image/png": "[encoded data removed]",
            "text/plain": [
              "<Figure size 360x360 with 1 Axes>"
            ]
          },
          "metadata": {}
        },
        {
          "output_type": "display_data",
          "data": {
            "image/png": "[encoded data removed]",
            "text/plain": [
              "<Figure size 360x360 with 1 Axes>"
            ]
          },
          "metadata": {}
        }
      ]
    },
    {
      "cell_type": "markdown",
      "metadata": {
        "id": "yg3yS6-0WSvH"
      },
      "source": [
        "### dataset의 map함수와 dict을 활용하여 Sex값을 남자면 0, 여자면 1로 대체해라"
      ]
    },
    {
      "cell_type": "code",
      "metadata": {
        "id": "m8Gh4zu5WgOo"
      },
      "source": [
        "dataset['Sex'] = dataset['Sex'].map({'male':0, 'female':1})"
      ],
      "execution_count": null,
      "outputs": []
    },
    {
      "cell_type": "markdown",
      "metadata": {
        "id": "R8iujSnmWmeE"
      },
      "source": [
        "### 위에서 대체한 Sex변수를 Age, Sex, SibSp, Parch, Pclass의 상관계수를 구해라.\n",
        "  * cmap은 BrBG 로 설정해라\n",
        "  * 각 상관계수 값을 표기하라"
      ]
    },
    {
      "cell_type": "code",
      "metadata": {
        "colab": {
          "base_uri": "https://localhost:8080/"
        },
        "id": "j9VHch7HWmNj",
        "outputId": "dfda78e5-a509-4204-cb18-eb4009a03c34"
      },
      "source": [
        "g = sns.heatmap(dataset[['Age','Sex','SibSp','Parch','Pclass']].corr(),cmap='BrBG',\\\n",
        "                annot=True)"
      ],
      "execution_count": null,
      "outputs": [
        {
          "output_type": "display_data",
          "data": {
            "image/png": "[encoded data removed]",
            "text/plain": [
              "<Figure size 432x288 with 2 Axes>"
            ]
          },
          "metadata": {}
        }
      ]
    },
    {
      "cell_type": "markdown",
      "metadata": {
        "id": "2ocS6pf1XEGm"
      },
      "source": [
        "### dataset의 Pclass, Parch, SibSp이 같은 행의 age 중앙값으로 나이(Age) 결측을 대체하는 코드를 작성해라"
      ]
    },
    {
      "cell_type": "markdown",
      "metadata": {
        "id": "qTXPuWqfXHKh"
      },
      "source": [
        "  * index_NaN_age 객체에 Age가 null인 index를 저장하라\n",
        "  * 위의 결측인 인덱스를 이용해 반복문으로 아래 조건을 작성하라\n",
        "    * age_med에 Age의 중앙값을 지정하라\n",
        "    * 결측인 Age 값에 대해 SibSp, Parch, Pclass가 같은 경우의 중앙값을 계산하여 age_pred 객체에 저장하라\n",
        "    * SibSp, Parch, Pclass 중 하나라도 결측이면 age_pred가 결측이 될것이다. 만약 age_pred값이 결측이 아니면 위 index_NaN_Age의 인덱스에 해당하는 age가 age_pred와 같고, 결측이면 Age의 중앙값을 저장한 age_med와 같게 결측을 대체하는 식을 작성해라."
      ]
    },
    {
      "cell_type": "code",
      "metadata": {
        "id": "d-C9nc9JWirU"
      },
      "source": [
        "index_NaN_age = list(dataset['Age'][dataset['Age'].isnull()].index)\n",
        "dataset['Age'] = dataset['Age'].copy()\n",
        "for i in index_NaN_age :\n",
        "  age_med = dataset[\"Age\"].median()\n",
        "  # age의 결측값이 존재하는 index 행 하나의 SibSp, Parch, Pclass가 같은 age행들의 중앙값 구하기\n",
        "  age_pred = dataset['Age'][((dataset['SibSp'] == \\\n",
        "                             dataset.iloc[i]['SibSp']) & \n",
        "                            (dataset['Parch'] == dataset.iloc[i]['Parch']) &\n",
        "                            (dataset['Pclass'] == dataset.iloc[i]['Pclass']))].median()\n",
        "  print('age_pred :', age_pred)\n",
        "  if not np.isnan(age_pred):\n",
        "    dataset['Age'].iloc[i] = age_pred\n",
        "  else :\n",
        "    dataset['Age'].iloc[i] = age_med"
      ],
      "execution_count": null,
      "outputs": []
    },
    {
      "cell_type": "markdown",
      "metadata": {
        "id": "Gj5xrnIiXVNu"
      },
      "source": [
        "### Feature Engineering\n",
        "\n",
        "\n",
        "### dataset의 Name변수를 가져와 dataset_title이름으로 리스트 형태로 저장해라\n",
        "  * 방법1) split(), strip()을 활용해라\n",
        "  * 방법2) ([A-Za-z]+)\\. 정규식을 활용해라"
      ]
    },
    {
      "cell_type": "code",
      "metadata": {
        "id": "ALKqy40PXJjG"
      },
      "source": [
        "# 방법 1 #\n",
        "dataset_title = dataset['Name'].str.extract('([A-Za-z]+)\\.')\n",
        "#알파벳이 하나이상이([A-Za-z]+) , 점(.) 앞에 있는 경우를 출력해라(\\.)\n",
        "\n",
        "# 방법 2 #\n",
        "dataset_title = [i.split(\",\")[1].split(\".\")[0].strip() for i in dataset['Name']]"
      ],
      "execution_count": null,
      "outputs": []
    },
    {
      "cell_type": "markdown",
      "metadata": {
        "id": "1i2F8w9bX9DI"
      },
      "source": [
        "### dataset_title을 dataset 데이터 프레임에 Title 변수로 추가해라"
      ]
    },
    {
      "cell_type": "code",
      "metadata": {
        "id": "d95I-DNSYDnz"
      },
      "source": [
        "dataset['Title'] = pd.Series(dataset_title)"
      ],
      "execution_count": null,
      "outputs": []
    },
    {
      "cell_type": "markdown",
      "metadata": {
        "id": "iBGPrn7YYIJL"
      },
      "source": [
        "### dataset의 Title 변수를 활용해서 count 플롯을 그려라\n",
        "  * sns의 countplot을 활용해라\n",
        "  * x축 라벨을 45도로 회전시켜라"
      ]
    },
    {
      "cell_type": "code",
      "metadata": {
        "colab": {
          "base_uri": "https://localhost:8080/"
        },
        "id": "ptHRSyBGYGI2",
        "outputId": "36069532-766d-4904-d8f7-71cdd44d5779"
      },
      "source": [
        "g = sns.countplot(x='Title', data=dataset)\n",
        "g = plt.setp(g.get_xticklabels(), rotation=45)"
      ],
      "execution_count": null,
      "outputs": [
        {
          "output_type": "display_data",
          "data": {
            "image/png": "[encoded data removed]",
            "text/plain": [
              "<Figure size 432x288 with 1 Axes>"
            ]
          },
          "metadata": {}
        }
      ]
    },
    {
      "cell_type": "markdown",
      "metadata": {
        "id": "BJAH7MV7YhzX"
      },
      "source": [
        "### dataset의 title변수의 주요 4개의 4개의 Mr, Mrs, Miss, Master 외에는 rare 값 하나로 그룹핑 해라. 그리고 각 값을 map함수를 이용하여 범주형 변수로 변환해라.  \n",
        "(\"Master\":0, \"Miss\":1, \"Ms\" : 1 , \"Mme\":1, \"Mlle\":1, \"Mrs\":1, \"Mr\":2, \"Rare\":3)\n",
        "  * reaplce를 이용하여 'Lady', 'the Countess','Countess','Capt', 'Col','Don', 'Dr', 'Major', 'Rev', 'Sir', 'Jonkheer', 'Dona'를 'Rare' 로 대체해라\n",
        "  * 이후 변환한 Title을 int로 변환해라"
      ]
    },
    {
      "cell_type": "code",
      "metadata": {
        "id": "cEF1Jp6kYW6X"
      },
      "source": [
        "dataset[\"Title\"] = dataset[\"Title\"].replace(['Lady', 'the Countess','Countess','Capt', 'Col','Don', 'Dr', 'Major', 'Rev', 'Sir', 'Jonkheer', 'Dona'], 'Rare')\n",
        "dataset[\"Title\"] = dataset[\"Title\"].map({\"Master\":0, \"Miss\":1, \"Ms\" : 1 , \"Mme\":1, \"Mlle\":1, \"Mrs\":1, \"Mr\":2, \"Rare\":3})\n",
        "dataset[\"Title\"] = dataset[\"Title\"].astype(int)"
      ],
      "execution_count": null,
      "outputs": []
    },
    {
      "cell_type": "markdown",
      "metadata": {
        "id": "TiXJYWZtZUam"
      },
      "source": [
        "### x ticklabel을 'Master, 'Miss/Ms/Mme/Mile/Mrs, Mr, Rare 로 표현하는 빈도표를 그려라. 이때 x축은 Title 이다.\n",
        "  * sns countplot을 그려라"
      ]
    },
    {
      "cell_type": "code",
      "metadata": {
        "id": "VeLTWIkDYe9b",
        "colab": {
          "base_uri": "https://localhost:8080/"
        },
        "outputId": "31fd2e8e-1388-4536-8521-9ead5d93bff1"
      },
      "source": [
        "g = sns.countplot(dataset['Title'])\n",
        "g = g.set_xticklabels([\"Master\",\"Miss/Ms/Mme/Mlle/Mrs\",\"Mr\",\"Rare\"])"
      ],
      "execution_count": null,
      "outputs": [
        {
          "output_type": "stream",
          "name": "stderr",
          "text": [
            "/usr/local/lib/python3.7/dist-packages/seaborn/_decorators.py:43: FutureWarning: Pass the following variable as a keyword arg: x. From version 0.12, the only valid positional argument will be `data`, and passing other arguments without an explicit keyword will result in an error or misinterpretation.\n",
            "  FutureWarning\n"
          ]
        },
        {
          "output_type": "display_data",
          "data": {
            "image/png": "[encoded data removed]",
            "text/plain": [
              "<Figure size 432x288 with 1 Axes>"
            ]
          },
          "metadata": {}
        }
      ]
    },
    {
      "cell_type": "markdown",
      "metadata": {
        "id": "sMpQ88dIRcMo"
      },
      "source": [
        "### dataset 데이터셋을 이용해 Fsize 변수를 SibSp + Parch + 1 하여 계산하라. 그리고 factorplot을 그려라.\n",
        "  * x는 Fsize, y는 Survived 이다.\n",
        "  * y축은 빈도가 아닌 생존 확률이며 ylabel을 Survival Probability로 표현하라"
      ]
    },
    {
      "cell_type": "code",
      "metadata": {
        "colab": {
          "base_uri": "https://localhost:8080/"
        },
        "id": "2dNTtcAiRppe",
        "outputId": "67e757dd-dee0-411a-ed3e-d7b67a7de7b5"
      },
      "source": [
        "dataset['Fsize'] = dataset['SibSp'] + dataset['Parch'] +1\n",
        "g = sns.factorplot(x='Fsize', y='Survived', data=dataset)\n",
        "g = g.set_ylabels(\"Survival Probability\")"
      ],
      "execution_count": null,
      "outputs": [
        {
          "output_type": "stream",
          "name": "stderr",
          "text": [
            "/usr/local/lib/python3.7/dist-packages/seaborn/categorical.py:3717: UserWarning: The `factorplot` function has been renamed to `catplot`. The original name will be removed in a future release. Please update your code. Note that the default `kind` in `factorplot` (`'point'`) has changed `'strip'` in `catplot`.\n",
            "  warnings.warn(msg)\n"
          ]
        },
        {
          "output_type": "display_data",
          "data": {
            "image/png": "[encoded data removed]",
            "text/plain": [
              "<Figure size 360x360 with 1 Axes>"
            ]
          },
          "metadata": {}
        }
      ]
    },
    {
      "cell_type": "markdown",
      "metadata": {
        "id": "pQ3RcMjlSNAC"
      },
      "source": [
        "### Fsize가 1이면 Single, 2면 SmallF, 3또는 4이면 MedF, 5이상이면 LargeF인 변수를 생성 하고 각 값에 해당하면 1 아니면 0으로 코딩해라\n",
        "  * map 함수와 lambda를 사용해라."
      ]
    },
    {
      "cell_type": "code",
      "metadata": {
        "id": "UBPT0fu4RduO"
      },
      "source": [
        "dataset['Single'] = dataset['Fsize'].map(lambda s : 1 if s==1 else 0)\n",
        "dataset['SmallF'] = dataset['Fsize'].map(lambda s : 1 if s==2 else 0)\n",
        "dataset['MedF'] = dataset['Fsize'].map(lambda s : 1 if 3<=s<=4 else 0)\n",
        "dataset['LargeF'] = dataset['Fsize'].map(lambda s: 1 if s >=5 else 0)"
      ],
      "execution_count": null,
      "outputs": []
    },
    {
      "cell_type": "markdown",
      "metadata": {
        "id": "5QAACQg5S4aT"
      },
      "source": [
        "### Single, SmallF, MedF, LageF 각 변수에 대해 y가 Survived인 빈도표를 그려라\n",
        "  * for문을 이용해서 변수마다 표현해라\n",
        "  * sns의 factorplot을 활용해라.\n",
        "  * ylabels는 Survival Probability 로 표현해라"
      ]
    },
    {
      "cell_type": "code",
      "metadata": {
        "colab": {
          "base_uri": "https://localhost:8080/"
        },
        "id": "XrXBLIkXS3rw",
        "outputId": "519a1b57-dd84-46e9-bfa7-6099061a8aa5"
      },
      "source": [
        "for i in ['Single','SmallF','MedF', 'LargeF']:\n",
        "  g=sns.factorplot(x=i, y='Survived', data=dataset, kind='bar')\n",
        "  g.set_ylabels(\"Survival Probability\")"
      ],
      "execution_count": null,
      "outputs": [
        {
          "output_type": "stream",
          "name": "stderr",
          "text": [
            "/usr/local/lib/python3.7/dist-packages/seaborn/categorical.py:3717: UserWarning: The `factorplot` function has been renamed to `catplot`. The original name will be removed in a future release. Please update your code. Note that the default `kind` in `factorplot` (`'point'`) has changed `'strip'` in `catplot`.\n",
            "  warnings.warn(msg)\n",
            "/usr/local/lib/python3.7/dist-packages/seaborn/categorical.py:3717: UserWarning: The `factorplot` function has been renamed to `catplot`. The original name will be removed in a future release. Please update your code. Note that the default `kind` in `factorplot` (`'point'`) has changed `'strip'` in `catplot`.\n",
            "  warnings.warn(msg)\n",
            "/usr/local/lib/python3.7/dist-packages/seaborn/categorical.py:3717: UserWarning: The `factorplot` function has been renamed to `catplot`. The original name will be removed in a future release. Please update your code. Note that the default `kind` in `factorplot` (`'point'`) has changed `'strip'` in `catplot`.\n",
            "  warnings.warn(msg)\n",
            "/usr/local/lib/python3.7/dist-packages/seaborn/categorical.py:3717: UserWarning: The `factorplot` function has been renamed to `catplot`. The original name will be removed in a future release. Please update your code. Note that the default `kind` in `factorplot` (`'point'`) has changed `'strip'` in `catplot`.\n",
            "  warnings.warn(msg)\n"
          ]
        },
        {
          "output_type": "display_data",
          "data": {
            "image/png": "[encoded data removed]",
            "text/plain": [
              "<Figure size 360x360 with 1 Axes>"
            ]
          },
          "metadata": {}
        },
        {
          "output_type": "display_data",
          "data": {
            "image/png": "[encoded data removed]",
            "text/plain": [
              "<Figure size 360x360 with 1 Axes>"
            ]
          },
          "metadata": {}
        },
        {
          "output_type": "display_data",
          "data": {
            "image/png": "[encoded data removed]",
            "text/plain": [
              "<Figure size 360x360 with 1 Axes>"
            ]
          },
          "metadata": {}
        },
        {
          "output_type": "display_data",
          "data": {
            "image/png": "[encoded data removed]",
            "text/plain": [
              "<Figure size 360x360 with 1 Axes>"
            ]
          },
          "metadata": {}
        }
      ]
    },
    {
      "cell_type": "markdown",
      "metadata": {
        "id": "4_jq0NPWTvQp"
      },
      "source": [
        "### Title과 Embarked를 one-to-hot 코딩해라\n",
        "  * Embarked의 접두사는 Em 으로 해라"
      ]
    },
    {
      "cell_type": "code",
      "metadata": {
        "id": "K6qW-LiJTdIN"
      },
      "source": [
        "dataset = pd.get_dummies(dataset, columns=['Title'])\n",
        "dataset = pd.get_dummies(dataset, columns=['Embarked'], prefix='Em')"
      ],
      "execution_count": null,
      "outputs": []
    },
    {
      "cell_type": "markdown",
      "metadata": {
        "id": "KXWBQy5TUAXs"
      },
      "source": [
        "### dataset에서 Cabin이 결측이 아닌 값들 10개 행을 출력해라"
      ]
    },
    {
      "cell_type": "code",
      "metadata": {
        "colab": {
          "base_uri": "https://localhost:8080/"
        },
        "id": "jy2UdlH2T66C",
        "outputId": "de2be8fd-f689-40d4-d60b-f1de6dcac109"
      },
      "source": [
        "dataset['Cabin'][dataset['Cabin'].notnull()].head()"
      ],
      "execution_count": null,
      "outputs": [
        {
          "output_type": "execute_result",
          "data": {
            "text/plain": [
              "1      C85\n",
              "3     C123\n",
              "6      E46\n",
              "10      G6\n",
              "11    C103\n",
              "Name: Cabin, dtype: object"
            ]
          },
          "metadata": {},
          "execution_count": 176
        }
      ]
    },
    {
      "cell_type": "markdown",
      "metadata": {
        "id": "nD3_ZJwLURIp"
      },
      "source": [
        "### dataset의 Cabin의 기초통계를 산출해라"
      ]
    },
    {
      "cell_type": "code",
      "metadata": {
        "colab": {
          "base_uri": "https://localhost:8080/"
        },
        "id": "WFDX-x1ZUP2F",
        "outputId": "71475746-9140-422f-bd4b-0d0f8879b32f"
      },
      "source": [
        "dataset.Cabin.describe()"
      ],
      "execution_count": null,
      "outputs": [
        {
          "output_type": "execute_result",
          "data": {
            "text/plain": [
              "count             295\n",
              "unique            186\n",
              "top       C23 C25 C27\n",
              "freq                6\n",
              "Name: Cabin, dtype: object"
            ]
          },
          "metadata": {},
          "execution_count": 177
        }
      ]
    },
    {
      "cell_type": "markdown",
      "metadata": {
        "id": "mzHUDGH3Umlg"
      },
      "source": [
        "### dataset의 Cabin의 값이 결측이면 'X'를 삽입해라"
      ]
    },
    {
      "cell_type": "code",
      "metadata": {
        "colab": {
          "base_uri": "https://localhost:8080/"
        },
        "id": "ONbQmg7IUko_",
        "outputId": "73a5a021-1a7b-46cb-a0ba-16b84f08ad73"
      },
      "source": [
        "dataset['Cabin'] = pd.Series([i[0] if not pd.isnull(i) else 'X' for i in dataset['Cabin']])\n",
        "dataset['Cabin']"
      ],
      "execution_count": null,
      "outputs": [
        {
          "output_type": "execute_result",
          "data": {
            "text/plain": [
              "0       X\n",
              "1       C\n",
              "2       X\n",
              "3       C\n",
              "4       X\n",
              "       ..\n",
              "1304    X\n",
              "1305    C\n",
              "1306    X\n",
              "1307    X\n",
              "1308    X\n",
              "Name: Cabin, Length: 1309, dtype: object"
            ]
          },
          "metadata": {},
          "execution_count": 178
        }
      ]
    },
    {
      "cell_type": "markdown",
      "metadata": {
        "id": "2z5MAAsoVKw2"
      },
      "source": [
        "### dataset의 Cabin에 대해 빈도표를 산출해라\n",
        "  * sns의 countplot을 이용해라\n",
        "  * 이때 X축의 순서는 A,B,C,D,E,F,G,T,X로 표현해라"
      ]
    },
    {
      "cell_type": "code",
      "metadata": {
        "colab": {
          "base_uri": "https://localhost:8080/",
          "height": 338
        },
        "id": "hf8Qc57uVGBx",
        "outputId": "cba477ad-8180-4d62-b0f7-6194c2339029"
      },
      "source": [
        "g = sns.countplot(dataset['Cabin'], order = ['A','B','C','D','E','F','G','T','X'])"
      ],
      "execution_count": null,
      "outputs": [
        {
          "output_type": "stream",
          "name": "stderr",
          "text": [
            "/usr/local/lib/python3.7/dist-packages/seaborn/_decorators.py:43: FutureWarning: Pass the following variable as a keyword arg: x. From version 0.12, the only valid positional argument will be `data`, and passing other arguments without an explicit keyword will result in an error or misinterpretation.\n",
            "  FutureWarning\n"
          ]
        },
        {
          "output_type": "display_data",
          "data": {
            "image/png": "[encoded data removed]",
            "text/plain": [
              "<Figure size 432x288 with 1 Axes>"
            ]
          },
          "metadata": {}
        }
      ]
    },
    {
      "cell_type": "markdown",
      "metadata": {
        "id": "n6oOTMSgVo_K"
      },
      "source": [
        "### dataset에서 x축은 Cabin, Y축은 Survived인 바 그래프를 그려라. 이때 order 순서는 A,B,C,D,E,F,G,T,X이다.\n",
        "  * y 라벨은 Survival Probability 이다."
      ]
    },
    {
      "cell_type": "code",
      "metadata": {
        "colab": {
          "base_uri": "https://localhost:8080/",
          "height": 418
        },
        "id": "q8DNw_HiVZrz",
        "outputId": "e1656f13-4fff-4351-bc60-122e6f33038c"
      },
      "source": [
        "g = sns.factorplot(y='Survived', x='Cabin', data=dataset, kind='bar',\\\n",
        "                   order = ['A','B','C','D','E','F','G','T','X'])\n",
        "g = g.set_ylabels(\"Survival Probabaility\")"
      ],
      "execution_count": null,
      "outputs": [
        {
          "output_type": "stream",
          "name": "stderr",
          "text": [
            "/usr/local/lib/python3.7/dist-packages/seaborn/categorical.py:3717: UserWarning: The `factorplot` function has been renamed to `catplot`. The original name will be removed in a future release. Please update your code. Note that the default `kind` in `factorplot` (`'point'`) has changed `'strip'` in `catplot`.\n",
            "  warnings.warn(msg)\n"
          ]
        },
        {
          "output_type": "display_data",
          "data": {
            "image/png": "[encoded data removed]",
            "text/plain": [
              "<Figure size 360x360 with 1 Axes>"
            ]
          },
          "metadata": {}
        }
      ]
    },
    {
      "cell_type": "markdown",
      "metadata": {
        "id": "vcQT_fvZivHZ"
      },
      "source": [
        "### dataset의 Cabin의 접두사를 Cabin으로하여 더미변수를 생성해라"
      ]
    },
    {
      "cell_type": "code",
      "metadata": {
        "id": "iNIh_xTvi3cl"
      },
      "source": [
        "dataset = pd.get_dummies(dataset, columns = ['Cabin'], prefix ='Cabin')"
      ],
      "execution_count": null,
      "outputs": []
    },
    {
      "cell_type": "markdown",
      "metadata": {
        "id": "cCThDnD-eoha"
      },
      "source": [
        "### dataset의 Ticket 변수를 생성하고\n",
        "  * 만약 각 Ticket값이 모두 숫자로 이루어져 있지 않다면 다음을 실행해라(isdigit() 사용)\n",
        "    * Ticket값이 .와 /를 삭제해라\n",
        "    * 이어서 공백을 strip()을 이용해 제거해라\n",
        "    * split(\" \")으로 나누고 첫번째 값을 Ticket에 저장해라\n",
        "  * 만약 각 Ticket값이 문자 하나 이상 값이 존재한다거나 결측이면 그 값을 Ticket에 'X'로 저장해라"
      ]
    },
    {
      "cell_type": "code",
      "metadata": {
        "colab": {
          "base_uri": "https://localhost:8080/"
        },
        "id": "lBaQISRAepkI",
        "outputId": "01befb30-c521-4347-c7bc-d4148aa6706a"
      },
      "source": [
        "Ticket = []\n",
        "for i in list(dataset.Ticket):\n",
        "  if not i.isdigit() :\n",
        "    Ticket.append(i.replace(\".\",\"\").replace(\"/\",\"\").strip().split(\" \")[0])\n",
        "  else :\n",
        "    Ticket.append(\"X\")\n",
        "dataset[\"Ticket\"] = Ticket\n",
        "dataset[\"Ticket\"].head()"
      ],
      "execution_count": null,
      "outputs": [
        {
          "output_type": "execute_result",
          "data": {
            "text/plain": [
              "0        A5\n",
              "1        PC\n",
              "2    STONO2\n",
              "3         X\n",
              "4         X\n",
              "Name: Ticket, dtype: object"
            ]
          },
          "metadata": {},
          "execution_count": 182
        }
      ]
    },
    {
      "cell_type": "markdown",
      "metadata": {
        "id": "JEaYNHE-V7fo"
      },
      "source": [
        "### dataset의 Ticket변수에 대해 접두사가 T인 더미변수를 만들어라"
      ]
    },
    {
      "cell_type": "code",
      "metadata": {
        "id": "dtbNIPGDV5Am"
      },
      "source": [
        "dataset = pd.get_dummies(dataset, columns=['Ticket'], prefix='T')"
      ],
      "execution_count": null,
      "outputs": []
    },
    {
      "cell_type": "markdown",
      "metadata": {
        "id": "H-0r6FuPWTod"
      },
      "source": [
        "### dataset의 Pclass 타입을 category로 만들고 이 Pclass에 대해 접두사가 Pc인 더미변수를 만들어라"
      ]
    },
    {
      "cell_type": "code",
      "metadata": {
        "id": "xWa90RH5WSMA"
      },
      "source": [
        "dataset['Pclass'] = dataset['Pclass'].astype('category')\n",
        "dataset = pd.get_dummies(dataset, columns=['Pclass'], prefix = 'Pc')"
      ],
      "execution_count": null,
      "outputs": []
    },
    {
      "cell_type": "markdown",
      "metadata": {
        "id": "jL9jpx-lW3PD"
      },
      "source": [
        "### PassengerId, Name을 drop하라"
      ]
    },
    {
      "cell_type": "code",
      "metadata": {
        "id": "ZwfrQ82_Wl6X"
      },
      "source": [
        "dataset.drop(['PassengerId','Name'], axis=1, inplace=True)"
      ],
      "execution_count": null,
      "outputs": []
    },
    {
      "cell_type": "markdown",
      "metadata": {
        "id": "4EyehaI1W-6x"
      },
      "source": [
        "### Modeling\n",
        "\n",
        "### dataset으로부터 분할 후 train과 test셋에 각각 저장해라. 이후 test 데이터셋에서 Survived 변수를 drop하라 "
      ]
    },
    {
      "cell_type": "code",
      "metadata": {
        "colab": {
          "base_uri": "https://localhost:8080/"
        },
        "id": "FJWWUdqCW9dK",
        "outputId": "af3fadb9-1bfa-415a-dac5-05aa7f71e5a5"
      },
      "source": [
        "train = dataset[:train_len]\n",
        "test = dataset[train_len:]\n",
        "test.drop('Survived', axis=1, inplace=True)"
      ],
      "execution_count": null,
      "outputs": [
        {
          "output_type": "stream",
          "name": "stderr",
          "text": [
            "/usr/local/lib/python3.7/dist-packages/pandas/core/frame.py:4174: SettingWithCopyWarning: \n",
            "A value is trying to be set on a copy of a slice from a DataFrame\n",
            "\n",
            "See the caveats in the documentation: https://pandas.pydata.org/pandas-docs/stable/user_guide/indexing.html#returning-a-view-versus-a-copy\n",
            "  errors=errors,\n"
          ]
        }
      ]
    },
    {
      "cell_type": "markdown",
      "metadata": {
        "id": "Qf4y-H7FYQqS"
      },
      "source": [
        "### train의 Survived를 int형태로 변환해라. y_train 에 train의 Survived를 저장하고, train에서는 Survived를 삭제해라"
      ]
    },
    {
      "cell_type": "code",
      "metadata": {
        "colab": {
          "base_uri": "https://localhost:8080/"
        },
        "id": "fxUOzYz5YQIc",
        "outputId": "94ad3210-9e89-4634-d795-9d3786d3faa1"
      },
      "source": [
        "train['Survived'] = train['Survived'].astype('int')\n",
        "y_train = train['Survived']\n",
        "X_train = train.drop('Survived', axis=1)"
      ],
      "execution_count": null,
      "outputs": [
        {
          "output_type": "stream",
          "name": "stderr",
          "text": [
            "/usr/local/lib/python3.7/dist-packages/ipykernel_launcher.py:1: SettingWithCopyWarning: \n",
            "A value is trying to be set on a copy of a slice from a DataFrame.\n",
            "Try using .loc[row_indexer,col_indexer] = value instead\n",
            "\n",
            "See the caveats in the documentation: https://pandas.pydata.org/pandas-docs/stable/user_guide/indexing.html#returning-a-view-versus-a-copy\n",
            "  \"\"\"Entry point for launching an IPython kernel.\n"
          ]
        }
      ]
    },
    {
      "cell_type": "markdown",
      "metadata": {
        "id": "XEVoEGiKYPLC"
      },
      "source": [
        "### 교차검증 횟수 지정 \n",
        "### StratifiedKFold 함수를 이용해서 10번 folds하는 함수를 kfold에 저장하라"
      ]
    },
    {
      "cell_type": "code",
      "metadata": {
        "id": "YVTtr85iZZer"
      },
      "source": [
        "kfold = StratifiedKFold(n_splits = 10)"
      ],
      "execution_count": null,
      "outputs": []
    },
    {
      "cell_type": "markdown",
      "metadata": {
        "id": "sMZWtswTZlGS"
      },
      "source": [
        "### randomstate = 2이며 classifiers에 리스트로 append하여 아래 10가지의 각 classifier()을 작성해라\n",
        "  * SVC\n",
        "  * DecisionTreeClassifier\n",
        "  * AdaBoostClassifier를 활용한 DecisionTreeClassifier이며 learning_rate = 0.1\n",
        "  * RandomForestClassifier\n",
        "  * ExtraTreesClassifier\n",
        "  * GraidentBoostingClassifier\n",
        "  * MLPClassifier\n",
        "  * KNeighborsClassifier\n",
        "  * LogisticRegression\n",
        "  * LinearDiscriminantAnalysis\n"
      ]
    },
    {
      "cell_type": "code",
      "metadata": {
        "id": "fJX3_rTGZjB5"
      },
      "source": [
        "random_state = 2\n",
        "classifiers = []\n",
        "\n",
        "classifiers.append(SVC(random_state=random_state))\n",
        "classifiers.append(DecisionTreeClassifier(random_state = random_state))\n",
        "classifiers.append(AdaBoostClassifier(DecisionTreeClassifier(random_state = random_state),\\\n",
        "                                      random_state = random_state, learning_rate=0.1))\n",
        "classifiers.append(RandomForestClassifier(random_state = random_state))\n",
        "classifiers.append(ExtraTreesClassifier(random_state = random_state))\n",
        "classifiers.append(GradientBoostingClassifier(random_state=random_state))\n",
        "classifiers.append(MLPClassifier(random_state=random_state))\n",
        "classifiers.append(KNeighborsClassifier())\n",
        "classifiers.append(LogisticRegression(random_state = random_state))\n",
        "classifiers.append(LinearDiscriminantAnalysis())"
      ],
      "execution_count": null,
      "outputs": []
    },
    {
      "cell_type": "markdown",
      "metadata": {
        "id": "3Ozi5pZwaERh"
      },
      "source": [
        "### 저장된 classifiers 개체의 각 모델의 cross validation score를 계산하여 cv_results 이름으로 append하여 accuracy를 저장하라 \n",
        "  * CPU 코어는 4개를 활용해라\n",
        "  * cross validation 횟수는 위에 저장한 kfold변수를 활용해라"
      ]
    },
    {
      "cell_type": "code",
      "metadata": {
        "colab": {
          "base_uri": "https://localhost:8080/"
        },
        "id": "IKMVNL-waWVD",
        "outputId": "aebfdc26-7710-4204-b2d9-d22e0d94e023"
      },
      "source": [
        "cv_results = []\n",
        "\n",
        "for classifier in classifiers:\n",
        "  print(cv_results)\n",
        "  cv_results.append(cross_val_score(classifier, X_train, y=y_train, scoring='accuracy',\\\n",
        "                                    cv = kfold, n_jobs= 4))"
      ],
      "execution_count": null,
      "outputs": [
        {
          "output_type": "stream",
          "name": "stdout",
          "text": [
            "[]\n",
            "[array([0.68888889, 0.71910112, 0.68539326, 0.79775281, 0.69662921,\n",
            "       0.70786517, 0.74157303, 0.74157303, 0.79775281, 0.71910112])]\n",
            "[array([0.68888889, 0.71910112, 0.68539326, 0.79775281, 0.69662921,\n",
            "       0.70786517, 0.74157303, 0.74157303, 0.79775281, 0.71910112]), array([0.73333333, 0.7752809 , 0.76404494, 0.82022472, 0.87640449,\n",
            "       0.83146067, 0.82022472, 0.80898876, 0.84269663, 0.82022472])]\n",
            "[array([0.68888889, 0.71910112, 0.68539326, 0.79775281, 0.69662921,\n",
            "       0.70786517, 0.74157303, 0.74157303, 0.79775281, 0.71910112]), array([0.73333333, 0.7752809 , 0.76404494, 0.82022472, 0.87640449,\n",
            "       0.83146067, 0.82022472, 0.80898876, 0.84269663, 0.82022472]), array([0.74444444, 0.78651685, 0.7752809 , 0.84269663, 0.85393258,\n",
            "       0.83146067, 0.78651685, 0.78651685, 0.85393258, 0.83146067])]\n",
            "[array([0.68888889, 0.71910112, 0.68539326, 0.79775281, 0.69662921,\n",
            "       0.70786517, 0.74157303, 0.74157303, 0.79775281, 0.71910112]), array([0.73333333, 0.7752809 , 0.76404494, 0.82022472, 0.87640449,\n",
            "       0.83146067, 0.82022472, 0.80898876, 0.84269663, 0.82022472]), array([0.74444444, 0.78651685, 0.7752809 , 0.84269663, 0.85393258,\n",
            "       0.83146067, 0.78651685, 0.78651685, 0.85393258, 0.83146067]), array([0.77777778, 0.84269663, 0.76404494, 0.83146067, 0.8988764 ,\n",
            "       0.87640449, 0.85393258, 0.73033708, 0.87640449, 0.85393258])]\n",
            "[array([0.68888889, 0.71910112, 0.68539326, 0.79775281, 0.69662921,\n",
            "       0.70786517, 0.74157303, 0.74157303, 0.79775281, 0.71910112]), array([0.73333333, 0.7752809 , 0.76404494, 0.82022472, 0.87640449,\n",
            "       0.83146067, 0.82022472, 0.80898876, 0.84269663, 0.82022472]), array([0.74444444, 0.78651685, 0.7752809 , 0.84269663, 0.85393258,\n",
            "       0.83146067, 0.78651685, 0.78651685, 0.85393258, 0.83146067]), array([0.77777778, 0.84269663, 0.76404494, 0.83146067, 0.8988764 ,\n",
            "       0.87640449, 0.85393258, 0.73033708, 0.87640449, 0.85393258]), array([0.74444444, 0.78651685, 0.76404494, 0.84269663, 0.86516854,\n",
            "       0.86516854, 0.82022472, 0.74157303, 0.86516854, 0.85393258])]\n",
            "[array([0.68888889, 0.71910112, 0.68539326, 0.79775281, 0.69662921,\n",
            "       0.70786517, 0.74157303, 0.74157303, 0.79775281, 0.71910112]), array([0.73333333, 0.7752809 , 0.76404494, 0.82022472, 0.87640449,\n",
            "       0.83146067, 0.82022472, 0.80898876, 0.84269663, 0.82022472]), array([0.74444444, 0.78651685, 0.7752809 , 0.84269663, 0.85393258,\n",
            "       0.83146067, 0.78651685, 0.78651685, 0.85393258, 0.83146067]), array([0.77777778, 0.84269663, 0.76404494, 0.83146067, 0.8988764 ,\n",
            "       0.87640449, 0.85393258, 0.73033708, 0.87640449, 0.85393258]), array([0.74444444, 0.78651685, 0.76404494, 0.84269663, 0.86516854,\n",
            "       0.86516854, 0.82022472, 0.74157303, 0.86516854, 0.85393258]), array([0.82222222, 0.85393258, 0.75280899, 0.86516854, 0.85393258,\n",
            "       0.82022472, 0.85393258, 0.83146067, 0.85393258, 0.83146067])]\n",
            "[array([0.68888889, 0.71910112, 0.68539326, 0.79775281, 0.69662921,\n",
            "       0.70786517, 0.74157303, 0.74157303, 0.79775281, 0.71910112]), array([0.73333333, 0.7752809 , 0.76404494, 0.82022472, 0.87640449,\n",
            "       0.83146067, 0.82022472, 0.80898876, 0.84269663, 0.82022472]), array([0.74444444, 0.78651685, 0.7752809 , 0.84269663, 0.85393258,\n",
            "       0.83146067, 0.78651685, 0.78651685, 0.85393258, 0.83146067]), array([0.77777778, 0.84269663, 0.76404494, 0.83146067, 0.8988764 ,\n",
            "       0.87640449, 0.85393258, 0.73033708, 0.87640449, 0.85393258]), array([0.74444444, 0.78651685, 0.76404494, 0.84269663, 0.86516854,\n",
            "       0.86516854, 0.82022472, 0.74157303, 0.86516854, 0.85393258]), array([0.82222222, 0.85393258, 0.75280899, 0.86516854, 0.85393258,\n",
            "       0.82022472, 0.85393258, 0.83146067, 0.85393258, 0.83146067]), array([0.8       , 0.85393258, 0.75280899, 0.87640449, 0.85393258,\n",
            "       0.7752809 , 0.83146067, 0.82022472, 0.84269663, 0.84269663])]\n",
            "[array([0.68888889, 0.71910112, 0.68539326, 0.79775281, 0.69662921,\n",
            "       0.70786517, 0.74157303, 0.74157303, 0.79775281, 0.71910112]), array([0.73333333, 0.7752809 , 0.76404494, 0.82022472, 0.87640449,\n",
            "       0.83146067, 0.82022472, 0.80898876, 0.84269663, 0.82022472]), array([0.74444444, 0.78651685, 0.7752809 , 0.84269663, 0.85393258,\n",
            "       0.83146067, 0.78651685, 0.78651685, 0.85393258, 0.83146067]), array([0.77777778, 0.84269663, 0.76404494, 0.83146067, 0.8988764 ,\n",
            "       0.87640449, 0.85393258, 0.73033708, 0.87640449, 0.85393258]), array([0.74444444, 0.78651685, 0.76404494, 0.84269663, 0.86516854,\n",
            "       0.86516854, 0.82022472, 0.74157303, 0.86516854, 0.85393258]), array([0.82222222, 0.85393258, 0.75280899, 0.86516854, 0.85393258,\n",
            "       0.82022472, 0.85393258, 0.83146067, 0.85393258, 0.83146067]), array([0.8       , 0.85393258, 0.75280899, 0.87640449, 0.85393258,\n",
            "       0.7752809 , 0.83146067, 0.82022472, 0.84269663, 0.84269663]), array([0.77777778, 0.75280899, 0.68539326, 0.78651685, 0.84269663,\n",
            "       0.74157303, 0.82022472, 0.78651685, 0.86516854, 0.78651685])]\n",
            "[array([0.68888889, 0.71910112, 0.68539326, 0.79775281, 0.69662921,\n",
            "       0.70786517, 0.74157303, 0.74157303, 0.79775281, 0.71910112]), array([0.73333333, 0.7752809 , 0.76404494, 0.82022472, 0.87640449,\n",
            "       0.83146067, 0.82022472, 0.80898876, 0.84269663, 0.82022472]), array([0.74444444, 0.78651685, 0.7752809 , 0.84269663, 0.85393258,\n",
            "       0.83146067, 0.78651685, 0.78651685, 0.85393258, 0.83146067]), array([0.77777778, 0.84269663, 0.76404494, 0.83146067, 0.8988764 ,\n",
            "       0.87640449, 0.85393258, 0.73033708, 0.87640449, 0.85393258]), array([0.74444444, 0.78651685, 0.76404494, 0.84269663, 0.86516854,\n",
            "       0.86516854, 0.82022472, 0.74157303, 0.86516854, 0.85393258]), array([0.82222222, 0.85393258, 0.75280899, 0.86516854, 0.85393258,\n",
            "       0.82022472, 0.85393258, 0.83146067, 0.85393258, 0.83146067]), array([0.8       , 0.85393258, 0.75280899, 0.87640449, 0.85393258,\n",
            "       0.7752809 , 0.83146067, 0.82022472, 0.84269663, 0.84269663]), array([0.77777778, 0.75280899, 0.68539326, 0.78651685, 0.84269663,\n",
            "       0.74157303, 0.82022472, 0.78651685, 0.86516854, 0.78651685]), array([0.81111111, 0.84269663, 0.76404494, 0.86516854, 0.82022472,\n",
            "       0.76404494, 0.83146067, 0.80898876, 0.87640449, 0.84269663])]\n"
          ]
        }
      ]
    },
    {
      "cell_type": "markdown",
      "metadata": {
        "id": "ezi__XFAa6wK"
      },
      "source": [
        "### cv_result의 각 평균과 표준편차를 계산하여 cv_mean, cv_std 각 객체 리스트에 append 하는 식을 작성해라"
      ]
    },
    {
      "cell_type": "code",
      "metadata": {
        "id": "SShmIM-ca3-r"
      },
      "source": [
        "cv_means = []\n",
        "cv_std = []\n",
        "for cv_result in cv_results :\n",
        "  cv_means.append(cv_result.mean())\n",
        "  cv_std.append(cv_result.std())"
      ],
      "execution_count": null,
      "outputs": []
    },
    {
      "cell_type": "markdown",
      "metadata": {
        "id": "FYd4Mw6qbiPI"
      },
      "source": [
        "### cv_res 객체에 데이터 프레임을 생성해라 \n",
        "  * 첫번째 변수 CrossValMeans 변수는 cv_means,\n",
        "  * 두번째 변수 CrossValerrors 변수는 cv_std,\n",
        "  * 세번째 변수 Algorithm 변수는 다음의 리스트를 입력하여라\n",
        "  [\"SVC\",\"DecisionTree\",\"AdaBoost\", \"RandomForest\",\"Extratrees\",\n",
        "\"GradientBoosting\",\"MultipleLayerPerceptron\",\"KNeighboors\",\"LogisticRegression\",\"LinearDiscriminantAnalysis\"]"
      ]
    },
    {
      "cell_type": "code",
      "metadata": {
        "id": "E3Pyxu93clnR",
        "colab": {
          "base_uri": "https://localhost:8080/",
          "height": 184
        },
        "outputId": "57395b4b-3cdd-41f7-cfac-123b05aceb5b"
      },
      "source": [
        "cv_res = pd.DataFrame({\"CrossValMeans\":cv_means, \"CrossValerrors\":cv_std,\"Algorithm\":\\\n",
        "                       [\"SVC\",\"DecisionTree\",\"AdaBoost\",\"RandomForest\",\"Extratrees\",\\\n",
        "                        \"GradientBoosting\",\"MultipleLayerPerceptron\",\"KNeighboors\",\\\n",
        "                        \"LogisticRegression\",\"LinearDiscriminantAnalysis\"]})"
      ],
      "execution_count": null,
      "outputs": [
        {
          "output_type": "error",
          "ename": "NameError",
          "evalue": "ignored",
          "traceback": [
            "\u001b[0;31m---------------------------------------------------------------------------\u001b[0m",
            "\u001b[0;31mNameError\u001b[0m                                 Traceback (most recent call last)",
            "\u001b[0;32m<ipython-input-1-851bbb217a08>\u001b[0m in \u001b[0;36m<module>\u001b[0;34m()\u001b[0m\n\u001b[0;32m----> 1\u001b[0;31m \u001b[0mcv_res\u001b[0m \u001b[0;34m=\u001b[0m \u001b[0mpd\u001b[0m\u001b[0;34m.\u001b[0m\u001b[0mDataFrame\u001b[0m\u001b[0;34m(\u001b[0m\u001b[0;34m{\u001b[0m\u001b[0;34m\"CrossValMeans\"\u001b[0m\u001b[0;34m:\u001b[0m\u001b[0mcv_means\u001b[0m\u001b[0;34m,\u001b[0m \u001b[0;34m\"CrossValerrors\"\u001b[0m\u001b[0;34m:\u001b[0m\u001b[0mcv_std\u001b[0m\u001b[0;34m,\u001b[0m\u001b[0;34m\"Algorithm\"\u001b[0m\u001b[0;34m:\u001b[0m                       \u001b[0;34m[\u001b[0m\u001b[0;34m\"SVC\"\u001b[0m\u001b[0;34m,\u001b[0m\u001b[0;34m\"DecisionTree\"\u001b[0m\u001b[0;34m,\u001b[0m\u001b[0;34m\"AdaBoost\"\u001b[0m\u001b[0;34m,\u001b[0m\u001b[0;34m\"RandomForest\"\u001b[0m\u001b[0;34m,\u001b[0m\u001b[0;34m\"Extratrees\"\u001b[0m\u001b[0;34m,\u001b[0m                        \u001b[0;34m\"GradientBoosting\"\u001b[0m\u001b[0;34m,\u001b[0m\u001b[0;34m\"MultipleLayerPerceptron\"\u001b[0m\u001b[0;34m,\u001b[0m\u001b[0;34m\"KNeighboors\"\u001b[0m\u001b[0;34m,\u001b[0m                        \u001b[0;34m\"LogisticRegression\"\u001b[0m\u001b[0;34m,\u001b[0m\u001b[0;34m\"LinearDiscriminantAnalysis\"\u001b[0m\u001b[0;34m]\u001b[0m\u001b[0;34m}\u001b[0m\u001b[0;34m)\u001b[0m\u001b[0;34m\u001b[0m\u001b[0;34m\u001b[0m\u001b[0m\n\u001b[0m",
            "\u001b[0;31mNameError\u001b[0m: name 'pd' is not defined"
          ]
        }
      ]
    },
    {
      "cell_type": "markdown",
      "metadata": {
        "id": "AOh71iQ_cL7r"
      },
      "source": [
        "### Algorigm 변수에 따라 CrossValMeans 변수의 평균값 도표를 그려라.\n",
        "  * 이때 각 알고리즘 값 끝에 표준편차를 표현하라. ( **{'xerr': cv_std} 활용)\n",
        "  * xlabel은 Mean Cuuracy로 표현하라\n",
        "  * 타이틀은 Cross validation scores 로 표현하라"
      ]
    },
    {
      "cell_type": "code",
      "metadata": {
        "colab": {
          "base_uri": "https://localhost:8080/",
          "height": 354
        },
        "id": "HYeBlAbWbFdX",
        "outputId": "00ededd8-7411-40bc-ab40-a662f0aa72c1"
      },
      "source": [
        "g = sns.barplot(\"CrossValMeans\", \"Algorithm\", data=cv_res, palette='Set3', orient='h',\\\n",
        "                **{'xerr' : cv_std})\n",
        "g.set_xlabel(\"Mean Accuracy\")\n",
        "g = g.set_title(\"Cross validation scores\")"
      ],
      "execution_count": null,
      "outputs": [
        {
          "output_type": "stream",
          "name": "stderr",
          "text": [
            "/usr/local/lib/python3.7/dist-packages/seaborn/_decorators.py:43: FutureWarning: Pass the following variables as keyword args: x, y. From version 0.12, the only valid positional argument will be `data`, and passing other arguments without an explicit keyword will result in an error or misinterpretation.\n",
            "  FutureWarning\n"
          ]
        },
        {
          "output_type": "display_data",
          "data": {
            "image/png": "[encoded data removed]",
            "text/plain": [
              "<Figure size 432x288 with 1 Axes>"
            ]
          },
          "metadata": {}
        }
      ]
    },
    {
      "cell_type": "code",
      "metadata": {
        "id": "xFl8PHXlctjH"
      },
      "source": [
        ""
      ],
      "execution_count": null,
      "outputs": []
    }
  ]
}