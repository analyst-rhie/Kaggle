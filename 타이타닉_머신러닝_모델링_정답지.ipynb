{
  "nbformat": 4,
  "nbformat_minor": 0,
  "metadata": {
    "colab": {
      "name": "타이타닉_머신러닝_모델링_정답지.ipynb",
      "provenance": [],
      "mount_file_id": "19n8oy0N6h6clV7oIbiaz2XcLudfKgfNt",
      "authorship_tag": "ABX9TyN1A89BJcsRy5Kr0AcnSGdt",
      "include_colab_link": true
    },
    "kernelspec": {
      "name": "python3",
      "display_name": "Python 3"
    },
    "language_info": {
      "name": "python"
    }
  },
  "cells": [
    {
      "cell_type": "markdown",
      "metadata": {
        "id": "view-in-github",
        "colab_type": "text"
      },
      "source": [
        "<a href=\"https://colab.research.google.com/github/analyst-rhie/Kaggle/blob/main/%ED%83%80%EC%9D%B4%ED%83%80%EB%8B%89_%EB%A8%B8%EC%8B%A0%EB%9F%AC%EB%8B%9D_%EB%AA%A8%EB%8D%B8%EB%A7%81_%EC%A0%95%EB%8B%B5%EC%A7%80.ipynb\" target=\"_parent\"><img src=\"https://colab.research.google.com/assets/colab-badge.svg\" alt=\"Open In Colab\"/></a>"
      ]
    },
    {
      "cell_type": "code",
      "metadata": {
        "id": "zApvF6aiTTnR"
      },
      "source": [
        "import pandas as pd\n",
        "import numpy as np\n",
        "import matplotlib.pyplot as plt\n",
        "import seaborn as sns\n",
        "%matplotlib inline\n",
        "\n",
        "from collections import Counter\n",
        "\n",
        "from sklearn.ensemble import RandomForestClassifier, AdaBoostClassifier,\\\n",
        "GradientBoostingClassifier, ExtraTreesClassifier, VotingClassifier\n",
        "from sklearn.discriminant_analysis import LinearDiscriminantAnalysis\n",
        "from sklearn.linear_model import LogisticRegression\n",
        "from sklearn.neighbors import KNeighborsClassifier\n",
        "from sklearn.tree import DecisionTreeClassifier\n",
        "from sklearn.neural_network import MLPClassifier\n",
        "from sklearn.svm import SVC\n",
        "from sklearn.model_selection import GridSearchCV, cross_val_score, StratifiedKFold,\\\n",
        "learning_curve\n",
        "\n",
        "sns.set(style='white', context='notebook', palette='deep')"
      ],
      "execution_count": 1,
      "outputs": []
    },
    {
      "cell_type": "markdown",
      "metadata": {
        "id": "f7673aTbU8Hi"
      },
      "source": [
        "1. 데이터를 로드해라"
      ]
    },
    {
      "cell_type": "code",
      "metadata": {
        "id": "LRiJmrOGUlHz"
      },
      "source": [
        "train = pd.read_csv('/content/drive/MyDrive/Colab Notebooks/타이타닉/train.csv')\n",
        "test = pd.read_csv('/content/drive/MyDrive/Colab Notebooks/타이타닉/test.csv')"
      ],
      "execution_count": 19,
      "outputs": []
    },
    {
      "cell_type": "markdown",
      "metadata": {
        "id": "GlCeEU91WiZY"
      },
      "source": [
        "* 본 이상치 탐지법은 Tukey 방법에 따라 사용자가 지정한 n개 이상의 특이치를 포함하는 관측치를 골라내는 함수를 작성할 것이다.\n",
        "  * detect_outliers 이름의 함수를 정의하라. 이때 들어가는 인수는 DataFrame이름, Outiler 갯수, 변수이름이다.\n",
        "  * 각 변수로 부터 Q1, Q3 ,IQR = Q3 - Q1을 출력하는 변수를 위 Q1,Q3,IQR과 동일 한 이름으로 생성하라\n",
        "  * outlier_step 이름에 IQR에 1.5를 곱해 outlier에 색출될 최소범위를 선택해라\n",
        "  * Q1에서 outlier_step을 뺀 범위 또는 Q3에서 outlier를 더한 범위에 포함되는 index를 가져와 outlier_list_col에 저장하라\n",
        "  * outlier_indices 리스트에 outlier_list_col을 extend해라\n",
        "  * 모든 변수들이 위 extend 결과를 마치면, 이때 Counter 함수를 활용해 각 원소들이 몇번 반복됬는지 계산하여 outlier_indices에 덮어써라\n",
        "  * outlier_indices 리스트의 값들을 outlier_indices 리스트에서 2개 이상의 이상치를 포함하고 있을때의 관측치를 선택하라. multiple_outliers에 저장하고 return해라\n",
        "\n",
        "\n",
        "``` \n",
        "1. extend 함수는 리스트 끝에 반복되는 값이 리스트 일 경우 뒤에 붙여주는 역할을 함 \n",
        " -> 이떄 extend에 사용되는 리스트를 처음 지정하는 = [] 위치는 for문에 속해있으면 안된다. 조심할것!\n",
        "2. 코드 예시에서는 np.percentile()을 사용했으나 Fare의 경우 결측(nan)이 존재하여 Q1, Q3결과가 nan으로 출력됨.\n",
        " -> np.nanpercentile() 으로 nan을 무시하고 출력하도록 함.\n",
        " 3. Counter() 함수는 한 리스트 내에 동일한 값이 몇개 있는지 딕셔너리 형태로 출력해준다.\n",
        " 4. Counter()함수로 만든 딕셔너리를 .items()로 가져오면 순서쌍으로 묶어준다. 따라서 for 문 내 두 개의 iterator를 사용하더라도 zip()을 안쓰고도 가져올 수 있게된다.\n",
        "```\n"
      ]
    },
    {
      "cell_type": "code",
      "metadata": {
        "id": "qGJX5vCfm3tx"
      },
      "source": [
        "# 1차 시도 : 성공"
      ],
      "execution_count": 20,
      "outputs": []
    },
    {
      "cell_type": "markdown",
      "metadata": {
        "id": "FMkQOxUOhBXK"
      },
      "source": [
        "================================================================================\n",
        "\n"
      ]
    },
    {
      "cell_type": "code",
      "metadata": {
        "colab": {
          "base_uri": "https://localhost:8080/"
        },
        "id": "oS54acTG1YOG",
        "outputId": "9e38c6d6-af33-4a4a-84cd-3044748aea9c"
      },
      "source": [
        "def detect_outliers(df, n, features):\n",
        "  outlier_indices = []\n",
        "  for col in features :\n",
        "    print(\"=========================\")\n",
        "    print(\"col name : \", col)\n",
        "    Q1 = np.nanpercentile(df[col], 25)\n",
        "    print(\"Q1 : \",Q1)\n",
        "    Q3 = np.nanpercentile(df[col],75)\n",
        "    print(\"Q3 : \",Q3)\n",
        "    IQR = Q3 - Q1\n",
        "    print(\"IQR : \",IQR)\n",
        "    outlier_step = 1.5*IQR\n",
        "    print(\"outlier_step : \",outlier_step)\n",
        "    outlier_list_col = df[(df[col]<Q1 - outlier_step)|(df[col]>Q3+outlier_step)].index\n",
        "    print(\"outlier_list_col : \",outlier_list_col)\n",
        "    outlier_indices.extend(outlier_list_col)\n",
        "    print(\"outlier_indices extend 전 :\",outlier_indices)\n",
        "  \n",
        "  outlier_indices = Counter(outlier_indices)\n",
        "  print(\"outlier_indices extend 후 :\",outlier_indices)\n",
        "  print(\"outlier_indices.items() : \",outlier_indices.items())\n",
        "  multiple_outliers = list(k for k, v in outlier_indices.items() if v>n)\n",
        "  print(\"multiple_outliers : \",multiple_outliers)\n",
        "  return multiple_outliers\n",
        "\n",
        "outliers_to_drop = detect_outliers(train,1,['Age','SibSp','Fare'])\n",
        "print(\"출력 된 값은 ? : \",outliers_to_drop)"
      ],
      "execution_count": 21,
      "outputs": [
        {
          "output_type": "stream",
          "name": "stdout",
          "text": [
            "=========================\n",
            "col name :  Age\n",
            "Q1 :  20.125\n",
            "Q3 :  38.0\n",
            "IQR :  17.875\n",
            "outlier_step :  26.8125\n",
            "outlier_list_col :  Int64Index([33, 54, 96, 116, 280, 456, 493, 630, 672, 745, 851], dtype='int64')\n",
            "outlier_indices extend 전 : [33, 54, 96, 116, 280, 456, 493, 630, 672, 745, 851]\n",
            "=========================\n",
            "col name :  SibSp\n",
            "Q1 :  0.0\n",
            "Q3 :  1.0\n",
            "IQR :  1.0\n",
            "outlier_step :  1.5\n",
            "outlier_list_col :  Int64Index([  7,  16,  24,  27,  50,  59,  63,  68,  71,  85,  88, 119, 159,\n",
            "            164, 171, 176, 180, 182, 201, 229, 233, 261, 266, 278, 324, 341,\n",
            "            374, 386, 409, 480, 485, 541, 542, 634, 642, 683, 686, 726, 787,\n",
            "            792, 813, 819, 824, 846, 850, 863],\n",
            "           dtype='int64')\n",
            "outlier_indices extend 전 : [33, 54, 96, 116, 280, 456, 493, 630, 672, 745, 851, 7, 16, 24, 27, 50, 59, 63, 68, 71, 85, 88, 119, 159, 164, 171, 176, 180, 182, 201, 229, 233, 261, 266, 278, 324, 341, 374, 386, 409, 480, 485, 541, 542, 634, 642, 683, 686, 726, 787, 792, 813, 819, 824, 846, 850, 863]\n",
            "=========================\n",
            "col name :  Fare\n",
            "Q1 :  7.9104\n",
            "Q3 :  31.0\n",
            "IQR :  23.0896\n",
            "outlier_step :  34.6344\n",
            "outlier_list_col :  Int64Index([  1,  27,  31,  34,  52,  61,  62,  72,  88, 102,\n",
            "            ...\n",
            "            792, 802, 820, 829, 835, 846, 849, 856, 863, 879],\n",
            "           dtype='int64', length=116)\n",
            "outlier_indices extend 전 : [33, 54, 96, 116, 280, 456, 493, 630, 672, 745, 851, 7, 16, 24, 27, 50, 59, 63, 68, 71, 85, 88, 119, 159, 164, 171, 176, 180, 182, 201, 229, 233, 261, 266, 278, 324, 341, 374, 386, 409, 480, 485, 541, 542, 634, 642, 683, 686, 726, 787, 792, 813, 819, 824, 846, 850, 863, 1, 27, 31, 34, 52, 61, 62, 72, 88, 102, 118, 120, 124, 139, 151, 159, 180, 195, 201, 215, 218, 224, 230, 245, 256, 257, 258, 262, 268, 269, 275, 290, 291, 297, 299, 305, 306, 307, 310, 311, 318, 319, 324, 325, 332, 334, 336, 337, 341, 366, 369, 373, 375, 377, 380, 385, 390, 393, 412, 435, 438, 445, 453, 484, 486, 496, 498, 504, 505, 520, 527, 537, 540, 544, 550, 557, 558, 581, 585, 587, 591, 609, 627, 641, 645, 655, 659, 660, 665, 679, 681, 689, 698, 700, 708, 716, 730, 737, 741, 742, 745, 759, 763, 765, 779, 789, 792, 802, 820, 829, 835, 846, 849, 856, 863, 879]\n",
            "outlier_indices extend 후 : Counter({745: 2, 27: 2, 88: 2, 159: 2, 180: 2, 201: 2, 324: 2, 341: 2, 792: 2, 846: 2, 863: 2, 33: 1, 54: 1, 96: 1, 116: 1, 280: 1, 456: 1, 493: 1, 630: 1, 672: 1, 851: 1, 7: 1, 16: 1, 24: 1, 50: 1, 59: 1, 63: 1, 68: 1, 71: 1, 85: 1, 119: 1, 164: 1, 171: 1, 176: 1, 182: 1, 229: 1, 233: 1, 261: 1, 266: 1, 278: 1, 374: 1, 386: 1, 409: 1, 480: 1, 485: 1, 541: 1, 542: 1, 634: 1, 642: 1, 683: 1, 686: 1, 726: 1, 787: 1, 813: 1, 819: 1, 824: 1, 850: 1, 1: 1, 31: 1, 34: 1, 52: 1, 61: 1, 62: 1, 72: 1, 102: 1, 118: 1, 120: 1, 124: 1, 139: 1, 151: 1, 195: 1, 215: 1, 218: 1, 224: 1, 230: 1, 245: 1, 256: 1, 257: 1, 258: 1, 262: 1, 268: 1, 269: 1, 275: 1, 290: 1, 291: 1, 297: 1, 299: 1, 305: 1, 306: 1, 307: 1, 310: 1, 311: 1, 318: 1, 319: 1, 325: 1, 332: 1, 334: 1, 336: 1, 337: 1, 366: 1, 369: 1, 373: 1, 375: 1, 377: 1, 380: 1, 385: 1, 390: 1, 393: 1, 412: 1, 435: 1, 438: 1, 445: 1, 453: 1, 484: 1, 486: 1, 496: 1, 498: 1, 504: 1, 505: 1, 520: 1, 527: 1, 537: 1, 540: 1, 544: 1, 550: 1, 557: 1, 558: 1, 581: 1, 585: 1, 587: 1, 591: 1, 609: 1, 627: 1, 641: 1, 645: 1, 655: 1, 659: 1, 660: 1, 665: 1, 679: 1, 681: 1, 689: 1, 698: 1, 700: 1, 708: 1, 716: 1, 730: 1, 737: 1, 741: 1, 742: 1, 759: 1, 763: 1, 765: 1, 779: 1, 789: 1, 802: 1, 820: 1, 829: 1, 835: 1, 849: 1, 856: 1, 879: 1})\n",
            "outlier_indices.items() :  dict_items([(33, 1), (54, 1), (96, 1), (116, 1), (280, 1), (456, 1), (493, 1), (630, 1), (672, 1), (745, 2), (851, 1), (7, 1), (16, 1), (24, 1), (27, 2), (50, 1), (59, 1), (63, 1), (68, 1), (71, 1), (85, 1), (88, 2), (119, 1), (159, 2), (164, 1), (171, 1), (176, 1), (180, 2), (182, 1), (201, 2), (229, 1), (233, 1), (261, 1), (266, 1), (278, 1), (324, 2), (341, 2), (374, 1), (386, 1), (409, 1), (480, 1), (485, 1), (541, 1), (542, 1), (634, 1), (642, 1), (683, 1), (686, 1), (726, 1), (787, 1), (792, 2), (813, 1), (819, 1), (824, 1), (846, 2), (850, 1), (863, 2), (1, 1), (31, 1), (34, 1), (52, 1), (61, 1), (62, 1), (72, 1), (102, 1), (118, 1), (120, 1), (124, 1), (139, 1), (151, 1), (195, 1), (215, 1), (218, 1), (224, 1), (230, 1), (245, 1), (256, 1), (257, 1), (258, 1), (262, 1), (268, 1), (269, 1), (275, 1), (290, 1), (291, 1), (297, 1), (299, 1), (305, 1), (306, 1), (307, 1), (310, 1), (311, 1), (318, 1), (319, 1), (325, 1), (332, 1), (334, 1), (336, 1), (337, 1), (366, 1), (369, 1), (373, 1), (375, 1), (377, 1), (380, 1), (385, 1), (390, 1), (393, 1), (412, 1), (435, 1), (438, 1), (445, 1), (453, 1), (484, 1), (486, 1), (496, 1), (498, 1), (504, 1), (505, 1), (520, 1), (527, 1), (537, 1), (540, 1), (544, 1), (550, 1), (557, 1), (558, 1), (581, 1), (585, 1), (587, 1), (591, 1), (609, 1), (627, 1), (641, 1), (645, 1), (655, 1), (659, 1), (660, 1), (665, 1), (679, 1), (681, 1), (689, 1), (698, 1), (700, 1), (708, 1), (716, 1), (730, 1), (737, 1), (741, 1), (742, 1), (759, 1), (763, 1), (765, 1), (779, 1), (789, 1), (802, 1), (820, 1), (829, 1), (835, 1), (849, 1), (856, 1), (879, 1)])\n",
            "multiple_outliers :  [745, 27, 88, 159, 180, 201, 324, 341, 792, 846, 863]\n",
            "출력 된 값은 ? :  [745, 27, 88, 159, 180, 201, 324, 341, 792, 846, 863]\n"
          ]
        }
      ]
    },
    {
      "cell_type": "code",
      "metadata": {
        "colab": {
          "base_uri": "https://localhost:8080/"
        },
        "id": "ppW184cWWiDc",
        "outputId": "a654db55-a075-49c0-8cbb-d10adece0e79"
      },
      "source": [
        "def detect_outliers(df, n, features):\n",
        "  outlier_indices = []\n",
        "  for col in features :\n",
        "    print(\"=========================\")\n",
        "    print(\"col name : \", col)\n",
        "    Q1 = np.nanpercentile(df[col], 25)\n",
        "    print(\"Q1 : \",Q1)\n",
        "    Q3 = np.nanpercentile(df[col],75)\n",
        "    print(\"Q3 : \",Q3)\n",
        "    IQR = Q3 - Q1\n",
        "    print(\"IQR : \",IQR)\n",
        "    outlier_step = 1.5*IQR\n",
        "    print(\"outlier_step : \",outlier_step)\n",
        "    outlier_list_col = df[(df[col]<Q1 - outlier_step)|(df[col]>Q3+outlier_step)].index\n",
        "    print(\"outlier_list_col : \",outlier_list_col)\n",
        "    outlier_indices.extend(outlier_list_col)\n",
        "    print(\"outlier_indices extend 전 :\",outlier_indices)\n",
        "  \n",
        "  outlier_indices = Counter(outlier_indices)\n",
        "  print(\"outlier_indices extend 후 :\",outlier_indices)\n",
        "  print(\"outlier_indices.items() : \",outlier_indices.items())\n",
        "  multiple_outliers = list(k for k, v in outlier_indices.items() if v>n)\n",
        "  print(\"multiple_outliers : \",multiple_outliers)\n",
        "  return multiple_outliers\n",
        "\n",
        "outliers_to_drop = detect_outliers(train,1,['Age','SibSp','Fare'])\n",
        "print(\"출력 된 값은 ? : \",outliers_to_drop)"
      ],
      "execution_count": 74,
      "outputs": [
        {
          "output_type": "stream",
          "name": "stdout",
          "text": [
            "=========================\n",
            "col name :  Age\n",
            "Q1 :  20.125\n",
            "Q3 :  38.0\n",
            "IQR :  17.875\n",
            "outlier_step :  26.8125\n",
            "outlier_list_col :  Int64Index([33, 54, 96, 116, 280, 456, 493, 630, 672, 745, 851], dtype='int64')\n",
            "outlier_indices extend 전 : [33, 54, 96, 116, 280, 456, 493, 630, 672, 745, 851]\n",
            "=========================\n",
            "col name :  SibSp\n",
            "Q1 :  0.0\n",
            "Q3 :  1.0\n",
            "IQR :  1.0\n",
            "outlier_step :  1.5\n",
            "outlier_list_col :  Int64Index([  7,  16,  24,  27,  50,  59,  63,  68,  71,  85,  88, 119, 159,\n",
            "            164, 171, 176, 180, 182, 201, 229, 233, 261, 266, 278, 324, 341,\n",
            "            374, 386, 409, 480, 485, 541, 542, 634, 642, 683, 686, 726, 787,\n",
            "            792, 813, 819, 824, 846, 850, 863],\n",
            "           dtype='int64')\n",
            "outlier_indices extend 전 : [33, 54, 96, 116, 280, 456, 493, 630, 672, 745, 851, 7, 16, 24, 27, 50, 59, 63, 68, 71, 85, 88, 119, 159, 164, 171, 176, 180, 182, 201, 229, 233, 261, 266, 278, 324, 341, 374, 386, 409, 480, 485, 541, 542, 634, 642, 683, 686, 726, 787, 792, 813, 819, 824, 846, 850, 863]\n",
            "=========================\n",
            "col name :  Fare\n",
            "Q1 :  7.9104\n",
            "Q3 :  31.0\n",
            "IQR :  23.0896\n",
            "outlier_step :  34.6344\n",
            "outlier_list_col :  Int64Index([  1,  27,  31,  34,  52,  61,  62,  72,  88, 102,\n",
            "            ...\n",
            "            792, 802, 820, 829, 835, 846, 849, 856, 863, 879],\n",
            "           dtype='int64', length=116)\n",
            "outlier_indices extend 전 : [33, 54, 96, 116, 280, 456, 493, 630, 672, 745, 851, 7, 16, 24, 27, 50, 59, 63, 68, 71, 85, 88, 119, 159, 164, 171, 176, 180, 182, 201, 229, 233, 261, 266, 278, 324, 341, 374, 386, 409, 480, 485, 541, 542, 634, 642, 683, 686, 726, 787, 792, 813, 819, 824, 846, 850, 863, 1, 27, 31, 34, 52, 61, 62, 72, 88, 102, 118, 120, 124, 139, 151, 159, 180, 195, 201, 215, 218, 224, 230, 245, 256, 257, 258, 262, 268, 269, 275, 290, 291, 297, 299, 305, 306, 307, 310, 311, 318, 319, 324, 325, 332, 334, 336, 337, 341, 366, 369, 373, 375, 377, 380, 385, 390, 393, 412, 435, 438, 445, 453, 484, 486, 496, 498, 504, 505, 520, 527, 537, 540, 544, 550, 557, 558, 581, 585, 587, 591, 609, 627, 641, 645, 655, 659, 660, 665, 679, 681, 689, 698, 700, 708, 716, 730, 737, 741, 742, 745, 759, 763, 765, 779, 789, 792, 802, 820, 829, 835, 846, 849, 856, 863, 879]\n",
            "outlier_indices extend 후 : Counter({745: 2, 27: 2, 88: 2, 159: 2, 180: 2, 201: 2, 324: 2, 341: 2, 792: 2, 846: 2, 863: 2, 33: 1, 54: 1, 96: 1, 116: 1, 280: 1, 456: 1, 493: 1, 630: 1, 672: 1, 851: 1, 7: 1, 16: 1, 24: 1, 50: 1, 59: 1, 63: 1, 68: 1, 71: 1, 85: 1, 119: 1, 164: 1, 171: 1, 176: 1, 182: 1, 229: 1, 233: 1, 261: 1, 266: 1, 278: 1, 374: 1, 386: 1, 409: 1, 480: 1, 485: 1, 541: 1, 542: 1, 634: 1, 642: 1, 683: 1, 686: 1, 726: 1, 787: 1, 813: 1, 819: 1, 824: 1, 850: 1, 1: 1, 31: 1, 34: 1, 52: 1, 61: 1, 62: 1, 72: 1, 102: 1, 118: 1, 120: 1, 124: 1, 139: 1, 151: 1, 195: 1, 215: 1, 218: 1, 224: 1, 230: 1, 245: 1, 256: 1, 257: 1, 258: 1, 262: 1, 268: 1, 269: 1, 275: 1, 290: 1, 291: 1, 297: 1, 299: 1, 305: 1, 306: 1, 307: 1, 310: 1, 311: 1, 318: 1, 319: 1, 325: 1, 332: 1, 334: 1, 336: 1, 337: 1, 366: 1, 369: 1, 373: 1, 375: 1, 377: 1, 380: 1, 385: 1, 390: 1, 393: 1, 412: 1, 435: 1, 438: 1, 445: 1, 453: 1, 484: 1, 486: 1, 496: 1, 498: 1, 504: 1, 505: 1, 520: 1, 527: 1, 537: 1, 540: 1, 544: 1, 550: 1, 557: 1, 558: 1, 581: 1, 585: 1, 587: 1, 591: 1, 609: 1, 627: 1, 641: 1, 645: 1, 655: 1, 659: 1, 660: 1, 665: 1, 679: 1, 681: 1, 689: 1, 698: 1, 700: 1, 708: 1, 716: 1, 730: 1, 737: 1, 741: 1, 742: 1, 759: 1, 763: 1, 765: 1, 779: 1, 789: 1, 802: 1, 820: 1, 829: 1, 835: 1, 849: 1, 856: 1, 879: 1})\n",
            "outlier_indices.items() :  dict_items([(33, 1), (54, 1), (96, 1), (116, 1), (280, 1), (456, 1), (493, 1), (630, 1), (672, 1), (745, 2), (851, 1), (7, 1), (16, 1), (24, 1), (27, 2), (50, 1), (59, 1), (63, 1), (68, 1), (71, 1), (85, 1), (88, 2), (119, 1), (159, 2), (164, 1), (171, 1), (176, 1), (180, 2), (182, 1), (201, 2), (229, 1), (233, 1), (261, 1), (266, 1), (278, 1), (324, 2), (341, 2), (374, 1), (386, 1), (409, 1), (480, 1), (485, 1), (541, 1), (542, 1), (634, 1), (642, 1), (683, 1), (686, 1), (726, 1), (787, 1), (792, 2), (813, 1), (819, 1), (824, 1), (846, 2), (850, 1), (863, 2), (1, 1), (31, 1), (34, 1), (52, 1), (61, 1), (62, 1), (72, 1), (102, 1), (118, 1), (120, 1), (124, 1), (139, 1), (151, 1), (195, 1), (215, 1), (218, 1), (224, 1), (230, 1), (245, 1), (256, 1), (257, 1), (258, 1), (262, 1), (268, 1), (269, 1), (275, 1), (290, 1), (291, 1), (297, 1), (299, 1), (305, 1), (306, 1), (307, 1), (310, 1), (311, 1), (318, 1), (319, 1), (325, 1), (332, 1), (334, 1), (336, 1), (337, 1), (366, 1), (369, 1), (373, 1), (375, 1), (377, 1), (380, 1), (385, 1), (390, 1), (393, 1), (412, 1), (435, 1), (438, 1), (445, 1), (453, 1), (484, 1), (486, 1), (496, 1), (498, 1), (504, 1), (505, 1), (520, 1), (527, 1), (537, 1), (540, 1), (544, 1), (550, 1), (557, 1), (558, 1), (581, 1), (585, 1), (587, 1), (591, 1), (609, 1), (627, 1), (641, 1), (645, 1), (655, 1), (659, 1), (660, 1), (665, 1), (679, 1), (681, 1), (689, 1), (698, 1), (700, 1), (708, 1), (716, 1), (730, 1), (737, 1), (741, 1), (742, 1), (759, 1), (763, 1), (765, 1), (779, 1), (789, 1), (802, 1), (820, 1), (829, 1), (835, 1), (849, 1), (856, 1), (879, 1)])\n",
            "multiple_outliers :  [745, 27, 88, 159, 180, 201, 324, 341, 792, 846, 863]\n",
            "출력 된 값은 ? :  [745, 27, 88, 159, 180, 201, 324, 341, 792, 846, 863]\n"
          ]
        }
      ]
    },
    {
      "cell_type": "code",
      "metadata": {
        "id": "mKPlK8DlcFFP"
      },
      "source": [
        "# 예제와 결과를 맞춰주기 위해 제거함.\n",
        "del outliers_to_drop[0]"
      ],
      "execution_count": 22,
      "outputs": []
    },
    {
      "cell_type": "markdown",
      "metadata": {
        "id": "UIkH5z-maaLn"
      },
      "source": [
        "outliers_to_drop에 해당되는 index를 이용해 train에서 출력해봐라"
      ]
    },
    {
      "cell_type": "code",
      "metadata": {
        "colab": {
          "base_uri": "https://localhost:8080/",
          "height": 814
        },
        "id": "iW86Jn84VJOd",
        "outputId": "5771be9d-c99d-451b-cf81-4898630dbd25"
      },
      "source": [
        "train.iloc[outliers_to_drop]"
      ],
      "execution_count": 23,
      "outputs": [
        {
          "output_type": "execute_result",
          "data": {
            "text/html": [
              "<div>\n",
              "<style scoped>\n",
              "    .dataframe tbody tr th:only-of-type {\n",
              "        vertical-align: middle;\n",
              "    }\n",
              "\n",
              "    .dataframe tbody tr th {\n",
              "        vertical-align: top;\n",
              "    }\n",
              "\n",
              "    .dataframe thead th {\n",
              "        text-align: right;\n",
              "    }\n",
              "</style>\n",
              "<table border=\"1\" class=\"dataframe\">\n",
              "  <thead>\n",
              "    <tr style=\"text-align: right;\">\n",
              "      <th></th>\n",
              "      <th>PassengerId</th>\n",
              "      <th>Survived</th>\n",
              "      <th>Pclass</th>\n",
              "      <th>Name</th>\n",
              "      <th>Sex</th>\n",
              "      <th>Age</th>\n",
              "      <th>SibSp</th>\n",
              "      <th>Parch</th>\n",
              "      <th>Ticket</th>\n",
              "      <th>Fare</th>\n",
              "      <th>Cabin</th>\n",
              "      <th>Embarked</th>\n",
              "    </tr>\n",
              "  </thead>\n",
              "  <tbody>\n",
              "    <tr>\n",
              "      <th>27</th>\n",
              "      <td>28</td>\n",
              "      <td>0</td>\n",
              "      <td>1</td>\n",
              "      <td>Fortune, Mr. Charles Alexander</td>\n",
              "      <td>male</td>\n",
              "      <td>19.0</td>\n",
              "      <td>3</td>\n",
              "      <td>2</td>\n",
              "      <td>19950</td>\n",
              "      <td>263.00</td>\n",
              "      <td>C23 C25 C27</td>\n",
              "      <td>S</td>\n",
              "    </tr>\n",
              "    <tr>\n",
              "      <th>88</th>\n",
              "      <td>89</td>\n",
              "      <td>1</td>\n",
              "      <td>1</td>\n",
              "      <td>Fortune, Miss. Mabel Helen</td>\n",
              "      <td>female</td>\n",
              "      <td>23.0</td>\n",
              "      <td>3</td>\n",
              "      <td>2</td>\n",
              "      <td>19950</td>\n",
              "      <td>263.00</td>\n",
              "      <td>C23 C25 C27</td>\n",
              "      <td>S</td>\n",
              "    </tr>\n",
              "    <tr>\n",
              "      <th>159</th>\n",
              "      <td>160</td>\n",
              "      <td>0</td>\n",
              "      <td>3</td>\n",
              "      <td>Sage, Master. Thomas Henry</td>\n",
              "      <td>male</td>\n",
              "      <td>NaN</td>\n",
              "      <td>8</td>\n",
              "      <td>2</td>\n",
              "      <td>CA. 2343</td>\n",
              "      <td>69.55</td>\n",
              "      <td>NaN</td>\n",
              "      <td>S</td>\n",
              "    </tr>\n",
              "    <tr>\n",
              "      <th>180</th>\n",
              "      <td>181</td>\n",
              "      <td>0</td>\n",
              "      <td>3</td>\n",
              "      <td>Sage, Miss. Constance Gladys</td>\n",
              "      <td>female</td>\n",
              "      <td>NaN</td>\n",
              "      <td>8</td>\n",
              "      <td>2</td>\n",
              "      <td>CA. 2343</td>\n",
              "      <td>69.55</td>\n",
              "      <td>NaN</td>\n",
              "      <td>S</td>\n",
              "    </tr>\n",
              "    <tr>\n",
              "      <th>201</th>\n",
              "      <td>202</td>\n",
              "      <td>0</td>\n",
              "      <td>3</td>\n",
              "      <td>Sage, Mr. Frederick</td>\n",
              "      <td>male</td>\n",
              "      <td>NaN</td>\n",
              "      <td>8</td>\n",
              "      <td>2</td>\n",
              "      <td>CA. 2343</td>\n",
              "      <td>69.55</td>\n",
              "      <td>NaN</td>\n",
              "      <td>S</td>\n",
              "    </tr>\n",
              "    <tr>\n",
              "      <th>324</th>\n",
              "      <td>325</td>\n",
              "      <td>0</td>\n",
              "      <td>3</td>\n",
              "      <td>Sage, Mr. George John Jr</td>\n",
              "      <td>male</td>\n",
              "      <td>NaN</td>\n",
              "      <td>8</td>\n",
              "      <td>2</td>\n",
              "      <td>CA. 2343</td>\n",
              "      <td>69.55</td>\n",
              "      <td>NaN</td>\n",
              "      <td>S</td>\n",
              "    </tr>\n",
              "    <tr>\n",
              "      <th>341</th>\n",
              "      <td>342</td>\n",
              "      <td>1</td>\n",
              "      <td>1</td>\n",
              "      <td>Fortune, Miss. Alice Elizabeth</td>\n",
              "      <td>female</td>\n",
              "      <td>24.0</td>\n",
              "      <td>3</td>\n",
              "      <td>2</td>\n",
              "      <td>19950</td>\n",
              "      <td>263.00</td>\n",
              "      <td>C23 C25 C27</td>\n",
              "      <td>S</td>\n",
              "    </tr>\n",
              "    <tr>\n",
              "      <th>792</th>\n",
              "      <td>793</td>\n",
              "      <td>0</td>\n",
              "      <td>3</td>\n",
              "      <td>Sage, Miss. Stella Anna</td>\n",
              "      <td>female</td>\n",
              "      <td>NaN</td>\n",
              "      <td>8</td>\n",
              "      <td>2</td>\n",
              "      <td>CA. 2343</td>\n",
              "      <td>69.55</td>\n",
              "      <td>NaN</td>\n",
              "      <td>S</td>\n",
              "    </tr>\n",
              "    <tr>\n",
              "      <th>846</th>\n",
              "      <td>847</td>\n",
              "      <td>0</td>\n",
              "      <td>3</td>\n",
              "      <td>Sage, Mr. Douglas Bullen</td>\n",
              "      <td>male</td>\n",
              "      <td>NaN</td>\n",
              "      <td>8</td>\n",
              "      <td>2</td>\n",
              "      <td>CA. 2343</td>\n",
              "      <td>69.55</td>\n",
              "      <td>NaN</td>\n",
              "      <td>S</td>\n",
              "    </tr>\n",
              "    <tr>\n",
              "      <th>863</th>\n",
              "      <td>864</td>\n",
              "      <td>0</td>\n",
              "      <td>3</td>\n",
              "      <td>Sage, Miss. Dorothy Edith \"Dolly\"</td>\n",
              "      <td>female</td>\n",
              "      <td>NaN</td>\n",
              "      <td>8</td>\n",
              "      <td>2</td>\n",
              "      <td>CA. 2343</td>\n",
              "      <td>69.55</td>\n",
              "      <td>NaN</td>\n",
              "      <td>S</td>\n",
              "    </tr>\n",
              "  </tbody>\n",
              "</table>\n",
              "</div>"
            ],
            "text/plain": [
              "     PassengerId  Survived  Pclass  ...    Fare        Cabin  Embarked\n",
              "27            28         0       1  ...  263.00  C23 C25 C27         S\n",
              "88            89         1       1  ...  263.00  C23 C25 C27         S\n",
              "159          160         0       3  ...   69.55          NaN         S\n",
              "180          181         0       3  ...   69.55          NaN         S\n",
              "201          202         0       3  ...   69.55          NaN         S\n",
              "324          325         0       3  ...   69.55          NaN         S\n",
              "341          342         1       1  ...  263.00  C23 C25 C27         S\n",
              "792          793         0       3  ...   69.55          NaN         S\n",
              "846          847         0       3  ...   69.55          NaN         S\n",
              "863          864         0       3  ...   69.55          NaN         S\n",
              "\n",
              "[10 rows x 12 columns]"
            ]
          },
          "metadata": {},
          "execution_count": 23
        }
      ]
    },
    {
      "cell_type": "markdown",
      "metadata": {
        "id": "jyM0gW1scP73"
      },
      "source": [
        "* outliers_to_drop에 해당하는 index를 train에서 삭제하고 index를 다시 정렬해라"
      ]
    },
    {
      "cell_type": "code",
      "metadata": {
        "colab": {
          "base_uri": "https://localhost:8080/",
          "height": 924
        },
        "id": "rnL4PYmicPZN",
        "outputId": "45eae423-5593-4b4e-a6d3-50f7dd7399c4"
      },
      "source": [
        "train.drop(outliers_to_drop, axis=0).reset_index(drop=True)"
      ],
      "execution_count": 24,
      "outputs": [
        {
          "output_type": "execute_result",
          "data": {
            "text/html": [
              "<div>\n",
              "<style scoped>\n",
              "    .dataframe tbody tr th:only-of-type {\n",
              "        vertical-align: middle;\n",
              "    }\n",
              "\n",
              "    .dataframe tbody tr th {\n",
              "        vertical-align: top;\n",
              "    }\n",
              "\n",
              "    .dataframe thead th {\n",
              "        text-align: right;\n",
              "    }\n",
              "</style>\n",
              "<table border=\"1\" class=\"dataframe\">\n",
              "  <thead>\n",
              "    <tr style=\"text-align: right;\">\n",
              "      <th></th>\n",
              "      <th>PassengerId</th>\n",
              "      <th>Survived</th>\n",
              "      <th>Pclass</th>\n",
              "      <th>Name</th>\n",
              "      <th>Sex</th>\n",
              "      <th>Age</th>\n",
              "      <th>SibSp</th>\n",
              "      <th>Parch</th>\n",
              "      <th>Ticket</th>\n",
              "      <th>Fare</th>\n",
              "      <th>Cabin</th>\n",
              "      <th>Embarked</th>\n",
              "    </tr>\n",
              "  </thead>\n",
              "  <tbody>\n",
              "    <tr>\n",
              "      <th>0</th>\n",
              "      <td>1</td>\n",
              "      <td>0</td>\n",
              "      <td>3</td>\n",
              "      <td>Braund, Mr. Owen Harris</td>\n",
              "      <td>male</td>\n",
              "      <td>22.0</td>\n",
              "      <td>1</td>\n",
              "      <td>0</td>\n",
              "      <td>A/5 21171</td>\n",
              "      <td>7.2500</td>\n",
              "      <td>NaN</td>\n",
              "      <td>S</td>\n",
              "    </tr>\n",
              "    <tr>\n",
              "      <th>1</th>\n",
              "      <td>2</td>\n",
              "      <td>1</td>\n",
              "      <td>1</td>\n",
              "      <td>Cumings, Mrs. John Bradley (Florence Briggs Th...</td>\n",
              "      <td>female</td>\n",
              "      <td>38.0</td>\n",
              "      <td>1</td>\n",
              "      <td>0</td>\n",
              "      <td>PC 17599</td>\n",
              "      <td>71.2833</td>\n",
              "      <td>C85</td>\n",
              "      <td>C</td>\n",
              "    </tr>\n",
              "    <tr>\n",
              "      <th>2</th>\n",
              "      <td>3</td>\n",
              "      <td>1</td>\n",
              "      <td>3</td>\n",
              "      <td>Heikkinen, Miss. Laina</td>\n",
              "      <td>female</td>\n",
              "      <td>26.0</td>\n",
              "      <td>0</td>\n",
              "      <td>0</td>\n",
              "      <td>STON/O2. 3101282</td>\n",
              "      <td>7.9250</td>\n",
              "      <td>NaN</td>\n",
              "      <td>S</td>\n",
              "    </tr>\n",
              "    <tr>\n",
              "      <th>3</th>\n",
              "      <td>4</td>\n",
              "      <td>1</td>\n",
              "      <td>1</td>\n",
              "      <td>Futrelle, Mrs. Jacques Heath (Lily May Peel)</td>\n",
              "      <td>female</td>\n",
              "      <td>35.0</td>\n",
              "      <td>1</td>\n",
              "      <td>0</td>\n",
              "      <td>113803</td>\n",
              "      <td>53.1000</td>\n",
              "      <td>C123</td>\n",
              "      <td>S</td>\n",
              "    </tr>\n",
              "    <tr>\n",
              "      <th>4</th>\n",
              "      <td>5</td>\n",
              "      <td>0</td>\n",
              "      <td>3</td>\n",
              "      <td>Allen, Mr. William Henry</td>\n",
              "      <td>male</td>\n",
              "      <td>35.0</td>\n",
              "      <td>0</td>\n",
              "      <td>0</td>\n",
              "      <td>373450</td>\n",
              "      <td>8.0500</td>\n",
              "      <td>NaN</td>\n",
              "      <td>S</td>\n",
              "    </tr>\n",
              "    <tr>\n",
              "      <th>...</th>\n",
              "      <td>...</td>\n",
              "      <td>...</td>\n",
              "      <td>...</td>\n",
              "      <td>...</td>\n",
              "      <td>...</td>\n",
              "      <td>...</td>\n",
              "      <td>...</td>\n",
              "      <td>...</td>\n",
              "      <td>...</td>\n",
              "      <td>...</td>\n",
              "      <td>...</td>\n",
              "      <td>...</td>\n",
              "    </tr>\n",
              "    <tr>\n",
              "      <th>876</th>\n",
              "      <td>887</td>\n",
              "      <td>0</td>\n",
              "      <td>2</td>\n",
              "      <td>Montvila, Rev. Juozas</td>\n",
              "      <td>male</td>\n",
              "      <td>27.0</td>\n",
              "      <td>0</td>\n",
              "      <td>0</td>\n",
              "      <td>211536</td>\n",
              "      <td>13.0000</td>\n",
              "      <td>NaN</td>\n",
              "      <td>S</td>\n",
              "    </tr>\n",
              "    <tr>\n",
              "      <th>877</th>\n",
              "      <td>888</td>\n",
              "      <td>1</td>\n",
              "      <td>1</td>\n",
              "      <td>Graham, Miss. Margaret Edith</td>\n",
              "      <td>female</td>\n",
              "      <td>19.0</td>\n",
              "      <td>0</td>\n",
              "      <td>0</td>\n",
              "      <td>112053</td>\n",
              "      <td>30.0000</td>\n",
              "      <td>B42</td>\n",
              "      <td>S</td>\n",
              "    </tr>\n",
              "    <tr>\n",
              "      <th>878</th>\n",
              "      <td>889</td>\n",
              "      <td>0</td>\n",
              "      <td>3</td>\n",
              "      <td>Johnston, Miss. Catherine Helen \"Carrie\"</td>\n",
              "      <td>female</td>\n",
              "      <td>NaN</td>\n",
              "      <td>1</td>\n",
              "      <td>2</td>\n",
              "      <td>W./C. 6607</td>\n",
              "      <td>23.4500</td>\n",
              "      <td>NaN</td>\n",
              "      <td>S</td>\n",
              "    </tr>\n",
              "    <tr>\n",
              "      <th>879</th>\n",
              "      <td>890</td>\n",
              "      <td>1</td>\n",
              "      <td>1</td>\n",
              "      <td>Behr, Mr. Karl Howell</td>\n",
              "      <td>male</td>\n",
              "      <td>26.0</td>\n",
              "      <td>0</td>\n",
              "      <td>0</td>\n",
              "      <td>111369</td>\n",
              "      <td>30.0000</td>\n",
              "      <td>C148</td>\n",
              "      <td>C</td>\n",
              "    </tr>\n",
              "    <tr>\n",
              "      <th>880</th>\n",
              "      <td>891</td>\n",
              "      <td>0</td>\n",
              "      <td>3</td>\n",
              "      <td>Dooley, Mr. Patrick</td>\n",
              "      <td>male</td>\n",
              "      <td>32.0</td>\n",
              "      <td>0</td>\n",
              "      <td>0</td>\n",
              "      <td>370376</td>\n",
              "      <td>7.7500</td>\n",
              "      <td>NaN</td>\n",
              "      <td>Q</td>\n",
              "    </tr>\n",
              "  </tbody>\n",
              "</table>\n",
              "<p>881 rows × 12 columns</p>\n",
              "</div>"
            ],
            "text/plain": [
              "     PassengerId  Survived  Pclass  ...     Fare Cabin  Embarked\n",
              "0              1         0       3  ...   7.2500   NaN         S\n",
              "1              2         1       1  ...  71.2833   C85         C\n",
              "2              3         1       3  ...   7.9250   NaN         S\n",
              "3              4         1       1  ...  53.1000  C123         S\n",
              "4              5         0       3  ...   8.0500   NaN         S\n",
              "..           ...       ...     ...  ...      ...   ...       ...\n",
              "876          887         0       2  ...  13.0000   NaN         S\n",
              "877          888         1       1  ...  30.0000   B42         S\n",
              "878          889         0       3  ...  23.4500   NaN         S\n",
              "879          890         1       1  ...  30.0000  C148         C\n",
              "880          891         0       3  ...   7.7500   NaN         Q\n",
              "\n",
              "[881 rows x 12 columns]"
            ]
          },
          "metadata": {},
          "execution_count": 24
        }
      ]
    },
    {
      "cell_type": "markdown",
      "metadata": {
        "id": "JrjltrGPcnBe"
      },
      "source": [
        "* train의 행 갯수를 train_len에 저장하라\n",
        "* train, test 셋 결합해라"
      ]
    },
    {
      "cell_type": "code",
      "metadata": {
        "id": "BnwsDGlQbN40"
      },
      "source": [
        "train_len=len(train)\n",
        "\n",
        "dataset = pd.concat([train,test], axis=0).reset_index(drop=True)"
      ],
      "execution_count": 31,
      "outputs": []
    },
    {
      "cell_type": "markdown",
      "metadata": {
        "id": "68kPxI3Qc9BS"
      },
      "source": [
        "* 결측값과 Null값 확인해라\n",
        "  * 이때 NaN 을 NaN으로, 비어있는값을 NaN으로 바꾸어라\n",
        "* train의 변수 타입을 확인하고 null이 얼마나 있는지 확인하라"
      ]
    },
    {
      "cell_type": "code",
      "metadata": {
        "colab": {
          "base_uri": "https://localhost:8080/"
        },
        "id": "ZAHN4dOZrTRz",
        "outputId": "3b575e05-7db4-4103-9cc2-b8460a22dfbb"
      },
      "source": [
        "dataset = dataset.fillna(np.nan)\n",
        "\n",
        "dataset.isnull().sum()"
      ],
      "execution_count": 33,
      "outputs": [
        {
          "output_type": "execute_result",
          "data": {
            "text/plain": [
              "PassengerId       0\n",
              "Survived        418\n",
              "Pclass            0\n",
              "Name              0\n",
              "Sex               0\n",
              "Age             263\n",
              "SibSp             0\n",
              "Parch             0\n",
              "Ticket            0\n",
              "Fare              1\n",
              "Cabin          1014\n",
              "Embarked          2\n",
              "dtype: int64"
            ]
          },
          "metadata": {},
          "execution_count": 33
        }
      ]
    },
    {
      "cell_type": "markdown",
      "metadata": {
        "id": "wH5GBHaMrywn"
      },
      "source": [
        "* dataset의 형태를 출력해라"
      ]
    },
    {
      "cell_type": "code",
      "metadata": {
        "colab": {
          "base_uri": "https://localhost:8080/"
        },
        "id": "6TqpuExEjnHE",
        "outputId": "e9e091d7-1d25-45c8-f2aa-567e598a1e1b"
      },
      "source": [
        "dataset.info()"
      ],
      "execution_count": 34,
      "outputs": [
        {
          "output_type": "stream",
          "name": "stdout",
          "text": [
            "<class 'pandas.core.frame.DataFrame'>\n",
            "RangeIndex: 1309 entries, 0 to 1308\n",
            "Data columns (total 12 columns):\n",
            " #   Column       Non-Null Count  Dtype  \n",
            "---  ------       --------------  -----  \n",
            " 0   PassengerId  1309 non-null   int64  \n",
            " 1   Survived     891 non-null    float64\n",
            " 2   Pclass       1309 non-null   int64  \n",
            " 3   Name         1309 non-null   object \n",
            " 4   Sex          1309 non-null   object \n",
            " 5   Age          1046 non-null   float64\n",
            " 6   SibSp        1309 non-null   int64  \n",
            " 7   Parch        1309 non-null   int64  \n",
            " 8   Ticket       1309 non-null   object \n",
            " 9   Fare         1308 non-null   float64\n",
            " 10  Cabin        295 non-null    object \n",
            " 11  Embarked     1307 non-null   object \n",
            "dtypes: float64(3), int64(4), object(5)\n",
            "memory usage: 122.8+ KB\n"
          ]
        }
      ]
    },
    {
      "cell_type": "code",
      "metadata": {
        "colab": {
          "base_uri": "https://localhost:8080/"
        },
        "id": "o4GmTfe6cvWU",
        "outputId": "67c8676a-f446-47d2-e23e-811425033b8e"
      },
      "source": [
        "dataset.columns"
      ],
      "execution_count": 51,
      "outputs": [
        {
          "output_type": "execute_result",
          "data": {
            "text/plain": [
              "Index(['PassengerId', 'Survived', 'Pclass', 'Name', 'Sex', 'Age', 'SibSp',\n",
              "       'Parch', 'Ticket', 'Fare', 'Cabin', 'Embarked', 'PassengerId', 'Pclass',\n",
              "       'Name', 'Sex', 'Age', 'SibSp', 'Parch', 'Ticket', 'Fare', 'Cabin',\n",
              "       'Embarked'],\n",
              "      dtype='object')"
            ]
          },
          "metadata": {},
          "execution_count": 51
        }
      ]
    },
    {
      "cell_type": "code",
      "metadata": {
        "colab": {
          "base_uri": "https://localhost:8080/",
          "height": 315
        },
        "id": "Lobt13x0gkLr",
        "outputId": "74c20685-8dab-464a-80a5-f76af9d5b559"
      },
      "source": [
        "train.describe()"
      ],
      "execution_count": 85,
      "outputs": [
        {
          "output_type": "execute_result",
          "data": {
            "text/html": [
              "<div>\n",
              "<style scoped>\n",
              "    .dataframe tbody tr th:only-of-type {\n",
              "        vertical-align: middle;\n",
              "    }\n",
              "\n",
              "    .dataframe tbody tr th {\n",
              "        vertical-align: top;\n",
              "    }\n",
              "\n",
              "    .dataframe thead th {\n",
              "        text-align: right;\n",
              "    }\n",
              "</style>\n",
              "<table border=\"1\" class=\"dataframe\">\n",
              "  <thead>\n",
              "    <tr style=\"text-align: right;\">\n",
              "      <th></th>\n",
              "      <th>PassengerId</th>\n",
              "      <th>Survived</th>\n",
              "      <th>Pclass</th>\n",
              "      <th>Age</th>\n",
              "      <th>SibSp</th>\n",
              "      <th>Parch</th>\n",
              "      <th>Fare</th>\n",
              "    </tr>\n",
              "  </thead>\n",
              "  <tbody>\n",
              "    <tr>\n",
              "      <th>count</th>\n",
              "      <td>881.000000</td>\n",
              "      <td>881.000000</td>\n",
              "      <td>881.000000</td>\n",
              "      <td>711.000000</td>\n",
              "      <td>881.000000</td>\n",
              "      <td>881.000000</td>\n",
              "      <td>881.000000</td>\n",
              "    </tr>\n",
              "    <tr>\n",
              "      <th>mean</th>\n",
              "      <td>446.713961</td>\n",
              "      <td>0.385925</td>\n",
              "      <td>2.307605</td>\n",
              "      <td>29.731603</td>\n",
              "      <td>0.455165</td>\n",
              "      <td>0.363224</td>\n",
              "      <td>31.121566</td>\n",
              "    </tr>\n",
              "    <tr>\n",
              "      <th>std</th>\n",
              "      <td>256.617021</td>\n",
              "      <td>0.487090</td>\n",
              "      <td>0.835055</td>\n",
              "      <td>14.547835</td>\n",
              "      <td>0.871571</td>\n",
              "      <td>0.791839</td>\n",
              "      <td>47.996249</td>\n",
              "    </tr>\n",
              "    <tr>\n",
              "      <th>min</th>\n",
              "      <td>1.000000</td>\n",
              "      <td>0.000000</td>\n",
              "      <td>1.000000</td>\n",
              "      <td>0.420000</td>\n",
              "      <td>0.000000</td>\n",
              "      <td>0.000000</td>\n",
              "      <td>0.000000</td>\n",
              "    </tr>\n",
              "    <tr>\n",
              "      <th>25%</th>\n",
              "      <td>226.000000</td>\n",
              "      <td>0.000000</td>\n",
              "      <td>2.000000</td>\n",
              "      <td>20.250000</td>\n",
              "      <td>0.000000</td>\n",
              "      <td>0.000000</td>\n",
              "      <td>7.895800</td>\n",
              "    </tr>\n",
              "    <tr>\n",
              "      <th>50%</th>\n",
              "      <td>448.000000</td>\n",
              "      <td>0.000000</td>\n",
              "      <td>3.000000</td>\n",
              "      <td>28.000000</td>\n",
              "      <td>0.000000</td>\n",
              "      <td>0.000000</td>\n",
              "      <td>14.454200</td>\n",
              "    </tr>\n",
              "    <tr>\n",
              "      <th>75%</th>\n",
              "      <td>668.000000</td>\n",
              "      <td>1.000000</td>\n",
              "      <td>3.000000</td>\n",
              "      <td>38.000000</td>\n",
              "      <td>1.000000</td>\n",
              "      <td>0.000000</td>\n",
              "      <td>30.500000</td>\n",
              "    </tr>\n",
              "    <tr>\n",
              "      <th>max</th>\n",
              "      <td>891.000000</td>\n",
              "      <td>1.000000</td>\n",
              "      <td>3.000000</td>\n",
              "      <td>80.000000</td>\n",
              "      <td>5.000000</td>\n",
              "      <td>6.000000</td>\n",
              "      <td>512.329200</td>\n",
              "    </tr>\n",
              "  </tbody>\n",
              "</table>\n",
              "</div>"
            ],
            "text/plain": [
              "       PassengerId    Survived      Pclass  ...       SibSp       Parch        Fare\n",
              "count   881.000000  881.000000  881.000000  ...  881.000000  881.000000  881.000000\n",
              "mean    446.713961    0.385925    2.307605  ...    0.455165    0.363224   31.121566\n",
              "std     256.617021    0.487090    0.835055  ...    0.871571    0.791839   47.996249\n",
              "min       1.000000    0.000000    1.000000  ...    0.000000    0.000000    0.000000\n",
              "25%     226.000000    0.000000    2.000000  ...    0.000000    0.000000    7.895800\n",
              "50%     448.000000    0.000000    3.000000  ...    0.000000    0.000000   14.454200\n",
              "75%     668.000000    1.000000    3.000000  ...    1.000000    0.000000   30.500000\n",
              "max     891.000000    1.000000    3.000000  ...    5.000000    6.000000  512.329200\n",
              "\n",
              "[8 rows x 7 columns]"
            ]
          },
          "metadata": {},
          "execution_count": 85
        }
      ]
    },
    {
      "cell_type": "markdown",
      "metadata": {
        "id": "nvOmjcdAm6Bg"
      },
      "source": [
        "* [\"Survived\",\"SibSp\",\"Parch\",\"Age\",\"Fare\"]\n",
        "* 위 변수들에 대해 corr matrix를 그려라\n",
        "* 단, heatmap으로 그려야하며 각 셀에는 상관계수가 표기되어야 한다."
      ]
    },
    {
      "cell_type": "code",
      "metadata": {
        "colab": {
          "base_uri": "https://localhost:8080/",
          "height": 272
        },
        "id": "KEyxvZ2Ur4-I",
        "outputId": "e46e4c75-ffb0-4a22-f2ae-1b303e13c709"
      },
      "source": [
        "g = sns.heatmap(train[['Survived','SibSp','Parch','Age','Fare']].corr(), annot=True, fmt = '.2f',cmap = 'coolwarm')\n",
        "g = sns.heatmap(train[['Survived','SibSp','Parch','Age','Fare']].corr(), annot=True, fmt = '.2f', cmap='coolwarm')"
      ],
      "execution_count": 41,
      "outputs": [
        {
          "output_type": "display_data",
          "data": {
            "image/png": "[encoded data removed]",
            "text/plain": [
              "<Figure size 432x288 with 3 Axes>"
            ]
          },
          "metadata": {
            "needs_background": "light"
          }
        }
      ]
    },
    {
      "cell_type": "markdown",
      "metadata": {
        "id": "jl9t8icfnsYz"
      },
      "source": [
        "* Survived와 SibSp의 sns를 이용해 막대그래프를 그려라"
      ]
    },
    {
      "cell_type": "code",
      "metadata": {
        "colab": {
          "base_uri": "https://localhost:8080/",
          "height": 528
        },
        "id": "gJXe9knstFbH",
        "outputId": "9403be25-236f-4747-dd41-38fc18464e52"
      },
      "source": [
        "g = sns.factorplot(x = 'SibSp', y='Survived', data=train, kind = 'bar', size=6, palette='muted')\n",
        "g = g.set_ylabels(\"Survival probability\")"
      ],
      "execution_count": 44,
      "outputs": [
        {
          "output_type": "stream",
          "name": "stderr",
          "text": [
            "/usr/local/lib/python3.7/dist-packages/seaborn/categorical.py:3717: UserWarning: The `factorplot` function has been renamed to `catplot`. The original name will be removed in a future release. Please update your code. Note that the default `kind` in `factorplot` (`'point'`) has changed `'strip'` in `catplot`.\n",
            "  warnings.warn(msg)\n",
            "/usr/local/lib/python3.7/dist-packages/seaborn/categorical.py:3723: UserWarning: The `size` parameter has been renamed to `height`; please update your code.\n",
            "  warnings.warn(msg, UserWarning)\n"
          ]
        },
        {
          "output_type": "display_data",
          "data": {
            "image/png": "[encoded data removed]",
            "text/plain": [
              "<Figure size 432x432 with 1 Axes>"
            ]
          },
          "metadata": {
            "needs_background": "light"
          }
        }
      ]
    },
    {
      "cell_type": "code",
      "metadata": {
        "colab": {
          "base_uri": "https://localhost:8080/",
          "height": 295
        },
        "id": "fLHUyAEJocrA",
        "outputId": "779de0ac-4004-4a92-8338-0a778522933c"
      },
      "source": [
        "train[train['SibSp']==0].S"
      ],
      "execution_count": 98,
      "outputs": [
        {
          "output_type": "execute_result",
          "data": {
            "text/html": [
              "<div>\n",
              "<style scoped>\n",
              "    .dataframe tbody tr th:only-of-type {\n",
              "        vertical-align: middle;\n",
              "    }\n",
              "\n",
              "    .dataframe tbody tr th {\n",
              "        vertical-align: top;\n",
              "    }\n",
              "\n",
              "    .dataframe thead th {\n",
              "        text-align: right;\n",
              "    }\n",
              "</style>\n",
              "<table border=\"1\" class=\"dataframe\">\n",
              "  <thead>\n",
              "    <tr style=\"text-align: right;\">\n",
              "      <th></th>\n",
              "      <th>PassengerId</th>\n",
              "      <th>Survived</th>\n",
              "      <th>Pclass</th>\n",
              "      <th>Age</th>\n",
              "      <th>SibSp</th>\n",
              "      <th>Parch</th>\n",
              "      <th>Fare</th>\n",
              "    </tr>\n",
              "  </thead>\n",
              "  <tbody>\n",
              "    <tr>\n",
              "      <th>count</th>\n",
              "      <td>608.000000</td>\n",
              "      <td>608.000000</td>\n",
              "      <td>608.000000</td>\n",
              "      <td>471.000000</td>\n",
              "      <td>608.0</td>\n",
              "      <td>608.000000</td>\n",
              "      <td>608.000000</td>\n",
              "    </tr>\n",
              "    <tr>\n",
              "      <th>mean</th>\n",
              "      <td>455.370066</td>\n",
              "      <td>0.345395</td>\n",
              "      <td>2.351974</td>\n",
              "      <td>31.397558</td>\n",
              "      <td>0.0</td>\n",
              "      <td>0.185855</td>\n",
              "      <td>25.692028</td>\n",
              "    </tr>\n",
              "    <tr>\n",
              "      <th>std</th>\n",
              "      <td>255.992322</td>\n",
              "      <td>0.475888</td>\n",
              "      <td>0.824539</td>\n",
              "      <td>13.647767</td>\n",
              "      <td>0.0</td>\n",
              "      <td>0.585377</td>\n",
              "      <td>49.733052</td>\n",
              "    </tr>\n",
              "    <tr>\n",
              "      <th>min</th>\n",
              "      <td>3.000000</td>\n",
              "      <td>0.000000</td>\n",
              "      <td>1.000000</td>\n",
              "      <td>0.420000</td>\n",
              "      <td>0.0</td>\n",
              "      <td>0.000000</td>\n",
              "      <td>0.000000</td>\n",
              "    </tr>\n",
              "    <tr>\n",
              "      <th>25%</th>\n",
              "      <td>232.750000</td>\n",
              "      <td>0.000000</td>\n",
              "      <td>2.000000</td>\n",
              "      <td>22.000000</td>\n",
              "      <td>0.0</td>\n",
              "      <td>0.000000</td>\n",
              "      <td>7.795800</td>\n",
              "    </tr>\n",
              "    <tr>\n",
              "      <th>50%</th>\n",
              "      <td>461.500000</td>\n",
              "      <td>0.000000</td>\n",
              "      <td>3.000000</td>\n",
              "      <td>29.000000</td>\n",
              "      <td>0.0</td>\n",
              "      <td>0.000000</td>\n",
              "      <td>9.500000</td>\n",
              "    </tr>\n",
              "    <tr>\n",
              "      <th>75%</th>\n",
              "      <td>678.500000</td>\n",
              "      <td>1.000000</td>\n",
              "      <td>3.000000</td>\n",
              "      <td>39.000000</td>\n",
              "      <td>0.0</td>\n",
              "      <td>0.000000</td>\n",
              "      <td>26.000000</td>\n",
              "    </tr>\n",
              "    <tr>\n",
              "      <th>max</th>\n",
              "      <td>891.000000</td>\n",
              "      <td>1.000000</td>\n",
              "      <td>3.000000</td>\n",
              "      <td>80.000000</td>\n",
              "      <td>0.0</td>\n",
              "      <td>5.000000</td>\n",
              "      <td>512.329200</td>\n",
              "    </tr>\n",
              "  </tbody>\n",
              "</table>\n",
              "</div>"
            ],
            "text/plain": [
              "       PassengerId    Survived      Pclass  ...  SibSp       Parch        Fare\n",
              "count   608.000000  608.000000  608.000000  ...  608.0  608.000000  608.000000\n",
              "mean    455.370066    0.345395    2.351974  ...    0.0    0.185855   25.692028\n",
              "std     255.992322    0.475888    0.824539  ...    0.0    0.585377   49.733052\n",
              "min       3.000000    0.000000    1.000000  ...    0.0    0.000000    0.000000\n",
              "25%     232.750000    0.000000    2.000000  ...    0.0    0.000000    7.795800\n",
              "50%     461.500000    0.000000    3.000000  ...    0.0    0.000000    9.500000\n",
              "75%     678.500000    1.000000    3.000000  ...    0.0    0.000000   26.000000\n",
              "max     891.000000    1.000000    3.000000  ...    0.0    5.000000  512.329200\n",
              "\n",
              "[8 rows x 7 columns]"
            ]
          },
          "metadata": {},
          "execution_count": 98
        }
      ]
    },
    {
      "cell_type": "code",
      "metadata": {
        "colab": {
          "base_uri": "https://localhost:8080/",
          "height": 372
        },
        "id": "sZj1kf7MpfLH",
        "outputId": "b5f0d158-843c-40d7-bdda-752494cf90cd"
      },
      "source": [
        "g = sns.distplot(train['Age'][(train['Survived']==0)&(train[\"Age\"].notnull())],\\\n",
        "                color='Red')\n",
        "g = sns.distplot(train['Age'][(train['Survived']==1)&(train['Age'].notnull())],\\\n",
        "                ax=g, color=\"Blue\")\n",
        "g.set_xlabel(\"Age\")\n",
        "g.set_ylabel(\"Frequency\")\n",
        "g = g.legend([\"Not Survived\",\"Survived\"])"
      ],
      "execution_count": 51,
      "outputs": [
        {
          "output_type": "stream",
          "name": "stderr",
          "text": [
            "/usr/local/lib/python3.7/dist-packages/seaborn/distributions.py:2619: FutureWarning: `distplot` is a deprecated function and will be removed in a future version. Please adapt your code to use either `displot` (a figure-level function with similar flexibility) or `histplot` (an axes-level function for histograms).\n",
            "  warnings.warn(msg, FutureWarning)\n",
            "/usr/local/lib/python3.7/dist-packages/seaborn/distributions.py:2619: FutureWarning: `distplot` is a deprecated function and will be removed in a future version. Please adapt your code to use either `displot` (a figure-level function with similar flexibility) or `histplot` (an axes-level function for histograms).\n",
            "  warnings.warn(msg, FutureWarning)\n"
          ]
        },
        {
          "output_type": "display_data",
          "data": {
            "image/png": "[encoded data removed]",
            "text/plain": [
              "<Figure size 432x288 with 1 Axes>"
            ]
          },
          "metadata": {
            "needs_background": "light"
          }
        }
      ]
    },
    {
      "cell_type": "code",
      "metadata": {
        "colab": {
          "base_uri": "https://localhost:8080/"
        },
        "id": "ygZP_8UKt1LL",
        "outputId": "aa8a3526-84f8-4377-f924-fd95201ac519"
      },
      "source": [
        "dataset['Fare'].isnull().sum()"
      ],
      "execution_count": 52,
      "outputs": [
        {
          "output_type": "execute_result",
          "data": {
            "text/plain": [
              "1"
            ]
          },
          "metadata": {},
          "execution_count": 52
        }
      ]
    },
    {
      "cell_type": "markdown",
      "metadata": {
        "id": "DYE2KZ_CvcC5"
      },
      "source": [
        "* Fare 미싱값을 중앙값으로 대체해라\n",
        "  * 필자는 예측에 예측에 중요한 영향을 주지 않는 중앙값으로 대체하였다."
      ]
    },
    {
      "cell_type": "code",
      "metadata": {
        "id": "WFHe6G_yvBUx"
      },
      "source": [
        "dataset['Fare'] = dataset['Fare'].fillna(dataset[\"Fare\"].median())"
      ],
      "execution_count": 53,
      "outputs": []
    },
    {
      "cell_type": "markdown",
      "metadata": {
        "id": "1KQPZT0ov0MF"
      },
      "source": [
        "* skewness를 계산하고 Fare 분포를 그려봐라"
      ]
    },
    {
      "cell_type": "code",
      "metadata": {
        "colab": {
          "base_uri": "https://localhost:8080/",
          "height": 338
        },
        "id": "4i46RyshvzdN",
        "outputId": "50bdf3b8-267d-462a-9a33-61426990f97c"
      },
      "source": [
        "g = sns.distplot(train['Fare'], color=\"m\", label=\"skewness : %.2f\"%(dataset['Fare'].skew()))\n",
        "g = g.legend(loc='best')"
      ],
      "execution_count": 55,
      "outputs": [
        {
          "output_type": "stream",
          "name": "stderr",
          "text": [
            "/usr/local/lib/python3.7/dist-packages/seaborn/distributions.py:2619: FutureWarning: `distplot` is a deprecated function and will be removed in a future version. Please adapt your code to use either `displot` (a figure-level function with similar flexibility) or `histplot` (an axes-level function for histograms).\n",
            "  warnings.warn(msg, FutureWarning)\n"
          ]
        },
        {
          "output_type": "display_data",
          "data": {
            "image/png": "[encoded data removed]",
            "text/plain": [
              "<Figure size 432x288 with 1 Axes>"
            ]
          },
          "metadata": {
            "needs_background": "light"
          }
        }
      ]
    },
    {
      "cell_type": "markdown",
      "metadata": {
        "id": "HWXNJ6oMwbeE"
      },
      "source": [
        "* 위 그래프를 보면 skew가 너무 심해 모델에 지나친 가중치를 이끈다. 따라서 log 함수로 skew를 줄여라"
      ]
    },
    {
      "cell_type": "code",
      "metadata": {
        "id": "2tYGLHlZvjBB"
      },
      "source": [
        "dataset[\"Fare\"] = dataset['Fare'].map(lambda i: np.log(i) if i > 0 else 0)"
      ],
      "execution_count": 56,
      "outputs": []
    },
    {
      "cell_type": "markdown",
      "metadata": {
        "id": "F1sPW3WNxDvt"
      },
      "source": [
        "* 위의 Fare를 log를 취해 histogram을 그려봐라\n",
        "* g.legend를 이용해 최적의 위치에 위치하는 옵션을 부여하라"
      ]
    },
    {
      "cell_type": "code",
      "metadata": {
        "colab": {
          "base_uri": "https://localhost:8080/",
          "height": 285
        },
        "id": "otRieuOIw4WI",
        "outputId": "4fb160af-025a-4fab-f790-7d95c1eb28ef"
      },
      "source": [
        "g = sns.histplot(train[\"Fare\"], color=\"b\", label=\"skewness: %.2f\"%(dataset[\"Fare\"].skew()))\n",
        "g = g.legend(loc = \"best\") # 계산하여 최적의 위치에 legend 위치하기"
      ],
      "execution_count": 60,
      "outputs": [
        {
          "output_type": "display_data",
          "data": {
            "image/png": "[encoded data removed]",
            "text/plain": [
              "<Figure size 432x288 with 1 Axes>"
            ]
          },
          "metadata": {
            "needs_background": "light"
          }
        }
      ]
    },
    {
      "cell_type": "markdown",
      "metadata": {
        "id": "1_OHyGLrx-8Q"
      },
      "source": [
        "* 범주형 변수에 대한 barplot을 그려라.\n",
        "* 이때 ylabel은 Survival Probability 로 입력해라"
      ]
    },
    {
      "cell_type": "code",
      "metadata": {
        "colab": {
          "base_uri": "https://localhost:8080/",
          "height": 285
        },
        "id": "f0kLbV4rxc6t",
        "outputId": "cdc7f598-1c2c-4b24-fb0b-9ad7c45b2dc7"
      },
      "source": [
        "g = sns.barplot(x=\"Sex\", y=\"Survived\", data=train)\n",
        "g = g.set_ylabel(\"Survival Probabilty\")"
      ],
      "execution_count": 61,
      "outputs": [
        {
          "output_type": "display_data",
          "data": {
            "image/png": "[encoded data removed]",
            "text/plain": [
              "<Figure size 432x288 with 1 Axes>"
            ]
          },
          "metadata": {
            "needs_background": "light"
          }
        }
      ]
    },
    {
      "cell_type": "markdown",
      "metadata": {
        "id": "HURyxh9byXfn"
      },
      "source": [
        "* 성별 별 Survived에 대한 평균을 계산하라"
      ]
    },
    {
      "cell_type": "code",
      "metadata": {
        "colab": {
          "base_uri": "https://localhost:8080/"
        },
        "id": "FBosTuXhyXGM",
        "outputId": "77ce016e-0459-42fa-937e-d54c4dbbf60c"
      },
      "source": [
        "train.groupby(\"Sex\")[\"Survived\"].mean()"
      ],
      "execution_count": 63,
      "outputs": [
        {
          "output_type": "execute_result",
          "data": {
            "text/plain": [
              "Sex\n",
              "female    0.742038\n",
              "male      0.188908\n",
              "Name: Survived, dtype: float64"
            ]
          },
          "metadata": {},
          "execution_count": 63
        }
      ]
    },
    {
      "cell_type": "code",
      "metadata": {
        "id": "QeRwLDbRx4Xw"
      },
      "source": [
        ""
      ],
      "execution_count": null,
      "outputs": []
    }
  ]
}