{
  "nbformat": 4,
  "nbformat_minor": 0,
  "metadata": {
    "colab": {
      "name": "타이타닉_머신러닝_모델링_정답지.ipynb",
      "provenance": [],
      "mount_file_id": "19n8oy0N6h6clV7oIbiaz2XcLudfKgfNt",
      "authorship_tag": "ABX9TyN4MWgDV9ssyfNfDkEFAEXZ",
      "include_colab_link": true
    },
    "kernelspec": {
      "name": "python3",
      "display_name": "Python 3"
    },
    "language_info": {
      "name": "python"
    }
  },
  "cells": [
    {
      "cell_type": "markdown",
      "metadata": {
        "id": "view-in-github",
        "colab_type": "text"
      },
      "source": [
        "<a href=\"https://colab.research.google.com/github/analyst-rhie/Kaggle/blob/main/%ED%83%80%EC%9D%B4%ED%83%80%EB%8B%89_%EB%A8%B8%EC%8B%A0%EB%9F%AC%EB%8B%9D_%EB%AA%A8%EB%8D%B8%EB%A7%81_%EC%A0%95%EB%8B%B5%EC%A7%80.ipynb\" target=\"_parent\"><img src=\"https://colab.research.google.com/assets/colab-badge.svg\" alt=\"Open In Colab\"/></a>"
      ]
    },
    {
      "cell_type": "code",
      "metadata": {
        "id": "zApvF6aiTTnR"
      },
      "source": [
        "import pandas as pd\n",
        "import numpy as np\n",
        "import matplotlib.pyplot as plt\n",
        "import seaborn as sns\n",
        "%matplotlib inline\n",
        "\n",
        "from collections import Counter\n",
        "\n",
        "from sklearn.ensemble import RandomForestClassifier, AdaBoostClassifier,\\\n",
        "GradientBoostingClassifier, ExtraTreesClassifier, VotingClassifier\n",
        "from sklearn.discriminant_analysis import LinearDiscriminantAnalysis\n",
        "from sklearn.linear_model import LogisticRegression\n",
        "from sklearn.neighbors import KNeighborsClassifier\n",
        "from sklearn.tree import DecisionTreeClassifier\n",
        "from sklearn.neural_network import MLPClassifier\n",
        "from sklearn.svm import SVC\n",
        "from sklearn.model_selection import GridSearchCV, cross_val_score, StratifiedKFold,\\\n",
        "learning_curve\n",
        "\n",
        "sns.set(style='white', context='notebook', palette='deep')"
      ],
      "execution_count": 4,
      "outputs": []
    },
    {
      "cell_type": "markdown",
      "metadata": {
        "id": "f7673aTbU8Hi"
      },
      "source": [
        "1. 데이터를 로드해라"
      ]
    },
    {
      "cell_type": "code",
      "metadata": {
        "id": "LRiJmrOGUlHz"
      },
      "source": [
        "train = pd.read_csv('/content/drive/MyDrive/Colab Notebooks/타이타닉/train.csv')\n",
        "test = pd.read_csv('/content/drive/MyDrive/Colab Notebooks/타이타닉/test.csv')"
      ],
      "execution_count": 6,
      "outputs": []
    },
    {
      "cell_type": "markdown",
      "metadata": {
        "id": "GlCeEU91WiZY"
      },
      "source": [
        "* 본 이상치 탐지법은 Tukey 방법에 따라 사용자가 지정한 n개 이상의 특이치를 포함하는 관측치를 골라내는 함수를 작성할 것이다.\n",
        "  * detect_outliers 이름의 함수를 정의하라. 이때 들어가는 인수는 DataFrame이름, Outiler 갯수, 변수이름이다.\n",
        "  * 각 변수로 부터 Q1, Q3 ,IQR = Q3 - Q1을 출력하는 변수를 위 Q1,Q3,IQR과 동일 한 이름으로 생성하라\n",
        "  * outlier_step 이름에 IQR에 1.5를 곱해 outlier에 색출될 최소범위를 선택해라\n",
        "  * Q1에서 outlier_step을 뺀 범위 또는 Q3에서 outlier를 더한 범위에 포함되는 index를 가져와 outlier_list_col에 저장하라\n",
        "  * outlier_indices 리스트에 outlier_list_col을 extend해라\n",
        "  * 모든 변수들이 위 extend 결과를 마치면, 이때 Counter 함수를 활용해 각 원소들이 몇번 반복됬는지 계산하여 outlier_indices에 덮어써라\n",
        "  * outlier_indices 리스트의 값들을 outlier_indices 리스트에서 2개 이상의 이상치를 포함하고 있을때의 관측치를 선택하라. multiple_outliers에 저장하고 return해라\n",
        "\n",
        "\n",
        "``` \n",
        "1. extend 함수는 리스트 끝에 반복되는 값이 리스트 일 경우 뒤에 붙여주는 역할을 함 \n",
        " -> 이떄 extend에 사용되는 리스트를 처음 지정하는 = [] 위치는 for문에 속해있으면 안된다. 조심할것!\n",
        "2. 코드 예시에서는 np.percentile()을 사용했으나 Fare의 경우 결측(nan)이 존재하여 Q1, Q3결과가 nan으로 출력됨.\n",
        " -> np.nanpercentile() 으로 nan을 무시하고 출력하도록 함.\n",
        " 3. Counter() 함수는 한 리스트 내에 동일한 값이 몇개 있는지 딕셔너리 형태로 출력해준다.\n",
        " 4. Counter()함수로 만든 딕셔너리를 .items()로 가져오면 순서쌍으로 묶어준다. 따라서 for 문 내 두 개의 iterator를 사용하더라도 zip()을 안쓰고도 가져올 수 있게된다.\n",
        "```\n"
      ]
    },
    {
      "cell_type": "code",
      "metadata": {
        "colab": {
          "base_uri": "https://localhost:8080/"
        },
        "id": "0VOvNwsWhAdc",
        "outputId": "a113de58-8477-4a4a-f29d-9e622968498e"
      },
      "source": [
        "def detect_outliers(df, n ,features):\n",
        "  outlier_list_sample = []\n",
        "  for col in features :\n",
        "    q1 = np.nanpercentile(df[col], 25)\n",
        "    q3 = np.nanpercentile(df[col], 75)\n",
        "    iqr = q3-q1\n",
        "    outlier_step = iqr*1.5\n",
        "    outlier_list = df[(df[col]< q1-outlier_step)|(df[col]>q3+outlier_step)].index\n",
        "    outlier_list_sample.extend(outlier_list)\n",
        "  outlier_list_sample = Counter(outlier_list_sample)\n",
        "  output_list = [i for i,v in outlier_list_sample.items() if v>n]\n",
        "  return output_list\n",
        "\n",
        "example = detect_outliers(train, 1, ['Age','SibSp','Fare'])  \n",
        "print(example)"
      ],
      "execution_count": 75,
      "outputs": [
        {
          "output_type": "stream",
          "name": "stdout",
          "text": [
            "[745, 27, 88, 159, 180, 201, 324, 341, 792, 846, 863]\n"
          ]
        }
      ]
    },
    {
      "cell_type": "markdown",
      "metadata": {
        "id": "FMkQOxUOhBXK"
      },
      "source": [
        "================================================================================\n",
        "\n"
      ]
    },
    {
      "cell_type": "code",
      "metadata": {
        "id": "oS54acTG1YOG"
      },
      "source": [
        "def detect_outliers(df, n, features):\n",
        "  outlier_indices = []\n",
        "  for col in features :\n",
        "    print(\"=========================\")\n",
        "    print(\"col name : \", col)\n",
        "    Q1 = np.nanpercentile(df[col], 25)\n",
        "    print(\"Q1 : \",Q1)\n",
        "    Q3 = np.nanpercentile(df[col],75)\n",
        "    print(\"Q3 : \",Q3)\n",
        "    IQR = Q3 - Q1\n",
        "    print(\"IQR : \",IQR)\n",
        "    outlier_step = 1.5*IQR\n",
        "    print(\"outlier_step : \",outlier_step)\n",
        "    outlier_list_col = df[(df[col]<Q1 - outlier_step)|(df[col]>Q3+outlier_step)].index\n",
        "    print(\"outlier_list_col : \",outlier_list_col)\n",
        "    outlier_indices.extend(outlier_list_col)\n",
        "    print(\"outlier_indices extend 전 :\",outlier_indices)\n",
        "  \n",
        "  outlier_indices = Counter(outlier_indices)\n",
        "  print(\"outlier_indices extend 후 :\",outlier_indices)\n",
        "  print(\"outlier_indices.items() : \",outlier_indices.items())\n",
        "  multiple_outliers = list(k for k, v in outlier_indices.items() if v>n)\n",
        "  print(\"multiple_outliers : \",multiple_outliers)\n",
        "  return multiple_outliers\n",
        "\n",
        "outliers_to_drop = detect_outliers(train,1,['Age','SibSp','Fare'])\n",
        "print(\"출력 된 값은 ? : \",outliers_to_drop)"
      ],
      "execution_count": null,
      "outputs": []
    },
    {
      "cell_type": "code",
      "metadata": {
        "colab": {
          "base_uri": "https://localhost:8080/"
        },
        "id": "ppW184cWWiDc",
        "outputId": "a83c9ca1-695e-40c8-e2c9-60713f5feb37"
      },
      "source": [
        "def detect_outliers(df, n, features):\n",
        "  outlier_indices = []\n",
        "  for col in features :\n",
        "    print(\"=========================\")\n",
        "    print(\"col name : \", col)\n",
        "    Q1 = np.nanpercentile(df[col], 25)\n",
        "    print(\"Q1 : \",Q1)\n",
        "    Q3 = np.nanpercentile(df[col],75)\n",
        "    print(\"Q3 : \",Q3)\n",
        "    IQR = Q3 - Q1\n",
        "    print(\"IQR : \",IQR)\n",
        "    outlier_step = 1.5*IQR\n",
        "    print(\"outlier_step : \",outlier_step)\n",
        "    outlier_list_col = df[(df[col]<Q1 - outlier_step)|(df[col]>Q3+outlier_step)].index\n",
        "    print(\"outlier_list_col : \",outlier_list_col)\n",
        "    outlier_indices.extend(outlier_list_col)\n",
        "    print(\"outlier_indices extend 전 :\",outlier_indices)\n",
        "  \n",
        "  outlier_indices = Counter(outlier_indices)\n",
        "  print(\"outlier_indices extend 후 :\",outlier_indices)\n",
        "  print(\"outlier_indices.items() : \",outlier_indices.items())\n",
        "  multiple_outliers = list(k for k, v in outlier_indices.items() if v>n)\n",
        "  print(\"multiple_outliers : \",multiple_outliers)\n",
        "  return multiple_outliers\n",
        "\n",
        "outliers_to_drop = detect_outliers(train,1,['Age','SibSp','Fare'])\n",
        "print(\"출력 된 값은 ? : \",outliers_to_drop)"
      ],
      "execution_count": 76,
      "outputs": [
        {
          "output_type": "stream",
          "name": "stdout",
          "text": [
            "=========================\n",
            "col name :  Age\n",
            "Q1 :  20.125\n",
            "Q3 :  38.0\n",
            "IQR :  17.875\n",
            "outlier_step :  26.8125\n",
            "outlier_list_col :  Int64Index([33, 54, 96, 116, 280, 456, 493, 630, 672, 745, 851], dtype='int64')\n",
            "outlier_indices extend 전 : [33, 54, 96, 116, 280, 456, 493, 630, 672, 745, 851]\n",
            "=========================\n",
            "col name :  SibSp\n",
            "Q1 :  0.0\n",
            "Q3 :  1.0\n",
            "IQR :  1.0\n",
            "outlier_step :  1.5\n",
            "outlier_list_col :  Int64Index([  7,  16,  24,  27,  50,  59,  63,  68,  71,  85,  88, 119, 159,\n",
            "            164, 171, 176, 180, 182, 201, 229, 233, 261, 266, 278, 324, 341,\n",
            "            374, 386, 409, 480, 485, 541, 542, 634, 642, 683, 686, 726, 787,\n",
            "            792, 813, 819, 824, 846, 850, 863],\n",
            "           dtype='int64')\n",
            "outlier_indices extend 전 : [33, 54, 96, 116, 280, 456, 493, 630, 672, 745, 851, 7, 16, 24, 27, 50, 59, 63, 68, 71, 85, 88, 119, 159, 164, 171, 176, 180, 182, 201, 229, 233, 261, 266, 278, 324, 341, 374, 386, 409, 480, 485, 541, 542, 634, 642, 683, 686, 726, 787, 792, 813, 819, 824, 846, 850, 863]\n",
            "=========================\n",
            "col name :  Fare\n",
            "Q1 :  7.9104\n",
            "Q3 :  31.0\n",
            "IQR :  23.0896\n",
            "outlier_step :  34.6344\n",
            "outlier_list_col :  Int64Index([  1,  27,  31,  34,  52,  61,  62,  72,  88, 102,\n",
            "            ...\n",
            "            792, 802, 820, 829, 835, 846, 849, 856, 863, 879],\n",
            "           dtype='int64', length=116)\n",
            "outlier_indices extend 전 : [33, 54, 96, 116, 280, 456, 493, 630, 672, 745, 851, 7, 16, 24, 27, 50, 59, 63, 68, 71, 85, 88, 119, 159, 164, 171, 176, 180, 182, 201, 229, 233, 261, 266, 278, 324, 341, 374, 386, 409, 480, 485, 541, 542, 634, 642, 683, 686, 726, 787, 792, 813, 819, 824, 846, 850, 863, 1, 27, 31, 34, 52, 61, 62, 72, 88, 102, 118, 120, 124, 139, 151, 159, 180, 195, 201, 215, 218, 224, 230, 245, 256, 257, 258, 262, 268, 269, 275, 290, 291, 297, 299, 305, 306, 307, 310, 311, 318, 319, 324, 325, 332, 334, 336, 337, 341, 366, 369, 373, 375, 377, 380, 385, 390, 393, 412, 435, 438, 445, 453, 484, 486, 496, 498, 504, 505, 520, 527, 537, 540, 544, 550, 557, 558, 581, 585, 587, 591, 609, 627, 641, 645, 655, 659, 660, 665, 679, 681, 689, 698, 700, 708, 716, 730, 737, 741, 742, 745, 759, 763, 765, 779, 789, 792, 802, 820, 829, 835, 846, 849, 856, 863, 879]\n",
            "outlier_indices extend 후 : Counter({745: 2, 27: 2, 88: 2, 159: 2, 180: 2, 201: 2, 324: 2, 341: 2, 792: 2, 846: 2, 863: 2, 33: 1, 54: 1, 96: 1, 116: 1, 280: 1, 456: 1, 493: 1, 630: 1, 672: 1, 851: 1, 7: 1, 16: 1, 24: 1, 50: 1, 59: 1, 63: 1, 68: 1, 71: 1, 85: 1, 119: 1, 164: 1, 171: 1, 176: 1, 182: 1, 229: 1, 233: 1, 261: 1, 266: 1, 278: 1, 374: 1, 386: 1, 409: 1, 480: 1, 485: 1, 541: 1, 542: 1, 634: 1, 642: 1, 683: 1, 686: 1, 726: 1, 787: 1, 813: 1, 819: 1, 824: 1, 850: 1, 1: 1, 31: 1, 34: 1, 52: 1, 61: 1, 62: 1, 72: 1, 102: 1, 118: 1, 120: 1, 124: 1, 139: 1, 151: 1, 195: 1, 215: 1, 218: 1, 224: 1, 230: 1, 245: 1, 256: 1, 257: 1, 258: 1, 262: 1, 268: 1, 269: 1, 275: 1, 290: 1, 291: 1, 297: 1, 299: 1, 305: 1, 306: 1, 307: 1, 310: 1, 311: 1, 318: 1, 319: 1, 325: 1, 332: 1, 334: 1, 336: 1, 337: 1, 366: 1, 369: 1, 373: 1, 375: 1, 377: 1, 380: 1, 385: 1, 390: 1, 393: 1, 412: 1, 435: 1, 438: 1, 445: 1, 453: 1, 484: 1, 486: 1, 496: 1, 498: 1, 504: 1, 505: 1, 520: 1, 527: 1, 537: 1, 540: 1, 544: 1, 550: 1, 557: 1, 558: 1, 581: 1, 585: 1, 587: 1, 591: 1, 609: 1, 627: 1, 641: 1, 645: 1, 655: 1, 659: 1, 660: 1, 665: 1, 679: 1, 681: 1, 689: 1, 698: 1, 700: 1, 708: 1, 716: 1, 730: 1, 737: 1, 741: 1, 742: 1, 759: 1, 763: 1, 765: 1, 779: 1, 789: 1, 802: 1, 820: 1, 829: 1, 835: 1, 849: 1, 856: 1, 879: 1})\n",
            "outlier_indices.items() :  dict_items([(33, 1), (54, 1), (96, 1), (116, 1), (280, 1), (456, 1), (493, 1), (630, 1), (672, 1), (745, 2), (851, 1), (7, 1), (16, 1), (24, 1), (27, 2), (50, 1), (59, 1), (63, 1), (68, 1), (71, 1), (85, 1), (88, 2), (119, 1), (159, 2), (164, 1), (171, 1), (176, 1), (180, 2), (182, 1), (201, 2), (229, 1), (233, 1), (261, 1), (266, 1), (278, 1), (324, 2), (341, 2), (374, 1), (386, 1), (409, 1), (480, 1), (485, 1), (541, 1), (542, 1), (634, 1), (642, 1), (683, 1), (686, 1), (726, 1), (787, 1), (792, 2), (813, 1), (819, 1), (824, 1), (846, 2), (850, 1), (863, 2), (1, 1), (31, 1), (34, 1), (52, 1), (61, 1), (62, 1), (72, 1), (102, 1), (118, 1), (120, 1), (124, 1), (139, 1), (151, 1), (195, 1), (215, 1), (218, 1), (224, 1), (230, 1), (245, 1), (256, 1), (257, 1), (258, 1), (262, 1), (268, 1), (269, 1), (275, 1), (290, 1), (291, 1), (297, 1), (299, 1), (305, 1), (306, 1), (307, 1), (310, 1), (311, 1), (318, 1), (319, 1), (325, 1), (332, 1), (334, 1), (336, 1), (337, 1), (366, 1), (369, 1), (373, 1), (375, 1), (377, 1), (380, 1), (385, 1), (390, 1), (393, 1), (412, 1), (435, 1), (438, 1), (445, 1), (453, 1), (484, 1), (486, 1), (496, 1), (498, 1), (504, 1), (505, 1), (520, 1), (527, 1), (537, 1), (540, 1), (544, 1), (550, 1), (557, 1), (558, 1), (581, 1), (585, 1), (587, 1), (591, 1), (609, 1), (627, 1), (641, 1), (645, 1), (655, 1), (659, 1), (660, 1), (665, 1), (679, 1), (681, 1), (689, 1), (698, 1), (700, 1), (708, 1), (716, 1), (730, 1), (737, 1), (741, 1), (742, 1), (759, 1), (763, 1), (765, 1), (779, 1), (789, 1), (802, 1), (820, 1), (829, 1), (835, 1), (849, 1), (856, 1), (879, 1)])\n",
            "multiple_outliers :  [745, 27, 88, 159, 180, 201, 324, 341, 792, 846, 863]\n",
            "출력 된 값은 ? :  [745, 27, 88, 159, 180, 201, 324, 341, 792, 846, 863]\n"
          ]
        }
      ]
    },
    {
      "cell_type": "code",
      "metadata": {
        "colab": {
          "base_uri": "https://localhost:8080/"
        },
        "id": "iW86Jn84VJOd",
        "outputId": "bbaed6ad-522d-4769-c906-bc8ae67d25c9"
      },
      "source": [
        "outliers_to_drop"
      ],
      "execution_count": 27,
      "outputs": [
        {
          "output_type": "execute_result",
          "data": {
            "text/plain": [
              "[]"
            ]
          },
          "metadata": {},
          "execution_count": 27
        }
      ]
    },
    {
      "cell_type": "code",
      "metadata": {
        "id": "BnwsDGlQbN40"
      },
      "source": [
        ""
      ],
      "execution_count": null,
      "outputs": []
    }
  ]
}