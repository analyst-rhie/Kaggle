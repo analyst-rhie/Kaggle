{
  "nbformat": 4,
  "nbformat_minor": 0,
  "metadata": {
    "colab": {
      "name": "머신러닝_튜토리얼_연습.ipynb",
      "provenance": [],
      "mount_file_id": "1ZYcqO3NnlX8LGGaZsj_QXpL2X3EOYEFy",
      "authorship_tag": "ABX9TyNXLIfP3VcnL2CfP2txwdb5",
      "include_colab_link": true
    },
    "kernelspec": {
      "name": "python3",
      "display_name": "Python 3"
    },
    "language_info": {
      "name": "python"
    }
  },
  "cells": [
    {
      "cell_type": "markdown",
      "metadata": {
        "id": "view-in-github",
        "colab_type": "text"
      },
      "source": [
        "<a href=\"https://colab.research.google.com/github/analyst-rhie/Kaggle/blob/main/%EB%A8%B8%EC%8B%A0%EB%9F%AC%EB%8B%9D_%ED%8A%9C%ED%86%A0%EB%A6%AC%EC%96%BC_%EC%97%B0%EC%8A%B5.ipynb\" target=\"_parent\"><img src=\"https://colab.research.google.com/assets/colab-badge.svg\" alt=\"Open In Colab\"/></a>"
      ]
    },
    {
      "cell_type": "markdown",
      "metadata": {
        "id": "lL4Z3usax8Ib"
      },
      "source": [
        "### 타이타닉 연습 Part 2\n",
        "\n",
        "* 본 코드는 이유한님의 타이타닉 튜토리얼 코드를 이해 및 암기하기 위한 목적으로 작성되었습니다.\n",
        "* 출처 : https://kaggle-kr.tistory.com/18?category=868316"
      ]
    },
    {
      "cell_type": "code",
      "metadata": {
        "colab": {
          "base_uri": "https://localhost:8080/",
          "height": 17
        },
        "id": "jsL33GGIx_FE",
        "outputId": "cce98005-fe03-436b-aab3-fd53b83c5a9c"
      },
      "source": [
        "import numpy as np\n",
        "import pandas as pd\n",
        "from pandas import Series\n",
        "import matplotlib.pyplot as plt\n",
        "import seaborn as sns\n",
        "\n",
        "plt.style.use('seaborn')\n",
        "sns.set(font_scale = 2.5)\n",
        "\n",
        "import plotly.offline as py\n",
        "py.init_notebook_mode(connected=True)\n",
        "import plotly.graph_objs as go\n",
        "import plotly.tools as tls\n",
        "\n",
        "import warnings\n",
        "warnings.filterwarnings('ignore')\n",
        "\n",
        "%matplotlib inline"
      ],
      "execution_count": 67,
      "outputs": [
        {
          "output_type": "display_data",
          "data": {
            "text/html": [
              "        <script type=\"text/javascript\">\n",
              "        window.PlotlyConfig = {MathJaxConfig: 'local'};\n",
              "        if (window.MathJax) {MathJax.Hub.Config({SVG: {font: \"STIX-Web\"}});}\n",
              "        if (typeof require !== 'undefined') {\n",
              "        require.undef(\"plotly\");\n",
              "        requirejs.config({\n",
              "            paths: {\n",
              "                'plotly': ['https://cdn.plot.ly/plotly-latest.min']\n",
              "            }\n",
              "        });\n",
              "        require(['plotly'], function(Plotly) {\n",
              "            window._Plotly = Plotly;\n",
              "        });\n",
              "        }\n",
              "        </script>\n",
              "        "
            ]
          },
          "metadata": {}
        }
      ]
    },
    {
      "cell_type": "markdown",
      "metadata": {
        "id": "1d7Ii5XQybrY"
      },
      "source": [
        "1. df_train, df_test이름으로 타이타닉 train, test 데이터셋을 저장하라\n",
        "* /content/drive/MyDrive/Colab Notebooks/타이타닉/\n",
        "2. SibSp, Parch 그리고 자기자신을 더한 Familysize 변수를 추가하라\n",
        "3. Fare의 결측값을 평균으로 대체하라 (train, test 모두)\n",
        "4. Fare값을 log를 취해 Fare변수로 저장하라(train, test 모두)"
      ]
    },
    {
      "cell_type": "code",
      "metadata": {
        "id": "mT0CCa8fzK5A"
      },
      "source": [
        "#1차 시도"
      ],
      "execution_count": 4,
      "outputs": []
    },
    {
      "cell_type": "code",
      "metadata": {
        "id": "q4s3_fx5yZD1"
      },
      "source": [
        "\n",
        "df_train = pd.read_csv('/content/drive/MyDrive/Colab Notebooks/타이타닉/train.csv')\n",
        "df_test = pd.read_csv('/content/drive/MyDrive/Colab Notebooks/타이타닉/test.csv')\n",
        "\n",
        "for i in [df_train, df_test] :\n",
        "  i['Familysize'] = i['SibSp'] + i['Parch']\n",
        "  i.loc[df_train.Fare.isnull(), \"Fare\"] = i['Fare'].mean()\n",
        "  i['Fare'] = i['Fare'].map(lambda x : np.log(x) if x>0 else 0)\n"
      ],
      "execution_count": 75,
      "outputs": []
    },
    {
      "cell_type": "code",
      "metadata": {
        "colab": {
          "base_uri": "https://localhost:8080/"
        },
        "id": "Y72uWnyUF7NU",
        "outputId": "24d4f82a-0837-45df-9691-7b16f9a2da3e"
      },
      "source": [
        "df_train['Fare']"
      ],
      "execution_count": 76,
      "outputs": [
        {
          "output_type": "execute_result",
          "data": {
            "text/plain": [
              "0      1.981001\n",
              "1      4.266662\n",
              "2      2.070022\n",
              "3      3.972177\n",
              "4      2.085672\n",
              "         ...   \n",
              "886    2.564949\n",
              "887    3.401197\n",
              "888    3.154870\n",
              "889    3.401197\n",
              "890    2.047693\n",
              "Name: Fare, Length: 891, dtype: float64"
            ]
          },
          "metadata": {},
          "execution_count": 76
        }
      ]
    },
    {
      "cell_type": "markdown",
      "metadata": {
        "id": "CrmNdKA_1esM"
      },
      "source": [
        "train, test 모두 Initial이라는 변수를 생성하여 Name변수에서 .전의 모든 문자를 가져와라. 정규식 : '([A-Za-z]+)\\.'"
      ]
    },
    {
      "cell_type": "code",
      "metadata": {
        "id": "2OtJUaQQ0tK_"
      },
      "source": [
        "df_train['Initial'] = df_train.Name.str.extract('([A-Za-z]+)\\.')\n",
        "df_test['Initial'] = df_test.Name.str.extract('([A-Za-z]+)\\.')\n"
      ],
      "execution_count": 77,
      "outputs": []
    },
    {
      "cell_type": "markdown",
      "metadata": {
        "id": "vh5xBTI_2BtF"
      },
      "source": [
        "trian의 Initial변수와 성별의 교차표를 만들어라. 이때 행은 성별, 열은 inital이 들어가게 해라"
      ]
    },
    {
      "cell_type": "code",
      "metadata": {
        "colab": {
          "base_uri": "https://localhost:8080/",
          "height": 119
        },
        "id": "kolIHLvXzygM",
        "outputId": "c2528401-d4ee-4aca-af78-21a2d0d5d334"
      },
      "source": [
        "pd.crosstab(df_train['Initial'], df_train['Sex']).T.style.background_gradient(cmap='summer_r')"
      ],
      "execution_count": 78,
      "outputs": [
        {
          "output_type": "execute_result",
          "data": {
            "text/html": [
              "<style  type=\"text/css\" >\n",
              "#T_30cbc16c_2b49_11ec_8ad2_0242ac1c0002row0_col0,#T_30cbc16c_2b49_11ec_8ad2_0242ac1c0002row0_col1,#T_30cbc16c_2b49_11ec_8ad2_0242ac1c0002row0_col3,#T_30cbc16c_2b49_11ec_8ad2_0242ac1c0002row0_col4,#T_30cbc16c_2b49_11ec_8ad2_0242ac1c0002row0_col5,#T_30cbc16c_2b49_11ec_8ad2_0242ac1c0002row0_col7,#T_30cbc16c_2b49_11ec_8ad2_0242ac1c0002row0_col8,#T_30cbc16c_2b49_11ec_8ad2_0242ac1c0002row0_col12,#T_30cbc16c_2b49_11ec_8ad2_0242ac1c0002row0_col15,#T_30cbc16c_2b49_11ec_8ad2_0242ac1c0002row0_col16,#T_30cbc16c_2b49_11ec_8ad2_0242ac1c0002row1_col2,#T_30cbc16c_2b49_11ec_8ad2_0242ac1c0002row1_col6,#T_30cbc16c_2b49_11ec_8ad2_0242ac1c0002row1_col9,#T_30cbc16c_2b49_11ec_8ad2_0242ac1c0002row1_col10,#T_30cbc16c_2b49_11ec_8ad2_0242ac1c0002row1_col11,#T_30cbc16c_2b49_11ec_8ad2_0242ac1c0002row1_col13,#T_30cbc16c_2b49_11ec_8ad2_0242ac1c0002row1_col14{\n",
              "            background-color:  #ffff66;\n",
              "            color:  #000000;\n",
              "        }#T_30cbc16c_2b49_11ec_8ad2_0242ac1c0002row0_col2,#T_30cbc16c_2b49_11ec_8ad2_0242ac1c0002row0_col6,#T_30cbc16c_2b49_11ec_8ad2_0242ac1c0002row0_col9,#T_30cbc16c_2b49_11ec_8ad2_0242ac1c0002row0_col10,#T_30cbc16c_2b49_11ec_8ad2_0242ac1c0002row0_col11,#T_30cbc16c_2b49_11ec_8ad2_0242ac1c0002row0_col13,#T_30cbc16c_2b49_11ec_8ad2_0242ac1c0002row0_col14,#T_30cbc16c_2b49_11ec_8ad2_0242ac1c0002row1_col0,#T_30cbc16c_2b49_11ec_8ad2_0242ac1c0002row1_col1,#T_30cbc16c_2b49_11ec_8ad2_0242ac1c0002row1_col3,#T_30cbc16c_2b49_11ec_8ad2_0242ac1c0002row1_col4,#T_30cbc16c_2b49_11ec_8ad2_0242ac1c0002row1_col5,#T_30cbc16c_2b49_11ec_8ad2_0242ac1c0002row1_col7,#T_30cbc16c_2b49_11ec_8ad2_0242ac1c0002row1_col8,#T_30cbc16c_2b49_11ec_8ad2_0242ac1c0002row1_col12,#T_30cbc16c_2b49_11ec_8ad2_0242ac1c0002row1_col15,#T_30cbc16c_2b49_11ec_8ad2_0242ac1c0002row1_col16{\n",
              "            background-color:  #008066;\n",
              "            color:  #f1f1f1;\n",
              "        }</style><table id=\"T_30cbc16c_2b49_11ec_8ad2_0242ac1c0002\" ><thead>    <tr>        <th class=\"index_name level0\" >Initial</th>        <th class=\"col_heading level0 col0\" >Capt</th>        <th class=\"col_heading level0 col1\" >Col</th>        <th class=\"col_heading level0 col2\" >Countess</th>        <th class=\"col_heading level0 col3\" >Don</th>        <th class=\"col_heading level0 col4\" >Dr</th>        <th class=\"col_heading level0 col5\" >Jonkheer</th>        <th class=\"col_heading level0 col6\" >Lady</th>        <th class=\"col_heading level0 col7\" >Major</th>        <th class=\"col_heading level0 col8\" >Master</th>        <th class=\"col_heading level0 col9\" >Miss</th>        <th class=\"col_heading level0 col10\" >Mlle</th>        <th class=\"col_heading level0 col11\" >Mme</th>        <th class=\"col_heading level0 col12\" >Mr</th>        <th class=\"col_heading level0 col13\" >Mrs</th>        <th class=\"col_heading level0 col14\" >Ms</th>        <th class=\"col_heading level0 col15\" >Rev</th>        <th class=\"col_heading level0 col16\" >Sir</th>    </tr>    <tr>        <th class=\"index_name level0\" >Sex</th>        <th class=\"blank\" ></th>        <th class=\"blank\" ></th>        <th class=\"blank\" ></th>        <th class=\"blank\" ></th>        <th class=\"blank\" ></th>        <th class=\"blank\" ></th>        <th class=\"blank\" ></th>        <th class=\"blank\" ></th>        <th class=\"blank\" ></th>        <th class=\"blank\" ></th>        <th class=\"blank\" ></th>        <th class=\"blank\" ></th>        <th class=\"blank\" ></th>        <th class=\"blank\" ></th>        <th class=\"blank\" ></th>        <th class=\"blank\" ></th>        <th class=\"blank\" ></th>    </tr></thead><tbody>\n",
              "                <tr>\n",
              "                        <th id=\"T_30cbc16c_2b49_11ec_8ad2_0242ac1c0002level0_row0\" class=\"row_heading level0 row0\" >female</th>\n",
              "                        <td id=\"T_30cbc16c_2b49_11ec_8ad2_0242ac1c0002row0_col0\" class=\"data row0 col0\" >0</td>\n",
              "                        <td id=\"T_30cbc16c_2b49_11ec_8ad2_0242ac1c0002row0_col1\" class=\"data row0 col1\" >0</td>\n",
              "                        <td id=\"T_30cbc16c_2b49_11ec_8ad2_0242ac1c0002row0_col2\" class=\"data row0 col2\" >1</td>\n",
              "                        <td id=\"T_30cbc16c_2b49_11ec_8ad2_0242ac1c0002row0_col3\" class=\"data row0 col3\" >0</td>\n",
              "                        <td id=\"T_30cbc16c_2b49_11ec_8ad2_0242ac1c0002row0_col4\" class=\"data row0 col4\" >1</td>\n",
              "                        <td id=\"T_30cbc16c_2b49_11ec_8ad2_0242ac1c0002row0_col5\" class=\"data row0 col5\" >0</td>\n",
              "                        <td id=\"T_30cbc16c_2b49_11ec_8ad2_0242ac1c0002row0_col6\" class=\"data row0 col6\" >1</td>\n",
              "                        <td id=\"T_30cbc16c_2b49_11ec_8ad2_0242ac1c0002row0_col7\" class=\"data row0 col7\" >0</td>\n",
              "                        <td id=\"T_30cbc16c_2b49_11ec_8ad2_0242ac1c0002row0_col8\" class=\"data row0 col8\" >0</td>\n",
              "                        <td id=\"T_30cbc16c_2b49_11ec_8ad2_0242ac1c0002row0_col9\" class=\"data row0 col9\" >182</td>\n",
              "                        <td id=\"T_30cbc16c_2b49_11ec_8ad2_0242ac1c0002row0_col10\" class=\"data row0 col10\" >2</td>\n",
              "                        <td id=\"T_30cbc16c_2b49_11ec_8ad2_0242ac1c0002row0_col11\" class=\"data row0 col11\" >1</td>\n",
              "                        <td id=\"T_30cbc16c_2b49_11ec_8ad2_0242ac1c0002row0_col12\" class=\"data row0 col12\" >0</td>\n",
              "                        <td id=\"T_30cbc16c_2b49_11ec_8ad2_0242ac1c0002row0_col13\" class=\"data row0 col13\" >125</td>\n",
              "                        <td id=\"T_30cbc16c_2b49_11ec_8ad2_0242ac1c0002row0_col14\" class=\"data row0 col14\" >1</td>\n",
              "                        <td id=\"T_30cbc16c_2b49_11ec_8ad2_0242ac1c0002row0_col15\" class=\"data row0 col15\" >0</td>\n",
              "                        <td id=\"T_30cbc16c_2b49_11ec_8ad2_0242ac1c0002row0_col16\" class=\"data row0 col16\" >0</td>\n",
              "            </tr>\n",
              "            <tr>\n",
              "                        <th id=\"T_30cbc16c_2b49_11ec_8ad2_0242ac1c0002level0_row1\" class=\"row_heading level0 row1\" >male</th>\n",
              "                        <td id=\"T_30cbc16c_2b49_11ec_8ad2_0242ac1c0002row1_col0\" class=\"data row1 col0\" >1</td>\n",
              "                        <td id=\"T_30cbc16c_2b49_11ec_8ad2_0242ac1c0002row1_col1\" class=\"data row1 col1\" >2</td>\n",
              "                        <td id=\"T_30cbc16c_2b49_11ec_8ad2_0242ac1c0002row1_col2\" class=\"data row1 col2\" >0</td>\n",
              "                        <td id=\"T_30cbc16c_2b49_11ec_8ad2_0242ac1c0002row1_col3\" class=\"data row1 col3\" >1</td>\n",
              "                        <td id=\"T_30cbc16c_2b49_11ec_8ad2_0242ac1c0002row1_col4\" class=\"data row1 col4\" >6</td>\n",
              "                        <td id=\"T_30cbc16c_2b49_11ec_8ad2_0242ac1c0002row1_col5\" class=\"data row1 col5\" >1</td>\n",
              "                        <td id=\"T_30cbc16c_2b49_11ec_8ad2_0242ac1c0002row1_col6\" class=\"data row1 col6\" >0</td>\n",
              "                        <td id=\"T_30cbc16c_2b49_11ec_8ad2_0242ac1c0002row1_col7\" class=\"data row1 col7\" >2</td>\n",
              "                        <td id=\"T_30cbc16c_2b49_11ec_8ad2_0242ac1c0002row1_col8\" class=\"data row1 col8\" >40</td>\n",
              "                        <td id=\"T_30cbc16c_2b49_11ec_8ad2_0242ac1c0002row1_col9\" class=\"data row1 col9\" >0</td>\n",
              "                        <td id=\"T_30cbc16c_2b49_11ec_8ad2_0242ac1c0002row1_col10\" class=\"data row1 col10\" >0</td>\n",
              "                        <td id=\"T_30cbc16c_2b49_11ec_8ad2_0242ac1c0002row1_col11\" class=\"data row1 col11\" >0</td>\n",
              "                        <td id=\"T_30cbc16c_2b49_11ec_8ad2_0242ac1c0002row1_col12\" class=\"data row1 col12\" >517</td>\n",
              "                        <td id=\"T_30cbc16c_2b49_11ec_8ad2_0242ac1c0002row1_col13\" class=\"data row1 col13\" >0</td>\n",
              "                        <td id=\"T_30cbc16c_2b49_11ec_8ad2_0242ac1c0002row1_col14\" class=\"data row1 col14\" >0</td>\n",
              "                        <td id=\"T_30cbc16c_2b49_11ec_8ad2_0242ac1c0002row1_col15\" class=\"data row1 col15\" >6</td>\n",
              "                        <td id=\"T_30cbc16c_2b49_11ec_8ad2_0242ac1c0002row1_col16\" class=\"data row1 col16\" >1</td>\n",
              "            </tr>\n",
              "    </tbody></table>"
            ],
            "text/plain": [
              "<pandas.io.formats.style.Styler at 0x7f72ca647d90>"
            ]
          },
          "metadata": {},
          "execution_count": 78
        }
      ]
    },
    {
      "cell_type": "markdown",
      "metadata": {
        "id": "uu-QLR7g3aCd"
      },
      "source": [
        "Initial의 값인 1을 2로 대응되게 바꾸는 코드를 작성해라. (train, test 모두)\n",
        "* 1. ['Mlle','Mme','Ms','Dr','Major','Lady','Countess','Jonkheer','Col','Rev','Capt','Sir','Don', 'Dona']\n",
        "* 2. ['Miss','Miss','Miss','Mr','Mr','Mrs','Mrs','Other','Other','Other','Mr','Mr','Mr', 'Mr']"
      ]
    },
    {
      "cell_type": "code",
      "metadata": {
        "id": "kCGX1s1W3ZJ5"
      },
      "source": [
        "for i in [df_train, df_test]:\n",
        "  i['Initial'].replace(['Mlle','Mme','Ms','Dr','Major','Lady','Countess','Jonkheer','Col','Rev','Capt','Sir','Don', 'Dona'],\n",
        "                            ['Miss','Miss','Miss','Mr','Mr','Mrs','Mrs','Other','Other','Other','Mr','Mr','Mr', 'Mr'],\n",
        "                            inplace=True)\n"
      ],
      "execution_count": 79,
      "outputs": []
    },
    {
      "cell_type": "markdown",
      "metadata": {
        "id": "meirSP072Wer"
      },
      "source": [
        "train의 Initial별 모든 열의 평균값을 구해라"
      ]
    },
    {
      "cell_type": "code",
      "metadata": {
        "colab": {
          "base_uri": "https://localhost:8080/",
          "height": 253
        },
        "id": "F3BC4QUY2V2K",
        "outputId": "a9bf19a5-e77b-4820-cc6b-f1d79966f08e"
      },
      "source": [
        "df_train.groupby(df_train['Initial']).mean()"
      ],
      "execution_count": 80,
      "outputs": [
        {
          "output_type": "execute_result",
          "data": {
            "text/html": [
              "<div>\n",
              "<style scoped>\n",
              "    .dataframe tbody tr th:only-of-type {\n",
              "        vertical-align: middle;\n",
              "    }\n",
              "\n",
              "    .dataframe tbody tr th {\n",
              "        vertical-align: top;\n",
              "    }\n",
              "\n",
              "    .dataframe thead th {\n",
              "        text-align: right;\n",
              "    }\n",
              "</style>\n",
              "<table border=\"1\" class=\"dataframe\">\n",
              "  <thead>\n",
              "    <tr style=\"text-align: right;\">\n",
              "      <th></th>\n",
              "      <th>PassengerId</th>\n",
              "      <th>Survived</th>\n",
              "      <th>Pclass</th>\n",
              "      <th>Age</th>\n",
              "      <th>SibSp</th>\n",
              "      <th>Parch</th>\n",
              "      <th>Fare</th>\n",
              "      <th>Familysize</th>\n",
              "    </tr>\n",
              "    <tr>\n",
              "      <th>Initial</th>\n",
              "      <th></th>\n",
              "      <th></th>\n",
              "      <th></th>\n",
              "      <th></th>\n",
              "      <th></th>\n",
              "      <th></th>\n",
              "      <th></th>\n",
              "      <th></th>\n",
              "    </tr>\n",
              "  </thead>\n",
              "  <tbody>\n",
              "    <tr>\n",
              "      <th>Master</th>\n",
              "      <td>414.975000</td>\n",
              "      <td>0.575000</td>\n",
              "      <td>2.625000</td>\n",
              "      <td>4.574167</td>\n",
              "      <td>2.300000</td>\n",
              "      <td>1.375000</td>\n",
              "      <td>3.340710</td>\n",
              "      <td>3.675000</td>\n",
              "    </tr>\n",
              "    <tr>\n",
              "      <th>Miss</th>\n",
              "      <td>411.741935</td>\n",
              "      <td>0.704301</td>\n",
              "      <td>2.284946</td>\n",
              "      <td>21.860000</td>\n",
              "      <td>0.698925</td>\n",
              "      <td>0.537634</td>\n",
              "      <td>3.123713</td>\n",
              "      <td>1.236559</td>\n",
              "    </tr>\n",
              "    <tr>\n",
              "      <th>Mr</th>\n",
              "      <td>455.880907</td>\n",
              "      <td>0.162571</td>\n",
              "      <td>2.381853</td>\n",
              "      <td>32.739609</td>\n",
              "      <td>0.293006</td>\n",
              "      <td>0.151229</td>\n",
              "      <td>2.651507</td>\n",
              "      <td>0.444234</td>\n",
              "    </tr>\n",
              "    <tr>\n",
              "      <th>Mrs</th>\n",
              "      <td>456.393701</td>\n",
              "      <td>0.795276</td>\n",
              "      <td>1.984252</td>\n",
              "      <td>35.981818</td>\n",
              "      <td>0.692913</td>\n",
              "      <td>0.818898</td>\n",
              "      <td>3.443751</td>\n",
              "      <td>1.511811</td>\n",
              "    </tr>\n",
              "    <tr>\n",
              "      <th>Other</th>\n",
              "      <td>564.444444</td>\n",
              "      <td>0.111111</td>\n",
              "      <td>1.666667</td>\n",
              "      <td>45.888889</td>\n",
              "      <td>0.111111</td>\n",
              "      <td>0.111111</td>\n",
              "      <td>2.641605</td>\n",
              "      <td>0.222222</td>\n",
              "    </tr>\n",
              "  </tbody>\n",
              "</table>\n",
              "</div>"
            ],
            "text/plain": [
              "         PassengerId  Survived    Pclass  ...     Parch      Fare  Familysize\n",
              "Initial                                   ...                                \n",
              "Master    414.975000  0.575000  2.625000  ...  1.375000  3.340710    3.675000\n",
              "Miss      411.741935  0.704301  2.284946  ...  0.537634  3.123713    1.236559\n",
              "Mr        455.880907  0.162571  2.381853  ...  0.151229  2.651507    0.444234\n",
              "Mrs       456.393701  0.795276  1.984252  ...  0.818898  3.443751    1.511811\n",
              "Other     564.444444  0.111111  1.666667  ...  0.111111  2.641605    0.222222\n",
              "\n",
              "[5 rows x 8 columns]"
            ]
          },
          "metadata": {},
          "execution_count": 80
        }
      ]
    },
    {
      "cell_type": "markdown",
      "metadata": {
        "id": "5gyMtMjN27Ul"
      },
      "source": [
        "train의 Initial별 Survived의 평균 막대그래프를 그려라"
      ]
    },
    {
      "cell_type": "code",
      "metadata": {
        "colab": {
          "base_uri": "https://localhost:8080/",
          "height": 405
        },
        "id": "5-6MOHwC1a64",
        "outputId": "d46c0dbd-f3a7-4cb7-df4d-c2b0eb4791e3"
      },
      "source": [
        "df_train.groupby(df_train['Initial'])['Survived'].mean().plot.bar()"
      ],
      "execution_count": 81,
      "outputs": [
        {
          "output_type": "execute_result",
          "data": {
            "text/plain": [
              "<matplotlib.axes._subplots.AxesSubplot at 0x7f72ca619950>"
            ]
          },
          "metadata": {},
          "execution_count": 81
        },
        {
          "output_type": "display_data",
          "data": {
            "image/png": "[encoded data removed]",
            "text/plain": [
              "<Figure size 432x288 with 1 Axes>"
            ]
          },
          "metadata": {
            "needs_background": "light"
          }
        }
      ]
    },
    {
      "cell_type": "markdown",
      "metadata": {
        "id": "XrHHXrTl4TjG"
      },
      "source": [
        "train의 Initial을 이용해 각 Initial의 Age평균값을 Age Null값에 대체해라\n",
        "\n",
        "test도 위의 과정으로 Age Null값을 대체하라"
      ]
    },
    {
      "cell_type": "code",
      "metadata": {
        "id": "ANSEyAUo4TIL"
      },
      "source": [
        "age_mean = df_train.groupby(['Initial'])['Age'].mean()\n",
        "\n",
        "# null 값 채크\n",
        "#df_train2.loc[df_train2['Age'].isnull()==True, 'Age'] # 5번째, 17번째 NaN임\n",
        "#df_train2 = df_train.copy()\n",
        "for d in [df_train, df_test] :\n",
        "  for i, j in zip(age_mean, age_mean.index) :\n",
        "    d.loc[(d.Initial ==j) & (d.Age.isnull()), 'Age'] = i\n"
      ],
      "execution_count": 82,
      "outputs": []
    },
    {
      "cell_type": "markdown",
      "metadata": {
        "id": "2MsL-zZw_5KT"
      },
      "source": [
        "Train의 Embarked 변수의 최빈값을 구하고 이 최빈값으로 NUll을 대체하라"
      ]
    },
    {
      "cell_type": "code",
      "metadata": {
        "id": "2_Hi1qDq3SIh"
      },
      "source": [
        "df_train.Embarked.mode() # S가 가장 많이 나옴\n",
        "\n",
        "df_train.loc[df_train.Embarked.isnull(), 'Embarked'] ='S'"
      ],
      "execution_count": 83,
      "outputs": []
    },
    {
      "cell_type": "markdown",
      "metadata": {
        "id": "AD7T1TBCAm1D"
      },
      "source": [
        "fillna 함수를 이용해서 위의 Embarked를 대체해라"
      ]
    },
    {
      "cell_type": "code",
      "metadata": {
        "id": "Rfgj-YqCAmbn"
      },
      "source": [
        "df_train['Embarked'].fillna('S',inplace= True) # inplace 옵션을 False로 하면 원본 데이터에 영향없음\n"
      ],
      "execution_count": 84,
      "outputs": []
    },
    {
      "cell_type": "markdown",
      "metadata": {
        "id": "yRBGs258BGk9"
      },
      "source": [
        "train, test셋에 Age_cat이라는 변수에 Age를 10살 간격으로 나누어 카테고리 변수를 생성해라\n",
        "\n",
        "* hint : for문, range, array 속성을 이용해라"
      ]
    },
    {
      "cell_type": "code",
      "metadata": {
        "id": "yAEyTcR267qh"
      },
      "source": [
        "#df_test.Age.describe()\n",
        "# train, test 모두 0~ 80세 사이임\n",
        "\n",
        "a = [x for x in range(0,80,10)] # 10세 간격으로 0부터 100까지 값을 리스트로 바꿈\n",
        "age_cate = (np.array(a) / 10)\n",
        "\n",
        "for d in [df_train, df_test]:\n",
        "  for i,j in zip(a,age_cate) :\n",
        "    d.loc[(d.Age>=i) & (d.Age <(i+10)), 'Age_cat'] = j \n",
        "  d.loc[d.Age>=80, 'Age_cat'] = 7"
      ],
      "execution_count": 87,
      "outputs": []
    },
    {
      "cell_type": "code",
      "metadata": {
        "colab": {
          "base_uri": "https://localhost:8080/"
        },
        "id": "4va7XeKxHR8g",
        "outputId": "d3ef2033-4dda-4f81-d732-3db05edd2f6b"
      },
      "source": [
        "age_cate"
      ],
      "execution_count": 88,
      "outputs": [
        {
          "output_type": "execute_result",
          "data": {
            "text/plain": [
              "array([0., 1., 2., 3., 4., 5., 6., 7.])"
            ]
          },
          "metadata": {},
          "execution_count": 88
        }
      ]
    },
    {
      "cell_type": "markdown",
      "metadata": {
        "id": "DLxjYwC_F4k-"
      },
      "source": [
        "위의과정과 결과가 같지만, apply를 이용해서 age를 10세 단위로 분류한 Age_cate2 변수를 만들어라"
      ]
    },
    {
      "cell_type": "code",
      "metadata": {
        "id": "Bwr5w_qMFYtB"
      },
      "source": [
        "def category_age(x):\n",
        "  if x < 10:\n",
        "    return 0\n",
        "  elif x < 20:\n",
        "    return 1\n",
        "  elif x <30 :\n",
        "    return 2\n",
        "  elif x <40:\n",
        "    return 3\n",
        "  elif x <50:\n",
        "    return 4\n",
        "  elif x <60:\n",
        "    return 5\n",
        "  elif x <70:\n",
        "    return 6\n",
        "  else :\n",
        "    return 7\n",
        "\n",
        "df_train['Age_cate_2'] = df_train['Age'].apply(category_age)"
      ],
      "execution_count": 85,
      "outputs": []
    },
    {
      "cell_type": "markdown",
      "metadata": {
        "id": "b9hB8kRwG2Jy"
      },
      "source": [
        "age를 10간격으로 바꾸는 방법을 두가지를 위에서 했었다. 이의 결과가 같은지 체크 해라.\n",
        "* hint : all()메소드를 사용해라"
      ]
    },
    {
      "cell_type": "code",
      "metadata": {
        "colab": {
          "base_uri": "https://localhost:8080/",
          "height": 69
        },
        "id": "oRNWuiVTGb_y",
        "outputId": "ce10f42c-e616-443a-cba5-fda9aed82aca"
      },
      "source": [
        "# 일치하지 않은 경우 알아보기\n",
        "df_train.loc[((df_train['Age_cat']) == df_train['Age_cate_2'])==False]"
      ],
      "execution_count": 89,
      "outputs": [
        {
          "output_type": "execute_result",
          "data": {
            "text/html": [
              "<div>\n",
              "<style scoped>\n",
              "    .dataframe tbody tr th:only-of-type {\n",
              "        vertical-align: middle;\n",
              "    }\n",
              "\n",
              "    .dataframe tbody tr th {\n",
              "        vertical-align: top;\n",
              "    }\n",
              "\n",
              "    .dataframe thead th {\n",
              "        text-align: right;\n",
              "    }\n",
              "</style>\n",
              "<table border=\"1\" class=\"dataframe\">\n",
              "  <thead>\n",
              "    <tr style=\"text-align: right;\">\n",
              "      <th></th>\n",
              "      <th>PassengerId</th>\n",
              "      <th>Survived</th>\n",
              "      <th>Pclass</th>\n",
              "      <th>Name</th>\n",
              "      <th>Sex</th>\n",
              "      <th>Age</th>\n",
              "      <th>SibSp</th>\n",
              "      <th>Parch</th>\n",
              "      <th>Ticket</th>\n",
              "      <th>Fare</th>\n",
              "      <th>Cabin</th>\n",
              "      <th>Embarked</th>\n",
              "      <th>Familysize</th>\n",
              "      <th>Initial</th>\n",
              "      <th>Age_cate_2</th>\n",
              "      <th>Age_cat</th>\n",
              "    </tr>\n",
              "  </thead>\n",
              "  <tbody>\n",
              "  </tbody>\n",
              "</table>\n",
              "</div>"
            ],
            "text/plain": [
              "Empty DataFrame\n",
              "Columns: [PassengerId, Survived, Pclass, Name, Sex, Age, SibSp, Parch, Ticket, Fare, Cabin, Embarked, Familysize, Initial, Age_cate_2, Age_cat]\n",
              "Index: []"
            ]
          },
          "metadata": {},
          "execution_count": 89
        }
      ]
    },
    {
      "cell_type": "code",
      "metadata": {
        "colab": {
          "base_uri": "https://localhost:8080/"
        },
        "id": "oMaXOzOyHK-X",
        "outputId": "7020a5dc-5548-4098-926b-88ec8e5fefb2"
      },
      "source": [
        "(df_train['Age_cat'] == df_train['Age_cate_2']).all()"
      ],
      "execution_count": 92,
      "outputs": [
        {
          "output_type": "execute_result",
          "data": {
            "text/plain": [
              "True"
            ]
          },
          "metadata": {},
          "execution_count": 92
        }
      ]
    },
    {
      "cell_type": "markdown",
      "metadata": {
        "id": "B-v0ERxUNDRj"
      },
      "source": [
        "Inital의 각 값을 수치에 대응시켜라\n",
        "Master는 0 , Miss 1... 등등\n",
        "* 예시와 동일하게 하기 위해 map을 이용해 노가다 해라\n",
        "* map 관련 포스트 \n",
        "  * https://coding-grandpa.tistory.com/entry/Lambda-Map\n",
        "  * map에 딕셔너리를 넣을 경우 딕셔너리에 없는 값은 NaN으로 반환되니 주의해야 한다."
      ]
    },
    {
      "cell_type": "code",
      "metadata": {
        "id": "K6Bh2Gw5JbXo"
      },
      "source": [
        "rep = {\n",
        "    'Master':0, 'Miss':1, 'Mr':2,'Mrs':3,'Other':4\n",
        "}\n",
        "\n",
        "df_train['Initial2'] = df_train['Initial'].map(rep)\n",
        "df_test['Initial2'] = df_test['Initial'].map(rep)\n",
        "\n"
      ],
      "execution_count": 93,
      "outputs": []
    },
    {
      "cell_type": "markdown",
      "metadata": {
        "id": "nJNML45vONJ1"
      },
      "source": [
        "Embarked의 유니크한 값을 출력하고 이를 각각 1,2,3에 대응되게 바꾸어라"
      ]
    },
    {
      "cell_type": "code",
      "metadata": {
        "id": "k0LwpgnYQwDK"
      },
      "source": [
        "df_train['Embarked'].unique()\n",
        "\n",
        "em = {\n",
        "  'C':0, 'Q':1, 'S':2 \n",
        "}\n",
        "\n",
        "df_train['Embarked'] = df_train['Embarked'].map(em)\n",
        "df_test['Embarked'] = df_test['Embarked'].map(em)"
      ],
      "execution_count": 94,
      "outputs": []
    },
    {
      "cell_type": "markdown",
      "metadata": {
        "id": "og9O8ZzTRXa0"
      },
      "source": [
        "성별(Sex)\n",
        "도 위의 과정을 거쳐 여자면 0, 남자면 1인 코드를 작성해라"
      ]
    },
    {
      "cell_type": "code",
      "metadata": {
        "id": "KkhWd5bSNmRS"
      },
      "source": [
        "sex_en = {\n",
        "    'female':0, 'male':1\n",
        "}\n",
        "\n",
        "df_train['Sex'] = df_train['Sex'].map(sex_en)"
      ],
      "execution_count": 95,
      "outputs": []
    },
    {
      "cell_type": "markdown",
      "metadata": {
        "id": "bHk4oPArSCiY"
      },
      "source": [
        "피어슨 상관계수를 히트맵을 통해 그려라.\n",
        "이때 0과 1로 코딩된 명목형 변수를 포함할 수 있다.\n",
        "* 이유한님은 Initial을 상관계수 행렬에 포함시켰으나 이는 적절하지 않아보임.\n",
        "* colormap = plt.cm.RdBu\n",
        "* 반드시 히트맵위에 상관계수 값이 보이도록 할 것"
      ]
    },
    {
      "cell_type": "code",
      "metadata": {
        "colab": {
          "base_uri": "https://localhost:8080/",
          "height": 578
        },
        "id": "l8NefpI_Nm0C",
        "outputId": "a5299e50-8446-4122-c1c1-a66c620a3c29"
      },
      "source": [
        "heatmap_data = df_train[['Survived','Pclass','Sex','Fare','Embarked','Familysize','Age_cat']]\n",
        "\n",
        "colormap = plt.cm.RdBu\n",
        "plt.figure(figsize = (14,12))\n",
        "plt.title('Pearson Correlation of Feature', y=1.05, size=15)\n",
        "sns.heatmap(heatmap_data.astype(float).corr(), Linewidths=0.1, vmax=1.0,\n",
        "            square=True, cmap=colormap, linecolor='white', annot=True,annot_kws={\"size\":16})\n",
        "del heatmap_data"
      ],
      "execution_count": 96,
      "outputs": [
        {
          "output_type": "display_data",
          "data": {
            "image/png": "[encoded data removed]",
            "text/plain": [
              "<Figure size 1008x864 with 2 Axes>"
            ]
          },
          "metadata": {
            "needs_background": "light"
          }
        }
      ]
    },
    {
      "cell_type": "markdown",
      "metadata": {
        "id": "L3spcFC6VHcS"
      },
      "source": [
        "Initial, Embarked을 One-hot 인코딩하여라"
      ]
    },
    {
      "cell_type": "code",
      "metadata": {
        "id": "f8uMHcP4R5Tf"
      },
      "source": [
        "df_train = pd.get_dummies(df_train, columns=['Initial'], prefix='Initial')\n",
        "df_test = pd.get_dummies(df_test, columns=['Initial'], prefix='Initial')\n",
        "\n",
        "df_train = pd.get_dummies(df_train, columns=['Embarked'], prefix='Embarked')\n",
        "df_test = pd.get_dummies(df_test, columns=['Embarked'], prefix='Embarked')"
      ],
      "execution_count": 97,
      "outputs": []
    },
    {
      "cell_type": "markdown",
      "metadata": {
        "id": "wljSOhWUWcaY"
      },
      "source": [
        "* category가 100가 넘는 경우에는 학습시 버겁게 되 다른 방법을 사용한다.\n",
        "> Frequency, Target Encoding"
      ]
    },
    {
      "cell_type": "markdown",
      "metadata": {
        "id": "VfLPuvZ4Y9PD"
      },
      "source": [
        "'PassengerId', 'Name', 'SibSp', 'Parch', 'Ticket', 'Cabin' 변수를 제거하라"
      ]
    },
    {
      "cell_type": "code",
      "metadata": {
        "id": "gtPHkEO9V1C6"
      },
      "source": [
        "df_train.drop(['PassengerId', 'Name', 'SibSp', 'Parch', 'Ticket', 'Cabin'], axis=1, inplace=True)\n",
        "df_test.drop(['PassengerId', 'Name',  'SibSp', 'Parch', 'Ticket', 'Cabin'], axis=1, inplace=True)"
      ],
      "execution_count": 98,
      "outputs": []
    },
    {
      "cell_type": "code",
      "metadata": {
        "colab": {
          "base_uri": "https://localhost:8080/",
          "height": 222
        },
        "id": "YMsXpTUaZjxN",
        "outputId": "f6505d2f-005c-407a-936f-adc490f3f1ef"
      },
      "source": [
        "df_train.head()"
      ],
      "execution_count": 99,
      "outputs": [
        {
          "output_type": "execute_result",
          "data": {
            "text/html": [
              "<div>\n",
              "<style scoped>\n",
              "    .dataframe tbody tr th:only-of-type {\n",
              "        vertical-align: middle;\n",
              "    }\n",
              "\n",
              "    .dataframe tbody tr th {\n",
              "        vertical-align: top;\n",
              "    }\n",
              "\n",
              "    .dataframe thead th {\n",
              "        text-align: right;\n",
              "    }\n",
              "</style>\n",
              "<table border=\"1\" class=\"dataframe\">\n",
              "  <thead>\n",
              "    <tr style=\"text-align: right;\">\n",
              "      <th></th>\n",
              "      <th>Survived</th>\n",
              "      <th>Pclass</th>\n",
              "      <th>Sex</th>\n",
              "      <th>Age</th>\n",
              "      <th>Fare</th>\n",
              "      <th>Familysize</th>\n",
              "      <th>Age_cate_2</th>\n",
              "      <th>Age_cat</th>\n",
              "      <th>Initial2</th>\n",
              "      <th>Initial_Master</th>\n",
              "      <th>Initial_Miss</th>\n",
              "      <th>Initial_Mr</th>\n",
              "      <th>Initial_Mrs</th>\n",
              "      <th>Initial_Other</th>\n",
              "      <th>Embarked_0</th>\n",
              "      <th>Embarked_1</th>\n",
              "      <th>Embarked_2</th>\n",
              "    </tr>\n",
              "  </thead>\n",
              "  <tbody>\n",
              "    <tr>\n",
              "      <th>0</th>\n",
              "      <td>0</td>\n",
              "      <td>3</td>\n",
              "      <td>1</td>\n",
              "      <td>22.0</td>\n",
              "      <td>1.981001</td>\n",
              "      <td>1</td>\n",
              "      <td>2</td>\n",
              "      <td>2.0</td>\n",
              "      <td>2</td>\n",
              "      <td>0</td>\n",
              "      <td>0</td>\n",
              "      <td>1</td>\n",
              "      <td>0</td>\n",
              "      <td>0</td>\n",
              "      <td>0</td>\n",
              "      <td>0</td>\n",
              "      <td>1</td>\n",
              "    </tr>\n",
              "    <tr>\n",
              "      <th>1</th>\n",
              "      <td>1</td>\n",
              "      <td>1</td>\n",
              "      <td>0</td>\n",
              "      <td>38.0</td>\n",
              "      <td>4.266662</td>\n",
              "      <td>1</td>\n",
              "      <td>3</td>\n",
              "      <td>3.0</td>\n",
              "      <td>3</td>\n",
              "      <td>0</td>\n",
              "      <td>0</td>\n",
              "      <td>0</td>\n",
              "      <td>1</td>\n",
              "      <td>0</td>\n",
              "      <td>1</td>\n",
              "      <td>0</td>\n",
              "      <td>0</td>\n",
              "    </tr>\n",
              "    <tr>\n",
              "      <th>2</th>\n",
              "      <td>1</td>\n",
              "      <td>3</td>\n",
              "      <td>0</td>\n",
              "      <td>26.0</td>\n",
              "      <td>2.070022</td>\n",
              "      <td>0</td>\n",
              "      <td>2</td>\n",
              "      <td>2.0</td>\n",
              "      <td>1</td>\n",
              "      <td>0</td>\n",
              "      <td>1</td>\n",
              "      <td>0</td>\n",
              "      <td>0</td>\n",
              "      <td>0</td>\n",
              "      <td>0</td>\n",
              "      <td>0</td>\n",
              "      <td>1</td>\n",
              "    </tr>\n",
              "    <tr>\n",
              "      <th>3</th>\n",
              "      <td>1</td>\n",
              "      <td>1</td>\n",
              "      <td>0</td>\n",
              "      <td>35.0</td>\n",
              "      <td>3.972177</td>\n",
              "      <td>1</td>\n",
              "      <td>3</td>\n",
              "      <td>3.0</td>\n",
              "      <td>3</td>\n",
              "      <td>0</td>\n",
              "      <td>0</td>\n",
              "      <td>0</td>\n",
              "      <td>1</td>\n",
              "      <td>0</td>\n",
              "      <td>0</td>\n",
              "      <td>0</td>\n",
              "      <td>1</td>\n",
              "    </tr>\n",
              "    <tr>\n",
              "      <th>4</th>\n",
              "      <td>0</td>\n",
              "      <td>3</td>\n",
              "      <td>1</td>\n",
              "      <td>35.0</td>\n",
              "      <td>2.085672</td>\n",
              "      <td>0</td>\n",
              "      <td>3</td>\n",
              "      <td>3.0</td>\n",
              "      <td>2</td>\n",
              "      <td>0</td>\n",
              "      <td>0</td>\n",
              "      <td>1</td>\n",
              "      <td>0</td>\n",
              "      <td>0</td>\n",
              "      <td>0</td>\n",
              "      <td>0</td>\n",
              "      <td>1</td>\n",
              "    </tr>\n",
              "  </tbody>\n",
              "</table>\n",
              "</div>"
            ],
            "text/plain": [
              "   Survived  Pclass  Sex  ...  Embarked_0  Embarked_1  Embarked_2\n",
              "0         0       3    1  ...           0           0           1\n",
              "1         1       1    0  ...           1           0           0\n",
              "2         1       3    0  ...           0           0           1\n",
              "3         1       1    0  ...           0           0           1\n",
              "4         0       3    1  ...           0           0           1\n",
              "\n",
              "[5 rows x 17 columns]"
            ]
          },
          "metadata": {},
          "execution_count": 99
        }
      ]
    },
    {
      "cell_type": "markdown",
      "metadata": {
        "id": "0YYLmbeWZyiN"
      },
      "source": [
        "### 머신러닝 빌드 하기"
      ]
    },
    {
      "cell_type": "code",
      "metadata": {
        "id": "KpnwKHuFZjtA"
      },
      "source": [
        "from sklearn.ensemble import RandomForestClassifier\n",
        "from sklearn import metrics\n",
        "from sklearn.model_selection import train_test_split"
      ],
      "execution_count": 100,
      "outputs": []
    },
    {
      "cell_type": "markdown",
      "metadata": {
        "id": "x5n0ehWf-JA0"
      },
      "source": [
        "학습에 쓰일 데이터와 target label인 Survived를 분리하고 각 저장된 개체는 array문으로 바꿔라"
      ]
    },
    {
      "cell_type": "code",
      "metadata": {
        "id": "AlWMnhR_-GfI"
      },
      "source": [
        "X_train = df_train.drop(['Survived','Age_cate_2','Initial2'], axis=1).values #numpy array로 변환\n",
        "target_label = df_train['Survived'].values\n",
        "X_test = df_test.values#numpy array로 변환"
      ],
      "execution_count": 101,
      "outputs": []
    },
    {
      "cell_type": "markdown",
      "metadata": {
        "id": "W3zCoxUP_7lP"
      },
      "source": [
        "train_test_split 함수를 이용해 train셋을 분리해라\n",
        "* random_state = 2018으로 고정해라"
      ]
    },
    {
      "cell_type": "code",
      "metadata": {
        "id": "zoWektQY_vBO"
      },
      "source": [
        "X_tr, X_vld, y_tr, y_vld = train_test_split(X_train, target_label, test_size=0.3, random_state=2018)"
      ],
      "execution_count": 102,
      "outputs": []
    },
    {
      "cell_type": "markdown",
      "metadata": {
        "id": "rTj0dJ02A3kl"
      },
      "source": [
        "아무 튜닝없이 랜덤포레스트를 적용시켜라\n",
        "* hint. model 설정 / 모델 적합 / 모델 예측 "
      ]
    },
    {
      "cell_type": "code",
      "metadata": {
        "id": "1iJ-zCP1_0PP"
      },
      "source": [
        "model = RandomForestClassifier()\n",
        "model.fit(X_tr, y_tr)\n",
        "predction = model.predict(X_vld)"
      ],
      "execution_count": 103,
      "outputs": []
    },
    {
      "cell_type": "markdown",
      "metadata": {
        "id": "gzxGdHqvBT9b"
      },
      "source": [
        "가장 영향을 많이 주는 변수를 순서대로 그래프를 그려라.\n",
        "* feature importances와 pandas series로 sorting하여 그래프 그릴 수 있음."
      ]
    },
    {
      "cell_type": "code",
      "metadata": {
        "id": "rzdOQZ2XDG72"
      },
      "source": [
        "df_test = df_test.drop(['Initial2'], axis=1).copy()"
      ],
      "execution_count": 104,
      "outputs": []
    },
    {
      "cell_type": "code",
      "metadata": {
        "id": "BIG9vVazBTXd"
      },
      "source": [
        "from pandas import Series\n",
        "feature_importance = model.feature_importances_\n",
        "Series_feat_imp = Series(feature_importance, index=df_test.columns)"
      ],
      "execution_count": 105,
      "outputs": []
    },
    {
      "cell_type": "code",
      "metadata": {
        "colab": {
          "base_uri": "https://localhost:8080/",
          "height": 494
        },
        "id": "fW8jKb78AgB1",
        "outputId": "4dcdd11d-3913-42b7-add3-7e916e0d1e60"
      },
      "source": [
        "plt.figure(figsize=(8,8))\n",
        "Series_feat_imp.sort_values(ascending=True).plot.barh()\n",
        "plt.xlabel(\"Feature Importance\")\n",
        "plt.ylabel(\"Feature\")\n",
        "plt.show()"
      ],
      "execution_count": 106,
      "outputs": [
        {
          "output_type": "display_data",
          "data": {
            "image/png": "[encoded data removed]",
            "text/plain": [
              "<Figure size 576x576 with 1 Axes>"
            ]
          },
          "metadata": {
            "needs_background": "light"
          }
        }
      ]
    },
    {
      "cell_type": "code",
      "metadata": {
        "colab": {
          "base_uri": "https://localhost:8080/"
        },
        "id": "UtCJoXEoFlSB",
        "outputId": "38dfadff-3003-4665-d7ea-30c9447f3418"
      },
      "source": [
        "df_train[\"Fare\"]"
      ],
      "execution_count": 107,
      "outputs": [
        {
          "output_type": "execute_result",
          "data": {
            "text/plain": [
              "0      1.981001\n",
              "1      4.266662\n",
              "2      2.070022\n",
              "3      3.972177\n",
              "4      2.085672\n",
              "         ...   \n",
              "886    2.564949\n",
              "887    3.401197\n",
              "888    3.154870\n",
              "889    3.401197\n",
              "890    2.047693\n",
              "Name: Fare, Length: 891, dtype: float64"
            ]
          },
          "metadata": {},
          "execution_count": 107
        }
      ]
    },
    {
      "cell_type": "code",
      "metadata": {
        "id": "4BAlbau1Fvy7"
      },
      "source": [
        ""
      ],
      "execution_count": null,
      "outputs": []
    }
  ]
}